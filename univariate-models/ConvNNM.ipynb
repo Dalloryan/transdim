{
 "cells": [
  {
   "cell_type": "markdown",
   "metadata": {},
   "source": [
    "# Convolution Nuclear Norm Minimization (ConvNNM)"
   ]
  },
  {
   "cell_type": "code",
   "execution_count": null,
   "metadata": {},
   "outputs": [],
   "source": [
    "import numpy as np\n",
    "\n",
    "def compute_mape(var, var_hat):\n",
    "    return np.sum(np.abs(var - var_hat) / var) / var.shape[0]\n",
    "\n",
    "def compute_rmse(var, var_hat):\n",
    "    return np.sqrt(np.sum((var - var_hat) ** 2) / var.shape[0])\n",
    "\n",
    "def conv(vec, kernel_size):\n",
    "    n = vec.shape[0]\n",
    "    mat = np.zeros((n, kernel_size))\n",
    "    mat[:, 0] = vec\n",
    "    for k in range(1, kernel_size):\n",
    "        mat[:, k] = np.append(vec[n - k :], vec[: n - k], axis = 0)\n",
    "    return mat\n",
    "\n",
    "def inv_conv(mat):\n",
    "    kernel_size = mat.shape[1]\n",
    "    vec = mat[:, 0]\n",
    "    for k in range(1, kernel_size):\n",
    "        vec += np.append(mat[k :, k], mat[: k, k], axis = 0)\n",
    "    return vec / kernel_size\n",
    "\n",
    "def svt(mat, tau):\n",
    "    u, s, v = np.linalg.svd(mat, full_matrices = 0)\n",
    "    vec = s - tau\n",
    "    vec[vec < 0] = 0\n",
    "    return u @ np.diag(vec) @ v\n",
    "\n",
    "def ConvNNM(y_true, y, kernel_size, lmbda, maxiter = 50):\n",
    "    eta = 100\n",
    "    n = y.shape[0]\n",
    "    pos_train = np.where(y != 0)\n",
    "    pos_test = np.where((y_true != 0) & (y == 0))\n",
    "    z = y.copy()\n",
    "    Z = conv(z, kernel_size)\n",
    "    W = np.zeros((n, kernel_size))\n",
    "    show_iter = 10\n",
    "    for it in range(maxiter):\n",
    "        X = svt(Z - W * kernel_size / lmbda, kernel_size / lmbda)\n",
    "        z = inv_conv(X + W * kernel_size / lmbda)\n",
    "        z[pos_train] = (lmbda / (lmbda + eta) * z[pos_train]\n",
    "                        + eta / (lmbda + eta) * y[pos_train])\n",
    "        Z = conv(z, kernel_size)\n",
    "        W = W + lmbda / kernel_size * (X - Z)\n",
    "        y_hat = inv_conv(X)\n",
    "        if (it + 1) % show_iter == 0:\n",
    "            print(it + 1)\n",
    "            print(compute_mape(y_true[pos_test], y_hat[pos_test]))\n",
    "            print(compute_rmse(y_true[pos_test], y_hat[pos_test]))\n",
    "            print()\n",
    "    return y_hat"
   ]
  },
  {
   "cell_type": "markdown",
   "metadata": {},
   "source": [
    "## Portland Freeway Traffic Speed Data"
   ]
  },
  {
   "cell_type": "code",
   "execution_count": null,
   "metadata": {},
   "outputs": [],
   "source": [
    "import numpy as np\n",
    "np.random.seed(1)\n",
    "import time\n",
    "\n",
    "missing_rate = 0.95\n",
    "print('Missing rate = {}'.format(missing_rate))\n",
    "\n",
    "dense_mat = np.load('../datasets/Portland-data-set/speed.npy')\n",
    "d = 3\n",
    "dense_vec = dense_mat[0, : 96 * d]\n",
    "T = dense_vec.shape[0]\n",
    "sparse_vec = dense_vec * np.round(np.random.rand(T) + 0.5 - missing_rate)\n",
    "\n",
    "kernel_size = 48\n",
    "lmbda = 5e-3 * kernel_size\n",
    "maxiter = 100\n",
    "x = ConvNNM(dense_vec, sparse_vec, kernel_size, lmbda, maxiter)"
   ]
  },
  {
   "cell_type": "code",
   "execution_count": null,
   "metadata": {},
   "outputs": [],
   "source": [
    "import matplotlib.pyplot as plt\n",
    "plt.rcParams.update({'font.size': 13})\n",
    "\n",
    "fig = plt.figure(figsize = (7.5, 2.2))\n",
    "ax = fig.add_subplot(111)\n",
    "plt.plot(dense_vec[: 96 * d], 'dodgerblue', linewidth = 1)\n",
    "plt.plot(x[: 96 * d], 'red', linewidth = 2.5)\n",
    "plt.plot(np.arange(0, 96 * d), sparse_vec[: 96 * d], 'o', \n",
    "         markeredgecolor = 'darkblue', \n",
    "         markerfacecolor = 'deepskyblue', markersize = 10)\n",
    "plt.xlabel('Time')\n",
    "plt.ylabel('Speed (mph)')\n",
    "plt.xlim([0, 96 * d])\n",
    "plt.ylim([54, 65])\n",
    "plt.xticks(np.arange(0, 96 * d + 1, 24))\n",
    "plt.yticks(np.arange(54, 66, 2))\n",
    "plt.grid(linestyle = '-.', linewidth = 0.5)\n",
    "ax.tick_params(direction = 'in')\n",
    "\n",
    "plt.savefig('speeds_cnnm.pdf', bbox_inches = \"tight\")\n",
    "plt.show()"
   ]
  },
  {
   "cell_type": "markdown",
   "metadata": {},
   "source": [
    "## Portland Freeway Traffic Volume Data"
   ]
  },
  {
   "cell_type": "code",
   "execution_count": null,
   "metadata": {},
   "outputs": [],
   "source": [
    "import numpy as np\n",
    "np.random.seed(1)\n",
    "import time\n",
    "\n",
    "missing_rate = 0.95\n",
    "print('Missing rate = {}'.format(missing_rate))\n",
    "\n",
    "dense_mat = np.load('../datasets/Portland-data-set/volume.npy')\n",
    "d = 3\n",
    "dense_vec = dense_mat[0, : 96 * d]\n",
    "T = dense_vec.shape[0]\n",
    "sparse_vec = dense_vec * np.round(np.random.rand(T) + 0.5 - missing_rate)\n",
    "\n",
    "kernel_size = 96 * 2\n",
    "lmbda = 1e-4 * kernel_size\n",
    "maxiter = 100\n",
    "x = ConvNNM(dense_vec, sparse_vec, kernel_size, lmbda, maxiter)"
   ]
  },
  {
   "cell_type": "code",
   "execution_count": null,
   "metadata": {},
   "outputs": [],
   "source": [
    "import matplotlib.pyplot as plt\n",
    "plt.rcParams.update({'font.size': 15})\n",
    "\n",
    "fig = plt.figure(figsize = (5.5, 2.4))\n",
    "ax = fig.add_subplot(111)\n",
    "plt.plot(dense_vec[: 96 * d], 'dodgerblue', linewidth = 1.5)\n",
    "plt.plot(x[: 96 * d], 'red', linewidth = 1.2)\n",
    "pos = np.where(sparse_vec != 0)\n",
    "plt.plot(pos[0], sparse_vec[pos], 'o', \n",
    "         markeredgecolor = 'darkblue', \n",
    "         markerfacecolor = 'deepskyblue', markersize = 10)\n",
    "plt.xlabel('Time')\n",
    "plt.ylabel('Volume')\n",
    "plt.xticks(np.arange(0, 96 * d + 1, 48))\n",
    "plt.xlim([0, 96 * d])\n",
    "plt.yticks(np.arange(0, 301, 100))\n",
    "plt.ylim([0, 300])\n",
    "plt.grid(linestyle = '-.', linewidth = 0.5)\n",
    "ax.tick_params(direction = 'in')\n",
    "\n",
    "plt.savefig('volumes_cnnm.pdf', bbox_inches = \"tight\")\n",
    "plt.show()"
   ]
  },
  {
   "cell_type": "markdown",
   "metadata": {},
   "source": [
    "### License\n",
    "\n",
    "<div class=\"alert alert-block alert-danger\">\n",
    "<b>This work is released under the MIT license.</b>\n",
    "</div>"
   ]
  }
 ],
 "metadata": {
  "kernelspec": {
   "display_name": "Python 3",
   "language": "python",
   "name": "python3"
  },
  "language_info": {
   "codemirror_mode": {
    "name": "ipython",
    "version": 3
   },
   "file_extension": ".py",
   "mimetype": "text/x-python",
   "name": "python",
   "nbconvert_exporter": "python",
   "pygments_lexer": "ipython3",
   "version": "3.8.3"
  }
 },
 "nbformat": 4,
 "nbformat_minor": 4
}
