{
 "cells": [
  {
   "cell_type": "markdown",
   "metadata": {},
   "source": [
    "# Quadratic Variation Completion (QVC)"
   ]
  },
  {
   "cell_type": "markdown",
   "metadata": {},
   "source": [
    "## Model Description\n",
    "\n",
    "- **Optimization Problem**\n",
    "\n",
    "$$\\begin{aligned} \\min_{\\boldsymbol{X}}~&\\frac{\\gamma}{2}\\sum_{n=1}^{N}\\boldsymbol{x}_{n}^\\top\\tilde{\\boldsymbol{L}}\\boldsymbol{x}_{n} \\\\ \\text{s.t.}~&\\|\\mathcal{P}_{\\Omega}(\\boldsymbol{X}-\\boldsymbol{Y})\\|_{F}\\leq\\epsilon \\end{aligned}$$\n",
    "where\n",
    "$$\\tilde{\\boldsymbol{L}}=\\begin{bmatrix}\n",
    "2 & -1 & 0 & \\cdots & 0 & 0 & -1 \\\\\n",
    "-1 & 2 & -1 & \\cdots & 0 & 0 & 0 \\\\\n",
    "0 & -1 & 2 & \\cdots & 0 & 0 & 0 \\\\\n",
    "\\vdots & \\vdots & \\vdots & \\ddots & \\vdots & \\vdots & \\vdots \\\\\n",
    "0 & 0 & 0 & \\cdots & -1 & 2 & -1 \\\\\n",
    "-1 & 0 & 0 & \\cdots & 0 & -1 & 2 \\\\\n",
    "\\end{bmatrix}$$\n"
   ]
  },
  {
   "cell_type": "markdown",
   "metadata": {},
   "source": [
    "- **Augmented  Lagrangian function**\n",
    "\n",
    "$$\\begin{aligned} \\mathcal{L}(\\boldsymbol{X},\\boldsymbol{Z},\\boldsymbol{W})=&\\frac{\\gamma}{2}\\sum_{n=1}^{N}\\boldsymbol{x}_{n}^{\\top}\\tilde{\\boldsymbol{L}}\\boldsymbol{x}_{n}+\\frac{\\lambda}{2}\\|\\boldsymbol{X}-\\boldsymbol{Z}\\|_{F}^{2}+\\langle\\boldsymbol{W},\\boldsymbol{X}-\\boldsymbol{Z}\\rangle+\\frac{\\eta}{2}\\|\\mathcal{P}_{\\Omega}(\\boldsymbol{Z}-\\boldsymbol{Y})\\|_{F}^{2} \\\\ =&\\frac{\\gamma}{2}\\operatorname{tr}(\\boldsymbol{X}\\tilde{\\boldsymbol{L}}\\boldsymbol{X}^\\top)+\\frac{\\lambda}{2}\\|\\boldsymbol{X}-\\boldsymbol{Z}\\|_{F}^{2}+\\langle\\boldsymbol{W},\\boldsymbol{X}-\\boldsymbol{Z}\\rangle+\\frac{\\eta}{2}\\|\\mathcal{P}_{\\Omega}(\\boldsymbol{Z}-\\boldsymbol{Y})\\|_{F}^{2} \\end{aligned}$$"
   ]
  },
  {
   "cell_type": "markdown",
   "metadata": {},
   "source": [
    "- **ADMM Scheme**\n",
    "\n",
    "With respect to $\\boldsymbol{X}$:\n",
    "\n",
    "$$\\begin{aligned} \\boldsymbol{X}:=&\\arg\\,\\min_{\\boldsymbol{X}}~\\frac{\\gamma}{2}\\operatorname{tr}(\\boldsymbol{X}\\tilde{\\boldsymbol{L}}\\boldsymbol{X}^\\top)+\\frac{\\lambda}{2}\\|\\boldsymbol{X}-\\boldsymbol{Z}+\\boldsymbol{W}/\\lambda\\|_{F}^{2} \\\\ =&(\\lambda\\boldsymbol{Z}-\\boldsymbol{W})(\\gamma(\\tilde{\\boldsymbol{L}}+\\tilde{\\boldsymbol{L}}^\\top)/2+\\lambda\\boldsymbol{I}_{T})^{-1} \\end{aligned}$$"
   ]
  },
  {
   "cell_type": "markdown",
   "metadata": {},
   "source": [
    "With respect to $\\boldsymbol{Z}$:\n",
    "\n",
    "$$\\begin{aligned} \\boldsymbol{Z}:=&\\arg\\,\\min_{\\boldsymbol{Z}}~\\frac{\\lambda}{2}\\|\\boldsymbol{X}-\\boldsymbol{Z}-\\boldsymbol{W}/\\lambda\\|_{F}^{2}+\\frac{\\eta}{2}\\|\\mathcal{P}_{\\Omega}(\\boldsymbol{Z}-\\boldsymbol{Y})\\|_{F}^{2} \\\\ =&\\frac{1}{\\lambda+\\eta}\\mathcal{P}_{\\Omega}(\\lambda\\boldsymbol{X}+\\boldsymbol{W}+\\eta\\boldsymbol{Y})+\\mathcal{P}_{\\Omega}^{\\perp}(\\boldsymbol{X}+\\boldsymbol{W}/\\lambda) \\end{aligned}$$\n",
    "\n",
    "With respect to $\\boldsymbol{W}$:\n",
    "\n",
    "$$\\boldsymbol{W}:=\\boldsymbol{W}+\\lambda(\\boldsymbol{X}-\\boldsymbol{Z})$$"
   ]
  },
  {
   "cell_type": "code",
   "execution_count": null,
   "metadata": {},
   "outputs": [],
   "source": []
  },
  {
   "cell_type": "markdown",
   "metadata": {},
   "source": [
    "### License\n",
    "\n",
    "<div class=\"alert alert-block alert-danger\">\n",
    "<b>This work is released under the MIT license.</b>\n",
    "</div>"
   ]
  }
 ],
 "metadata": {
  "kernelspec": {
   "display_name": "Python 3",
   "language": "python",
   "name": "python3"
  },
  "language_info": {
   "codemirror_mode": {
    "name": "ipython",
    "version": 3
   },
   "file_extension": ".py",
   "mimetype": "text/x-python",
   "name": "python",
   "nbconvert_exporter": "python",
   "pygments_lexer": "ipython3",
   "version": "3.8.3"
  }
 },
 "nbformat": 4,
 "nbformat_minor": 4
}
