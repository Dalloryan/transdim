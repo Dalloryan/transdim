{
 "cells": [
  {
   "cell_type": "markdown",
   "metadata": {},
   "source": [
    "# About this Notebook\n",
    "\n",
    "Bayesian probabilistic matrix factorization (BPMF) is a classical model in the recommender system field. In the following, we will discuss:\n",
    "\n",
    "- What the BPMF is?\n",
    "\n",
    "- How to implement BPMF mainly using Python `Numpy` with high efficiency?\n",
    "\n",
    "- How to make data imputations with real-world spatiotemporal datasets?\n",
    "\n",
    "If you want to know more about BPMF, please read this article:\n",
    "\n",
    "> Ruslan Salakhutdinov, Andriy Mnih, 2008. [**Bayesian probabilistic matrix factorization using Markov chain Monte Carlo**](https://www.cs.toronto.edu/~amnih/papers/bpmf.pdf). Proceedings of the 25th International Conference on Machine Learning (*ICML 2008*), Helsinki, Finland. [[Matlab code (official)](https://www.cs.toronto.edu/~rsalakhu/BPMF.html)]\n",
    "\n",
    "## Quick Run\n",
    "\n",
    "This notebook is publicly available for any usage at our data imputation project. Please click [**transdim**](https://github.com/xinychen/transdim).\n"
   ]
  },
  {
   "cell_type": "code",
   "execution_count": 1,
   "metadata": {},
   "outputs": [],
   "source": [
    "import numpy as np\n",
    "from numpy.random import multivariate_normal as mvnrnd\n",
    "from scipy.stats import wishart\n",
    "from numpy.linalg import inv as inv"
   ]
  },
  {
   "cell_type": "markdown",
   "metadata": {},
   "source": [
    "# Part 1: Matrix Computation Concepts\n",
    "\n",
    "## 1) Kronecker product\n",
    "\n",
    "- **Definition**:\n",
    "\n",
    "Given two matrices $A\\in\\mathbb{R}^{m_1\\times n_1}$ and $B\\in\\mathbb{R}^{m_2\\times n_2}$, then, the **Kronecker product** between these two matrices is defined as\n",
    "\n",
    "$$A\\otimes B=\\left[ \\begin{array}{cccc} a_{11}B & a_{12}B & \\cdots & a_{1n_1}B \\\\ a_{21}B & a_{22}B & \\cdots & a_{2n_1}B \\\\ \\vdots & \\vdots & \\ddots & \\vdots \\\\ a_{m_11}B & a_{m_12}B & \\cdots & a_{m_1n_1}B \\\\ \\end{array} \\right]$$\n",
    "where the symbol $\\otimes$ denotes Kronecker product, and the size of resulted $A\\otimes B$ is $(m_1m_2)\\times (n_1n_2)$ (i.e., $m_1\\times m_2$ columns and $n_1\\times n_2$ rows).\n",
    "\n",
    "- **Example**:\n",
    "\n",
    "If $A=\\left[ \\begin{array}{cc} 1 & 2 \\\\ 3 & 4 \\\\ \\end{array} \\right]$ and $B=\\left[ \\begin{array}{ccc} 5 & 6 & 7\\\\ 8 & 9 & 10 \\\\ \\end{array} \\right]$, then, we have\n",
    "\n",
    "$$A\\otimes B=\\left[ \\begin{array}{cc} 1\\times \\left[ \\begin{array}{ccc} 5 & 6 & 7\\\\ 8 & 9 & 10\\\\ \\end{array} \\right] & 2\\times \\left[ \\begin{array}{ccc} 5 & 6 & 7\\\\ 8 & 9 & 10\\\\ \\end{array} \\right] \\\\ 3\\times \\left[ \\begin{array}{ccc} 5 & 6 & 7\\\\ 8 & 9 & 10\\\\ \\end{array} \\right] & 4\\times \\left[ \\begin{array}{ccc} 5 & 6 & 7\\\\ 8 & 9 & 10\\\\ \\end{array} \\right] \\\\ \\end{array} \\right]$$\n",
    "\n",
    "$$=\\left[ \\begin{array}{cccccc} 5 & 6 & 7 & 10 & 12 & 14 \\\\ 8 & 9 & 10 & 16 & 18 & 20 \\\\ 15 & 18 & 21 & 20 & 24 & 28 \\\\ 24 & 27 & 30 & 32 & 36 & 40 \\\\ \\end{array} \\right]\\in\\mathbb{R}^{4\\times 6}.$$\n"
   ]
  },
  {
   "cell_type": "markdown",
   "metadata": {},
   "source": [
    "## 2) Khatri-Rao product (`kr_prod`)\n",
    "\n",
    "- **Definition**:\n",
    "\n",
    "Given two matrices $A=\\left( \\boldsymbol{a}_1,\\boldsymbol{a}_2,...,\\boldsymbol{a}_r \\right)\\in\\mathbb{R}^{m\\times r}$ and $B=\\left( \\boldsymbol{b}_1,\\boldsymbol{b}_2,...,\\boldsymbol{b}_r \\right)\\in\\mathbb{R}^{n\\times r}$ with same number of columns, then, the **Khatri-Rao product** (or **column-wise Kronecker product**) between $A$ and $B$ is given as follows,\n",
    "\n",
    "$$A\\odot B=\\left( \\boldsymbol{a}_1\\otimes \\boldsymbol{b}_1,\\boldsymbol{a}_2\\otimes \\boldsymbol{b}_2,...,\\boldsymbol{a}_r\\otimes \\boldsymbol{b}_r \\right)\\in\\mathbb{R}^{(mn)\\times r}$$\n",
    "where the symbol $\\odot$ denotes Khatri-Rao product, and $\\otimes$ denotes Kronecker product.\n",
    "\n",
    "- **Example**:\n",
    "\n",
    "If $A=\\left[ \\begin{array}{cc} 1 & 2 \\\\ 3 & 4 \\\\ \\end{array} \\right]=\\left( \\boldsymbol{a}_1,\\boldsymbol{a}_2 \\right) $ and $B=\\left[ \\begin{array}{cc} 5 & 6 \\\\ 7 & 8 \\\\ 9 & 10 \\\\ \\end{array} \\right]=\\left( \\boldsymbol{b}_1,\\boldsymbol{b}_2 \\right) $, then, we have\n",
    "\n",
    "$$A\\odot B=\\left( \\boldsymbol{a}_1\\otimes \\boldsymbol{b}_1,\\boldsymbol{a}_2\\otimes \\boldsymbol{b}_2 \\right) $$\n",
    "\n",
    "$$=\\left[ \\begin{array}{cc} \\left[ \\begin{array}{c} 1 \\\\ 3 \\\\ \\end{array} \\right]\\otimes \\left[ \\begin{array}{c} 5 \\\\ 7 \\\\ 9 \\\\ \\end{array} \\right] & \\left[ \\begin{array}{c} 2 \\\\ 4 \\\\ \\end{array} \\right]\\otimes \\left[ \\begin{array}{c} 6 \\\\ 8 \\\\ 10 \\\\ \\end{array} \\right] \\\\ \\end{array} \\right]$$\n",
    "\n",
    "$$=\\left[ \\begin{array}{cc} 5 & 12 \\\\ 7 & 16 \\\\ 9 & 20 \\\\ 15 & 24 \\\\ 21 & 32 \\\\ 27 & 40 \\\\ \\end{array} \\right]\\in\\mathbb{R}^{6\\times 2}.$$"
   ]
  },
  {
   "cell_type": "code",
   "execution_count": 2,
   "metadata": {},
   "outputs": [],
   "source": [
    "def kr_prod(a, b):\n",
    "    return np.einsum('ir, jr -> ijr', a, b).reshape(a.shape[0] * b.shape[0], -1)"
   ]
  },
  {
   "cell_type": "code",
   "execution_count": 3,
   "metadata": {},
   "outputs": [
    {
     "name": "stdout",
     "output_type": "stream",
     "text": [
      "[[ 5 12]\n",
      " [ 7 16]\n",
      " [ 9 20]\n",
      " [15 24]\n",
      " [21 32]\n",
      " [27 40]]\n"
     ]
    }
   ],
   "source": [
    "A = np.array([[1, 2], [3, 4]])\n",
    "B = np.array([[5, 6], [7, 8], [9, 10]])\n",
    "print(kr_prod(A, B))"
   ]
  },
  {
   "cell_type": "markdown",
   "metadata": {},
   "source": [
    "## 3) Computing Covariance Matrix (`cov_mat`)\n",
    "\n",
    "For any matrix $X\\in\\mathbb{R}^{m\\times n}$, `cov_mat` can return a $n\\times n$ covariance matrix for special use in the following."
   ]
  },
  {
   "cell_type": "code",
   "execution_count": 4,
   "metadata": {},
   "outputs": [],
   "source": [
    "def cov_mat(mat):\n",
    "    dim1, dim2 = mat.shape\n",
    "    new_mat = np.zeros((dim2, dim2))\n",
    "    mat_bar = np.mean(mat, axis = 0)\n",
    "    for i in range(dim1):\n",
    "        new_mat += np.einsum('i, j -> ij', mat[i, :] - mat_bar, mat[i, :] - mat_bar)\n",
    "    return new_mat"
   ]
  },
  {
   "cell_type": "markdown",
   "metadata": {},
   "source": [
    "# Part 2: Bayesian Probabilistic Matrix Factorization (BPMF)\n",
    "\n"
   ]
  },
  {
   "cell_type": "code",
   "execution_count": 5,
   "metadata": {},
   "outputs": [],
   "source": [
    "def BPMF(dense_mat, sparse_mat, init, rank, maxiter1, maxiter2):\n",
    "    \"\"\"Bayesian Probabilistic Matrix Factorization, BPMF.\"\"\"\n",
    "    W = init[\"W\"]\n",
    "    X = init[\"X\"]\n",
    "    \n",
    "    dim1, dim2 = sparse_mat.shape\n",
    "    dim = np.array([dim1, dim2])\n",
    "    pos = np.where((dense_mat != 0) & (sparse_mat == 0))\n",
    "    position = np.where(sparse_mat != 0)\n",
    "    binary_mat = np.zeros((dim1, dim2))\n",
    "    binary_mat[position] = 1\n",
    "        \n",
    "    beta0 = 1\n",
    "    nu0 = rank\n",
    "    mu0 = np.zeros((rank))\n",
    "    W0 = np.eye(rank)\n",
    "    tau = 1\n",
    "    alpha = 1e-6\n",
    "    beta = 1e-6\n",
    "    \n",
    "    W_plus = np.zeros((dim1, rank))\n",
    "    X_plus = np.zeros((dim2, rank))\n",
    "    mat_hat_plus = np.zeros((dim1, dim2))\n",
    "    for iters in range(maxiter1):\n",
    "        for order in range(2):\n",
    "            if order == 0:\n",
    "                mat = W.copy()\n",
    "            elif order == 1:\n",
    "                mat = X.copy()\n",
    "            mat_bar = np.mean(mat, axis = 0)\n",
    "            var_mu_hyper = (dim[order] * mat_bar + beta0 * mu0)/(dim[order] + beta0)\n",
    "            var_W_hyper = inv(inv(W0) + cov_mat(mat) + dim[order] * beta0/(dim[order] + beta0)\n",
    "                             * np.outer(mat_bar - mu0, mat_bar - mu0))\n",
    "            var_Lambda_hyper = wishart(df = dim[order] + nu0, scale = var_W_hyper, seed = None).rvs()\n",
    "            var_mu_hyper = mvnrnd(var_mu_hyper, inv((dim[order] + beta0) * var_Lambda_hyper))\n",
    "            \n",
    "            if order == 0:\n",
    "                var1 = X.T\n",
    "                mat0 = np.matmul(var1, sparse_mat.T)\n",
    "            elif order == 1:\n",
    "                var1 = W.T\n",
    "                mat0 = np.matmul(var1, sparse_mat)\n",
    "            var2 = kr_prod(var1, var1)\n",
    "            if order == 0:\n",
    "                mat1 = np.matmul(var2, binary_mat.T)\n",
    "            elif order == 1:\n",
    "                mat1 = np.matmul(var2, binary_mat)\n",
    "            var3 = tau * mat1.reshape(rank, rank, dim[order]) + np.dstack([var_Lambda_hyper] * dim[order])\n",
    "            var4 = tau * mat0 + np.dstack([np.matmul(var_Lambda_hyper, var_mu_hyper)] * dim[order])[0, :, :]\n",
    "            for i in range(dim[order]):\n",
    "                var_Lambda = var3[:, :, i]\n",
    "                inv_var_Lambda = inv((var_Lambda + var_Lambda.T)/2)\n",
    "                vec = mvnrnd(np.matmul(inv_var_Lambda, var4[:, i]), inv_var_Lambda)\n",
    "                if order == 0:\n",
    "                    W[i, :] = vec.copy()\n",
    "                elif order == 1:\n",
    "                    X[i, :] = vec.copy()\n",
    "                    \n",
    "        if iters + 1 > maxiter1 - maxiter2:\n",
    "            W_plus += W\n",
    "            X_plus += X\n",
    "            \n",
    "        mat_hat = np.matmul(W, X.T)\n",
    "        if iters + 1 > maxiter1 - maxiter2:\n",
    "            mat_hat_plus += mat_hat\n",
    "        rmse = np.sqrt(np.sum((dense_mat[pos] - mat_hat[pos]) ** 2)/dense_mat[pos].shape[0])\n",
    "        \n",
    "        var_alpha = alpha + 0.5 * sparse_mat[position].shape[0]\n",
    "        error = sparse_mat - mat_hat\n",
    "        var_beta = beta + 0.5 * np.sum(error[position] ** 2)\n",
    "        tau = np.random.gamma(var_alpha, 1/var_beta)\n",
    "\n",
    "        if (iters + 1) % 200 == 0 and iters < maxiter1 - maxiter2:\n",
    "            print('Iter: {}'.format(iters + 1))\n",
    "            print('RMSE: {:.6}'.format(rmse))\n",
    "            print()\n",
    "\n",
    "    W = W_plus/maxiter2\n",
    "    X = X_plus/maxiter2\n",
    "    mat_hat = mat_hat_plus/maxiter2\n",
    "    if maxiter1 >= 100:\n",
    "        final_mape = np.sum(np.abs(dense_mat[pos] - mat_hat[pos])/dense_mat[pos])/dense_mat[pos].shape[0]\n",
    "        final_rmse = np.sqrt(np.sum((dense_mat[pos] - mat_hat[pos]) ** 2)/dense_mat[pos].shape[0])\n",
    "        print('Imputation MAPE: {:.6}'.format(final_mape))\n",
    "        print('Imputation RMSE: {:.6}'.format(final_rmse))\n",
    "        print()\n",
    "    \n",
    "    return mat_hat, W, X"
   ]
  },
  {
   "cell_type": "markdown",
   "metadata": {},
   "source": [
    "# Part 3: Data Organization\n",
    "\n",
    "## 1) Matrix Structure\n",
    "\n",
    "We consider a dataset of $m$ discrete time series $\\boldsymbol{y}_{i}\\in\\mathbb{R}^{f},i\\in\\left\\{1,2,...,m\\right\\}$. The time series may have missing elements. We express spatio-temporal dataset as a matrix $Y\\in\\mathbb{R}^{m\\times f}$ with $m$ rows (e.g., locations) and $f$ columns (e.g., discrete time intervals),\n",
    "\n",
    "$$Y=\\left[ \\begin{array}{cccc} y_{11} & y_{12} & \\cdots & y_{1f} \\\\ y_{21} & y_{22} & \\cdots & y_{2f} \\\\ \\vdots & \\vdots & \\ddots & \\vdots \\\\ y_{m1} & y_{m2} & \\cdots & y_{mf} \\\\ \\end{array} \\right]\\in\\mathbb{R}^{m\\times f}.$$\n",
    "\n",
    "## 2) Tensor Structure\n",
    "\n",
    "We consider a dataset of $m$ discrete time series $\\boldsymbol{y}_{i}\\in\\mathbb{R}^{nf},i\\in\\left\\{1,2,...,m\\right\\}$. The time series may have missing elements. We partition each time series into intervals of predifined length $f$. We express each partitioned time series as a matrix $Y_{i}$ with $n$ rows (e.g., days) and $f$ columns (e.g., discrete time intervals per day),\n",
    "\n",
    "$$Y_{i}=\\left[ \\begin{array}{cccc} y_{11} & y_{12} & \\cdots & y_{1f} \\\\ y_{21} & y_{22} & \\cdots & y_{2f} \\\\ \\vdots & \\vdots & \\ddots & \\vdots \\\\ y_{n1} & y_{n2} & \\cdots & y_{nf} \\\\ \\end{array} \\right]\\in\\mathbb{R}^{n\\times f},i=1,2,...,m,$$\n",
    "\n",
    "therefore, the resulting structure is a tensor $\\mathcal{Y}\\in\\mathbb{R}^{m\\times n\\times f}$."
   ]
  },
  {
   "cell_type": "markdown",
   "metadata": {},
   "source": [
    "# Part 4: Experiments on Guangzhou Data Set"
   ]
  },
  {
   "cell_type": "code",
   "execution_count": 6,
   "metadata": {},
   "outputs": [],
   "source": [
    "import scipy.io\n",
    "\n",
    "tensor = scipy.io.loadmat('../datasets/Guangzhou-data-set/tensor.mat')\n",
    "tensor = tensor['tensor']\n",
    "random_matrix = scipy.io.loadmat('../datasets/Guangzhou-data-set/random_matrix.mat')\n",
    "random_matrix = random_matrix['random_matrix']\n",
    "random_tensor = scipy.io.loadmat('../datasets/Guangzhou-data-set/random_tensor.mat')\n",
    "random_tensor = random_tensor['random_tensor']\n",
    "\n",
    "dense_mat = tensor.reshape([tensor.shape[0], tensor.shape[1] * tensor.shape[2]])\n",
    "missing_rate = 0.2\n",
    "\n",
    "# =============================================================================\n",
    "### Random missing (RM) scenario\n",
    "### Set the RM scenario by:\n",
    "binary_mat = (np.round(random_tensor + 0.5 - missing_rate)\n",
    "              .reshape([random_tensor.shape[0], random_tensor.shape[1] * random_tensor.shape[2]]))\n",
    "# =============================================================================\n",
    "\n",
    "sparse_mat = np.multiply(dense_mat, binary_mat)"
   ]
  },
  {
   "cell_type": "code",
   "execution_count": 7,
   "metadata": {},
   "outputs": [
    {
     "name": "stdout",
     "output_type": "stream",
     "text": [
      "Iter: 200\n",
      "RMSE: 4.45974\n",
      "\n",
      "Iter: 400\n",
      "RMSE: 4.48453\n",
      "\n",
      "Iter: 600\n",
      "RMSE: 4.50418\n",
      "\n",
      "Iter: 800\n",
      "RMSE: 4.49705\n",
      "\n",
      "Iter: 1000\n",
      "RMSE: 4.53354\n",
      "\n",
      "Imputation MAPE: 0.0954385\n",
      "Imputation RMSE: 4.05508\n",
      "\n",
      "Running time: 15621 seconds\n"
     ]
    }
   ],
   "source": [
    "import time\n",
    "start = time.time()\n",
    "dim1, dim2 = sparse_mat.shape\n",
    "rank = 80\n",
    "init = {\"W\": 0.1 * np.random.rand(dim1, rank), \n",
    "        \"X\": 0.1 * np.random.rand(dim2, rank)}\n",
    "maxiter1 = 1100\n",
    "maxiter2 = 100\n",
    "BPMF(dense_mat, sparse_mat, init, rank, maxiter1, maxiter2)\n",
    "end = time.time()\n",
    "print('Running time: %d seconds'%(end - start))"
   ]
  },
  {
   "cell_type": "code",
   "execution_count": 8,
   "metadata": {},
   "outputs": [],
   "source": [
    "import scipy.io\n",
    "\n",
    "tensor = scipy.io.loadmat('../datasets/Guangzhou-data-set/tensor.mat')\n",
    "tensor = tensor['tensor']\n",
    "random_matrix = scipy.io.loadmat('../datasets/Guangzhou-data-set/random_matrix.mat')\n",
    "random_matrix = random_matrix['random_matrix']\n",
    "random_tensor = scipy.io.loadmat('../datasets/Guangzhou-data-set/random_tensor.mat')\n",
    "random_tensor = random_tensor['random_tensor']\n",
    "\n",
    "dense_mat = tensor.reshape([tensor.shape[0], tensor.shape[1] * tensor.shape[2]])\n",
    "missing_rate = 0.4\n",
    "\n",
    "# =============================================================================\n",
    "### Random missing (RM) scenario\n",
    "### Set the RM scenario by:\n",
    "binary_mat = (np.round(random_tensor + 0.5 - missing_rate)\n",
    "              .reshape([random_tensor.shape[0], random_tensor.shape[1] * random_tensor.shape[2]]))\n",
    "# =============================================================================\n",
    "\n",
    "sparse_mat = np.multiply(dense_mat, binary_mat)"
   ]
  },
  {
   "cell_type": "code",
   "execution_count": 9,
   "metadata": {},
   "outputs": [
    {
     "name": "stdout",
     "output_type": "stream",
     "text": [
      "Iter: 200\n",
      "RMSE: 4.59603\n",
      "\n",
      "Iter: 400\n",
      "RMSE: 4.64364\n",
      "\n",
      "Iter: 600\n",
      "RMSE: 4.66908\n",
      "\n",
      "Iter: 800\n",
      "RMSE: 4.6682\n",
      "\n",
      "Iter: 1000\n",
      "RMSE: 4.67601\n",
      "\n",
      "Imputation MAPE: 0.0980906\n",
      "Imputation RMSE: 4.1659\n",
      "\n",
      "Running time: 15537 seconds\n"
     ]
    }
   ],
   "source": [
    "import time\n",
    "start = time.time()\n",
    "dim1, dim2 = sparse_mat.shape\n",
    "rank = 80\n",
    "init = {\"W\": 0.1 * np.random.rand(dim1, rank), \n",
    "        \"X\": 0.1 * np.random.rand(dim2, rank)}\n",
    "maxiter1 = 1100\n",
    "maxiter2 = 100\n",
    "BPMF(dense_mat, sparse_mat, init, rank, maxiter1, maxiter2)\n",
    "end = time.time()\n",
    "print('Running time: %d seconds'%(end - start))"
   ]
  },
  {
   "cell_type": "code",
   "execution_count": 10,
   "metadata": {},
   "outputs": [],
   "source": [
    "import scipy.io\n",
    "\n",
    "tensor = scipy.io.loadmat('../datasets/Guangzhou-data-set/tensor.mat')\n",
    "tensor = tensor['tensor']\n",
    "random_matrix = scipy.io.loadmat('../datasets/Guangzhou-data-set/random_matrix.mat')\n",
    "random_matrix = random_matrix['random_matrix']\n",
    "random_tensor = scipy.io.loadmat('../datasets/Guangzhou-data-set/random_tensor.mat')\n",
    "random_tensor = random_tensor['random_tensor']\n",
    "\n",
    "dense_mat = tensor.reshape([tensor.shape[0], tensor.shape[1] * tensor.shape[2]])\n",
    "missing_rate = 0.2\n",
    "\n",
    "# =============================================================================\n",
    "### Non-random missing (NM) scenario\n",
    "### Set the NM scenario by:\n",
    "binary_tensor = np.zeros(tensor.shape)\n",
    "for i1 in range(tensor.shape[0]):\n",
    "    for i2 in range(tensor.shape[1]):\n",
    "        binary_tensor[i1, i2, :] = np.round(random_matrix[i1, i2] + 0.5 - missing_rate)\n",
    "binary_mat = binary_tensor.reshape([binary_tensor.shape[0], binary_tensor.shape[1] * binary_tensor.shape[2]])\n",
    "# =============================================================================\n",
    "\n",
    "sparse_mat = np.multiply(dense_mat, binary_mat)"
   ]
  },
  {
   "cell_type": "code",
   "execution_count": 11,
   "metadata": {},
   "outputs": [
    {
     "name": "stdout",
     "output_type": "stream",
     "text": [
      "Iter: 200\n",
      "RMSE: 4.40543\n",
      "\n",
      "Iter: 400\n",
      "RMSE: 4.40299\n",
      "\n",
      "Iter: 600\n",
      "RMSE: 4.40416\n",
      "\n",
      "Iter: 800\n",
      "RMSE: 4.4028\n",
      "\n",
      "Iter: 1000\n",
      "RMSE: 4.40422\n",
      "\n",
      "Imputation MAPE: 0.102771\n",
      "Imputation RMSE: 4.29007\n",
      "\n",
      "Running time: 1869 seconds\n"
     ]
    }
   ],
   "source": [
    "import time\n",
    "start = time.time()\n",
    "dim1, dim2 = sparse_mat.shape\n",
    "rank = 10\n",
    "init = {\"W\": 0.1 * np.random.rand(dim1, rank), \n",
    "        \"X\": 0.1 * np.random.rand(dim2, rank)}\n",
    "maxiter1 = 1100\n",
    "maxiter2 = 100\n",
    "BPMF(dense_mat, sparse_mat, init, rank, maxiter1, maxiter2)\n",
    "end = time.time()\n",
    "print('Running time: %d seconds'%(end - start))"
   ]
  },
  {
   "cell_type": "code",
   "execution_count": 12,
   "metadata": {},
   "outputs": [],
   "source": [
    "import scipy.io\n",
    "\n",
    "tensor = scipy.io.loadmat('../datasets/Guangzhou-data-set/tensor.mat')\n",
    "tensor = tensor['tensor']\n",
    "random_matrix = scipy.io.loadmat('../datasets/Guangzhou-data-set/random_matrix.mat')\n",
    "random_matrix = random_matrix['random_matrix']\n",
    "random_tensor = scipy.io.loadmat('../datasets/Guangzhou-data-set/random_tensor.mat')\n",
    "random_tensor = random_tensor['random_tensor']\n",
    "\n",
    "dense_mat = tensor.reshape([tensor.shape[0], tensor.shape[1] * tensor.shape[2]])\n",
    "missing_rate = 0.4\n",
    "\n",
    "# =============================================================================\n",
    "### Non-random missing (NM) scenario\n",
    "### Set the NM scenario by:\n",
    "binary_tensor = np.zeros(tensor.shape)\n",
    "for i1 in range(tensor.shape[0]):\n",
    "    for i2 in range(tensor.shape[1]):\n",
    "        binary_tensor[i1, i2, :] = np.round(random_matrix[i1, i2] + 0.5 - missing_rate)\n",
    "binary_mat = binary_tensor.reshape([binary_tensor.shape[0], binary_tensor.shape[1] * binary_tensor.shape[2]])\n",
    "# =============================================================================\n",
    "\n",
    "sparse_mat = np.multiply(dense_mat, binary_mat)"
   ]
  },
  {
   "cell_type": "code",
   "execution_count": 13,
   "metadata": {},
   "outputs": [
    {
     "name": "stdout",
     "output_type": "stream",
     "text": [
      "Iter: 200\n",
      "RMSE: 4.55077\n",
      "\n",
      "Iter: 400\n",
      "RMSE: 4.55088\n",
      "\n",
      "Iter: 600\n",
      "RMSE: 4.55242\n",
      "\n",
      "Iter: 800\n",
      "RMSE: 4.54653\n",
      "\n",
      "Iter: 1000\n",
      "RMSE: 4.54695\n",
      "\n",
      "Imputation MAPE: 0.103967\n",
      "Imputation RMSE: 4.39942\n",
      "\n",
      "Running time: 1862 seconds\n"
     ]
    }
   ],
   "source": [
    "import time\n",
    "start = time.time()\n",
    "dim1, dim2 = sparse_mat.shape\n",
    "rank = 10\n",
    "init = {\"W\": 0.1 * np.random.rand(dim1, rank), \n",
    "        \"X\": 0.1 * np.random.rand(dim2, rank)}\n",
    "maxiter1 = 1100\n",
    "maxiter2 = 100\n",
    "BPMF(dense_mat, sparse_mat, init, rank, maxiter1, maxiter2)\n",
    "end = time.time()\n",
    "print('Running time: %d seconds'%(end - start))"
   ]
  },
  {
   "cell_type": "markdown",
   "metadata": {},
   "source": [
    "**Experiment results** of missing data imputation using BPMF:\n",
    "\n",
    "|  scenario |`rank`|`maxiter1`|`maxiter2`|       mape |      rmse |\n",
    "|:----------|-----:|---------:|---------:|-------- --:|----------:|\n",
    "|**0.2, RM**|   80 |     1100 |      100 | **0.0954** | **4.0551**|\n",
    "|**0.4, RM**|   80 |     1100 |      100 | **0.0981** | **4.1659**|\n",
    "|**0.2, NM**|   10 |     1100 |      100 | **0.1028** | **4.2901**|\n",
    "|**0.4, NM**|   10 |     1100 |      100 | **0.1040** | **4.3994**|\n"
   ]
  },
  {
   "cell_type": "markdown",
   "metadata": {},
   "source": [
    "# Part 5: Experiments on Birmingham Data Set\n"
   ]
  },
  {
   "cell_type": "code",
   "execution_count": 14,
   "metadata": {},
   "outputs": [],
   "source": [
    "import scipy.io\n",
    "\n",
    "tensor = scipy.io.loadmat('../datasets/Birmingham-data-set/tensor.mat')\n",
    "tensor = tensor['tensor']\n",
    "random_matrix = scipy.io.loadmat('../datasets/Birmingham-data-set/random_matrix.mat')\n",
    "random_matrix = random_matrix['random_matrix']\n",
    "random_tensor = scipy.io.loadmat('../datasets/Birmingham-data-set/random_tensor.mat')\n",
    "random_tensor = random_tensor['random_tensor']\n",
    "\n",
    "dense_mat = tensor.reshape([tensor.shape[0], tensor.shape[1] * tensor.shape[2]])\n",
    "missing_rate = 0.1\n",
    "\n",
    "# =============================================================================\n",
    "### Random missing (RM) scenario\n",
    "### Set the RM scenario by:\n",
    "binary_mat = (np.round(random_tensor + 0.5 - missing_rate)\n",
    "              .reshape([random_tensor.shape[0], random_tensor.shape[1] * random_tensor.shape[2]]))\n",
    "# =============================================================================\n",
    "\n",
    "sparse_mat = np.multiply(dense_mat, binary_mat)"
   ]
  },
  {
   "cell_type": "code",
   "execution_count": 15,
   "metadata": {},
   "outputs": [
    {
     "name": "stdout",
     "output_type": "stream",
     "text": [
      "Iter: 200\n",
      "RMSE: 85.3746\n",
      "\n",
      "Iter: 400\n",
      "RMSE: 82.764\n",
      "\n",
      "Iter: 600\n",
      "RMSE: 80.5529\n",
      "\n",
      "Iter: 800\n",
      "RMSE: 82.5179\n",
      "\n",
      "Iter: 1000\n",
      "RMSE: 85.4004\n",
      "\n",
      "Imputation MAPE: 0.0787418\n",
      "Imputation RMSE: 81.593\n",
      "\n",
      "Running time: 576 seconds\n"
     ]
    }
   ],
   "source": [
    "import time\n",
    "start = time.time()\n",
    "dim1, dim2 = sparse_mat.shape\n",
    "rank = 30\n",
    "init = {\"W\": 0.1 * np.random.rand(dim1, rank), \n",
    "        \"X\": 0.1 * np.random.rand(dim2, rank)}\n",
    "maxiter1 = 1100\n",
    "maxiter2 = 100\n",
    "BPMF(dense_mat, sparse_mat, init, rank, maxiter1, maxiter2)\n",
    "end = time.time()\n",
    "print('Running time: %d seconds'%(end - start))"
   ]
  },
  {
   "cell_type": "code",
   "execution_count": 16,
   "metadata": {},
   "outputs": [],
   "source": [
    "import scipy.io\n",
    "\n",
    "tensor = scipy.io.loadmat('../datasets/Birmingham-data-set/tensor.mat')\n",
    "tensor = tensor['tensor']\n",
    "random_matrix = scipy.io.loadmat('../datasets/Birmingham-data-set/random_matrix.mat')\n",
    "random_matrix = random_matrix['random_matrix']\n",
    "random_tensor = scipy.io.loadmat('../datasets/Birmingham-data-set/random_tensor.mat')\n",
    "random_tensor = random_tensor['random_tensor']\n",
    "\n",
    "dense_mat = tensor.reshape([tensor.shape[0], tensor.shape[1] * tensor.shape[2]])\n",
    "missing_rate = 0.3\n",
    "\n",
    "# =============================================================================\n",
    "### Random missing (RM) scenario\n",
    "### Set the RM scenario by:\n",
    "binary_mat = (np.round(random_tensor + 0.5 - missing_rate)\n",
    "              .reshape([random_tensor.shape[0], random_tensor.shape[1] * random_tensor.shape[2]]))\n",
    "# =============================================================================\n",
    "\n",
    "sparse_mat = np.multiply(dense_mat, binary_mat)"
   ]
  },
  {
   "cell_type": "code",
   "execution_count": 17,
   "metadata": {},
   "outputs": [
    {
     "name": "stderr",
     "output_type": "stream",
     "text": [
      "C:\\ProgramData\\Anaconda3\\lib\\site-packages\\ipykernel_launcher.py:35: RuntimeWarning: covariance is not symmetric positive-semidefinite.\n"
     ]
    },
    {
     "name": "stdout",
     "output_type": "stream",
     "text": [
      "Iter: 200\n",
      "RMSE: 86.5213\n",
      "\n",
      "Iter: 400\n",
      "RMSE: 92.6908\n",
      "\n",
      "Iter: 600\n",
      "RMSE: 94.3497\n",
      "\n",
      "Iter: 800\n",
      "RMSE: 88.1774\n",
      "\n",
      "Iter: 1000\n",
      "RMSE: 97.1066\n",
      "\n",
      "Imputation MAPE: 0.099453\n",
      "Imputation RMSE: 83.8159\n",
      "\n",
      "Running time: 571 seconds\n"
     ]
    }
   ],
   "source": [
    "import time\n",
    "start = time.time()\n",
    "dim1, dim2 = sparse_mat.shape\n",
    "rank = 30\n",
    "init = {\"W\": 0.1 * np.random.rand(dim1, rank), \n",
    "        \"X\": 0.1 * np.random.rand(dim2, rank)}\n",
    "maxiter1 = 1100\n",
    "maxiter2 = 100\n",
    "BPMF(dense_mat, sparse_mat, init, rank, maxiter1, maxiter2)\n",
    "end = time.time()\n",
    "print('Running time: %d seconds'%(end - start))"
   ]
  },
  {
   "cell_type": "code",
   "execution_count": 18,
   "metadata": {},
   "outputs": [],
   "source": [
    "import scipy.io\n",
    "\n",
    "tensor = scipy.io.loadmat('../datasets/Birmingham-data-set/tensor.mat')\n",
    "tensor = tensor['tensor']\n",
    "random_matrix = scipy.io.loadmat('../datasets/Birmingham-data-set/random_matrix.mat')\n",
    "random_matrix = random_matrix['random_matrix']\n",
    "random_tensor = scipy.io.loadmat('../datasets/Birmingham-data-set/random_tensor.mat')\n",
    "random_tensor = random_tensor['random_tensor']\n",
    "\n",
    "dense_mat = tensor.reshape([tensor.shape[0], tensor.shape[1] * tensor.shape[2]])\n",
    "missing_rate = 0.1\n",
    "\n",
    "# =============================================================================\n",
    "### Non-random missing (NM) scenario\n",
    "### Set the NM scenario by:\n",
    "binary_tensor = np.zeros(tensor.shape)\n",
    "for i1 in range(tensor.shape[0]):\n",
    "    for i2 in range(tensor.shape[1]):\n",
    "        binary_tensor[i1, i2, :] = np.round(random_matrix[i1, i2] + 0.5 - missing_rate)\n",
    "binary_mat = binary_tensor.reshape([binary_tensor.shape[0], binary_tensor.shape[1] * binary_tensor.shape[2]])\n",
    "# =============================================================================\n",
    "\n",
    "sparse_mat = np.multiply(dense_mat, binary_mat)"
   ]
  },
  {
   "cell_type": "code",
   "execution_count": 19,
   "metadata": {},
   "outputs": [
    {
     "name": "stdout",
     "output_type": "stream",
     "text": [
      "Iter: 200\n",
      "RMSE: 33.9211\n",
      "\n",
      "Iter: 400\n",
      "RMSE: 33.8615\n",
      "\n",
      "Iter: 600\n",
      "RMSE: 34.1373\n",
      "\n",
      "Iter: 800\n",
      "RMSE: 34.0786\n",
      "\n",
      "Iter: 1000\n",
      "RMSE: 33.4816\n",
      "\n",
      "Imputation MAPE: 0.131775\n",
      "Imputation RMSE: 29.2774\n",
      "\n",
      "Running time: 280 seconds\n"
     ]
    }
   ],
   "source": [
    "import time\n",
    "start = time.time()\n",
    "dim1, dim2 = sparse_mat.shape\n",
    "rank = 10\n",
    "init = {\"W\": 0.1 * np.random.rand(dim1, rank), \n",
    "        \"X\": 0.1 * np.random.rand(dim2, rank)}\n",
    "maxiter1 = 1100\n",
    "maxiter2 = 100\n",
    "BPMF(dense_mat, sparse_mat, init, rank, maxiter1, maxiter2)\n",
    "end = time.time()\n",
    "print('Running time: %d seconds'%(end - start))"
   ]
  },
  {
   "cell_type": "code",
   "execution_count": 20,
   "metadata": {},
   "outputs": [],
   "source": [
    "import scipy.io\n",
    "\n",
    "tensor = scipy.io.loadmat('../datasets/Birmingham-data-set/tensor.mat')\n",
    "tensor = tensor['tensor']\n",
    "random_matrix = scipy.io.loadmat('../datasets/Birmingham-data-set/random_matrix.mat')\n",
    "random_matrix = random_matrix['random_matrix']\n",
    "random_tensor = scipy.io.loadmat('../datasets/Birmingham-data-set/random_tensor.mat')\n",
    "random_tensor = random_tensor['random_tensor']\n",
    "\n",
    "dense_mat = tensor.reshape([tensor.shape[0], tensor.shape[1] * tensor.shape[2]])\n",
    "missing_rate = 0.3\n",
    "\n",
    "# =============================================================================\n",
    "### Non-random missing (NM) scenario\n",
    "### Set the NM scenario by:\n",
    "binary_tensor = np.zeros(tensor.shape)\n",
    "for i1 in range(tensor.shape[0]):\n",
    "    for i2 in range(tensor.shape[1]):\n",
    "        binary_tensor[i1, i2, :] = np.round(random_matrix[i1, i2] + 0.5 - missing_rate)\n",
    "binary_mat = binary_tensor.reshape([binary_tensor.shape[0], binary_tensor.shape[1] * binary_tensor.shape[2]])\n",
    "# =============================================================================\n",
    "\n",
    "sparse_mat = np.multiply(dense_mat, binary_mat)"
   ]
  },
  {
   "cell_type": "code",
   "execution_count": 21,
   "metadata": {},
   "outputs": [
    {
     "name": "stdout",
     "output_type": "stream",
     "text": [
      "Iter: 200\n",
      "RMSE: 72.387\n",
      "\n",
      "Iter: 400\n",
      "RMSE: 68.8299\n",
      "\n",
      "Iter: 600\n",
      "RMSE: 66.6435\n",
      "\n",
      "Iter: 800\n",
      "RMSE: 67.5589\n",
      "\n",
      "Iter: 1000\n",
      "RMSE: 70.8601\n",
      "\n",
      "Imputation MAPE: 0.147508\n",
      "Imputation RMSE: 60.2924\n",
      "\n",
      "Running time: 278 seconds\n"
     ]
    }
   ],
   "source": [
    "import time\n",
    "start = time.time()\n",
    "dim1, dim2 = sparse_mat.shape\n",
    "rank = 10\n",
    "init = {\"W\": 0.1 * np.random.rand(dim1, rank), \n",
    "        \"X\": 0.1 * np.random.rand(dim2, rank)}\n",
    "maxiter1 = 1100\n",
    "maxiter2 = 100\n",
    "BPMF(dense_mat, sparse_mat, init, rank, maxiter1, maxiter2)\n",
    "end = time.time()\n",
    "print('Running time: %d seconds'%(end - start))"
   ]
  },
  {
   "cell_type": "markdown",
   "metadata": {},
   "source": [
    "**Experiment results** of missing data imputation using BPMF:\n",
    "\n",
    "|  scenario |`rank`|`maxiter1`|`maxiter2`|       mape |       rmse |\n",
    "|:----------|-----:|---------:|---------:|-----------:|-----------:|\n",
    "|**10%, RM**|   30 |     1100 |      100 | **0.0787** | **81.593**|\n",
    "|**30%, RM**|   30 |     1100 |      100 | **0.0995** | **83.8159**|\n",
    "|**10%, NM**|   10 |     1100 |      100 | **0.1318** | **29.2774**|\n",
    "|**30%, NM**|   10 |     1100 |      100 | **0.1475** | **60.2924**|\n"
   ]
  },
  {
   "cell_type": "markdown",
   "metadata": {},
   "source": [
    "# Part 6: Experiments on Hangzhou Data Set"
   ]
  },
  {
   "cell_type": "code",
   "execution_count": 22,
   "metadata": {},
   "outputs": [],
   "source": [
    "import scipy.io\n",
    "\n",
    "tensor = scipy.io.loadmat('../datasets/Hangzhou-data-set/tensor.mat')\n",
    "tensor = tensor['tensor']\n",
    "random_matrix = scipy.io.loadmat('../datasets/Hangzhou-data-set/random_matrix.mat')\n",
    "random_matrix = random_matrix['random_matrix']\n",
    "random_tensor = scipy.io.loadmat('../datasets/Hangzhou-data-set/random_tensor.mat')\n",
    "random_tensor = random_tensor['random_tensor']\n",
    "\n",
    "dense_mat = tensor.reshape([tensor.shape[0], tensor.shape[1] * tensor.shape[2]])\n",
    "missing_rate = 0.2\n",
    "\n",
    "# =============================================================================\n",
    "### Random missing (RM) scenario\n",
    "### Set the RM scenario by:\n",
    "binary_mat = (np.round(random_tensor + 0.5 - missing_rate)\n",
    "              .reshape([random_tensor.shape[0], random_tensor.shape[1] * random_tensor.shape[2]]))\n",
    "# =============================================================================\n",
    "\n",
    "sparse_mat = np.multiply(dense_mat, binary_mat)"
   ]
  },
  {
   "cell_type": "code",
   "execution_count": 23,
   "metadata": {},
   "outputs": [
    {
     "name": "stdout",
     "output_type": "stream",
     "text": [
      "Iter: 200\n",
      "RMSE: 52.8515\n",
      "\n",
      "Iter: 400\n",
      "RMSE: 52.2388\n",
      "\n",
      "Iter: 600\n",
      "RMSE: 52.4415\n",
      "\n",
      "Iter: 800\n",
      "RMSE: 53.973\n",
      "\n",
      "Iter: 1000\n",
      "RMSE: 51.7854\n",
      "\n",
      "Imputation MAPE: 0.296279\n",
      "Imputation RMSE: 41.8653\n",
      "\n",
      "Running time: 2397 seconds\n"
     ]
    }
   ],
   "source": [
    "import time\n",
    "start = time.time()\n",
    "dim1, dim2 = sparse_mat.shape\n",
    "rank = 50\n",
    "init = {\"W\": 0.1 * np.random.rand(dim1, rank), \n",
    "        \"X\": 0.1 * np.random.rand(dim2, rank)}\n",
    "maxiter1 = 1100\n",
    "maxiter2 = 100\n",
    "BPMF(dense_mat, sparse_mat, init, rank, maxiter1, maxiter2)\n",
    "end = time.time()\n",
    "print('Running time: %d seconds'%(end - start))"
   ]
  },
  {
   "cell_type": "code",
   "execution_count": 24,
   "metadata": {},
   "outputs": [],
   "source": [
    "import scipy.io\n",
    "\n",
    "tensor = scipy.io.loadmat('../datasets/Hangzhou-data-set/tensor.mat')\n",
    "tensor = tensor['tensor']\n",
    "random_matrix = scipy.io.loadmat('../datasets/Hangzhou-data-set/random_matrix.mat')\n",
    "random_matrix = random_matrix['random_matrix']\n",
    "random_tensor = scipy.io.loadmat('../datasets/Hangzhou-data-set/random_tensor.mat')\n",
    "random_tensor = random_tensor['random_tensor']\n",
    "\n",
    "dense_mat = tensor.reshape([tensor.shape[0], tensor.shape[1] * tensor.shape[2]])\n",
    "missing_rate = 0.4\n",
    "\n",
    "# =============================================================================\n",
    "### Random missing (RM) scenario\n",
    "### Set the RM scenario by:\n",
    "binary_mat = (np.round(random_tensor + 0.5 - missing_rate)\n",
    "              .reshape([random_tensor.shape[0], random_tensor.shape[1] * random_tensor.shape[2]]))\n",
    "# =============================================================================\n",
    "\n",
    "sparse_mat = np.multiply(dense_mat, binary_mat)"
   ]
  },
  {
   "cell_type": "code",
   "execution_count": 25,
   "metadata": {},
   "outputs": [
    {
     "name": "stdout",
     "output_type": "stream",
     "text": [
      "Iter: 200\n",
      "RMSE: 57.7243\n",
      "\n",
      "Iter: 400\n",
      "RMSE: 55.2085\n",
      "\n",
      "Iter: 600\n",
      "RMSE: 56.3372\n",
      "\n",
      "Iter: 800\n",
      "RMSE: 56.3237\n",
      "\n",
      "Iter: 1000\n",
      "RMSE: 55.2162\n",
      "\n",
      "Imputation MAPE: 0.328331\n",
      "Imputation RMSE: 44.4621\n",
      "\n",
      "Running time: 2394 seconds\n"
     ]
    }
   ],
   "source": [
    "import time\n",
    "start = time.time()\n",
    "dim1, dim2 = sparse_mat.shape\n",
    "rank = 50\n",
    "init = {\"W\": 0.1 * np.random.rand(dim1, rank), \n",
    "        \"X\": 0.1 * np.random.rand(dim2, rank)}\n",
    "maxiter1 = 1100\n",
    "maxiter2 = 100\n",
    "BPMF(dense_mat, sparse_mat, init, rank, maxiter1, maxiter2)\n",
    "end = time.time()\n",
    "print('Running time: %d seconds'%(end - start))"
   ]
  },
  {
   "cell_type": "code",
   "execution_count": 26,
   "metadata": {},
   "outputs": [],
   "source": [
    "import scipy.io\n",
    "\n",
    "tensor = scipy.io.loadmat('../datasets/Hangzhou-data-set/tensor.mat')\n",
    "tensor = tensor['tensor']\n",
    "random_matrix = scipy.io.loadmat('../datasets/Hangzhou-data-set/random_matrix.mat')\n",
    "random_matrix = random_matrix['random_matrix']\n",
    "random_tensor = scipy.io.loadmat('../datasets/Hangzhou-data-set/random_tensor.mat')\n",
    "random_tensor = random_tensor['random_tensor']\n",
    "\n",
    "dense_mat = tensor.reshape([tensor.shape[0], tensor.shape[1] * tensor.shape[2]])\n",
    "missing_rate = 0.2\n",
    "\n",
    "# =============================================================================\n",
    "### Non-random missing (NM) scenario\n",
    "### Set the NM scenario by:\n",
    "binary_tensor = np.zeros(tensor.shape)\n",
    "for i1 in range(tensor.shape[0]):\n",
    "    for i2 in range(tensor.shape[1]):\n",
    "        binary_tensor[i1, i2, :] = np.round(random_matrix[i1, i2] + 0.5 - missing_rate)\n",
    "binary_mat = binary_tensor.reshape([binary_tensor.shape[0], binary_tensor.shape[1] * binary_tensor.shape[2]])\n",
    "# =============================================================================\n",
    "\n",
    "sparse_mat = np.multiply(dense_mat, binary_mat)"
   ]
  },
  {
   "cell_type": "code",
   "execution_count": 27,
   "metadata": {},
   "outputs": [
    {
     "name": "stdout",
     "output_type": "stream",
     "text": [
      "Iter: 200\n",
      "RMSE: 72.8171\n",
      "\n",
      "Iter: 400\n",
      "RMSE: 70.9143\n",
      "\n",
      "Iter: 600\n",
      "RMSE: 71.9877\n",
      "\n",
      "Iter: 800\n",
      "RMSE: 73.1187\n",
      "\n",
      "Iter: 1000\n",
      "RMSE: 72.6543\n",
      "\n",
      "Imputation MAPE: 0.36313\n",
      "Imputation RMSE: 64.2751\n",
      "\n",
      "Running time: 555 seconds\n"
     ]
    }
   ],
   "source": [
    "import time\n",
    "start = time.time()\n",
    "dim1, dim2 = sparse_mat.shape\n",
    "rank = 10\n",
    "init = {\"W\": 0.1 * np.random.rand(dim1, rank), \n",
    "        \"X\": 0.1 * np.random.rand(dim2, rank)}\n",
    "maxiter1 = 1100\n",
    "maxiter2 = 100\n",
    "BPMF(dense_mat, sparse_mat, init, rank, maxiter1, maxiter2)\n",
    "end = time.time()\n",
    "print('Running time: %d seconds'%(end - start))"
   ]
  },
  {
   "cell_type": "code",
   "execution_count": 28,
   "metadata": {},
   "outputs": [],
   "source": [
    "import scipy.io\n",
    "\n",
    "tensor = scipy.io.loadmat('../datasets/Hangzhou-data-set/tensor.mat')\n",
    "tensor = tensor['tensor']\n",
    "random_matrix = scipy.io.loadmat('../datasets/Hangzhou-data-set/random_matrix.mat')\n",
    "random_matrix = random_matrix['random_matrix']\n",
    "random_tensor = scipy.io.loadmat('../datasets/Hangzhou-data-set/random_tensor.mat')\n",
    "random_tensor = random_tensor['random_tensor']\n",
    "\n",
    "dense_mat = tensor.reshape([tensor.shape[0], tensor.shape[1] * tensor.shape[2]])\n",
    "missing_rate = 0.4\n",
    "\n",
    "# =============================================================================\n",
    "### Non-random missing (NM) scenario\n",
    "### Set the NM scenario by:\n",
    "binary_tensor = np.zeros(tensor.shape)\n",
    "for i1 in range(tensor.shape[0]):\n",
    "    for i2 in range(tensor.shape[1]):\n",
    "        binary_tensor[i1, i2, :] = np.round(random_matrix[i1, i2] + 0.5 - missing_rate)\n",
    "binary_mat = binary_tensor.reshape([binary_tensor.shape[0], binary_tensor.shape[1] * binary_tensor.shape[2]])\n",
    "# =============================================================================\n",
    "\n",
    "sparse_mat = np.multiply(dense_mat, binary_mat)"
   ]
  },
  {
   "cell_type": "code",
   "execution_count": 29,
   "metadata": {},
   "outputs": [
    {
     "name": "stdout",
     "output_type": "stream",
     "text": [
      "Iter: 200\n",
      "RMSE: 62.2081\n",
      "\n",
      "Iter: 400\n",
      "RMSE: 61.1341\n",
      "\n",
      "Iter: 600\n",
      "RMSE: 64.1261\n",
      "\n",
      "Iter: 800\n",
      "RMSE: 65.101\n",
      "\n",
      "Iter: 1000\n",
      "RMSE: 64.6031\n",
      "\n",
      "Imputation MAPE: 0.364337\n",
      "Imputation RMSE: 59.0373\n",
      "\n",
      "Running time: 552 seconds\n"
     ]
    }
   ],
   "source": [
    "import time\n",
    "start = time.time()\n",
    "dim1, dim2 = sparse_mat.shape\n",
    "rank = 10\n",
    "init = {\"W\": 0.1 * np.random.rand(dim1, rank), \n",
    "        \"X\": 0.1 * np.random.rand(dim2, rank)}\n",
    "maxiter1 = 1100\n",
    "maxiter2 = 100\n",
    "BPMF(dense_mat, sparse_mat, init, rank, maxiter1, maxiter2)\n",
    "end = time.time()\n",
    "print('Running time: %d seconds'%(end - start))"
   ]
  },
  {
   "cell_type": "markdown",
   "metadata": {},
   "source": [
    "**Experiment results** of missing data imputation using BPMF:\n",
    "\n",
    "|  scenario |`rank`|`maxiter1`|`maxiter2`|       mape |       rmse |\n",
    "|:----------|-----:|---------:|---------:|-----------:|-----------:|\n",
    "|**20%, RM**|   50 |     1100 |      100 | **0.2963** | **41.8653**|\n",
    "|**40%, RM**|   50 |     1100 |      100 | **0.3283** | **44.4621**|\n",
    "|**20%, NM**|   10 |     1100 |      100 | **0.3631** | **64.2751**|\n",
    "|**40%, NM**|   10 |     1100 |      100 | **0.3643** | **59.0373**|\n"
   ]
  },
  {
   "cell_type": "markdown",
   "metadata": {},
   "source": [
    "# Part 7: Experiments on Seattle Data Set"
   ]
  },
  {
   "cell_type": "code",
   "execution_count": 9,
   "metadata": {},
   "outputs": [],
   "source": [
    "import pandas as pd\n",
    "\n",
    "dense_mat = pd.read_csv('../datasets/Seattle-data-set/mat.csv', index_col = 0)\n",
    "RM_mat = pd.read_csv('../datasets/Seattle-data-set/RM_mat.csv', index_col = 0)\n",
    "dense_mat = dense_mat.values\n",
    "RM_mat = RM_mat.values\n",
    "\n",
    "missing_rate = 0.2\n",
    "\n",
    "# =============================================================================\n",
    "### Random missing (RM) scenario\n",
    "### Set the RM scenario by:\n",
    "binary_mat = np.round(RM_mat + 0.5 - missing_rate)\n",
    "# =============================================================================\n",
    "\n",
    "sparse_mat = np.multiply(dense_mat, binary_mat)"
   ]
  },
  {
   "cell_type": "code",
   "execution_count": 10,
   "metadata": {},
   "outputs": [
    {
     "name": "stdout",
     "output_type": "stream",
     "text": [
      "Iter: 200\n",
      "RMSE: 4.46412\n",
      "\n",
      "Iter: 400\n",
      "RMSE: 4.38932\n",
      "\n",
      "Iter: 600\n",
      "RMSE: 4.37362\n",
      "\n",
      "Iter: 800\n",
      "RMSE: 4.37091\n",
      "\n",
      "Iter: 1000\n",
      "RMSE: 4.36332\n",
      "\n",
      "Imputation MAPE: 0.0651451\n",
      "Imputation RMSE: 4.04333\n",
      "\n",
      "Running time: 9192 seconds\n"
     ]
    }
   ],
   "source": [
    "import time\n",
    "start = time.time()\n",
    "dim1, dim2 = sparse_mat.shape\n",
    "rank = 50\n",
    "init = {\"W\": 0.1 * np.random.rand(dim1, rank), \n",
    "        \"X\": 0.1 * np.random.rand(dim2, rank)}\n",
    "maxiter1 = 1100\n",
    "maxiter2 = 100\n",
    "BPMF(dense_mat, sparse_mat, init, rank, maxiter1, maxiter2)\n",
    "end = time.time()\n",
    "print('Running time: %d seconds'%(end - start))"
   ]
  },
  {
   "cell_type": "code",
   "execution_count": 11,
   "metadata": {},
   "outputs": [],
   "source": [
    "import pandas as pd\n",
    "\n",
    "dense_mat = pd.read_csv('../datasets/Seattle-data-set/mat.csv', index_col = 0)\n",
    "RM_mat = pd.read_csv('../datasets/Seattle-data-set/RM_mat.csv', index_col = 0)\n",
    "dense_mat = dense_mat.values\n",
    "RM_mat = RM_mat.values\n",
    "\n",
    "missing_rate = 0.4\n",
    "\n",
    "# =============================================================================\n",
    "### Random missing (RM) scenario\n",
    "### Set the RM scenario by:\n",
    "binary_mat = np.round(RM_mat + 0.5 - missing_rate)\n",
    "# =============================================================================\n",
    "\n",
    "sparse_mat = np.multiply(dense_mat, binary_mat)"
   ]
  },
  {
   "cell_type": "code",
   "execution_count": 12,
   "metadata": {},
   "outputs": [
    {
     "name": "stdout",
     "output_type": "stream",
     "text": [
      "Iter: 200\n",
      "RMSE: 4.76083\n",
      "\n",
      "Iter: 400\n",
      "RMSE: 4.70584\n",
      "\n",
      "Iter: 600\n",
      "RMSE: 4.67984\n",
      "\n",
      "Iter: 800\n",
      "RMSE: 4.66926\n",
      "\n",
      "Iter: 1000\n",
      "RMSE: 4.66515\n",
      "\n",
      "Imputation MAPE: 0.0703029\n",
      "Imputation RMSE: 4.28836\n",
      "\n",
      "Running time: 8654 seconds\n"
     ]
    }
   ],
   "source": [
    "import time\n",
    "start = time.time()\n",
    "dim1, dim2 = sparse_mat.shape\n",
    "rank = 50\n",
    "init = {\"W\": 0.1 * np.random.rand(dim1, rank), \n",
    "        \"X\": 0.1 * np.random.rand(dim2, rank)}\n",
    "maxiter1 = 1100\n",
    "maxiter2 = 100\n",
    "BPMF(dense_mat, sparse_mat, init, rank, maxiter1, maxiter2)\n",
    "end = time.time()\n",
    "print('Running time: %d seconds'%(end - start))"
   ]
  },
  {
   "cell_type": "code",
   "execution_count": 13,
   "metadata": {},
   "outputs": [],
   "source": [
    "import pandas as pd\n",
    "\n",
    "dense_mat = pd.read_csv('../datasets/Seattle-data-set/mat.csv', index_col = 0)\n",
    "NM_mat = pd.read_csv('../datasets/Seattle-data-set/NM_mat.csv', index_col = 0)\n",
    "dense_mat = dense_mat.values\n",
    "NM_mat = NM_mat.values\n",
    "\n",
    "missing_rate = 0.2\n",
    "\n",
    "# =============================================================================\n",
    "### Non-random missing (NM) scenario\n",
    "### Set the NM scenario by:\n",
    "binary_tensor = np.zeros((dense_mat.shape[0], 28, 288))\n",
    "for i1 in range(binary_tensor.shape[0]):\n",
    "    for i2 in range(binary_tensor.shape[1]):\n",
    "        binary_tensor[i1, i2, :] = np.round(NM_mat[i1, i2] + 0.5 - missing_rate)\n",
    "# =============================================================================\n",
    "\n",
    "sparse_mat = np.multiply(dense_mat, binary_tensor.reshape([dense_mat.shape[0], dense_mat.shape[1]]))"
   ]
  },
  {
   "cell_type": "code",
   "execution_count": 14,
   "metadata": {},
   "outputs": [
    {
     "name": "stdout",
     "output_type": "stream",
     "text": [
      "Iter: 200\n",
      "RMSE: 5.35812\n",
      "\n",
      "Iter: 400\n",
      "RMSE: 5.35851\n",
      "\n",
      "Iter: 600\n",
      "RMSE: 5.35796\n",
      "\n",
      "Iter: 800\n",
      "RMSE: 5.35949\n",
      "\n",
      "Iter: 1000\n",
      "RMSE: 5.36241\n",
      "\n",
      "Imputation MAPE: 0.0911995\n",
      "Imputation RMSE: 5.26532\n",
      "\n",
      "Running time: 1740 seconds\n"
     ]
    }
   ],
   "source": [
    "import time\n",
    "start = time.time()\n",
    "dim1, dim2 = sparse_mat.shape\n",
    "rank = 10\n",
    "init = {\"W\": 0.1 * np.random.rand(dim1, rank), \n",
    "        \"X\": 0.1 * np.random.rand(dim2, rank)}\n",
    "maxiter1 = 1100\n",
    "maxiter2 = 100\n",
    "BPMF(dense_mat, sparse_mat, init, rank, maxiter1, maxiter2)\n",
    "end = time.time()\n",
    "print('Running time: %d seconds'%(end - start))"
   ]
  },
  {
   "cell_type": "code",
   "execution_count": 15,
   "metadata": {},
   "outputs": [],
   "source": [
    "import pandas as pd\n",
    "\n",
    "dense_mat = pd.read_csv('../datasets/Seattle-data-set/mat.csv', index_col = 0)\n",
    "NM_mat = pd.read_csv('../datasets/Seattle-data-set/NM_mat.csv', index_col = 0)\n",
    "dense_mat = dense_mat.values\n",
    "NM_mat = NM_mat.values\n",
    "\n",
    "missing_rate = 0.4\n",
    "\n",
    "# =============================================================================\n",
    "### Non-random missing (NM) scenario\n",
    "### Set the NM scenario by:\n",
    "binary_tensor = np.zeros((dense_mat.shape[0], 28, 288))\n",
    "for i1 in range(binary_tensor.shape[0]):\n",
    "    for i2 in range(binary_tensor.shape[1]):\n",
    "        binary_tensor[i1, i2, :] = np.round(NM_mat[i1, i2] + 0.5 - missing_rate)\n",
    "# =============================================================================\n",
    "\n",
    "sparse_mat = np.multiply(dense_mat, binary_tensor.reshape([dense_mat.shape[0], dense_mat.shape[1]]))"
   ]
  },
  {
   "cell_type": "code",
   "execution_count": 16,
   "metadata": {},
   "outputs": [
    {
     "name": "stdout",
     "output_type": "stream",
     "text": [
      "Iter: 200\n",
      "RMSE: 5.42698\n",
      "\n",
      "Iter: 400\n",
      "RMSE: 5.42502\n",
      "\n",
      "Iter: 600\n",
      "RMSE: 5.43372\n",
      "\n",
      "Iter: 800\n",
      "RMSE: 5.42601\n",
      "\n",
      "Iter: 1000\n",
      "RMSE: 5.43167\n",
      "\n",
      "Imputation MAPE: 0.0918858\n",
      "Imputation RMSE: 5.30468\n",
      "\n",
      "Running time: 1733 seconds\n"
     ]
    }
   ],
   "source": [
    "import time\n",
    "start = time.time()\n",
    "dim1, dim2 = sparse_mat.shape\n",
    "rank = 10\n",
    "init = {\"W\": 0.1 * np.random.rand(dim1, rank), \n",
    "        \"X\": 0.1 * np.random.rand(dim2, rank)}\n",
    "maxiter1 = 1100\n",
    "maxiter2 = 100\n",
    "BPMF(dense_mat, sparse_mat, init, rank, maxiter1, maxiter2)\n",
    "end = time.time()\n",
    "print('Running time: %d seconds'%(end - start))"
   ]
  },
  {
   "cell_type": "markdown",
   "metadata": {},
   "source": [
    "**Experiment results** of missing data imputation using BPMF:\n",
    "\n",
    "|  scenario |`rank`|`maxiter1`|`maxiter2`|       mape |       rmse |\n",
    "|:----------|-----:|---------:|---------:|-----------:|-----------:|\n",
    "|**20%, RM**|   50 |     1100 |      100 | **0.0651** | **4.0433** |\n",
    "|**40%, RM**|   50 |     1100 |      100 | **0.0703** | **4.2884** |\n",
    "|**20%, NM**|   10 |     1100 |      100 | **0.0912** | **5.2653** |\n",
    "|**40%, NM**|   10 |     1100 |      100 | **0.0919** | **5.3047** |\n"
   ]
  }
 ],
 "metadata": {
  "kernelspec": {
   "display_name": "Python 3",
   "language": "python",
   "name": "python3"
  },
  "language_info": {
   "codemirror_mode": {
    "name": "ipython",
    "version": 3
   },
   "file_extension": ".py",
   "mimetype": "text/x-python",
   "name": "python",
   "nbconvert_exporter": "python",
   "pygments_lexer": "ipython3",
   "version": "3.7.3"
  },
  "nbTranslate": {
   "displayLangs": [
    "*"
   ],
   "hotkey": "alt-t",
   "langInMainMenu": true,
   "sourceLang": "en",
   "targetLang": "fr",
   "useGoogleTranslate": true
  }
 },
 "nbformat": 4,
 "nbformat_minor": 2
}
