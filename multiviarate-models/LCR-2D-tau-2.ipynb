{
 "cells": [
  {
   "cell_type": "markdown",
   "metadata": {},
   "source": [
    "# Laplacian Convolutional Representation (LCR)"
   ]
  },
  {
   "cell_type": "code",
   "execution_count": 1,
   "metadata": {},
   "outputs": [],
   "source": [
    "import numpy as np\n",
    "\n",
    "def compute_mape(var, var_hat):\n",
    "    return np.sum(np.abs(var - var_hat) / var) / var.shape[0]\n",
    "\n",
    "def compute_rmse(var, var_hat):\n",
    "    return np.sqrt(np.sum((var - var_hat) ** 2) / var.shape[0])\n",
    "\n",
    "def laplacian(T, tau):\n",
    "    ell = np.zeros(T)\n",
    "    ell[0] = 2 * tau\n",
    "    for k in range(tau):\n",
    "        ell[k + 1] = -1\n",
    "        ell[-k - 1] = -1\n",
    "    return ell\n",
    "\n",
    "def prox_2d(z, w, lmbda, denominator):\n",
    "    N, T = z.shape\n",
    "    temp = np.fft.fft2(lmbda * z - w) / denominator\n",
    "    temp1 = 1 - N * T / (lmbda * np.abs(temp))\n",
    "    temp1[temp1 <= 0] = 0\n",
    "    return np.fft.ifft2(temp * temp1).real\n",
    "\n",
    "def update_z(y_train, pos_train, x, w, lmbda, eta):\n",
    "    z = x + w / lmbda\n",
    "    z[pos_train] = (lmbda / (lmbda + eta) * z[pos_train] \n",
    "                    + eta / (lmbda + eta) * y_train)\n",
    "    return z\n",
    "\n",
    "def update_w(x, z, w, lmbda):\n",
    "    return w + lmbda * (x - z)\n",
    "\n",
    "def LCR_2d(y_true, y, lmbda, gamma, tau, maxiter = 50):\n",
    "    eta = 100 * lmbda\n",
    "    N, T = y.shape\n",
    "    pos_train = np.where(y != 0)\n",
    "    y_train = y[pos_train]\n",
    "    pos_test = np.where((y_true != 0) & (y == 0))\n",
    "    y_test = y_true[pos_test]\n",
    "    z = y.copy()\n",
    "    w = y.copy()\n",
    "    ell_s = np.zeros(N)\n",
    "    ell_s[0] = 1\n",
    "    ell_t = laplacian(T, tau)\n",
    "    denominator = lmbda + gamma * np.fft.fft2(np.outer(ell_s, ell_t)) ** 2\n",
    "    del y_true, y\n",
    "    show_iter = 20\n",
    "    for it in range(maxiter):\n",
    "        x = prox_2d(z, w, lmbda, denominator)\n",
    "        z = update_z(y_train, pos_train, x, w, lmbda, eta)\n",
    "        w = update_w(x, z, w, lmbda)\n",
    "        if (it + 1) % show_iter == 0:\n",
    "            print(it + 1)\n",
    "            print(compute_mape(y_test, x[pos_test]))\n",
    "            print(compute_rmse(y_test, x[pos_test]))\n",
    "            print()\n",
    "    return x"
   ]
  },
  {
   "cell_type": "code",
   "execution_count": 2,
   "metadata": {},
   "outputs": [
    {
     "name": "stdout",
     "output_type": "stream",
     "text": [
      "20\n",
      "0.019326063590590074\n",
      "1.8469075189503177\n",
      "\n",
      "40\n",
      "0.018291349703718655\n",
      "1.7642514833071652\n",
      "\n",
      "60\n",
      "0.017830019277746346\n",
      "1.7281949411865851\n",
      "\n",
      "80\n",
      "0.01756314882867062\n",
      "1.7079867630076375\n",
      "\n",
      "100\n",
      "0.017395301266413966\n",
      "1.695600518352902\n",
      "\n",
      "Running time: 1749 seconds.\n"
     ]
    }
   ],
   "source": [
    "import numpy as np\n",
    "np.random.seed(1000)\n",
    "\n",
    "dense_mat = np.load('../datasets/California-data-set/pems-w1.npz')['arr_0']\n",
    "for t in range(2, 5):\n",
    "    dense_mat = np.append(dense_mat, np.load('../datasets/California-data-set/pems-w{}.npz'.format(t))['arr_0'], \n",
    "                          axis = 1)\n",
    "dim1, dim2 = dense_mat.shape\n",
    "\n",
    "missing_rate = 0.3\n",
    "sparse_mat = dense_mat * np.round(np.random.rand(dim1, dim2) + 0.5 - missing_rate)\n",
    "\n",
    "import time\n",
    "start = time.time()\n",
    "N, T = sparse_mat.shape\n",
    "lmbda = 1e-5 * N * T\n",
    "gamma = 5 * lmbda\n",
    "tau = 2\n",
    "maxiter = 100\n",
    "x = LCR_2d(dense_mat, sparse_mat, lmbda, gamma, tau, maxiter)\n",
    "end = time.time()\n",
    "print('Running time: %d seconds.'%(end - start))"
   ]
  },
  {
   "cell_type": "code",
   "execution_count": 3,
   "metadata": {},
   "outputs": [
    {
     "name": "stdout",
     "output_type": "stream",
     "text": [
      "20\n",
      "0.020921699715046062\n",
      "1.9864663623668373\n",
      "\n",
      "40\n",
      "0.019730134355872713\n",
      "1.9048773274011586\n",
      "\n",
      "60\n",
      "0.01927821116423975\n",
      "1.8718854112852188\n",
      "\n",
      "80\n",
      "0.01902399119045938\n",
      "1.8536975914702196\n",
      "\n",
      "100\n",
      "0.01886408720149061\n",
      "1.8425064963220812\n",
      "\n",
      "Running time: 1726 seconds.\n"
     ]
    }
   ],
   "source": [
    "import numpy as np\n",
    "np.random.seed(1000)\n",
    "\n",
    "dense_mat = np.load('../datasets/California-data-set/pems-w1.npz')['arr_0']\n",
    "for t in range(2, 5):\n",
    "    dense_mat = np.append(dense_mat, np.load('../datasets/California-data-set/pems-w{}.npz'.format(t))['arr_0'], \n",
    "                          axis = 1)\n",
    "dim1, dim2 = dense_mat.shape\n",
    "\n",
    "missing_rate = 0.5\n",
    "sparse_mat = dense_mat * np.round(np.random.rand(dim1, dim2) + 0.5 - missing_rate)\n",
    "\n",
    "import time\n",
    "start = time.time()\n",
    "N, T = sparse_mat.shape\n",
    "lmbda = 1e-5 * N * T\n",
    "gamma = 5 * lmbda\n",
    "tau = 2\n",
    "maxiter = 100\n",
    "x = LCR_2d(dense_mat, sparse_mat, lmbda, gamma, tau, maxiter)\n",
    "end = time.time()\n",
    "print('Running time: %d seconds.'%(end - start))"
   ]
  },
  {
   "cell_type": "code",
   "execution_count": 4,
   "metadata": {},
   "outputs": [
    {
     "name": "stdout",
     "output_type": "stream",
     "text": [
      "20\n",
      "0.02807437273978388\n",
      "2.424408471717167\n",
      "\n",
      "40\n",
      "0.022833820006265604\n",
      "2.1934042499644177\n",
      "\n",
      "60\n",
      "0.02240215349961558\n",
      "2.171363927117896\n",
      "\n",
      "80\n",
      "0.022197398356892824\n",
      "2.1601976274047887\n",
      "\n",
      "100\n",
      "0.022074589919512364\n",
      "2.1533054374448373\n",
      "\n",
      "Running time: 1698 seconds.\n"
     ]
    }
   ],
   "source": [
    "import numpy as np\n",
    "np.random.seed(1000)\n",
    "\n",
    "dense_mat = np.load('../datasets/California-data-set/pems-w1.npz')['arr_0']\n",
    "for t in range(2, 5):\n",
    "    dense_mat = np.append(dense_mat, np.load('../datasets/California-data-set/pems-w{}.npz'.format(t))['arr_0'], \n",
    "                          axis = 1)\n",
    "dim1, dim2 = dense_mat.shape\n",
    "\n",
    "missing_rate = 0.7\n",
    "sparse_mat = dense_mat * np.round(np.random.rand(dim1, dim2) + 0.5 - missing_rate)\n",
    "\n",
    "import time\n",
    "start = time.time()\n",
    "N, T = sparse_mat.shape\n",
    "lmbda = 1e-5 * N * T\n",
    "gamma = 5 * lmbda\n",
    "tau = 2\n",
    "maxiter = 100\n",
    "x = LCR_2d(dense_mat, sparse_mat, lmbda, gamma, tau, maxiter)\n",
    "end = time.time()\n",
    "print('Running time: %d seconds.'%(end - start))"
   ]
  },
  {
   "cell_type": "code",
   "execution_count": 5,
   "metadata": {},
   "outputs": [
    {
     "name": "stdout",
     "output_type": "stream",
     "text": [
      "20\n",
      "0.07685129604529177\n",
      "5.507472158793369\n",
      "\n",
      "40\n",
      "0.03819965707146848\n",
      "3.2261222305931962\n",
      "\n",
      "60\n",
      "0.034539328825466634\n",
      "3.0823587146102795\n",
      "\n",
      "80\n",
      "0.034110402049302456\n",
      "3.0710646678583235\n",
      "\n",
      "100\n",
      "0.034026685858232784\n",
      "3.0705641511045876\n",
      "\n",
      "Running time: 1672 seconds.\n"
     ]
    }
   ],
   "source": [
    "import numpy as np\n",
    "np.random.seed(1000)\n",
    "\n",
    "dense_mat = np.load('../datasets/California-data-set/pems-w1.npz')['arr_0']\n",
    "for t in range(2, 5):\n",
    "    dense_mat = np.append(dense_mat, np.load('../datasets/California-data-set/pems-w{}.npz'.format(t))['arr_0'], \n",
    "                          axis = 1)\n",
    "dim1, dim2 = dense_mat.shape\n",
    "\n",
    "missing_rate = 0.9\n",
    "sparse_mat = dense_mat * np.round(np.random.rand(dim1, dim2) + 0.5 - missing_rate)\n",
    "\n",
    "import time\n",
    "start = time.time()\n",
    "N, T = sparse_mat.shape\n",
    "lmbda = 1e-5 * N * T\n",
    "gamma = 5 * lmbda\n",
    "tau = 2\n",
    "maxiter = 100\n",
    "x = LCR_2d(dense_mat, sparse_mat, lmbda, gamma, tau, maxiter)\n",
    "end = time.time()\n",
    "print('Running time: %d seconds.'%(end - start))"
   ]
  },
  {
   "cell_type": "markdown",
   "metadata": {},
   "source": [
    "### License\n",
    "\n",
    "<div class=\"alert alert-block alert-danger\">\n",
    "<b>This work is released under the MIT license.</b>\n",
    "</div>"
   ]
  }
 ],
 "metadata": {
  "kernelspec": {
   "display_name": "Python 3",
   "language": "python",
   "name": "python3"
  },
  "language_info": {
   "codemirror_mode": {
    "name": "ipython",
    "version": 3
   },
   "file_extension": ".py",
   "mimetype": "text/x-python",
   "name": "python",
   "nbconvert_exporter": "python",
   "pygments_lexer": "ipython3",
   "version": "3.10.4"
  },
  "vscode": {
   "interpreter": {
    "hash": "209ca48e4631e98f9d5b04762a73edc04606c65a07cf97ea5c621e758944379e"
   }
  }
 },
 "nbformat": 4,
 "nbformat_minor": 4
}
