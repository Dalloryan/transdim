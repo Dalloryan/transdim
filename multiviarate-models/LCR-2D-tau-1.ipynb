{
 "cells": [
  {
   "cell_type": "markdown",
   "metadata": {},
   "source": [
    "# Laplacian Convolutional Representation (LCR)"
   ]
  },
  {
   "cell_type": "code",
   "execution_count": 1,
   "metadata": {},
   "outputs": [],
   "source": [
    "import numpy as np\n",
    "\n",
    "def compute_mape(var, var_hat):\n",
    "    return np.sum(np.abs(var - var_hat) / var) / var.shape[0]\n",
    "\n",
    "def compute_rmse(var, var_hat):\n",
    "    return np.sqrt(np.sum((var - var_hat) ** 2) / var.shape[0])\n",
    "\n",
    "def laplacian(T, tau):\n",
    "    ell = np.zeros(T)\n",
    "    ell[0] = 2 * tau\n",
    "    for k in range(tau):\n",
    "        ell[k + 1] = -1\n",
    "        ell[-k - 1] = -1\n",
    "    return ell\n",
    "\n",
    "def prox_2d(z, w, lmbda, denominator):\n",
    "    N, T = z.shape\n",
    "    temp = np.fft.fft2(lmbda * z - w) / denominator\n",
    "    temp1 = 1 - N * T / (lmbda * np.abs(temp))\n",
    "    temp1[temp1 <= 0] = 0\n",
    "    return np.fft.ifft2(temp * temp1).real\n",
    "\n",
    "def update_z(y_train, pos_train, x, w, lmbda, eta):\n",
    "    z = x + w / lmbda\n",
    "    z[pos_train] = (lmbda / (lmbda + eta) * z[pos_train] \n",
    "                    + eta / (lmbda + eta) * y_train)\n",
    "    return z\n",
    "\n",
    "def update_w(x, z, w, lmbda):\n",
    "    return w + lmbda * (x - z)\n",
    "\n",
    "def LCR_2d(y_true, y, lmbda, gamma, tau, maxiter = 50):\n",
    "    eta = 100 * lmbda\n",
    "    N, T = y.shape\n",
    "    pos_train = np.where(y != 0)\n",
    "    y_train = y[pos_train]\n",
    "    pos_test = np.where((y_true != 0) & (y == 0))\n",
    "    y_test = y_true[pos_test]\n",
    "    z = y.copy()\n",
    "    w = y.copy()\n",
    "    ell_s = np.zeros(N)\n",
    "    ell_s[0] = 1\n",
    "    ell_t = laplacian(T, tau)\n",
    "    denominator = lmbda + gamma * np.fft.fft2(np.outer(ell_s, ell_t)) ** 2\n",
    "    del y_true, y\n",
    "    show_iter = 20\n",
    "    for it in range(maxiter):\n",
    "        x = prox_2d(z, w, lmbda, denominator)\n",
    "        z = update_z(y_train, pos_train, x, w, lmbda, eta)\n",
    "        w = update_w(x, z, w, lmbda)\n",
    "        if (it + 1) % show_iter == 0:\n",
    "            print(it + 1)\n",
    "            print(compute_mape(y_test, x[pos_test]))\n",
    "            print(compute_rmse(y_test, x[pos_test]))\n",
    "            print()\n",
    "    return x"
   ]
  },
  {
   "cell_type": "code",
   "execution_count": 2,
   "metadata": {},
   "outputs": [
    {
     "name": "stdout",
     "output_type": "stream",
     "text": [
      "20\n",
      "0.016843134726602475\n",
      "1.5953675937925527\n",
      "\n",
      "40\n",
      "0.016103390820203022\n",
      "1.5579640806657191\n",
      "\n",
      "60\n",
      "0.01587799815456933\n",
      "1.5471327544825788\n",
      "\n",
      "80\n",
      "0.01575579473524034\n",
      "1.5414270110601587\n",
      "\n",
      "100\n",
      "0.015678064028916847\n",
      "1.537766795152083\n",
      "\n",
      "Running time: 1747 seconds.\n"
     ]
    }
   ],
   "source": [
    "import numpy as np\n",
    "np.random.seed(1000)\n",
    "\n",
    "dense_mat = np.load('../datasets/California-data-set/pems-w1.npz')['arr_0']\n",
    "for t in range(2, 5):\n",
    "    dense_mat = np.append(dense_mat, np.load('../datasets/California-data-set/pems-w{}.npz'.format(t))['arr_0'], \n",
    "                          axis = 1)\n",
    "dim1, dim2 = dense_mat.shape\n",
    "\n",
    "missing_rate = 0.3\n",
    "sparse_mat = dense_mat * np.round(np.random.rand(dim1, dim2) + 0.5 - missing_rate)\n",
    "\n",
    "import time\n",
    "start = time.time()\n",
    "N, T = sparse_mat.shape\n",
    "lmbda = 1e-5 * N * T\n",
    "gamma = 5 * lmbda\n",
    "tau = 1\n",
    "maxiter = 100\n",
    "x = LCR_2d(dense_mat, sparse_mat, lmbda, gamma, tau, maxiter)\n",
    "end = time.time()\n",
    "print('Running time: %d seconds.'%(end - start))"
   ]
  },
  {
   "cell_type": "code",
   "execution_count": 3,
   "metadata": {},
   "outputs": [
    {
     "name": "stdout",
     "output_type": "stream",
     "text": [
      "20\n",
      "0.01947881038739679\n",
      "1.7943322571037228\n",
      "\n",
      "40\n",
      "0.018360177873393866\n",
      "1.7501990577366606\n",
      "\n",
      "60\n",
      "0.018179060311325112\n",
      "1.745680629400671\n",
      "\n",
      "80\n",
      "0.018101260247569837\n",
      "1.744165026625778\n",
      "\n",
      "100\n",
      "0.018054818060158857\n",
      "1.7432085734776304\n",
      "\n",
      "Running time: 1719 seconds.\n"
     ]
    }
   ],
   "source": [
    "import numpy as np\n",
    "np.random.seed(1000)\n",
    "\n",
    "dense_mat = np.load('../datasets/California-data-set/pems-w1.npz')['arr_0']\n",
    "for t in range(2, 5):\n",
    "    dense_mat = np.append(dense_mat, np.load('../datasets/California-data-set/pems-w{}.npz'.format(t))['arr_0'], \n",
    "                          axis = 1)\n",
    "dim1, dim2 = dense_mat.shape\n",
    "\n",
    "missing_rate = 0.5\n",
    "sparse_mat = dense_mat * np.round(np.random.rand(dim1, dim2) + 0.5 - missing_rate)\n",
    "\n",
    "import time\n",
    "start = time.time()\n",
    "N, T = sparse_mat.shape\n",
    "lmbda = 1e-5 * N * T\n",
    "gamma = 5 * lmbda\n",
    "tau = 1\n",
    "maxiter = 100\n",
    "x = LCR_2d(dense_mat, sparse_mat, lmbda, gamma, tau, maxiter)\n",
    "end = time.time()\n",
    "print('Running time: %d seconds.'%(end - start))"
   ]
  },
  {
   "cell_type": "code",
   "execution_count": 4,
   "metadata": {},
   "outputs": [
    {
     "name": "stdout",
     "output_type": "stream",
     "text": [
      "20\n",
      "0.027327014480528284\n",
      "2.309207186585469\n",
      "\n",
      "40\n",
      "0.02316442146220143\n",
      "2.121940638698902\n",
      "\n",
      "60\n",
      "0.022952203182093216\n",
      "2.1201777424887274\n",
      "\n",
      "80\n",
      "0.0229116617027545\n",
      "2.1219363360946257\n",
      "\n",
      "100\n",
      "0.022896774859259294\n",
      "2.123219654110104\n",
      "\n",
      "Running time: 1698 seconds.\n"
     ]
    }
   ],
   "source": [
    "import numpy as np\n",
    "np.random.seed(1000)\n",
    "\n",
    "dense_mat = np.load('../datasets/California-data-set/pems-w1.npz')['arr_0']\n",
    "for t in range(2, 5):\n",
    "    dense_mat = np.append(dense_mat, np.load('../datasets/California-data-set/pems-w{}.npz'.format(t))['arr_0'], \n",
    "                          axis = 1)\n",
    "dim1, dim2 = dense_mat.shape\n",
    "\n",
    "missing_rate = 0.7\n",
    "sparse_mat = dense_mat * np.round(np.random.rand(dim1, dim2) + 0.5 - missing_rate)\n",
    "\n",
    "import time\n",
    "start = time.time()\n",
    "N, T = sparse_mat.shape\n",
    "lmbda = 1e-5 * N * T\n",
    "gamma = 5 * lmbda\n",
    "tau = 1\n",
    "maxiter = 100\n",
    "x = LCR_2d(dense_mat, sparse_mat, lmbda, gamma, tau, maxiter)\n",
    "end = time.time()\n",
    "print('Running time: %d seconds.'%(end - start))"
   ]
  },
  {
   "cell_type": "code",
   "execution_count": 5,
   "metadata": {},
   "outputs": [
    {
     "name": "stdout",
     "output_type": "stream",
     "text": [
      "20\n",
      "0.052736772532630094\n",
      "3.909264762107882\n",
      "\n",
      "40\n",
      "0.04065298085132097\n",
      "3.2815492608085433\n",
      "\n",
      "60\n",
      "0.03847692679641931\n",
      "3.1886413484393614\n",
      "\n",
      "80\n",
      "0.038094864783371804\n",
      "3.171354772458791\n",
      "\n",
      "100\n",
      "0.038033600385423263\n",
      "3.169204924646335\n",
      "\n",
      "Running time: 1680 seconds.\n"
     ]
    }
   ],
   "source": [
    "import numpy as np\n",
    "np.random.seed(1000)\n",
    "\n",
    "dense_mat = np.load('../datasets/California-data-set/pems-w1.npz')['arr_0']\n",
    "for t in range(2, 5):\n",
    "    dense_mat = np.append(dense_mat, np.load('../datasets/California-data-set/pems-w{}.npz'.format(t))['arr_0'], \n",
    "                          axis = 1)\n",
    "dim1, dim2 = dense_mat.shape\n",
    "\n",
    "missing_rate = 0.9\n",
    "sparse_mat = dense_mat * np.round(np.random.rand(dim1, dim2) + 0.5 - missing_rate)\n",
    "\n",
    "import time\n",
    "start = time.time()\n",
    "N, T = sparse_mat.shape\n",
    "lmbda = 1e-5 * N * T\n",
    "gamma = 5 * lmbda\n",
    "tau = 1\n",
    "maxiter = 100\n",
    "x = LCR_2d(dense_mat, sparse_mat, lmbda, gamma, tau, maxiter)\n",
    "end = time.time()\n",
    "print('Running time: %d seconds.'%(end - start))"
   ]
  },
  {
   "cell_type": "markdown",
   "metadata": {},
   "source": [
    "### License\n",
    "\n",
    "<div class=\"alert alert-block alert-danger\">\n",
    "<b>This work is released under the MIT license.</b>\n",
    "</div>"
   ]
  }
 ],
 "metadata": {
  "kernelspec": {
   "display_name": "Python 3",
   "language": "python",
   "name": "python3"
  },
  "language_info": {
   "codemirror_mode": {
    "name": "ipython",
    "version": 3
   },
   "file_extension": ".py",
   "mimetype": "text/x-python",
   "name": "python",
   "nbconvert_exporter": "python",
   "pygments_lexer": "ipython3",
   "version": "3.10.4"
  },
  "vscode": {
   "interpreter": {
    "hash": "209ca48e4631e98f9d5b04762a73edc04606c65a07cf97ea5c621e758944379e"
   }
  }
 },
 "nbformat": 4,
 "nbformat_minor": 4
}
