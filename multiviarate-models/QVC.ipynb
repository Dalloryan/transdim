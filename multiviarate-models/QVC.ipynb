{
 "cells": [
  {
   "cell_type": "markdown",
   "metadata": {},
   "source": [
    "# Quadratic Variation Completion (QVC)"
   ]
  },
  {
   "cell_type": "markdown",
   "metadata": {},
   "source": [
    "## Model Description\n",
    "\n",
    "- **Optimization Problem**\n",
    "\n",
    "$$\\begin{aligned} \\min_{\\boldsymbol{X}}~&\\frac{\\gamma}{2}\\sum_{n=1}^{N}\\boldsymbol{x}_{n}^\\top\\tilde{\\boldsymbol{L}}\\boldsymbol{x}_{n} \\\\ \\text{s.t.}~&\\|\\mathcal{P}_{\\Omega}(\\boldsymbol{X}-\\boldsymbol{Y})\\|_{F}\\leq\\epsilon \\end{aligned}$$\n",
    "where\n",
    "$$\\tilde{\\boldsymbol{L}}=\\begin{bmatrix}\n",
    "2 & -1 & 0 & \\cdots & 0 & 0 & -1 \\\\\n",
    "-1 & 2 & -1 & \\cdots & 0 & 0 & 0 \\\\\n",
    "0 & -1 & 2 & \\cdots & 0 & 0 & 0 \\\\\n",
    "\\vdots & \\vdots & \\vdots & \\ddots & \\vdots & \\vdots & \\vdots \\\\\n",
    "0 & 0 & 0 & \\cdots & -1 & 2 & -1 \\\\\n",
    "-1 & 0 & 0 & \\cdots & 0 & -1 & 2 \\\\\n",
    "\\end{bmatrix}$$\n"
   ]
  },
  {
   "cell_type": "markdown",
   "metadata": {},
   "source": [
    "- **Augmented  Lagrangian function**\n",
    "\n",
    "$$\\begin{aligned} \\mathcal{L}(\\boldsymbol{X},\\boldsymbol{Z},\\boldsymbol{W})=&\\frac{\\gamma}{2}\\sum_{n=1}^{N}\\boldsymbol{x}_{n}^{\\top}\\tilde{\\boldsymbol{L}}\\boldsymbol{x}_{n}+\\frac{\\lambda}{2}\\|\\boldsymbol{X}-\\boldsymbol{Z}\\|_{F}^{2}+\\langle\\boldsymbol{W},\\boldsymbol{X}-\\boldsymbol{Z}\\rangle+\\frac{\\eta}{2}\\|\\mathcal{P}_{\\Omega}(\\boldsymbol{Z}-\\boldsymbol{Y})\\|_{F}^{2} \\\\ =&\\frac{\\gamma}{2}\\operatorname{tr}(\\boldsymbol{X}\\tilde{\\boldsymbol{L}}\\boldsymbol{X}^\\top)+\\frac{\\lambda}{2}\\|\\boldsymbol{X}-\\boldsymbol{Z}\\|_{F}^{2}+\\langle\\boldsymbol{W},\\boldsymbol{X}-\\boldsymbol{Z}\\rangle+\\frac{\\eta}{2}\\|\\mathcal{P}_{\\Omega}(\\boldsymbol{Z}-\\boldsymbol{Y})\\|_{F}^{2} \\end{aligned}$$"
   ]
  },
  {
   "cell_type": "markdown",
   "metadata": {},
   "source": [
    "- **ADMM Scheme**\n",
    "\n",
    "With respect to $\\boldsymbol{X}$:\n",
    "\n",
    "$$\\begin{aligned} \\boldsymbol{X}:=&\\arg\\,\\min_{\\boldsymbol{X}}~\\frac{\\gamma}{2}\\operatorname{tr}(\\boldsymbol{X}\\tilde{\\boldsymbol{L}}\\boldsymbol{X}^\\top)+\\frac{\\lambda}{2}\\|\\boldsymbol{X}-\\boldsymbol{Z}+\\boldsymbol{W}/\\lambda\\|_{F}^{2} \\\\ =&(\\lambda\\boldsymbol{Z}-\\boldsymbol{W})(\\gamma(\\tilde{\\boldsymbol{L}}+\\tilde{\\boldsymbol{L}}^\\top)/2+\\lambda\\boldsymbol{I}_{T})^{-1} \\end{aligned}$$"
   ]
  },
  {
   "cell_type": "markdown",
   "metadata": {},
   "source": [
    "With respect to $\\boldsymbol{Z}$:\n",
    "\n",
    "$$\\begin{aligned} \\boldsymbol{Z}:=&\\arg\\,\\min_{\\boldsymbol{Z}}~\\frac{\\lambda}{2}\\|\\boldsymbol{X}-\\boldsymbol{Z}-\\boldsymbol{W}/\\lambda\\|_{F}^{2}+\\frac{\\eta}{2}\\|\\mathcal{P}_{\\Omega}(\\boldsymbol{Z}-\\boldsymbol{Y})\\|_{F}^{2} \\\\ =&\\frac{1}{\\lambda+\\eta}\\mathcal{P}_{\\Omega}(\\lambda\\boldsymbol{X}+\\boldsymbol{W}+\\eta\\boldsymbol{Y})+\\mathcal{P}_{\\Omega}^{\\perp}(\\boldsymbol{X}+\\boldsymbol{W}/\\lambda) \\end{aligned}$$\n",
    "\n",
    "With respect to $\\boldsymbol{W}$:\n",
    "\n",
    "$$\\boldsymbol{W}:=\\boldsymbol{W}+\\lambda(\\boldsymbol{X}-\\boldsymbol{Z})$$"
   ]
  },
  {
   "cell_type": "code",
   "execution_count": 2,
   "metadata": {},
   "outputs": [],
   "source": [
    "import numpy as np\n",
    "\n",
    "def compute_mape(var, var_hat):\n",
    "    return np.sum(np.abs(var - var_hat) / var) / var.shape[0]\n",
    "\n",
    "def compute_rmse(var, var_hat):\n",
    "    return np.sqrt(np.sum((var - var_hat) ** 2) / var.shape[0])\n",
    "\n",
    "def laplacian(T, tau):\n",
    "    ell = np.zeros(T)\n",
    "    ell[0] = 2 * tau\n",
    "    for k in range(tau):\n",
    "        ell[k + 1] = -1\n",
    "        ell[-k - 1] = -1\n",
    "    return ell\n",
    "\n",
    "def conv(vec, kernel_size):\n",
    "    n = vec.shape[0]\n",
    "    mat = np.zeros((n, kernel_size))\n",
    "    mat[:, 0] = vec\n",
    "    for k in range(1, kernel_size):\n",
    "        mat[:, k] = np.append(vec[n - k :], vec[: n - k], axis = 0)\n",
    "    return mat\n",
    "\n",
    "def update_x(z, w, L_tilde, lmbda, gamma):\n",
    "    x = (lmbda * z - w) @ np.linalg.inv(gamma * (L_tilde + L_tilde.T) / 2 \n",
    "                                        + lmbda * np.eye(z.shape[1]))\n",
    "    return x\n",
    "\n",
    "def update_z(y_train, pos_train, x, w, lmbda, eta):\n",
    "    z = x + w / lmbda\n",
    "    z[pos_train] = (lmbda / (lmbda + eta) * z[pos_train] \n",
    "                    + eta / (lmbda + eta) * y_train)\n",
    "    return z\n",
    "\n",
    "def update_w(x, z, w, lmbda):\n",
    "    return w + lmbda * (x - z)\n",
    "\n",
    "def QVC(y_true, y, lmbda, gamma, maxiter = 50):\n",
    "    eta = 100 * lmbda\n",
    "    N, T = y.shape\n",
    "    pos_train = np.where(y != 0)\n",
    "    y_train = y[pos_train]\n",
    "    pos_test = np.where((y_true != 0) & (y == 0))\n",
    "    y_test = y_true[pos_test]\n",
    "    z = y.copy()\n",
    "    w = y.copy()\n",
    "    L_tilde = conv(laplacian(T, 1), T)\n",
    "    del y_true, y\n",
    "    show_iter = 20\n",
    "    for it in range(maxiter):\n",
    "        x = update_x(z, w, L_tilde, lmbda, gamma)\n",
    "        z = update_z(y_train, pos_train, x, w, lmbda, eta)\n",
    "        w = update_w(x, z, w, lmbda)\n",
    "        if (it + 1) % show_iter == 0:\n",
    "            print(it + 1)\n",
    "            print(compute_mape(y_test, x[pos_test]))\n",
    "            print(compute_rmse(y_test, x[pos_test]))\n",
    "            print()\n",
    "    return x"
   ]
  },
  {
   "cell_type": "code",
   "execution_count": null,
   "metadata": {},
   "outputs": [],
   "source": [
    "import numpy as np\n",
    "np.random.seed(1000)\n",
    "\n",
    "dense_mat = np.load('../datasets/California-data-set/pems-w1.npz')['arr_0']\n",
    "for t in range(2, 5):\n",
    "    dense_mat = np.append(dense_mat, np.load('../datasets/California-data-set/pems-w{}.npz'.format(t))['arr_0'], \n",
    "                          axis = 1)\n",
    "dim1, dim2 = dense_mat.shape\n",
    "\n",
    "missing_rate = 0.3 # 0.5, 0.7, or 0.9\n",
    "sparse_mat = dense_mat * np.round(np.random.rand(dim1, dim2) + 0.5 - missing_rate)\n",
    "\n",
    "import time\n",
    "start = time.time()\n",
    "N, T = sparse_mat.shape\n",
    "lmbda = 5e-3 * T\n",
    "gamma = 5 * lmbda\n",
    "maxiter = 100\n",
    "x = QVC(dense_mat, sparse_mat, lmbda, gamma, maxiter)\n",
    "end = time.time()\n",
    "print('Running time: %d seconds.'%(end - start))"
   ]
  },
  {
   "cell_type": "markdown",
   "metadata": {},
   "source": [
    "### License\n",
    "\n",
    "<div class=\"alert alert-block alert-danger\">\n",
    "<b>This work is released under the MIT license.</b>\n",
    "</div>"
   ]
  }
 ],
 "metadata": {
  "kernelspec": {
   "display_name": "Python 3",
   "language": "python",
   "name": "python3"
  },
  "language_info": {
   "codemirror_mode": {
    "name": "ipython",
    "version": 3
   },
   "file_extension": ".py",
   "mimetype": "text/x-python",
   "name": "python",
   "nbconvert_exporter": "python",
   "pygments_lexer": "ipython3",
   "version": "3.8.3"
  }
 },
 "nbformat": 4,
 "nbformat_minor": 4
}
