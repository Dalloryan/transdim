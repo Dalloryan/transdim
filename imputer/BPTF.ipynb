{
 "cells": [
  {
   "cell_type": "markdown",
   "metadata": {},
   "source": [
    "# Bayesian Probabilistic Tensor Factorization (BPTF)\n",
    "\n"
   ]
  },
  {
   "cell_type": "markdown",
   "metadata": {},
   "source": [
    "**Published**: January 4, 2020\n",
    "\n",
    "**Download**: This Jupyter notebook is at our GitHub repository. If you want to evaluate the code, please download the notebook from the [**transdim**](https://github.com/xinychen/transdim/blob/master/imputer/BPTF.ipynb) repository.\n",
    "\n",
    "This notebook shows how to implement the Bayesian Probabilistic Tensor Factorization (BPTF), a fully Bayesian tensor factorization model, on some real-world data sets. For an in-depth discussion of BPTF, please see [1].\n",
    "\n",
    "<div class=\"alert alert-block alert-info\">\n",
    "<font color=\"black\">\n",
    "<b>[1]</b> Liang Xiong, Xi Chen, Tzu-kuo Huang, Jeff Schneider, and Jaime Carbonell (2010). <b>Temporal Collaborative Filtering with Bayesian Probabilistic Tensor Factorization</b>. SIAM Data Mining 2010 (SDM 2010). <a href=\"https://www.cs.cmu.edu/~jgc/publication/PublicationPDF/Temporal_Collaborative_Filtering_With_Bayesian_Probabilidtic_Tensor_Factorization.pdf\" title=\"PDF\"><b>[PDF]</b></a> <a href=\"http://www.cs.cmu.edu/~lxiong/bptf/bptf.html\" title=\"Matlab code\"><b>[Matlab code]</b></a>\n",
    "</font>\n",
    "</div>"
   ]
  },
  {
   "cell_type": "code",
   "execution_count": 1,
   "metadata": {},
   "outputs": [],
   "source": [
    "import numpy as np\n",
    "from numpy.linalg import inv as inv\n",
    "from numpy.random import normal as normrnd\n",
    "from scipy.linalg import khatri_rao as kr_prod\n",
    "from scipy.stats import wishart\n",
    "from scipy.stats import invwishart\n",
    "from numpy.linalg import solve as solve\n",
    "from numpy.linalg import cholesky as cholesky_lower\n",
    "from scipy.linalg import cholesky as cholesky_upper\n",
    "from scipy.linalg import solve_triangular as solve_ut\n",
    "import matplotlib.pyplot as plt\n",
    "%matplotlib inline"
   ]
  },
  {
   "cell_type": "code",
   "execution_count": 2,
   "metadata": {},
   "outputs": [],
   "source": [
    "def mvnrnd_pre(mu, Lambda):\n",
    "    src = normrnd(size = (mu.shape[0],))\n",
    "    return solve_ut(cholesky_upper(Lambda, overwrite_a = True, check_finite = False), \n",
    "                    src, lower = False, check_finite = False, overwrite_b = True) + mu\n",
    "\n",
    "def cov_mat(mat, mat_bar):\n",
    "    mat = mat - mat_bar\n",
    "    return mat.T @ mat\n",
    "\n",
    "def ten2mat(tensor, mode):\n",
    "    return np.reshape(np.moveaxis(tensor, mode, 0), (tensor.shape[mode], -1), order = 'F')"
   ]
  },
  {
   "cell_type": "code",
   "execution_count": 3,
   "metadata": {},
   "outputs": [],
   "source": [
    "def sample_factor_u(tau_sparse_tensor, tau_ind, U, V, X, beta0 = 1):\n",
    "    \"\"\"Sampling M-by-R factor matrix U and its hyperparameters (mu_u, Lambda_u).\"\"\"\n",
    "    \n",
    "    dim1, rank = U.shape\n",
    "    U_bar = np.mean(U, axis = 0)\n",
    "    temp = dim1 / (dim1 + beta0)\n",
    "    var_mu_hyper = temp * U_bar\n",
    "    var_U_hyper = inv(np.eye(rank) + cov_mat(U, U_bar) + temp * beta0 * np.outer(U_bar, U_bar))\n",
    "    var_Lambda_hyper = wishart.rvs(df = dim1 + rank, scale = var_U_hyper)\n",
    "    var_mu_hyper = mvnrnd_pre(var_mu_hyper, (dim1 + beta0) * var_Lambda_hyper)\n",
    "\n",
    "    var1 = kr_prod(X, V).T\n",
    "    var2 = kr_prod(var1, var1)\n",
    "    var3 = (var2 @ ten2mat(tau_ind, 0).T).reshape([rank, rank, dim1]) + var_Lambda_hyper[:, :, None]\n",
    "    var4 = var1 @ ten2mat(tau_sparse_tensor, 0).T + (var_Lambda_hyper @ var_mu_hyper)[:, None]\n",
    "    for i in range(dim1):\n",
    "        U[i, :] = mvnrnd_pre(solve(var3[:, :, i], var4[:, i]), var3[:, :, i])\n",
    "        \n",
    "    return U"
   ]
  },
  {
   "cell_type": "code",
   "execution_count": 4,
   "metadata": {},
   "outputs": [],
   "source": [
    "def sample_factor_v(tau_sparse_tensor, tau_ind, U, V, X, beta0 = 1):\n",
    "    \"\"\"Sampling N-by-R factor matrix V and its hyperparameters (mu_v, Lambda_v).\"\"\"\n",
    "    \n",
    "    dim2, rank = V.shape\n",
    "    V_bar = np.mean(V, axis = 0)\n",
    "    temp = dim2 / (dim2 + beta0)\n",
    "    var_mu_hyper = temp * V_bar\n",
    "    var_V_hyper = inv(np.eye(rank) + cov_mat(V, V_bar) + temp * beta0 * np.outer(V_bar, V_bar))\n",
    "    var_Lambda_hyper = wishart.rvs(df = dim2 + rank, scale = var_V_hyper)\n",
    "    var_mu_hyper = mvnrnd_pre(var_mu_hyper, (dim2 + beta0) * var_Lambda_hyper)\n",
    "\n",
    "    var1 = kr_prod(X, U).T\n",
    "    var2 = kr_prod(var1, var1)\n",
    "    var3 = (var2 @ ten2mat(tau_ind, 1).T).reshape([rank, rank, dim2]) + var_Lambda_hyper[:, :, None]\n",
    "    var4 = var1 @ ten2mat(tau_sparse_tensor, 1).T + (var_Lambda_hyper @ var_mu_hyper)[:, None]\n",
    "    for j in range(dim2):\n",
    "        V[j, :] = mvnrnd_pre(solve(var3[:, :, j], var4[:, j]), var3[:, :, j])\n",
    "        \n",
    "    return V"
   ]
  },
  {
   "cell_type": "code",
   "execution_count": 5,
   "metadata": {},
   "outputs": [],
   "source": [
    "def sample_factor_x(tau_sparse_tensor, tau_ind, U, V, X, beta0 = 1):\n",
    "    \"\"\"Sampling T-by-R factor matrix X and its hyperparameters.\"\"\"\n",
    "    \n",
    "    dim3, rank = X.shape\n",
    "    var_mu_hyper = X[0, :] / (beta0 + 1)\n",
    "    dx = X[1 :, :] - X[: -1, :]\n",
    "    var_V_hyper = inv(np.eye(rank) + dx.T @ dx + beta0 * np.outer(X[0, :], X[0, :]) / (beta0 + 1))\n",
    "    var_Lambda_hyper = wishart.rvs(df = dim3 + rank, scale = var_V_hyper)\n",
    "    var_mu_hyper = mvnrnd_pre(var_mu_hyper, (beta0 + 1) * var_Lambda_hyper)\n",
    "    \n",
    "    var1 = kr_prod(V, U).T\n",
    "    var2 = kr_prod(var1, var1)\n",
    "    var3 = (var2 @ ten2mat(tau_ind, 2).T).reshape([rank, rank, dim3])\n",
    "    var4 = var1 @ ten2mat(tau_sparse_tensor, 2).T\n",
    "    for t in range(dim3):\n",
    "        if t == 0:\n",
    "            X[t, :] = mvnrnd_pre((X[t + 1, :] + var_mu_hyper) / 2, var3[:, :, t] + 2 * var_Lambda_hyper)\n",
    "        elif t == dim3 - 1:\n",
    "            temp1 = var4[:, t] + var_Lambda_hyper @ X[t - 1, :]\n",
    "            temp2 = var3[:, :, t] + var_Lambda_hyper\n",
    "            X[t, :] = mvnrnd_pre(solve(temp2, temp1), temp2)\n",
    "        else:\n",
    "            temp1 = var4[:, t] + var_Lambda_hyper @ (X[t - 1, :] + X[t + 1, :])\n",
    "            temp2 = var3[:, :, t] + 2 * var_Lambda_hyper\n",
    "            X[t, :] = mvnrnd_pre(solve(temp2, temp1), temp2)\n",
    "            \n",
    "    return X"
   ]
  },
  {
   "cell_type": "code",
   "execution_count": 6,
   "metadata": {},
   "outputs": [],
   "source": [
    "def sample_precision_tau(sparse_tensor, tensor_hat, ind):\n",
    "    var_alpha = 1e-6 + 0.5 * np.sum(ind)\n",
    "    var_beta = 1e-6 + 0.5 * np.sum(((sparse_tensor - tensor_hat) ** 2) * ind)\n",
    "    return np.random.gamma(var_alpha, 1 / var_beta)"
   ]
  },
  {
   "cell_type": "code",
   "execution_count": 7,
   "metadata": {},
   "outputs": [],
   "source": [
    "def compute_mape(var, var_hat):\n",
    "    return np.sum(np.abs(var - var_hat) / var) / var.shape[0]\n",
    "\n",
    "def compute_rmse(var, var_hat):\n",
    "    return  np.sqrt(np.sum((var - var_hat) ** 2) / var.shape[0])"
   ]
  },
  {
   "cell_type": "code",
   "execution_count": 8,
   "metadata": {},
   "outputs": [],
   "source": [
    "def BPTF(dense_tensor, sparse_tensor, init, burn_iter, gibbs_iter):\n",
    "    \"\"\"Bayesian Probabilistic Tensor Factorization, BPTF.\"\"\"\n",
    "    \n",
    "    dim = np.array(sparse_tensor.shape)\n",
    "    U = init[\"U\"]\n",
    "    V = init[\"V\"]\n",
    "    X = init[\"X\"]\n",
    "    if np.isnan(sparse_tensor).any() == False:\n",
    "        ind = sparse_tensor != 0\n",
    "        pos_obs = np.where(ind)\n",
    "        pos_test = np.where((dense_tensor != 0) & (sparse_tensor == 0))\n",
    "    elif np.isnan(sparse_tensor).any() == True:\n",
    "        pos_test = np.where((dense_tensor != 0) & (np.isnan(sparse_tensor)))\n",
    "        ind = ~np.isnan(sparse_tensor)\n",
    "        pos_obs = np.where(ind)\n",
    "        sparse_tensor[np.isnan(sparse_tensor)] = 0\n",
    "    dense_test = dense_tensor[pos_test]\n",
    "    del dense_tensor\n",
    "    show_iter = 200\n",
    "    tau = 1\n",
    "    temp_hat = np.zeros(len(pos_test[0]))\n",
    "    tensor_hat_plus = np.zeros(dim)\n",
    "    for it in range(burn_iter + gibbs_iter):\n",
    "        tau_ind = tau * ind\n",
    "        tau_sparse_tensor = tau * sparse_tensor\n",
    "        U = sample_factor_u(tau_sparse_tensor, tau_ind, U, V, X)\n",
    "        V = sample_factor_v(tau_sparse_tensor, tau_ind, U, V, X)\n",
    "        X = sample_factor_x(tau_sparse_tensor, tau_ind, U, V, X)\n",
    "        tensor_hat = np.einsum('is, js, ts -> ijt', U, V, X)\n",
    "        temp_hat += tensor_hat[pos_test]\n",
    "        tau = sample_precision_tau(sparse_tensor, tensor_hat, ind)\n",
    "        if it + 1 > burn_iter:\n",
    "            tensor_hat_plus += tensor_hat\n",
    "        if (it + 1) % show_iter == 0 and it < burn_iter:\n",
    "            temp_hat = temp_hat / show_iter\n",
    "            print('Iter: {}'.format(it + 1))\n",
    "            print('MAPE: {:.6}'.format(compute_mape(dense_test, temp_hat)))\n",
    "            print('RMSE: {:.6}'.format(compute_rmse(dense_test, temp_hat)))\n",
    "            temp_hat = np.zeros(len(pos_test[0]))\n",
    "            print()\n",
    "    tensor_hat = tensor_hat_plus / gibbs_iter\n",
    "    print('Imputation MAPE: {:.6}'.format(compute_mape(dense_test, tensor_hat[pos_test])))\n",
    "    print('Imputation RMSE: {:.6}'.format(compute_rmse(dense_test, tensor_hat[pos_test])))\n",
    "    print()\n",
    "    \n",
    "    return tensor_hat"
   ]
  },
  {
   "cell_type": "markdown",
   "metadata": {},
   "source": [
    "## Evaluation on New York Taxi Data\n",
    "\n",
    "**Scenario setting**:\n",
    "\n",
    "- Tensor size: $30\\times 30\\times 1464$ (origin, destination, time)\n",
    "- Random missing (RM)\n",
    "- 40% missing rate\n"
   ]
  },
  {
   "cell_type": "markdown",
   "metadata": {},
   "source": [
    "**Model setting**:\n",
    "\n",
    "- Low rank: 30\n",
    "- The number of burn-in iterations: 1000\n",
    "- The number of Gibbs iterations: 200"
   ]
  },
  {
   "cell_type": "code",
   "execution_count": 10,
   "metadata": {},
   "outputs": [
    {
     "name": "stdout",
     "output_type": "stream",
     "text": [
      "Iter: 200\n",
      "MAPE: 0.488178\n",
      "RMSE: 4.77707\n",
      "\n",
      "Iter: 400\n",
      "MAPE: 0.489905\n",
      "RMSE: 4.8486\n",
      "\n",
      "Iter: 600\n",
      "MAPE: 0.4887\n",
      "RMSE: 4.83621\n",
      "\n",
      "Iter: 800\n",
      "MAPE: 0.488249\n",
      "RMSE: 4.83004\n",
      "\n",
      "Iter: 1000\n",
      "MAPE: 0.488196\n",
      "RMSE: 4.8268\n",
      "\n",
      "Imputation MAPE: 0.488657\n",
      "Imputation RMSE: 4.82266\n",
      "\n",
      "Running time: 930 seconds\n"
     ]
    }
   ],
   "source": [
    "import time\n",
    "import scipy.io\n",
    "import numpy as np\n",
    "np.random.seed(1000)\n",
    "\n",
    "dense_tensor = scipy.io.loadmat('../datasets/NYC-data-set/tensor.mat')['tensor'].astype(np.float32)\n",
    "dim = dense_tensor.shape\n",
    "missing_rate = 0.4 # Random missing (RM)\n",
    "sparse_tensor = dense_tensor * np.round(np.random.rand(dim[0], dim[1], dim[2]) + 0.5 - missing_rate)\n",
    "\n",
    "start = time.time()\n",
    "dim1, dim2, dim3 = sparse_tensor.shape\n",
    "rank = 30\n",
    "init = {\"U\": 0.1 * np.random.randn(dim1, rank), \"V\": 0.1 * np.random.randn(dim2, rank),\n",
    "        \"X\": 0.1 * np.random.randn(dim3, rank)}\n",
    "burn_iter = 1000\n",
    "gibbs_iter = 200\n",
    "tensor_hat = BPTF(dense_tensor, sparse_tensor, init, burn_iter, gibbs_iter)\n",
    "end = time.time()\n",
    "print('Running time: %d seconds'%(end - start))"
   ]
  },
  {
   "cell_type": "markdown",
   "metadata": {},
   "source": [
    "**Scenario setting**:\n",
    "\n",
    "- Tensor size: $30\\times 30\\times 1464$ (origin, destination, time)\n",
    "- Random missing (RM)\n",
    "- 60% missing rate\n"
   ]
  },
  {
   "cell_type": "markdown",
   "metadata": {},
   "source": [
    "**Model setting**:\n",
    "\n",
    "- Low rank: 30\n",
    "- The number of burn-in iterations: 1000\n",
    "- The number of Gibbs iterations: 200"
   ]
  },
  {
   "cell_type": "code",
   "execution_count": 12,
   "metadata": {},
   "outputs": [
    {
     "name": "stdout",
     "output_type": "stream",
     "text": [
      "Iter: 200\n",
      "MAPE: 0.486112\n",
      "RMSE: 4.91823\n",
      "\n",
      "Iter: 400\n",
      "MAPE: 0.49029\n",
      "RMSE: 5.04225\n",
      "\n",
      "Iter: 600\n",
      "MAPE: 0.49136\n",
      "RMSE: 5.03241\n",
      "\n",
      "Iter: 800\n",
      "MAPE: 0.491822\n",
      "RMSE: 5.02832\n",
      "\n",
      "Iter: 1000\n",
      "MAPE: 0.492322\n",
      "RMSE: 5.02735\n",
      "\n",
      "Imputation MAPE: 0.492777\n",
      "Imputation RMSE: 5.02246\n",
      "\n",
      "Running time: 911 seconds\n"
     ]
    }
   ],
   "source": [
    "import time\n",
    "import scipy.io\n",
    "import numpy as np\n",
    "np.random.seed(1000)\n",
    "\n",
    "dense_tensor = scipy.io.loadmat('../datasets/NYC-data-set/tensor.mat')['tensor'].astype(np.float32)\n",
    "dim = dense_tensor.shape\n",
    "missing_rate = 0.6 # Random missing (RM)\n",
    "sparse_tensor = dense_tensor * np.round(np.random.rand(dim[0], dim[1], dim[2]) + 0.5 - missing_rate)\n",
    "\n",
    "start = time.time()\n",
    "dim1, dim2, dim3 = sparse_tensor.shape\n",
    "rank = 30\n",
    "init = {\"U\": 0.1 * np.random.randn(dim1, rank), \"V\": 0.1 * np.random.randn(dim2, rank),\n",
    "        \"X\": 0.1 * np.random.randn(dim3, rank)}\n",
    "burn_iter = 1000\n",
    "gibbs_iter = 200\n",
    "tensor_hat = BPTF(dense_tensor, sparse_tensor, init, burn_iter, gibbs_iter)\n",
    "end = time.time()\n",
    "print('Running time: %d seconds'%(end - start))"
   ]
  },
  {
   "cell_type": "markdown",
   "metadata": {},
   "source": [
    "**Scenario setting**:\n",
    "\n",
    "- Tensor size: $30\\times 30\\times 1464$ (origin, destination, time)\n",
    "- Non-random missing (NM)\n",
    "- 40% missing rate\n"
   ]
  },
  {
   "cell_type": "markdown",
   "metadata": {},
   "source": [
    "**Model setting**:\n",
    "\n",
    "- Low rank: 30\n",
    "- The number of burn-in iterations: 1000\n",
    "- The number of Gibbs iterations: 200"
   ]
  },
  {
   "cell_type": "code",
   "execution_count": 14,
   "metadata": {},
   "outputs": [
    {
     "name": "stdout",
     "output_type": "stream",
     "text": [
      "Iter: 200\n",
      "MAPE: 0.483286\n",
      "RMSE: 5.03192\n",
      "\n",
      "Iter: 400\n",
      "MAPE: 0.486799\n",
      "RMSE: 5.36387\n",
      "\n",
      "Iter: 600\n",
      "MAPE: 0.484757\n",
      "RMSE: 5.38105\n",
      "\n",
      "Iter: 800\n",
      "MAPE: 0.485221\n",
      "RMSE: 5.36304\n",
      "\n",
      "Iter: 1000\n",
      "MAPE: 0.485226\n",
      "RMSE: 5.35716\n",
      "\n",
      "Imputation MAPE: 0.485402\n",
      "Imputation RMSE: 5.35146\n",
      "\n",
      "Running time: 918 seconds\n"
     ]
    }
   ],
   "source": [
    "import time\n",
    "import scipy.io\n",
    "import numpy as np\n",
    "np.random.seed(1000)\n",
    "\n",
    "dense_tensor = scipy.io.loadmat('../datasets/NYC-data-set/tensor.mat')['tensor']\n",
    "dim = dense_tensor.shape\n",
    "nm_tensor = np.random.rand(dim[0], dim[1], dim[2])\n",
    "missing_rate = 0.4 # Non-random missing (NM)\n",
    "binary_tensor = np.zeros(dense_tensor.shape)\n",
    "for i1 in range(dim[0]):\n",
    "    for i2 in range(dim[1]):\n",
    "        for i3 in range(61):\n",
    "            binary_tensor[i1, i2, i3 * 24 : (i3 + 1) * 24] = np.round(nm_tensor[i1, i2, i3] + 0.5 - missing_rate)\n",
    "sparse_tensor = dense_tensor * binary_tensor\n",
    "\n",
    "start = time.time()\n",
    "dim1, dim2, dim3 = sparse_tensor.shape\n",
    "rank = 30\n",
    "init = {\"U\": 0.1 * np.random.randn(dim1, rank), \"V\": 0.1 * np.random.randn(dim2, rank),\n",
    "        \"X\": 0.1 * np.random.randn(dim3, rank)}\n",
    "burn_iter = 1000\n",
    "gibbs_iter = 200\n",
    "tensor_hat = BPTF(dense_tensor, sparse_tensor, init, burn_iter, gibbs_iter)\n",
    "end = time.time()\n",
    "print('Running time: %d seconds'%(end - start))"
   ]
  },
  {
   "cell_type": "markdown",
   "metadata": {},
   "source": [
    "## Evaluation on Pacific Surface Temperature Data\n",
    "\n",
    "**Scenario setting**:\n",
    "\n",
    "- Tensor size: $30\\times 84\\times 396$ (location x, location y, month)\n",
    "- Random missing (RM)\n",
    "- 40% missing rate\n"
   ]
  },
  {
   "cell_type": "code",
   "execution_count": 15,
   "metadata": {},
   "outputs": [],
   "source": [
    "import numpy as np\n",
    "np.random.seed(1000)\n",
    "\n",
    "dense_tensor = np.load('../datasets/Temperature-data-set/tensor.npy').astype(np.float32)\n",
    "pos = np.where(dense_tensor[:, 0, :] > 50)\n",
    "dense_tensor[pos[0], :, pos[1]] = 0\n",
    "random_tensor = np.random.rand(dense_tensor.shape[0], dense_tensor.shape[1], dense_tensor.shape[2])\n",
    "missing_rate = 0.4\n",
    "\n",
    "## Random missing (RM)\n",
    "binary_tensor = np.round(random_tensor + 0.5 - missing_rate)\n",
    "sparse_tensor = dense_tensor.copy()\n",
    "sparse_tensor[binary_tensor == 0] = np.nan\n",
    "sparse_tensor[sparse_tensor == 0] = np.nan"
   ]
  },
  {
   "cell_type": "markdown",
   "metadata": {},
   "source": [
    "**Model setting**:\n",
    "\n",
    "- Low rank: 30\n",
    "- The number of burn-in iterations: 1000\n",
    "- The number of Gibbs iterations: 200"
   ]
  },
  {
   "cell_type": "code",
   "execution_count": 16,
   "metadata": {},
   "outputs": [
    {
     "name": "stdout",
     "output_type": "stream",
     "text": [
      "Iter: 200\n",
      "MAPE: 0.0164988\n",
      "RMSE: 0.690786\n",
      "\n",
      "Iter: 400\n",
      "MAPE: 0.0163371\n",
      "RMSE: 0.669877\n",
      "\n",
      "Iter: 600\n",
      "MAPE: 0.0163816\n",
      "RMSE: 0.673931\n",
      "\n",
      "Iter: 800\n",
      "MAPE: 0.016492\n",
      "RMSE: 0.699589\n",
      "\n",
      "Iter: 1000\n",
      "MAPE: 0.0164883\n",
      "RMSE: 0.691353\n",
      "\n",
      "Imputation MAPE: 0.0165326\n",
      "Imputation RMSE: 0.687077\n",
      "\n",
      "Running time: 477 seconds\n"
     ]
    }
   ],
   "source": [
    "import time\n",
    "start = time.time()\n",
    "dim1, dim2, dim3 = sparse_tensor.shape\n",
    "rank = 30\n",
    "init = {\"U\": 0.1 * np.random.randn(dim1, rank), \"V\": 0.1 * np.random.randn(dim2, rank),\n",
    "        \"X\": 0.1 * np.random.randn(dim3, rank)}\n",
    "burn_iter = 1000\n",
    "gibbs_iter = 200\n",
    "tensor_hat = BPTF(dense_tensor, sparse_tensor, init, burn_iter, gibbs_iter)\n",
    "end = time.time()\n",
    "print('Running time: %d seconds'%(end - start))"
   ]
  },
  {
   "cell_type": "markdown",
   "metadata": {},
   "source": [
    "**Scenario setting**:\n",
    "\n",
    "- Tensor size: $30\\times 84\\times 396$ (location x, location y, month)\n",
    "- Random missing (RM)\n",
    "- 60% missing rate\n"
   ]
  },
  {
   "cell_type": "code",
   "execution_count": 17,
   "metadata": {},
   "outputs": [],
   "source": [
    "import numpy as np\n",
    "np.random.seed(1000)\n",
    "\n",
    "dense_tensor = np.load('../datasets/Temperature-data-set/tensor.npy').astype(np.float32)\n",
    "pos = np.where(dense_tensor[:, 0, :] > 50)\n",
    "dense_tensor[pos[0], :, pos[1]] = 0\n",
    "random_tensor = np.random.rand(dense_tensor.shape[0], dense_tensor.shape[1], dense_tensor.shape[2])\n",
    "missing_rate = 0.6\n",
    "\n",
    "## Random missing (RM)\n",
    "binary_tensor = np.round(random_tensor + 0.5 - missing_rate)\n",
    "sparse_tensor = dense_tensor.copy()\n",
    "sparse_tensor[binary_tensor == 0] = np.nan\n",
    "sparse_tensor[sparse_tensor == 0] = np.nan"
   ]
  },
  {
   "cell_type": "markdown",
   "metadata": {},
   "source": [
    "**Model setting**:\n",
    "\n",
    "- Low rank: 30\n",
    "- The number of burn-in iterations: 1000\n",
    "- The number of Gibbs iterations: 200"
   ]
  },
  {
   "cell_type": "code",
   "execution_count": 18,
   "metadata": {},
   "outputs": [
    {
     "name": "stdout",
     "output_type": "stream",
     "text": [
      "Iter: 200\n",
      "MAPE: 0.0170249\n",
      "RMSE: 0.701465\n",
      "\n",
      "Iter: 400\n",
      "MAPE: 0.0167618\n",
      "RMSE: 0.683806\n",
      "\n",
      "Iter: 600\n",
      "MAPE: 0.0166442\n",
      "RMSE: 0.690136\n",
      "\n",
      "Iter: 800\n",
      "MAPE: 0.0167566\n",
      "RMSE: 0.704163\n",
      "\n",
      "Iter: 1000\n",
      "MAPE: 0.0167664\n",
      "RMSE: 0.69708\n",
      "\n",
      "Imputation MAPE: 0.016802\n",
      "Imputation RMSE: 0.689297\n",
      "\n",
      "Running time: 478 seconds\n"
     ]
    }
   ],
   "source": [
    "import time\n",
    "start = time.time()\n",
    "dim1, dim2, dim3 = sparse_tensor.shape\n",
    "rank = 30\n",
    "init = {\"U\": 0.1 * np.random.randn(dim1, rank), \"V\": 0.1 * np.random.randn(dim2, rank),\n",
    "        \"X\": 0.1 * np.random.randn(dim3, rank)}\n",
    "burn_iter = 1000\n",
    "gibbs_iter = 200\n",
    "tensor_hat = BPTF(dense_tensor, sparse_tensor, init, burn_iter, gibbs_iter)\n",
    "end = time.time()\n",
    "print('Running time: %d seconds'%(end - start))"
   ]
  },
  {
   "cell_type": "markdown",
   "metadata": {},
   "source": [
    "**Scenario setting**:\n",
    "\n",
    "- Tensor size: $30\\times 84\\times 396$ (location x, location y, month)\n",
    "- Non-random missing (NM)\n",
    "- 40% missing rate\n"
   ]
  },
  {
   "cell_type": "code",
   "execution_count": 19,
   "metadata": {},
   "outputs": [],
   "source": [
    "import numpy as np\n",
    "np.random.seed(1000)\n",
    "\n",
    "dense_tensor = np.load('../datasets/Temperature-data-set/tensor.npy').astype(np.float32)\n",
    "pos = np.where(dense_tensor[:, 0, :] > 50)\n",
    "dense_tensor[pos[0], :, pos[1]] = 0\n",
    "random_tensor = np.random.rand(dense_tensor.shape[0], dense_tensor.shape[1], int(dense_tensor.shape[2] / 3))\n",
    "missing_rate = 0.4\n",
    "\n",
    "## Non-random missing (NM)\n",
    "binary_tensor = np.zeros(dense_tensor.shape)\n",
    "for i1 in range(dense_tensor.shape[0]):\n",
    "    for i2 in range(dense_tensor.shape[1]):\n",
    "        for i3 in range(int(dense_tensor.shape[2] / 3)):\n",
    "            binary_tensor[i1, i2, i3 * 3 : (i3 + 1) * 3] = np.round(random_tensor[i1, i2, i3] + 0.5 - missing_rate)\n",
    "sparse_tensor = dense_tensor.copy()\n",
    "sparse_tensor[binary_tensor == 0] = np.nan\n",
    "sparse_tensor[sparse_tensor == 0] = np.nan"
   ]
  },
  {
   "cell_type": "markdown",
   "metadata": {},
   "source": [
    "**Model setting**:\n",
    "\n",
    "- Low rank: 30\n",
    "- The number of burn-in iterations: 1000\n",
    "- The number of Gibbs iterations: 200"
   ]
  },
  {
   "cell_type": "code",
   "execution_count": 20,
   "metadata": {},
   "outputs": [
    {
     "name": "stdout",
     "output_type": "stream",
     "text": [
      "Iter: 200\n",
      "MAPE: 0.0165672\n",
      "RMSE: 0.68826\n",
      "\n",
      "Iter: 400\n",
      "MAPE: 0.0164919\n",
      "RMSE: 0.685095\n",
      "\n",
      "Iter: 600\n",
      "MAPE: 0.0164591\n",
      "RMSE: 0.682162\n",
      "\n",
      "Iter: 800\n",
      "MAPE: 0.016412\n",
      "RMSE: 0.663817\n",
      "\n",
      "Iter: 1000\n",
      "MAPE: 0.0164254\n",
      "RMSE: 0.6714\n",
      "\n",
      "Imputation MAPE: 0.0164897\n",
      "Imputation RMSE: 0.699385\n",
      "\n",
      "Running time: 472 seconds\n"
     ]
    }
   ],
   "source": [
    "import time\n",
    "start = time.time()\n",
    "dim1, dim2, dim3 = sparse_tensor.shape\n",
    "rank = 30\n",
    "init = {\"U\": 0.1 * np.random.randn(dim1, rank), \"V\": 0.1 * np.random.randn(dim2, rank),\n",
    "        \"X\": 0.1 * np.random.randn(dim3, rank)}\n",
    "burn_iter = 1000\n",
    "gibbs_iter = 200\n",
    "tensor_hat = BPTF(dense_tensor, sparse_tensor, init, burn_iter, gibbs_iter)\n",
    "end = time.time()\n",
    "print('Running time: %d seconds'%(end - start))"
   ]
  },
  {
   "cell_type": "markdown",
   "metadata": {},
   "source": [
    "### License\n",
    "\n",
    "<div class=\"alert alert-block alert-danger\">\n",
    "<b>This work is released under the MIT license.</b>\n",
    "</div>"
   ]
  }
 ],
 "metadata": {
  "kernelspec": {
   "display_name": "Python 3",
   "language": "python",
   "name": "python3"
  },
  "language_info": {
   "codemirror_mode": {
    "name": "ipython",
    "version": 3
   },
   "file_extension": ".py",
   "mimetype": "text/x-python",
   "name": "python",
   "nbconvert_exporter": "python",
   "pygments_lexer": "ipython3",
   "version": "3.8.3"
  }
 },
 "nbformat": 4,
 "nbformat_minor": 4
}
