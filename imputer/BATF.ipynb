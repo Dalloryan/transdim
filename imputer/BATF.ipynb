{
 "cells": [
  {
   "cell_type": "markdown",
   "metadata": {},
   "source": [
    "# Bayesian Augmented Tensor Factorization\n",
    "\n",
    "**Published**: November 12, 2020\n",
    "\n",
    "**Author**: Yixian Chen [[**GitHub homepage**](https://github.com/yxnchen)], Xinyu Chen [[**GitHub homepage**](https://github.com/xinychen)]\n",
    "\n",
    "**Download**: This Jupyter notebook is at our GitHub repository. If you want to evaluate the code, please download the notebook from the [**transdim**](https://github.com/xinychen/transdim/blob/master/imputer/BATF.ipynb) repository.\n",
    "\n",
    "This notebook shows how to implement the Bayesian Augmented Tensor Factorization (BATF) model on some real-world data sets. In the following, we will discuss:\n",
    "\n",
    "- What the BATF is.\n",
    "\n",
    "- How to implement BATF mainly using Python `numpy` with high efficiency.\n",
    "\n",
    "- How to make imputation on some real-world spatiotemporal datasets.\n",
    "\n",
    "To overcome the problem of missing values within multivariate time series data, this model takes into account low-rank tensor structure by folding data along day dimension. For an in-depth discussion of BATF, please see [1].\n",
    "\n",
    "<div class=\"alert alert-block alert-info\">\n",
    "<font color=\"black\">\n",
    "<b>[1]</b> Xinyu Chen, Zhaocheng He, Yixian Chen, Yuhuan Lu, Jiawei Wang (2019). <b>Missing traffic data imputation and pattern discovery with a Bayesian augmented tensor factorization model</b>. Transportation Research Part C: Emerging Technologies, 104: 66-77. <a href=\"https://doi.org/10.1016/j.trc.2019.03.003\" title=\"PDF\"><b>[PDF]</b></a> \n",
    "</font>\n",
    "</div>"
   ]
  },
  {
   "cell_type": "markdown",
   "metadata": {},
   "source": [
    "We start by importing the necessary dependencies. We will make use of `numpy` and `scipy`."
   ]
  },
  {
   "cell_type": "code",
   "execution_count": 1,
   "metadata": {
    "ExecuteTime": {
     "end_time": "2020-11-07T08:39:32.103443Z",
     "start_time": "2020-11-07T08:39:32.069449Z"
    }
   },
   "outputs": [],
   "source": [
    "import numpy as np\n",
    "from numpy.random import multivariate_normal as mvnrnd\n",
    "from scipy.stats import wishart\n",
    "from numpy.random import normal as normrnd\n",
    "from scipy.linalg import khatri_rao as kr_prod\n",
    "from numpy.linalg import inv as inv\n",
    "from numpy.linalg import solve as solve\n",
    "from numpy.linalg import cholesky as cholesky_lower\n",
    "from scipy.linalg import cholesky as cholesky_upper\n",
    "from scipy.linalg import solve_triangular as solve_ut"
   ]
  },
  {
   "cell_type": "code",
   "execution_count": 2,
   "metadata": {},
   "outputs": [],
   "source": [
    "def mvnrnd_pre(mu, Lambda):\n",
    "    src = normrnd(size = (mu.shape[0],))\n",
    "    return solve_ut(cholesky_upper(Lambda, overwrite_a = True, check_finite = False), \n",
    "                    src, lower = False, check_finite = False, overwrite_b = True) + mu"
   ]
  },
  {
   "cell_type": "markdown",
   "metadata": {},
   "source": [
    "### CP decomposition\n",
    "\n",
    "#### CP Combination (`cp_combine`)\n",
    "\n",
    "- **Definition**:\n",
    "\n",
    "The CP decomposition factorizes a tensor into a sum of outer products of vectors. For example, for a third-order tensor $\\mathcal{Y}\\in\\mathbb{R}^{m\\times n\\times f}$, the CP decomposition can be written as\n",
    "\n",
    "$$\\hat{\\mathcal{Y}}=\\sum_{s=1}^{r}\\boldsymbol{u}_{s}\\circ\\boldsymbol{v}_{s}\\circ\\boldsymbol{x}_{s},$$\n",
    "or element-wise,\n",
    "\n",
    "$$\\hat{y}_{ijt}=\\sum_{s=1}^{r}u_{is}v_{js}x_{ts},\\forall (i,j,t),$$\n",
    "where vectors $\\boldsymbol{u}_{s}\\in\\mathbb{R}^{m},\\boldsymbol{v}_{s}\\in\\mathbb{R}^{n},\\boldsymbol{x}_{s}\\in\\mathbb{R}^{f}$ are columns of factor matrices $U\\in\\mathbb{R}^{m\\times r},V\\in\\mathbb{R}^{n\\times r},X\\in\\mathbb{R}^{f\\times r}$, respectively. The symbol $\\circ$ denotes vector outer product.\n",
    "\n",
    "- **Example**:\n",
    "\n",
    "Given matrices $U=\\left[ \\begin{array}{cc} 1 & 2 \\\\ 3 & 4 \\\\ \\end{array} \\right]\\in\\mathbb{R}^{2\\times 2}$, $V=\\left[ \\begin{array}{cc} 1 & 2 \\\\ 3 & 4 \\\\ 5 & 6 \\\\ \\end{array} \\right]\\in\\mathbb{R}^{3\\times 2}$ and $X=\\left[ \\begin{array}{cc} 1 & 5 \\\\ 2 & 6 \\\\ 3 & 7 \\\\ 4 & 8 \\\\ \\end{array} \\right]\\in\\mathbb{R}^{4\\times 2}$, then if $\\hat{\\mathcal{Y}}=\\sum_{s=1}^{r}\\boldsymbol{u}_{s}\\circ\\boldsymbol{v}_{s}\\circ\\boldsymbol{x}_{s}$, then, we have\n",
    "\n",
    "$$\\hat{Y}_1=\\hat{\\mathcal{Y}}(:,:,1)=\\left[ \\begin{array}{ccc} 31 & 42 & 65 \\\\ 63 & 86 & 135 \\\\ \\end{array} \\right],$$\n",
    "$$\\hat{Y}_2=\\hat{\\mathcal{Y}}(:,:,2)=\\left[ \\begin{array}{ccc} 38 & 52 & 82 \\\\ 78 & 108 & 174 \\\\ \\end{array} \\right],$$\n",
    "$$\\hat{Y}_3=\\hat{\\mathcal{Y}}(:,:,3)=\\left[ \\begin{array}{ccc} 45 & 62 & 99 \\\\ 93 & 130 & 213 \\\\ \\end{array} \\right],$$\n",
    "$$\\hat{Y}_4=\\hat{\\mathcal{Y}}(:,:,4)=\\left[ \\begin{array}{ccc} 52 & 72 & 116 \\\\ 108 & 152 & 252 \\\\ \\end{array} \\right].$$"
   ]
  },
  {
   "cell_type": "code",
   "execution_count": 3,
   "metadata": {
    "ExecuteTime": {
     "end_time": "2020-11-07T08:39:37.788445Z",
     "start_time": "2020-11-07T08:39:37.772444Z"
    }
   },
   "outputs": [],
   "source": [
    "def cp_combine(var):\n",
    "    return np.einsum('is, js, ts -> ijt', var[0], var[1], var[2])"
   ]
  },
  {
   "cell_type": "code",
   "execution_count": 4,
   "metadata": {
    "ExecuteTime": {
     "end_time": "2020-11-07T08:39:38.494471Z",
     "start_time": "2020-11-07T08:39:38.478443Z"
    }
   },
   "outputs": [
    {
     "name": "stdout",
     "output_type": "stream",
     "text": [
      "[[[ 31  38  45  52]\n",
      "  [ 42  52  62  72]\n",
      "  [ 65  82  99 116]]\n",
      "\n",
      " [[ 63  78  93 108]\n",
      "  [ 86 108 130 152]\n",
      "  [135 174 213 252]]]\n",
      "\n",
      "tensor size:\n",
      "(2, 3, 4)\n"
     ]
    }
   ],
   "source": [
    "factor = [np.array([[1, 2], [3, 4]]), np.array([[1, 3], [2, 4], [5, 6]]), \n",
    "          np.array([[1, 5], [2, 6], [3, 7], [4, 8]])]\n",
    "print(cp_combine(factor))\n",
    "print()\n",
    "print('tensor size:')\n",
    "print(cp_combine(factor).shape)"
   ]
  },
  {
   "cell_type": "markdown",
   "metadata": {},
   "source": [
    "### Vector combination (`vec_combine`)"
   ]
  },
  {
   "cell_type": "code",
   "execution_count": 5,
   "metadata": {},
   "outputs": [],
   "source": [
    "## 1st solution\n",
    "def vec_combine(vector):\n",
    "    tensor = 0\n",
    "    d = len(vector)\n",
    "    for i in range(d):\n",
    "        ax = [len(vector[i]) if j == i else 1 for j in range(d)]\n",
    "        tensor = tensor + vector[i].reshape(ax, order = 'F')\n",
    "    return tensor\n",
    "\n",
    "## 2nd solution\n",
    "def vec_combine(vector):\n",
    "    return (vector[0][:, np.newaxis, np.newaxis] + vector[1][np.newaxis, :, np.newaxis]\n",
    "            + vector[2][np.newaxis, np.newaxis, :])"
   ]
  },
  {
   "cell_type": "code",
   "execution_count": 6,
   "metadata": {},
   "outputs": [
    {
     "name": "stdout",
     "output_type": "stream",
     "text": [
      "[array([1, 2]), array([1, 2, 3]), array([1, 2, 3, 4])]\n",
      "[[[3 4 5 6]\n",
      "  [4 5 6 7]\n",
      "  [5 6 7 8]]\n",
      "\n",
      " [[4 5 6 7]\n",
      "  [5 6 7 8]\n",
      "  [6 7 8 9]]]\n",
      "\n",
      "7\n",
      "7\n"
     ]
    }
   ],
   "source": [
    "vector = []\n",
    "for i in range(3):\n",
    "    vector.append(np.array([i + 1 for i in range(i + 2)]))\n",
    "print(vector)\n",
    "print(vec_combine(vector))\n",
    "print()\n",
    "print(vector[0][1] + vector[1][1] + vector[2][2])\n",
    "print(vec_combine(vector)[1, 1, 2])"
   ]
  },
  {
   "cell_type": "markdown",
   "metadata": {},
   "source": [
    "### Tensor Unfolding (`ten2mat`)\n",
    "\n",
    "Using numpy reshape to perform 3rd rank tensor unfold operation. [[**link**](https://stackoverflow.com/questions/49970141/using-numpy-reshape-to-perform-3rd-rank-tensor-unfold-operation)]"
   ]
  },
  {
   "cell_type": "code",
   "execution_count": 7,
   "metadata": {
    "ExecuteTime": {
     "end_time": "2020-11-07T08:39:40.600444Z",
     "start_time": "2020-11-07T08:39:40.592449Z"
    }
   },
   "outputs": [],
   "source": [
    "def ten2mat(tensor, mode):\n",
    "    return np.reshape(np.moveaxis(tensor, mode, 0), (tensor.shape[mode], -1), order = 'F')"
   ]
  },
  {
   "cell_type": "code",
   "execution_count": 8,
   "metadata": {
    "ExecuteTime": {
     "end_time": "2020-11-07T08:39:41.702444Z",
     "start_time": "2020-11-07T08:39:41.679444Z"
    }
   },
   "outputs": [
    {
     "name": "stdout",
     "output_type": "stream",
     "text": [
      "tensor size:\n",
      "(3, 2, 4)\n",
      "original tensor:\n",
      "[[[ 1  2  3  4]\n",
      "  [ 3  4  5  6]]\n",
      "\n",
      " [[ 5  6  7  8]\n",
      "  [ 7  8  9 10]]\n",
      "\n",
      " [[ 9 10 11 12]\n",
      "  [11 12 13 14]]]\n",
      "\n",
      "(1) mode-1 tensor unfolding:\n",
      "[[ 1  3  2  4  3  5  4  6]\n",
      " [ 5  7  6  8  7  9  8 10]\n",
      " [ 9 11 10 12 11 13 12 14]]\n",
      "\n",
      "(2) mode-2 tensor unfolding:\n",
      "[[ 1  5  9  2  6 10  3  7 11  4  8 12]\n",
      " [ 3  7 11  4  8 12  5  9 13  6 10 14]]\n",
      "\n",
      "(3) mode-3 tensor unfolding:\n",
      "[[ 1  5  9  3  7 11]\n",
      " [ 2  6 10  4  8 12]\n",
      " [ 3  7 11  5  9 13]\n",
      " [ 4  8 12  6 10 14]]\n"
     ]
    }
   ],
   "source": [
    "X = np.array([[[1, 2, 3, 4], [3, 4, 5, 6]], \n",
    "              [[5, 6, 7, 8], [7, 8, 9, 10]], \n",
    "              [[9, 10, 11, 12], [11, 12, 13, 14]]])\n",
    "print('tensor size:')\n",
    "print(X.shape)\n",
    "print('original tensor:')\n",
    "print(X)\n",
    "print()\n",
    "print('(1) mode-1 tensor unfolding:')\n",
    "print(ten2mat(X, 0))\n",
    "print()\n",
    "print('(2) mode-2 tensor unfolding:')\n",
    "print(ten2mat(X, 1))\n",
    "print()\n",
    "print('(3) mode-3 tensor unfolding:')\n",
    "print(ten2mat(X, 2))"
   ]
  },
  {
   "cell_type": "code",
   "execution_count": 9,
   "metadata": {},
   "outputs": [],
   "source": [
    "def cov_mat(mat, mat_bar):\n",
    "    mat = mat - mat_bar\n",
    "    return mat.T @ mat"
   ]
  },
  {
   "cell_type": "markdown",
   "metadata": {},
   "source": [
    "### Define Performance Metrics\n",
    "\n",
    "- **RMSE**\n",
    "- **MAPE**"
   ]
  },
  {
   "cell_type": "code",
   "execution_count": 10,
   "metadata": {
    "ExecuteTime": {
     "end_time": "2020-11-07T08:39:54.534443Z",
     "start_time": "2020-11-07T08:39:54.519443Z"
    }
   },
   "outputs": [],
   "source": [
    "def compute_mape(var, var_hat):\n",
    "    return np.sum(np.abs(var - var_hat) / var) / var.shape[0]\n",
    "\n",
    "def compute_rmse(var, var_hat):\n",
    "    return  np.sqrt(np.sum((var - var_hat) ** 2) / var.shape[0])"
   ]
  },
  {
   "cell_type": "markdown",
   "metadata": {},
   "source": [
    "#### Sample global parameter $\\mu$\n",
    "\n",
    "- Prior distribution:\n",
    "\n",
    "$$\\mu\\sim\\mathcal{N}(\\mu_0,\\tau_0^{-1})$$\n",
    "\n",
    "- Likelihood from:\n",
    "\n",
    "$$y_{i j t} \\sim \\mathcal{N}\\left(\\mu+\\phi_{i}+\\theta_{j}+\\eta_{t}+\\sum_{k=1}^{r} u_{i k} v_{j k} x_{t k}, \\tau^{-1}\\right), \\forall(i, j, t)$$\n",
    "\n",
    "- Posterior distribution:\n",
    "\n",
    "$$\\mu\\mid-\\sim\\mathcal{N}\\left(\\tilde{\\mu},\\tilde{\\tau}^{-1}\\right)$$\n",
    "\n",
    "where $\\tilde{\\tau}=\\tau_0+\\tau|\\Omega|$, $\\tilde{\\mu}=\\tilde{\\tau}^{-1}\\left(\\tau_0\\mu_0+\\tau\\sum_{(i,j,t)\\in\\Omega}\\tilde{y}_{ijt}\\right)$, and $\\tilde{y}_{ijt}=y_{ijt}-(\\phi_{i}+\\theta_{j}+\\eta_{t}+\\sum_{k=1}^{r} u_{i k} v_{j k} x_{t k})$."
   ]
  },
  {
   "cell_type": "code",
   "execution_count": 11,
   "metadata": {},
   "outputs": [],
   "source": [
    "def sample_global_mu(mu_sparse, pos_obs, tau_eps, tau0 = 1):\n",
    "    tau_tilde = 1 / (tau_eps * len(pos_obs[0]) + tau0)\n",
    "    mu_tilde = tau_eps * np.sum(mu_sparse) * tau_tilde\n",
    "    return np.random.normal(mu_tilde, np.sqrt(tau_tilde))"
   ]
  },
  {
   "cell_type": "markdown",
   "metadata": {},
   "source": [
    "#### Sample bias vectors $\\boldsymbol{\\phi},\\boldsymbol{\\theta},\\boldsymbol{\\eta}$\n",
    "\n"
   ]
  },
  {
   "cell_type": "code",
   "execution_count": 12,
   "metadata": {},
   "outputs": [],
   "source": [
    "def sample_bias_vector(bias_sparse, factor, bias, ind, dim, k, tau_eps, tau0 = 1):\n",
    "    for k in range(len(dim)):\n",
    "        idx = tuple(filter(lambda x: x != k, range(len(dim))))\n",
    "        temp = vector.copy()\n",
    "        temp[k] = np.zeros((dim[k]))\n",
    "        tau_tilde = 1 / (tau_eps * bias[k] + tau0)\n",
    "        mu_tilde = tau_eps * np.sum(ind * (bias_sparse - vec_combine(temp)), axis = idx) * tau_tilde\n",
    "        vector[k] = np.random.normal(mu_tilde, np.sqrt(tau_tilde))\n",
    "    return vector"
   ]
  },
  {
   "cell_type": "markdown",
   "metadata": {},
   "source": [
    "#### Sample factor matrices"
   ]
  },
  {
   "cell_type": "code",
   "execution_count": 13,
   "metadata": {},
   "outputs": [],
   "source": [
    "def sample_factor(tau_sparse, factor, ind, dim, k, tau_eps, beta0 = 1):\n",
    "    dim, rank = factor[k].shape\n",
    "    dim = factor[k].shape[0]\n",
    "    factor_bar = np.mean(factor[k], axis = 0)\n",
    "    temp = dim / (dim + beta0)\n",
    "    var_mu_hyper = temp * factor_bar\n",
    "    var_W_hyper = inv(np.eye(rank) + cov_mat(factor[k], factor_bar) + temp * beta0 * np.outer(factor_bar, factor_bar))\n",
    "    var_Lambda_hyper = wishart.rvs(df = dim + rank, scale = var_W_hyper)\n",
    "    var_mu_hyper = mvnrnd_pre(var_mu_hyper, (dim + beta0) * var_Lambda_hyper)\n",
    "    \n",
    "    idx = list(filter(lambda x: x != k, range(len(factor))))\n",
    "    var1 = kr_prod(factor[idx[1]], factor[idx[0]]).T\n",
    "    var2 = kr_prod(var1, var1)\n",
    "    var3 = (var2 @ ten2mat(tau_eps * ind, k).T).reshape([rank, rank, dim]) + var_Lambda_hyper[:, :, np.newaxis]\n",
    "    var4 = var1 @ ten2mat(tau_sparse, k).T + (var_Lambda_hyper @ var_mu_hyper)[:, np.newaxis]\n",
    "    for i in range(dim):\n",
    "        factor[k][i, :] = mvnrnd_pre(solve(var3[:, :, i], var4[:, i]), var3[:, :, i])\n",
    "    return factor[k]"
   ]
  },
  {
   "cell_type": "markdown",
   "metadata": {},
   "source": [
    "#### Sample precision $\\tau$"
   ]
  },
  {
   "cell_type": "code",
   "execution_count": 14,
   "metadata": {},
   "outputs": [],
   "source": [
    "def sample_precision_tau(error_tensor, pos_obs):\n",
    "    var_alpha = 1e-6 + 0.5 * len(pos_obs[0])\n",
    "    var_beta = 1e-6 + 0.5 * np.linalg.norm(error_tensor, 2) ** 2\n",
    "    return np.random.gamma(var_alpha, 1 / var_beta)"
   ]
  },
  {
   "cell_type": "markdown",
   "metadata": {},
   "source": [
    "#### BATF with Gibbs sampling"
   ]
  },
  {
   "cell_type": "code",
   "execution_count": 15,
   "metadata": {},
   "outputs": [],
   "source": [
    "def BATF_Gibbs(dense_tensor, sparse_tensor, vector, factor, burn_iter, gibbs_iter):\n",
    "    \"\"\"Bayesian Augmented Tensor Factorization (BATF) with Gibbs sampling.\"\"\"\n",
    "\n",
    "    dim = np.array(sparse_tensor.shape)\n",
    "    rank = factor[0].shape[1]\n",
    "    if np.isnan(sparse_tensor).any() == False:\n",
    "        ind = sparse_tensor != 0\n",
    "        pos_obs = np.where(ind)\n",
    "        pos_test = np.where((dense_tensor != 0) & (sparse_tensor == 0))\n",
    "    elif np.isnan(sparse_tensor).any() == True:\n",
    "        pos_test = np.where((dense_tensor != 0) & (np.isnan(sparse_tensor)))\n",
    "        ind = ~np.isnan(sparse_tensor)\n",
    "        pos_obs = np.where(ind)\n",
    "        sparse_tensor[np.isnan(sparse_tensor)] = 0\n",
    "    num_obs = len(pos_obs[0])\n",
    "    dense_test = dense_tensor[pos_test]\n",
    "    del dense_tensor\n",
    "\n",
    "    show_iter = 200\n",
    "    tau_eps = 1\n",
    "    bias = []\n",
    "    for k in range(len(dim)):\n",
    "        idx = tuple(filter(lambda x: x != k, range(len(dim))))\n",
    "        bias.append(np.sum(ind, axis = idx))\n",
    "    temp = cp_combine(factor)\n",
    "    temp_hat = np.zeros(len(pos_test[0]))\n",
    "    tensor_hat_plus = np.zeros(dim)\n",
    "    for it in range(burn_iter + gibbs_iter):\n",
    "        temp = sparse_tensor - temp\n",
    "        mu_glb = sample_global_mu(temp[pos_obs] - vec_combine(vector)[pos_obs], pos_obs, tau_eps)\n",
    "        vector = sample_bias_vector(temp - mu_glb, factor, bias, ind, dim, k, tau_eps)\n",
    "        del temp\n",
    "        tau_sparse = tau_eps * ind * (sparse_tensor - mu_glb - vec_combine(vector))\n",
    "        for k in range(len(dim)):\n",
    "            factor[k] = sample_factor(tau_sparse, factor, ind, dim, k, tau_eps)\n",
    "        temp = cp_combine(factor)\n",
    "        tensor_hat = mu_glb + vec_combine(vector) + temp\n",
    "        temp_hat += tensor_hat[pos_test]\n",
    "        tau_eps = sample_precision_tau(sparse_tensor[pos_obs] - tensor_hat[pos_obs], pos_obs)\n",
    "        if it + 1 > burn_iter:\n",
    "            tensor_hat_plus += tensor_hat\n",
    "        if (it + 1) % show_iter == 0 and it < burn_iter:\n",
    "            temp_hat = temp_hat / show_iter\n",
    "            print('Iter: {}'.format(it + 1))\n",
    "            print('MAPE: {:.6}'.format(compute_mape(dense_test, temp_hat)))\n",
    "            print('RMSE: {:.6}'.format(compute_rmse(dense_test, temp_hat)))\n",
    "            temp_hat = np.zeros(len(pos_test[0]))\n",
    "            print()\n",
    "    tensor_hat = tensor_hat_plus / gibbs_iter\n",
    "    print('Imputation MAPE: {:.6}'.format(compute_mape(dense_test, tensor_hat[pos_test])))\n",
    "    print('Imputation RMSE: {:.6}'.format(compute_rmse(dense_test, tensor_hat[pos_test])))\n",
    "    print()\n",
    "\n",
    "    return tensor_hat, mu_glb, vector, factor"
   ]
  },
  {
   "cell_type": "markdown",
   "metadata": {},
   "source": [
    "## Data Organization\n",
    "\n",
    "### 1) Matrix Structure\n",
    "\n",
    "We consider a dataset of $m$ discrete time series $\\boldsymbol{y}_{i}\\in\\mathbb{R}^{f},i\\in\\left\\{1,2,...,m\\right\\}$. The time series may have missing elements. We express spatio-temporal dataset as a matrix $Y\\in\\mathbb{R}^{m\\times f}$ with $m$ rows (e.g., locations) and $f$ columns (e.g., discrete time intervals),\n",
    "\n",
    "$$Y=\\left[ \\begin{array}{cccc} y_{11} & y_{12} & \\cdots & y_{1f} \\\\ y_{21} & y_{22} & \\cdots & y_{2f} \\\\ \\vdots & \\vdots & \\ddots & \\vdots \\\\ y_{m1} & y_{m2} & \\cdots & y_{mf} \\\\ \\end{array} \\right]\\in\\mathbb{R}^{m\\times f}.$$\n",
    "\n",
    "### 2) Tensor Structure\n",
    "\n",
    "We consider a dataset of $m$ discrete time series $\\boldsymbol{y}_{i}\\in\\mathbb{R}^{nf},i\\in\\left\\{1,2,...,m\\right\\}$. The time series may have missing elements. We partition each time series into intervals of predifined length $f$. We express each partitioned time series as a matrix $Y_{i}$ with $n$ rows (e.g., days) and $f$ columns (e.g., discrete time intervals per day),\n",
    "\n",
    "$$Y_{i}=\\left[ \\begin{array}{cccc} y_{11} & y_{12} & \\cdots & y_{1f} \\\\ y_{21} & y_{22} & \\cdots & y_{2f} \\\\ \\vdots & \\vdots & \\ddots & \\vdots \\\\ y_{n1} & y_{n2} & \\cdots & y_{nf} \\\\ \\end{array} \\right]\\in\\mathbb{R}^{n\\times f},i=1,2,...,m,$$\n",
    "\n",
    "therefore, the resulting structure is a tensor $\\mathcal{Y}\\in\\mathbb{R}^{m\\times n\\times f}$."
   ]
  },
  {
   "cell_type": "markdown",
   "metadata": {},
   "source": [
    "## Evaluation on Guangzhou Speed Data\n",
    "\n",
    "**Scenario setting**:\n",
    "\n",
    "- Tensor size: $214\\times 61\\times 144$ (road segment, day, time of day)\n",
    "- Random missing (RM)\n",
    "- 40% missing rate\n"
   ]
  },
  {
   "cell_type": "markdown",
   "metadata": {},
   "source": [
    "**Model setting**:\n",
    "\n",
    "- Low rank: 80\n",
    "- The number of burn-in iterations: 1000\n",
    "- The number of Gibbs iterations: 200"
   ]
  },
  {
   "cell_type": "code",
   "execution_count": 17,
   "metadata": {},
   "outputs": [
    {
     "name": "stdout",
     "output_type": "stream",
     "text": [
      "Iter: 200\n",
      "MAPE: 0.08303\n",
      "RMSE: 3.58407\n",
      "\n",
      "Iter: 400\n",
      "MAPE: 0.083102\n",
      "RMSE: 3.59169\n",
      "\n",
      "Iter: 600\n",
      "MAPE: 0.0830566\n",
      "RMSE: 3.59025\n",
      "\n",
      "Iter: 800\n",
      "MAPE: 0.0829992\n",
      "RMSE: 3.58897\n",
      "\n",
      "Iter: 1000\n",
      "MAPE: 0.0829348\n",
      "RMSE: 3.58643\n",
      "\n",
      "Imputation MAPE: 0.0828811\n",
      "Imputation RMSE: 3.5845\n",
      "\n",
      "Running time: 3592 seconds\n"
     ]
    }
   ],
   "source": [
    "import time\n",
    "import time\n",
    "import scipy.io\n",
    "import numpy as np\n",
    "np.random.seed(1000)\n",
    "\n",
    "dense_tensor = scipy.io.loadmat('../datasets/Guangzhou-data-set/tensor.mat')['tensor']\n",
    "dim = dense_tensor.shape\n",
    "missing_rate = 0.4 # Random missing (RM)\n",
    "sparse_tensor = dense_tensor * np.round(np.random.rand(dim[0], dim[1], dim[2]) + 0.5 - missing_rate)\n",
    "\n",
    "start = time.time()\n",
    "dim = np.array(sparse_tensor.shape)\n",
    "rank = 80\n",
    "vector = []\n",
    "factor = []\n",
    "for k in range(len(dim)):\n",
    "    vector.append(0.1 * np.random.randn(dim[k],))\n",
    "    factor.append(0.1 * np.random.randn(dim[k], rank))\n",
    "burn_iter = 1000\n",
    "gibbs_iter = 200\n",
    "BATF_Gibbs(dense_tensor, sparse_tensor, vector, factor, burn_iter, gibbs_iter)\n",
    "end = time.time()\n",
    "print('Running time: %d seconds'%(end - start))"
   ]
  },
  {
   "cell_type": "markdown",
   "metadata": {},
   "source": [
    "**Scenario setting**:\n",
    "\n",
    "- Tensor size: $214\\times 61\\times 144$ (road segment, day, time of day)\n",
    "- Random missing (RM)\n",
    "- 60% missing rate\n"
   ]
  },
  {
   "cell_type": "markdown",
   "metadata": {},
   "source": [
    "**Model setting**:\n",
    "\n",
    "- Low rank: 80\n",
    "- The number of burn-in iterations: 1000\n",
    "- The number of Gibbs iterations: 200"
   ]
  },
  {
   "cell_type": "code",
   "execution_count": 19,
   "metadata": {},
   "outputs": [
    {
     "name": "stdout",
     "output_type": "stream",
     "text": [
      "Iter: 200\n",
      "MAPE: 0.0844221\n",
      "RMSE: 3.63857\n",
      "\n",
      "Iter: 400\n",
      "MAPE: 0.0843421\n",
      "RMSE: 3.64409\n",
      "\n",
      "Iter: 600\n",
      "MAPE: 0.084293\n",
      "RMSE: 3.64176\n",
      "\n",
      "Iter: 800\n",
      "MAPE: 0.0842479\n",
      "RMSE: 3.63975\n",
      "\n",
      "Iter: 1000\n",
      "MAPE: 0.084262\n",
      "RMSE: 3.64037\n",
      "\n",
      "Imputation MAPE: 0.0842613\n",
      "Imputation RMSE: 3.63993\n",
      "\n",
      "Running time: 3612 seconds\n"
     ]
    }
   ],
   "source": [
    "import time\n",
    "import scipy.io\n",
    "import numpy as np\n",
    "np.random.seed(1000)\n",
    "\n",
    "dense_tensor = scipy.io.loadmat('../datasets/Guangzhou-data-set/tensor.mat')['tensor']\n",
    "dim = dense_tensor.shape\n",
    "missing_rate = 0.6 # Random missing (RM)\n",
    "sparse_tensor = dense_tensor * np.round(np.random.rand(dim[0], dim[1], dim[2]) + 0.5 - missing_rate)\n",
    "\n",
    "start = time.time()\n",
    "dim = np.array(sparse_tensor.shape)\n",
    "rank = 80\n",
    "vector = []\n",
    "factor = []\n",
    "for k in range(len(dim)):\n",
    "    vector.append(0.1 * np.random.randn(dim[k],))\n",
    "    factor.append(0.1 * np.random.randn(dim[k], rank))\n",
    "burn_iter = 1000\n",
    "gibbs_iter = 200\n",
    "BATF_Gibbs(dense_tensor, sparse_tensor, vector, factor, burn_iter, gibbs_iter)\n",
    "end = time.time()\n",
    "print('Running time: %d seconds'%(end - start))"
   ]
  },
  {
   "cell_type": "markdown",
   "metadata": {},
   "source": [
    "**Scenario setting**:\n",
    "\n",
    "- Tensor size: $214\\times 61\\times 144$ (road segment, day, time of day)\n",
    "- Non-random missing (NM)\n",
    "- 40% missing rate\n"
   ]
  },
  {
   "cell_type": "markdown",
   "metadata": {},
   "source": [
    "**Model setting**:\n",
    "\n",
    "- Low rank: 10\n",
    "- The number of burn-in iterations: 1000\n",
    "- The number of Gibbs iterations: 200"
   ]
  },
  {
   "cell_type": "code",
   "execution_count": 21,
   "metadata": {
    "scrolled": false
   },
   "outputs": [
    {
     "name": "stdout",
     "output_type": "stream",
     "text": [
      "Iter: 200\n",
      "MAPE: 0.101644\n",
      "RMSE: 4.29233\n",
      "\n",
      "Iter: 400\n",
      "MAPE: 0.10161\n",
      "RMSE: 4.30334\n",
      "\n",
      "Iter: 600\n",
      "MAPE: 0.101477\n",
      "RMSE: 4.30121\n",
      "\n",
      "Iter: 800\n",
      "MAPE: 0.101412\n",
      "RMSE: 4.29953\n",
      "\n",
      "Iter: 1000\n",
      "MAPE: 0.101376\n",
      "RMSE: 4.29767\n",
      "\n",
      "Imputation MAPE: 0.101357\n",
      "Imputation RMSE: 4.29761\n",
      "\n",
      "Running time: 285 seconds\n"
     ]
    }
   ],
   "source": [
    "import time\n",
    "import scipy.io\n",
    "import numpy as np\n",
    "np.random.seed(1000)\n",
    "\n",
    "dense_tensor = scipy.io.loadmat('../datasets/Guangzhou-data-set/tensor.mat')['tensor']\n",
    "dim = dense_tensor.shape\n",
    "missing_rate = 0.4 # Non-random missing (NM)\n",
    "sparse_tensor = dense_tensor * np.round(np.random.rand(dim[0], dim[1])[:, :, np.newaxis] + 0.5 - missing_rate)\n",
    "\n",
    "start = time.time()\n",
    "dim = np.array(sparse_tensor.shape)\n",
    "rank = 10\n",
    "vector = []\n",
    "factor = []\n",
    "for k in range(len(dim)):\n",
    "    vector.append(0.1 * np.random.randn(dim[k],))\n",
    "    factor.append(0.1 * np.random.randn(dim[k], rank))\n",
    "burn_iter = 1000\n",
    "gibbs_iter = 200\n",
    "BATF_Gibbs(dense_tensor, sparse_tensor, vector, factor, burn_iter, gibbs_iter)\n",
    "end = time.time()\n",
    "print('Running time: %d seconds'%(end - start))"
   ]
  },
  {
   "cell_type": "markdown",
   "metadata": {},
   "source": [
    "## Evaluation on Birmingham Parking Data\n",
    "\n",
    "**Scenario setting**:\n",
    "\n",
    "- Tensor size: $30\\times 77\\times 18$ (parking slot, day, time of day)\n",
    "- Random missing (RM)\n",
    "- 40% missing rate\n"
   ]
  },
  {
   "cell_type": "markdown",
   "metadata": {},
   "source": [
    "**Model setting**:\n",
    "\n",
    "- Low rank: 20\n",
    "- The number of burn-in iterations: 1000\n",
    "- The number of Gibbs iterations: 200"
   ]
  },
  {
   "cell_type": "code",
   "execution_count": 23,
   "metadata": {},
   "outputs": [
    {
     "name": "stdout",
     "output_type": "stream",
     "text": [
      "Iter: 200\n",
      "MAPE: 0.0766492\n",
      "RMSE: 28.5921\n",
      "\n",
      "Iter: 400\n",
      "MAPE: 0.0729341\n",
      "RMSE: 26.6797\n",
      "\n",
      "Iter: 600\n",
      "MAPE: 0.0727347\n",
      "RMSE: 26.0331\n",
      "\n",
      "Iter: 800\n",
      "MAPE: 0.0736088\n",
      "RMSE: 25.7955\n",
      "\n",
      "Iter: 1000\n",
      "MAPE: 0.0726944\n",
      "RMSE: 25.2289\n",
      "\n",
      "Imputation MAPE: 0.0732128\n",
      "Imputation RMSE: 25.2056\n",
      "\n",
      "Running time: 23 seconds\n"
     ]
    }
   ],
   "source": [
    "import time\n",
    "import scipy.io\n",
    "import numpy as np\n",
    "np.random.seed(1000)\n",
    "\n",
    "dense_tensor = scipy.io.loadmat('../datasets/Birmingham-data-set/tensor.mat')['tensor']\n",
    "dim = dense_tensor.shape\n",
    "missing_rate = 0.4 # Random missing (RM)\n",
    "sparse_tensor = dense_tensor * np.round(np.random.rand(dim[0], dim[1], dim[2]) + 0.5 - missing_rate)\n",
    "\n",
    "start = time.time()\n",
    "dim = np.array(sparse_tensor.shape)\n",
    "rank = 20\n",
    "vector = []\n",
    "factor = []\n",
    "for k in range(len(dim)):\n",
    "    vector.append(0.1 * np.random.randn(dim[k],))\n",
    "    factor.append(0.1 * np.random.randn(dim[k], rank))\n",
    "burn_iter = 1000\n",
    "gibbs_iter = 200\n",
    "BATF_Gibbs(dense_tensor, sparse_tensor, vector, factor, burn_iter, gibbs_iter)\n",
    "end = time.time()\n",
    "print('Running time: %d seconds'%(end - start))"
   ]
  },
  {
   "cell_type": "markdown",
   "metadata": {},
   "source": [
    "**Scenario setting**:\n",
    "\n",
    "- Tensor size: $30\\times 77\\times 18$ (parking slot, day, time of day)\n",
    "- Random missing (RM)\n",
    "- 60% missing rate\n"
   ]
  },
  {
   "cell_type": "markdown",
   "metadata": {},
   "source": [
    "**Model setting**:\n",
    "\n",
    "- Low rank: 20\n",
    "- The number of burn-in iterations: 1000\n",
    "- The number of Gibbs iterations: 200"
   ]
  },
  {
   "cell_type": "code",
   "execution_count": 25,
   "metadata": {},
   "outputs": [
    {
     "name": "stdout",
     "output_type": "stream",
     "text": [
      "Iter: 200\n",
      "MAPE: 0.0877826\n",
      "RMSE: 32.2015\n",
      "\n",
      "Iter: 400\n",
      "MAPE: 0.0881449\n",
      "RMSE: 31.8352\n",
      "\n",
      "Iter: 600\n",
      "MAPE: 0.0866449\n",
      "RMSE: 31.4774\n",
      "\n",
      "Iter: 800\n",
      "MAPE: 0.085667\n",
      "RMSE: 31.2294\n",
      "\n",
      "Iter: 1000\n",
      "MAPE: 0.0840369\n",
      "RMSE: 30.5517\n",
      "\n",
      "Imputation MAPE: 0.0838647\n",
      "Imputation RMSE: 29.7391\n",
      "\n",
      "Running time: 28 seconds\n"
     ]
    }
   ],
   "source": [
    "import time\n",
    "import scipy.io\n",
    "import numpy as np\n",
    "np.random.seed(1000)\n",
    "\n",
    "dense_tensor = scipy.io.loadmat('../datasets/Birmingham-data-set/tensor.mat')['tensor']\n",
    "dim = dense_tensor.shape\n",
    "missing_rate = 0.6 # Random missing (RM)\n",
    "sparse_tensor = dense_tensor * np.round(np.random.rand(dim[0], dim[1], dim[2]) + 0.5 - missing_rate)\n",
    "\n",
    "start = time.time()\n",
    "dim = np.array(sparse_tensor.shape)\n",
    "rank = 20\n",
    "vector = []\n",
    "factor = []\n",
    "for k in range(len(dim)):\n",
    "    vector.append(0.1 * np.random.randn(dim[k],))\n",
    "    factor.append(0.1 * np.random.randn(dim[k], rank))\n",
    "burn_iter = 1000\n",
    "gibbs_iter = 200\n",
    "BATF_Gibbs(dense_tensor, sparse_tensor, vector, factor, burn_iter, gibbs_iter)\n",
    "end = time.time()\n",
    "print('Running time: %d seconds'%(end - start))"
   ]
  },
  {
   "cell_type": "markdown",
   "metadata": {},
   "source": [
    "**Scenario setting**:\n",
    "\n",
    "- Tensor size: $30\\times 77\\times 18$ (parking slot, day, time of day)\n",
    "- Non-random missing (NM)\n",
    "- 40% missing rate\n"
   ]
  },
  {
   "cell_type": "markdown",
   "metadata": {},
   "source": [
    "**Model setting**:\n",
    "\n",
    "- Low rank: 20\n",
    "- The number of burn-in iterations: 1000\n",
    "- The number of Gibbs iterations: 200"
   ]
  },
  {
   "cell_type": "code",
   "execution_count": 27,
   "metadata": {},
   "outputs": [
    {
     "name": "stdout",
     "output_type": "stream",
     "text": [
      "Iter: 200\n",
      "MAPE: 0.144786\n",
      "RMSE: 79.5898\n",
      "\n",
      "Iter: 400\n",
      "MAPE: 0.167861\n",
      "RMSE: 93.8396\n",
      "\n",
      "Iter: 600\n",
      "MAPE: 0.179682\n",
      "RMSE: 105.395\n",
      "\n",
      "Iter: 800\n",
      "MAPE: 0.178547\n",
      "RMSE: 109.112\n",
      "\n",
      "Iter: 1000\n",
      "MAPE: 0.17795\n",
      "RMSE: 109.826\n",
      "\n",
      "Imputation MAPE: 0.177455\n",
      "Imputation RMSE: 113.002\n",
      "\n",
      "Running time: 20 seconds\n"
     ]
    }
   ],
   "source": [
    "import time\n",
    "import scipy.io\n",
    "import numpy as np\n",
    "np.random.seed(1000)\n",
    "\n",
    "dense_tensor = scipy.io.loadmat('../datasets/Birmingham-data-set/tensor.mat')['tensor']\n",
    "dim = dense_tensor.shape\n",
    "missing_rate = 0.4 # Non-random missing (NM)\n",
    "sparse_tensor = dense_tensor * np.round(np.random.rand(dim[0], dim[1])[:, :, np.newaxis] + 0.5 - missing_rate)\n",
    "\n",
    "start = time.time()\n",
    "dim = np.array(sparse_tensor.shape)\n",
    "rank = 20\n",
    "vector = []\n",
    "factor = []\n",
    "for k in range(len(dim)):\n",
    "    vector.append(0.1 * np.random.randn(dim[k],))\n",
    "    factor.append(0.1 * np.random.randn(dim[k], rank))\n",
    "burn_iter = 1000\n",
    "gibbs_iter = 200\n",
    "BATF_Gibbs(dense_tensor, sparse_tensor, vector, factor, burn_iter, gibbs_iter)\n",
    "end = time.time()\n",
    "print('Running time: %d seconds'%(end - start))"
   ]
  },
  {
   "cell_type": "markdown",
   "metadata": {},
   "source": [
    "## Evaluation on Hangzhou Flow Data\n",
    "\n",
    "**Scenario setting**:\n",
    "\n",
    "- Tensor size: $80\\times 25\\times 108$ (metro station, day, time of day)\n",
    "- Random missing (RM)\n",
    "- 40% missing rate\n"
   ]
  },
  {
   "cell_type": "markdown",
   "metadata": {},
   "source": [
    "**Model setting**:\n",
    "\n",
    "- Low rank: 30\n",
    "- The number of burn-in iterations: 1000\n",
    "- The number of Gibbs iterations: 200"
   ]
  },
  {
   "cell_type": "code",
   "execution_count": 29,
   "metadata": {},
   "outputs": [
    {
     "name": "stdout",
     "output_type": "stream",
     "text": [
      "Iter: 200\n",
      "MAPE: 0.231115\n",
      "RMSE: 30.3267\n",
      "\n",
      "Iter: 400\n",
      "MAPE: 0.228563\n",
      "RMSE: 36.0327\n",
      "\n",
      "Iter: 600\n",
      "MAPE: 0.229881\n",
      "RMSE: 39.5089\n",
      "\n",
      "Iter: 800\n",
      "MAPE: 0.204963\n",
      "RMSE: 45.2299\n",
      "\n",
      "Iter: 1000\n",
      "MAPE: 0.199239\n",
      "RMSE: 45.8608\n",
      "\n",
      "Imputation MAPE: 0.198827\n",
      "Imputation RMSE: 44.8775\n",
      "\n",
      "Running time: 140 seconds\n"
     ]
    }
   ],
   "source": [
    "import time\n",
    "import scipy.io\n",
    "import numpy as np\n",
    "np.random.seed(1000)\n",
    "\n",
    "dense_tensor = scipy.io.loadmat('../datasets/Hangzhou-data-set/tensor.mat')['tensor']\n",
    "dim = dense_tensor.shape\n",
    "missing_rate = 0.4 # Random missing (RM)\n",
    "sparse_tensor = dense_tensor * np.round(np.random.rand(dim[0], dim[1], dim[2]) + 0.5 - missing_rate)\n",
    "\n",
    "start = time.time()\n",
    "dim = np.array(sparse_tensor.shape)\n",
    "rank = 30\n",
    "vector = []\n",
    "factor = []\n",
    "for k in range(len(dim)):\n",
    "    vector.append(0.1 * np.random.randn(dim[k],))\n",
    "    factor.append(0.1 * np.random.randn(dim[k], rank))\n",
    "burn_iter = 1000\n",
    "gibbs_iter = 200\n",
    "BATF_Gibbs(dense_tensor, sparse_tensor, vector, factor, burn_iter, gibbs_iter)\n",
    "end = time.time()\n",
    "print('Running time: %d seconds'%(end - start))"
   ]
  },
  {
   "cell_type": "markdown",
   "metadata": {},
   "source": [
    "**Scenario setting**:\n",
    "\n",
    "- Tensor size: $80\\times 25\\times 108$ (metro station, day, time of day)\n",
    "- Random missing (RM)\n",
    "- 60% missing rate\n"
   ]
  },
  {
   "cell_type": "markdown",
   "metadata": {},
   "source": [
    "**Model setting**:\n",
    "\n",
    "- Low rank: 30\n",
    "- The number of burn-in iterations: 1000\n",
    "- The number of Gibbs iterations: 200"
   ]
  },
  {
   "cell_type": "code",
   "execution_count": 31,
   "metadata": {},
   "outputs": [
    {
     "name": "stdout",
     "output_type": "stream",
     "text": [
      "Iter: 200\n",
      "MAPE: 0.238708\n",
      "RMSE: 32.1782\n",
      "\n",
      "Iter: 400\n",
      "MAPE: 0.240156\n",
      "RMSE: 33.2013\n",
      "\n",
      "Iter: 600\n",
      "MAPE: 0.215423\n",
      "RMSE: 34.7814\n",
      "\n",
      "Iter: 800\n",
      "MAPE: 0.205286\n",
      "RMSE: 37.8658\n",
      "\n",
      "Iter: 1000\n",
      "MAPE: 0.205756\n",
      "RMSE: 38.3135\n",
      "\n",
      "Imputation MAPE: 0.204502\n",
      "Imputation RMSE: 38.8262\n",
      "\n",
      "Running time: 139 seconds\n"
     ]
    }
   ],
   "source": [
    "import time\n",
    "import scipy.io\n",
    "import numpy as np\n",
    "np.random.seed(1000)\n",
    "\n",
    "dense_tensor = scipy.io.loadmat('../datasets/Hangzhou-data-set/tensor.mat')['tensor']\n",
    "dim = dense_tensor.shape\n",
    "missing_rate = 0.6 # Random missing (RM)\n",
    "sparse_tensor = dense_tensor * np.round(np.random.rand(dim[0], dim[1], dim[2]) + 0.5 - missing_rate)\n",
    "\n",
    "start = time.time()\n",
    "dim = np.array(sparse_tensor.shape)\n",
    "rank = 30\n",
    "vector = []\n",
    "factor = []\n",
    "for k in range(len(dim)):\n",
    "    vector.append(0.1 * np.random.randn(dim[k],))\n",
    "    factor.append(0.1 * np.random.randn(dim[k], rank))\n",
    "burn_iter = 1000\n",
    "gibbs_iter = 200\n",
    "BATF_Gibbs(dense_tensor, sparse_tensor, vector, factor, burn_iter, gibbs_iter)\n",
    "end = time.time()\n",
    "print('Running time: %d seconds'%(end - start))"
   ]
  },
  {
   "cell_type": "markdown",
   "metadata": {},
   "source": [
    "**Scenario setting**:\n",
    "\n",
    "- Tensor size: $80\\times 25\\times 108$ (metro station, day, time of day)\n",
    "- Non-random missing (NM)\n",
    "- 40% missing rate\n"
   ]
  },
  {
   "cell_type": "markdown",
   "metadata": {},
   "source": [
    "**Model setting**:\n",
    "\n",
    "- Low rank: 30\n",
    "- The number of burn-in iterations: 1000\n",
    "- The number of Gibbs iterations: 200"
   ]
  },
  {
   "cell_type": "code",
   "execution_count": 33,
   "metadata": {},
   "outputs": [
    {
     "name": "stdout",
     "output_type": "stream",
     "text": [
      "Iter: 200\n",
      "MAPE: 0.249926\n",
      "RMSE: 30.0841\n",
      "\n",
      "Iter: 400\n",
      "MAPE: 0.241747\n",
      "RMSE: 34.1185\n",
      "\n",
      "Iter: 600\n",
      "MAPE: 0.236539\n",
      "RMSE: 35.6748\n",
      "\n",
      "Iter: 800\n",
      "MAPE: 0.216268\n",
      "RMSE: 36.2932\n",
      "\n",
      "Iter: 1000\n",
      "MAPE: 0.211793\n",
      "RMSE: 38.6953\n",
      "\n",
      "Imputation MAPE: 0.212244\n",
      "Imputation RMSE: 40.4924\n",
      "\n",
      "Running time: 129 seconds\n"
     ]
    }
   ],
   "source": [
    "import time\n",
    "import scipy.io\n",
    "import numpy as np\n",
    "np.random.seed(1000)\n",
    "\n",
    "dense_tensor = scipy.io.loadmat('../datasets/Hangzhou-data-set/tensor.mat')['tensor']\n",
    "dim = dense_tensor.shape\n",
    "missing_rate = 0.4 # Non-random missing (NM)\n",
    "sparse_tensor = dense_tensor * np.round(np.random.rand(dim[0], dim[1])[:, :, np.newaxis] + 0.5 - missing_rate)\n",
    "\n",
    "start = time.time()\n",
    "dim = np.array(sparse_tensor.shape)\n",
    "rank = 30\n",
    "vector = []\n",
    "factor = []\n",
    "for k in range(len(dim)):\n",
    "    vector.append(0.1 * np.random.randn(dim[k],))\n",
    "    factor.append(0.1 * np.random.randn(dim[k], rank))\n",
    "burn_iter = 1000\n",
    "gibbs_iter = 200\n",
    "BATF_Gibbs(dense_tensor, sparse_tensor, vector, factor, burn_iter, gibbs_iter)\n",
    "end = time.time()\n",
    "print('Running time: %d seconds'%(end - start))"
   ]
  },
  {
   "cell_type": "markdown",
   "metadata": {},
   "source": [
    "## Evaluation on Seattle Speed Data\n",
    "\n",
    "**Scenario setting**:\n",
    "\n",
    "- Tensor size: $323\\times 28\\times 288$ (road segment, day, time of day)\n",
    "- Random missing (RM)\n",
    "- 40% missing rate\n"
   ]
  },
  {
   "cell_type": "markdown",
   "metadata": {},
   "source": [
    "**Model setting**:\n",
    "\n",
    "- Low rank: 50\n",
    "- The number of burn-in iterations: 1000\n",
    "- The number of Gibbs iterations: 200"
   ]
  },
  {
   "cell_type": "code",
   "execution_count": 35,
   "metadata": {},
   "outputs": [
    {
     "name": "stdout",
     "output_type": "stream",
     "text": [
      "Iter: 200\n",
      "MAPE: 0.0745654\n",
      "RMSE: 4.49519\n",
      "\n",
      "Iter: 400\n",
      "MAPE: 0.0744064\n",
      "RMSE: 4.48914\n",
      "\n",
      "Iter: 600\n",
      "MAPE: 0.0742243\n",
      "RMSE: 4.48193\n",
      "\n",
      "Iter: 800\n",
      "MAPE: 0.0741202\n",
      "RMSE: 4.47552\n",
      "\n",
      "Iter: 1000\n",
      "MAPE: 0.0740641\n",
      "RMSE: 4.47165\n",
      "\n",
      "Imputation MAPE: 0.0740247\n",
      "Imputation RMSE: 4.46906\n",
      "\n",
      "Running time: 2895 seconds\n"
     ]
    }
   ],
   "source": [
    "import time\n",
    "import scipy.io\n",
    "import numpy as np\n",
    "np.random.seed(1000)\n",
    "\n",
    "dense_tensor = scipy.io.loadmat('../datasets/Seattle-data-set/tensor.npz')['arr_0']\n",
    "dim = dense_tensor.shape\n",
    "missing_rate = 0.4 # Random missing (RM)\n",
    "sparse_tensor = dense_tensor * np.round(np.random.rand(dim[0], dim[1], dim[2]) + 0.5 - missing_rate)\n",
    "\n",
    "start = time.time()\n",
    "dim = np.array(sparse_tensor.shape)\n",
    "rank = 50\n",
    "vector = []\n",
    "factor = []\n",
    "for k in range(len(dim)):\n",
    "    vector.append(0.1 * np.random.randn(dim[k],))\n",
    "    factor.append(0.1 * np.random.randn(dim[k], rank))\n",
    "burn_iter = 1000\n",
    "gibbs_iter = 200\n",
    "BATF_Gibbs(dense_tensor, sparse_tensor, vector, factor, burn_iter, gibbs_iter)\n",
    "end = time.time()\n",
    "print('Running time: %d seconds'%(end - start))"
   ]
  },
  {
   "cell_type": "markdown",
   "metadata": {},
   "source": [
    "**Scenario setting**:\n",
    "\n",
    "- Tensor size: $323\\times 28\\times 288$ (road segment, day, time of day)\n",
    "- Random missing (RM)\n",
    "- 60% missing rate\n"
   ]
  },
  {
   "cell_type": "markdown",
   "metadata": {},
   "source": [
    "**Model setting**:\n",
    "\n",
    "- Low rank: 50\n",
    "- The number of burn-in iterations: 1000\n",
    "- The number of Gibbs iterations: 200"
   ]
  },
  {
   "cell_type": "code",
   "execution_count": 37,
   "metadata": {},
   "outputs": [
    {
     "name": "stdout",
     "output_type": "stream",
     "text": [
      "Iter: 200\n",
      "MAPE: 0.0753578\n",
      "RMSE: 4.52268\n",
      "\n",
      "Iter: 400\n",
      "MAPE: 0.0749893\n",
      "RMSE: 4.51293\n",
      "\n",
      "Iter: 600\n",
      "MAPE: 0.0747484\n",
      "RMSE: 4.50605\n",
      "\n",
      "Iter: 800\n",
      "MAPE: 0.0746789\n",
      "RMSE: 4.5049\n",
      "\n",
      "Iter: 1000\n",
      "MAPE: 0.0746148\n",
      "RMSE: 4.50328\n",
      "\n",
      "Imputation MAPE: 0.0745356\n",
      "Imputation RMSE: 4.50221\n",
      "\n",
      "Running time: 2864 seconds\n"
     ]
    }
   ],
   "source": [
    "import time\n",
    "import scipy.io\n",
    "import numpy as np\n",
    "np.random.seed(1000)\n",
    "\n",
    "dense_tensor = scipy.io.loadmat('../datasets/Seattle-data-set/tensor.npz')['arr_0']\n",
    "dim = dense_tensor.shape\n",
    "missing_rate = 0.6 # Random missing (RM)\n",
    "sparse_tensor = dense_tensor * np.round(np.random.rand(dim[0], dim[1], dim[2]) + 0.5 - missing_rate)\n",
    "\n",
    "start = time.time()\n",
    "dim = np.array(sparse_tensor.shape)\n",
    "rank = 50\n",
    "vector = []\n",
    "factor = []\n",
    "for k in range(len(dim)):\n",
    "    vector.append(0.1 * np.random.randn(dim[k],))\n",
    "    factor.append(0.1 * np.random.randn(dim[k], rank))\n",
    "burn_iter = 1000\n",
    "gibbs_iter = 200\n",
    "BATF_Gibbs(dense_tensor, sparse_tensor, vector, factor, burn_iter, gibbs_iter)\n",
    "end = time.time()\n",
    "print('Running time: %d seconds'%(end - start))"
   ]
  },
  {
   "cell_type": "markdown",
   "metadata": {},
   "source": [
    "**Scenario setting**:\n",
    "\n",
    "- Tensor size: $323\\times 28\\times 288$ (road segment, day, time of day)\n",
    "- Non-random missing (NM)\n",
    "- 40% missing rate\n"
   ]
  },
  {
   "cell_type": "markdown",
   "metadata": {},
   "source": [
    "**Model setting**:\n",
    "\n",
    "- Low rank: 10\n",
    "- The number of burn-in iterations: 1000\n",
    "- The number of Gibbs iterations: 200"
   ]
  },
  {
   "cell_type": "code",
   "execution_count": 39,
   "metadata": {},
   "outputs": [
    {
     "name": "stdout",
     "output_type": "stream",
     "text": [
      "Iter: 200\n",
      "MAPE: 0.0986925\n",
      "RMSE: 5.64095\n",
      "\n",
      "Iter: 400\n",
      "MAPE: 0.0998044\n",
      "RMSE: 5.71104\n",
      "\n",
      "Iter: 600\n",
      "MAPE: 0.0998826\n",
      "RMSE: 5.70964\n",
      "\n",
      "Iter: 800\n",
      "MAPE: 0.0994049\n",
      "RMSE: 5.68442\n",
      "\n",
      "Iter: 1000\n",
      "MAPE: 0.099428\n",
      "RMSE: 5.68895\n",
      "\n",
      "Imputation MAPE: 0.0993864\n",
      "Imputation RMSE: 5.68241\n",
      "\n",
      "Running time: 469 seconds\n"
     ]
    }
   ],
   "source": [
    "import time\n",
    "import scipy.io\n",
    "import numpy as np\n",
    "np.random.seed(1000)\n",
    "\n",
    "dense_tensor = scipy.io.loadmat('../datasets/Seattle-data-set/tensor.npz')['arr_0']\n",
    "dim = dense_tensor.shape\n",
    "missing_rate = 0.4 # Non-random missing (NM)\n",
    "sparse_tensor = dense_tensor * np.round(np.random.rand(dim[0], dim[1])[:, :, np.newaxis] + 0.5 - missing_rate)\n",
    "\n",
    "start = time.time()\n",
    "dim = np.array(sparse_tensor.shape)\n",
    "rank = 10\n",
    "vector = []\n",
    "factor = []\n",
    "for k in range(len(dim)):\n",
    "    vector.append(0.1 * np.random.randn(dim[k],))\n",
    "    factor.append(0.1 * np.random.randn(dim[k], rank))\n",
    "burn_iter = 1000\n",
    "gibbs_iter = 200\n",
    "BATF_Gibbs(dense_tensor, sparse_tensor, vector, factor, burn_iter, gibbs_iter)\n",
    "end = time.time()\n",
    "print('Running time: %d seconds'%(end - start))"
   ]
  },
  {
   "cell_type": "markdown",
   "metadata": {},
   "source": [
    "## Evaluation on London Movement Speed Data\n",
    "\n",
    "**Scenario setting**:\n",
    "\n",
    "- Tensor size: $35912\\times 30\\times 24$ (road segment, day, time of day)\n",
    "- Random missing (RM)\n",
    "- 40% missing rate\n"
   ]
  },
  {
   "cell_type": "code",
   "execution_count": 16,
   "metadata": {},
   "outputs": [],
   "source": [
    "import numpy as np\n",
    "np.random.seed(1000)\n",
    "\n",
    "missing_rate = 0.4\n",
    "\n",
    "dense_mat = np.load('../datasets/London-data-set/hourly_speed_mat.npy')\n",
    "binary_mat = dense_mat.copy()\n",
    "binary_mat[binary_mat != 0] = 1\n",
    "pos = np.where(np.sum(binary_mat, axis = 1) > 0.7 * binary_mat.shape[1])\n",
    "dense_mat = dense_mat[pos[0], :]\n",
    "\n",
    "## Random missing (RM)\n",
    "random_mat = np.random.rand(dense_mat.shape[0], dense_mat.shape[1])\n",
    "binary_mat = np.round(random_mat + 0.5 - missing_rate)\n",
    "sparse_mat = np.multiply(dense_mat, binary_mat)\n",
    "\n",
    "dense_tensor = dense_mat.reshape([dense_mat.shape[0], 30, 24])\n",
    "sparse_tensor = sparse_mat.reshape([sparse_mat.shape[0], 30, 24])\n",
    "del dense_mat, sparse_mat, binary_mat, random_mat"
   ]
  },
  {
   "cell_type": "markdown",
   "metadata": {},
   "source": [
    "**Model setting**:\n",
    "\n",
    "- Low rank: 20\n",
    "- The number of burn-in iterations: 1000\n",
    "- The number of Gibbs iterations: 200"
   ]
  },
  {
   "cell_type": "code",
   "execution_count": 17,
   "metadata": {
    "scrolled": false
   },
   "outputs": [
    {
     "name": "stdout",
     "output_type": "stream",
     "text": [
      "Iter: 200\n",
      "MAPE: 0.0924598\n",
      "RMSE: 2.2497\n",
      "\n",
      "Iter: 400\n",
      "MAPE: 0.0922938\n",
      "RMSE: 2.24709\n",
      "\n",
      "Iter: 600\n",
      "MAPE: 0.0921999\n",
      "RMSE: 2.24483\n",
      "\n",
      "Iter: 800\n",
      "MAPE: 0.0921524\n",
      "RMSE: 2.24389\n",
      "\n",
      "Iter: 1000\n",
      "MAPE: 0.0921205\n",
      "RMSE: 2.24329\n",
      "\n",
      "Imputation MAPE: 0.0920917\n",
      "Imputation RMSE: 2.24285\n",
      "\n",
      "Running time: 15725 seconds\n"
     ]
    }
   ],
   "source": [
    "import time\n",
    "start = time.time()\n",
    "dim = np.array(sparse_tensor.shape)\n",
    "rank = 20\n",
    "vector = []\n",
    "factor = []\n",
    "for k in range(len(dim)):\n",
    "    vector.append(0.1 * np.random.randn(dim[k],))\n",
    "    factor.append(0.1 * np.random.randn(dim[k], rank))\n",
    "burn_iter = 1000\n",
    "gibbs_iter = 200\n",
    "BATF_Gibbs(dense_tensor, sparse_tensor, vector, factor, burn_iter, gibbs_iter)\n",
    "end = time.time()\n",
    "print('Running time: %d seconds'%(end - start))"
   ]
  },
  {
   "cell_type": "markdown",
   "metadata": {},
   "source": [
    "**Scenario setting**:\n",
    "\n",
    "- Tensor size: $35912\\times 30\\times 24$ (road segment, day, time of day)\n",
    "- Random missing (RM)\n",
    "- 60% missing rate\n"
   ]
  },
  {
   "cell_type": "code",
   "execution_count": 18,
   "metadata": {},
   "outputs": [],
   "source": [
    "import numpy as np\n",
    "np.random.seed(1000)\n",
    "\n",
    "missing_rate = 0.6\n",
    "\n",
    "dense_mat = np.load('../datasets/London-data-set/hourly_speed_mat.npy')\n",
    "binary_mat = dense_mat.copy()\n",
    "binary_mat[binary_mat != 0] = 1\n",
    "pos = np.where(np.sum(binary_mat, axis = 1) > 0.7 * binary_mat.shape[1])\n",
    "dense_mat = dense_mat[pos[0], :]\n",
    "\n",
    "## Random missing (RM)\n",
    "random_mat = np.random.rand(dense_mat.shape[0], dense_mat.shape[1])\n",
    "binary_mat = np.round(random_mat + 0.5 - missing_rate)\n",
    "sparse_mat = np.multiply(dense_mat, binary_mat)\n",
    "\n",
    "dense_tensor = dense_mat.reshape([dense_mat.shape[0], 30, 24])\n",
    "sparse_tensor = sparse_mat.reshape([sparse_mat.shape[0], 30, 24])\n",
    "del dense_mat, sparse_mat, binary_mat, random_mat"
   ]
  },
  {
   "cell_type": "markdown",
   "metadata": {},
   "source": [
    "**Model setting**:\n",
    "\n",
    "- Low rank: 20\n",
    "- The number of burn-in iterations: 1000\n",
    "- The number of Gibbs iterations: 200"
   ]
  },
  {
   "cell_type": "code",
   "execution_count": 19,
   "metadata": {},
   "outputs": [
    {
     "name": "stdout",
     "output_type": "stream",
     "text": [
      "Iter: 200\n",
      "MAPE: 0.093838\n",
      "RMSE: 2.27918\n",
      "\n",
      "Iter: 400\n",
      "MAPE: 0.0936782\n",
      "RMSE: 2.2763\n",
      "\n",
      "Iter: 600\n",
      "MAPE: 0.0935403\n",
      "RMSE: 2.2732\n",
      "\n",
      "Iter: 800\n",
      "MAPE: 0.0934167\n",
      "RMSE: 2.27159\n",
      "\n",
      "Iter: 1000\n",
      "MAPE: 0.0933518\n",
      "RMSE: 2.27042\n",
      "\n",
      "Imputation MAPE: 0.0933077\n",
      "Imputation RMSE: 2.26969\n",
      "\n",
      "Running time: 14963 seconds\n"
     ]
    }
   ],
   "source": [
    "import time\n",
    "start = time.time()\n",
    "dim = np.array(sparse_tensor.shape)\n",
    "rank = 20\n",
    "vector = []\n",
    "factor = []\n",
    "for k in range(len(dim)):\n",
    "    vector.append(0.1 * np.random.randn(dim[k],))\n",
    "    factor.append(0.1 * np.random.randn(dim[k], rank))\n",
    "burn_iter = 1000\n",
    "gibbs_iter = 200\n",
    "BATF_Gibbs(dense_tensor, sparse_tensor, vector, factor, burn_iter, gibbs_iter)\n",
    "end = time.time()\n",
    "print('Running time: %d seconds'%(end - start))"
   ]
  },
  {
   "cell_type": "markdown",
   "metadata": {},
   "source": [
    "**Scenario setting**:\n",
    "\n",
    "- Tensor size: $35912\\times 30\\times 24$ (road segment, day, time of day)\n",
    "- Non-random missing (NM)\n",
    "- 40% missing rate\n"
   ]
  },
  {
   "cell_type": "code",
   "execution_count": 20,
   "metadata": {},
   "outputs": [],
   "source": [
    "import numpy as np\n",
    "np.random.seed(1000)\n",
    "\n",
    "missing_rate = 0.4\n",
    "\n",
    "dense_mat = np.load('../datasets/London-data-set/hourly_speed_mat.npy')\n",
    "binary_mat = dense_mat.copy()\n",
    "binary_mat[binary_mat != 0] = 1\n",
    "pos = np.where(np.sum(binary_mat, axis = 1) > 0.7 * binary_mat.shape[1])\n",
    "dense_mat = dense_mat[pos[0], :]\n",
    "\n",
    "## Non-random missing (NM)\n",
    "binary_mat = np.zeros(dense_mat.shape)\n",
    "random_mat = np.random.rand(dense_mat.shape[0], 30)\n",
    "for i1 in range(dense_mat.shape[0]):\n",
    "    for i2 in range(30):\n",
    "        binary_mat[i1, i2 * 24 : (i2 + 1) * 24] = np.round(random_mat[i1, i2] + 0.5 - missing_rate)\n",
    "sparse_mat = np.multiply(dense_mat, binary_mat)\n",
    "\n",
    "dense_tensor = dense_mat.reshape([dense_mat.shape[0], 30, 24])\n",
    "sparse_tensor = sparse_mat.reshape([sparse_mat.shape[0], 30, 24])\n",
    "del dense_mat, sparse_mat, binary_mat, random_mat"
   ]
  },
  {
   "cell_type": "markdown",
   "metadata": {},
   "source": [
    "**Model setting**:\n",
    "\n",
    "- Low rank: 20\n",
    "- The number of burn-in iterations: 1000\n",
    "- The number of Gibbs iterations: 200"
   ]
  },
  {
   "cell_type": "code",
   "execution_count": 21,
   "metadata": {},
   "outputs": [
    {
     "name": "stdout",
     "output_type": "stream",
     "text": [
      "Iter: 200\n",
      "MAPE: 0.095513\n",
      "RMSE: 2.32949\n",
      "\n",
      "Iter: 400\n",
      "MAPE: 0.0955237\n",
      "RMSE: 2.3318\n",
      "\n",
      "Iter: 600\n",
      "MAPE: 0.0955272\n",
      "RMSE: 2.33183\n",
      "\n",
      "Iter: 800\n",
      "MAPE: 0.0955202\n",
      "RMSE: 2.33174\n",
      "\n",
      "Iter: 1000\n",
      "MAPE: 0.0955029\n",
      "RMSE: 2.33134\n",
      "\n",
      "Imputation MAPE: 0.0954908\n",
      "Imputation RMSE: 2.33104\n",
      "\n",
      "Running time: 14209 seconds\n"
     ]
    }
   ],
   "source": [
    "import time\n",
    "start = time.time()\n",
    "dim = np.array(sparse_tensor.shape)\n",
    "rank = 20\n",
    "vector = []\n",
    "factor = []\n",
    "for k in range(len(dim)):\n",
    "    vector.append(0.1 * np.random.randn(dim[k],))\n",
    "    factor.append(0.1 * np.random.randn(dim[k], rank))\n",
    "burn_iter = 1000\n",
    "gibbs_iter = 200\n",
    "BATF_Gibbs(dense_tensor, sparse_tensor, vector, factor, burn_iter, gibbs_iter)\n",
    "end = time.time()\n",
    "print('Running time: %d seconds'%(end - start))"
   ]
  },
  {
   "cell_type": "markdown",
   "metadata": {},
   "source": [
    "## Evaluation on New York Taxi Data\n",
    "\n",
    "**Scenario setting**:\n",
    "\n",
    "- Tensor size: $30\\times 30\\times 1464$ (origin, destination, time)\n",
    "- Random missing (RM)\n",
    "- 40% missing rate\n"
   ]
  },
  {
   "cell_type": "markdown",
   "metadata": {},
   "source": [
    "**Model setting**:\n",
    "\n",
    "- Low rank: 30\n",
    "- The number of burn-in iterations: 1000\n",
    "- The number of Gibbs iterations: 200"
   ]
  },
  {
   "cell_type": "code",
   "execution_count": 17,
   "metadata": {},
   "outputs": [
    {
     "name": "stdout",
     "output_type": "stream",
     "text": [
      "Iter: 200\n",
      "MAPE: 0.496458\n",
      "RMSE: 4.86813\n",
      "\n",
      "Iter: 400\n",
      "MAPE: 0.491284\n",
      "RMSE: 4.92522\n",
      "\n",
      "Iter: 600\n",
      "MAPE: 0.494559\n",
      "RMSE: 4.91508\n",
      "\n",
      "Iter: 800\n",
      "MAPE: 0.497879\n",
      "RMSE: 4.8992\n",
      "\n",
      "Iter: 1000\n",
      "MAPE: 0.494153\n",
      "RMSE: 4.90593\n",
      "\n",
      "Imputation MAPE: 0.493206\n",
      "Imputation RMSE: 4.90428\n",
      "\n",
      "Running time: 2359 seconds\n"
     ]
    }
   ],
   "source": [
    "import time\n",
    "import scipy.io\n",
    "import numpy as np\n",
    "np.random.seed(1000)\n",
    "\n",
    "dense_tensor = scipy.io.loadmat('../datasets/NYC-data-set/tensor.mat')['tensor'].astype(np.float32)\n",
    "dim = dense_tensor.shape\n",
    "missing_rate = 0.4 # Random missing (RM)\n",
    "sparse_tensor = dense_tensor * np.round(np.random.rand(dim[0], dim[1], dim[2]) + 0.5 - missing_rate)\n",
    "\n",
    "start = time.time()\n",
    "dim = np.array(sparse_tensor.shape)\n",
    "rank = 30\n",
    "vector = []\n",
    "factor = []\n",
    "for k in range(len(dim)):\n",
    "    vector.append(0.1 * np.random.randn(dim[k],))\n",
    "    factor.append(0.1 * np.random.randn(dim[k], rank))\n",
    "burn_iter = 1000\n",
    "gibbs_iter = 200\n",
    "BATF_Gibbs(dense_tensor, sparse_tensor, vector, factor, burn_iter, gibbs_iter)\n",
    "end = time.time()\n",
    "print('Running time: %d seconds'%(end - start))"
   ]
  },
  {
   "cell_type": "markdown",
   "metadata": {},
   "source": [
    "**Scenario setting**:\n",
    "\n",
    "- Tensor size: $30\\times 30\\times 1464$ (origin, destination, time)\n",
    "- Random missing (RM)\n",
    "- 60% missing rate\n"
   ]
  },
  {
   "cell_type": "markdown",
   "metadata": {},
   "source": [
    "**Model setting**:\n",
    "\n",
    "- Low rank: 30\n",
    "- The number of burn-in iterations: 1000\n",
    "- The number of Gibbs iterations: 200"
   ]
  },
  {
   "cell_type": "code",
   "execution_count": 19,
   "metadata": {},
   "outputs": [
    {
     "name": "stdout",
     "output_type": "stream",
     "text": [
      "Iter: 200\n",
      "MAPE: 0.50914\n",
      "RMSE: 5.00745\n",
      "\n",
      "Iter: 400\n",
      "MAPE: 0.502967\n",
      "RMSE: 5.08066\n",
      "\n",
      "Iter: 600\n",
      "MAPE: 0.503814\n",
      "RMSE: 5.10919\n",
      "\n",
      "Iter: 800\n",
      "MAPE: 0.502028\n",
      "RMSE: 5.10919\n",
      "\n",
      "Iter: 1000\n",
      "MAPE: 0.502449\n",
      "RMSE: 5.11802\n",
      "\n",
      "Imputation MAPE: 0.501079\n",
      "Imputation RMSE: 5.11917\n",
      "\n",
      "Running time: 2386 seconds\n"
     ]
    }
   ],
   "source": [
    "import time\n",
    "import scipy.io\n",
    "import numpy as np\n",
    "np.random.seed(1000)\n",
    "\n",
    "dense_tensor = scipy.io.loadmat('../datasets/NYC-data-set/tensor.mat')['tensor'].astype(np.float32)\n",
    "dim = dense_tensor.shape\n",
    "missing_rate = 0.6 # Random missing (RM)\n",
    "sparse_tensor = dense_tensor * np.round(np.random.rand(dim[0], dim[1], dim[2]) + 0.5 - missing_rate)\n",
    "\n",
    "start = time.time()\n",
    "dim = np.array(sparse_tensor.shape)\n",
    "rank = 30\n",
    "vector = []\n",
    "factor = []\n",
    "for k in range(len(dim)):\n",
    "    vector.append(0.1 * np.random.randn(dim[k],))\n",
    "    factor.append(0.1 * np.random.randn(dim[k], rank))\n",
    "burn_iter = 1000\n",
    "gibbs_iter = 200\n",
    "BATF_Gibbs(dense_tensor, sparse_tensor, vector, factor, burn_iter, gibbs_iter)\n",
    "end = time.time()\n",
    "print('Running time: %d seconds'%(end - start))"
   ]
  },
  {
   "cell_type": "markdown",
   "metadata": {},
   "source": [
    "**Scenario setting**:\n",
    "\n",
    "- Tensor size: $30\\times 30\\times 1464$ (origin, destination, time)\n",
    "- Non-random missing (NM)\n",
    "- 40% missing rate\n"
   ]
  },
  {
   "cell_type": "markdown",
   "metadata": {},
   "source": [
    "**Model setting**:\n",
    "\n",
    "- Low rank: 30\n",
    "- The number of burn-in iterations: 1000\n",
    "- The number of Gibbs iterations: 200"
   ]
  },
  {
   "cell_type": "code",
   "execution_count": 21,
   "metadata": {},
   "outputs": [
    {
     "name": "stdout",
     "output_type": "stream",
     "text": [
      "Iter: 200\n",
      "MAPE: 0.565532\n",
      "RMSE: 4.84217\n",
      "\n",
      "Iter: 400\n",
      "MAPE: 0.559177\n",
      "RMSE: 4.89503\n",
      "\n",
      "Iter: 600\n",
      "MAPE: 0.556918\n",
      "RMSE: 4.89814\n",
      "\n",
      "Iter: 800\n",
      "MAPE: 0.55587\n",
      "RMSE: 4.88751\n",
      "\n",
      "Iter: 1000\n",
      "MAPE: 0.547338\n",
      "RMSE: 4.87227\n",
      "\n",
      "Imputation MAPE: 0.547406\n",
      "Imputation RMSE: 4.86312\n",
      "\n",
      "Running time: 2120 seconds\n"
     ]
    }
   ],
   "source": [
    "import time\n",
    "import scipy.io\n",
    "import numpy as np\n",
    "np.random.seed(1000)\n",
    "\n",
    "dense_tensor = scipy.io.loadmat('../datasets/NYC-data-set/tensor.mat')['tensor']\n",
    "dim = dense_tensor.shape\n",
    "nm_tensor = np.random.rand(dim[0], dim[1], dim[2])\n",
    "missing_rate = 0.4 # Non-random missing (NM)\n",
    "binary_tensor = np.zeros(dense_tensor.shape)\n",
    "for i1 in range(dim[0]):\n",
    "    for i2 in range(dim[1]):\n",
    "        for i3 in range(61):\n",
    "            binary_tensor[i1, i2, i3 * 24 : (i3 + 1) * 24] = np.round(nm_tensor[i1, i2, i3] + 0.5 - missing_rate)\n",
    "sparse_tensor = dense_tensor * binary_tensor\n",
    "\n",
    "start = time.time()\n",
    "dim = np.array(sparse_tensor.shape)\n",
    "rank = 30\n",
    "vector = []\n",
    "factor = []\n",
    "for k in range(len(dim)):\n",
    "    vector.append(0.1 * np.random.randn(dim[k],))\n",
    "    factor.append(0.1 * np.random.randn(dim[k], rank))\n",
    "burn_iter = 1000\n",
    "gibbs_iter = 200\n",
    "BATF_Gibbs(dense_tensor, sparse_tensor, vector, factor, burn_iter, gibbs_iter)\n",
    "end = time.time()\n",
    "print('Running time: %d seconds'%(end - start))"
   ]
  },
  {
   "cell_type": "markdown",
   "metadata": {},
   "source": [
    "## Evaluation on Pacific Temperature Data\n",
    "\n",
    "**Scenario setting**:\n",
    "\n",
    "- Tensor size: $30\\times 84\\times 396$ (grid, grid, time)\n",
    "- Random missing (RM)\n",
    "- 40% missing rate\n"
   ]
  },
  {
   "cell_type": "code",
   "execution_count": 16,
   "metadata": {},
   "outputs": [],
   "source": [
    "import numpy as np\n",
    "np.random.seed(1000)\n",
    "\n",
    "dense_tensor = np.load('../datasets/Temperature-data-set/tensor.npy').astype(np.float32)\n",
    "pos = np.where(dense_tensor[:, 0, :] > 50)\n",
    "dense_tensor[pos[0], :, pos[1]] = 0\n",
    "random_tensor = np.random.rand(dense_tensor.shape[0], dense_tensor.shape[1], dense_tensor.shape[2])\n",
    "missing_rate = 0.4\n",
    "\n",
    "## Random missing (RM)\n",
    "binary_tensor = np.round(random_tensor + 0.5 - missing_rate)\n",
    "sparse_tensor = dense_tensor.copy()\n",
    "sparse_tensor[binary_tensor == 0] = np.nan\n",
    "sparse_tensor[sparse_tensor == 0] = np.nan"
   ]
  },
  {
   "cell_type": "markdown",
   "metadata": {},
   "source": [
    "**Model setting**:\n",
    "\n",
    "- Low rank: 30\n",
    "- The number of burn-in iterations: 1000\n",
    "- The number of Gibbs iterations: 200"
   ]
  },
  {
   "cell_type": "code",
   "execution_count": 17,
   "metadata": {},
   "outputs": [
    {
     "name": "stdout",
     "output_type": "stream",
     "text": [
      "Iter: 200\n",
      "MAPE: 0.0150289\n",
      "RMSE: 0.50347\n",
      "\n",
      "Iter: 400\n",
      "MAPE: 0.0148072\n",
      "RMSE: 0.493748\n",
      "\n",
      "Iter: 600\n",
      "MAPE: 0.0145197\n",
      "RMSE: 0.483689\n",
      "\n",
      "Iter: 800\n",
      "MAPE: 0.0144342\n",
      "RMSE: 0.480458\n",
      "\n",
      "Iter: 1000\n",
      "MAPE: 0.014325\n",
      "RMSE: 0.477329\n",
      "\n",
      "Imputation MAPE: 0.0142515\n",
      "Imputation RMSE: 0.475171\n",
      "\n",
      "Running time: 582 seconds\n"
     ]
    }
   ],
   "source": [
    "import time\n",
    "start = time.time()\n",
    "dim = np.array(sparse_tensor.shape)\n",
    "rank = 30\n",
    "vector = []\n",
    "factor = []\n",
    "for k in range(len(dim)):\n",
    "    vector.append(0.1 * np.random.randn(dim[k],))\n",
    "    factor.append(0.1 * np.random.randn(dim[k], rank))\n",
    "burn_iter = 1000\n",
    "gibbs_iter = 200\n",
    "BATF_Gibbs(dense_tensor, sparse_tensor, vector, factor, burn_iter, gibbs_iter)\n",
    "end = time.time()\n",
    "print('Running time: %d seconds'%(end - start))"
   ]
  },
  {
   "cell_type": "markdown",
   "metadata": {},
   "source": [
    "**Scenario setting**:\n",
    "\n",
    "- Tensor size: $30\\times 84\\times 396$ (grid, grid, time)\n",
    "- Random missing (RM)\n",
    "- 60% missing rate\n"
   ]
  },
  {
   "cell_type": "code",
   "execution_count": 18,
   "metadata": {},
   "outputs": [],
   "source": [
    "import numpy as np\n",
    "np.random.seed(1000)\n",
    "\n",
    "dense_tensor = np.load('../datasets/Temperature-data-set/tensor.npy').astype(np.float32)\n",
    "pos = np.where(dense_tensor[:, 0, :] > 50)\n",
    "dense_tensor[pos[0], :, pos[1]] = 0\n",
    "random_tensor = np.random.rand(dense_tensor.shape[0], dense_tensor.shape[1], dense_tensor.shape[2])\n",
    "missing_rate = 0.6\n",
    "\n",
    "## Random missing (RM)\n",
    "binary_tensor = np.round(random_tensor + 0.5 - missing_rate)\n",
    "sparse_tensor = dense_tensor.copy()\n",
    "sparse_tensor[binary_tensor == 0] = np.nan\n",
    "sparse_tensor[sparse_tensor == 0] = np.nan"
   ]
  },
  {
   "cell_type": "markdown",
   "metadata": {},
   "source": [
    "**Model setting**:\n",
    "\n",
    "- Low rank: 30\n",
    "- The number of burn-in iterations: 1000\n",
    "- The number of Gibbs iterations: 200"
   ]
  },
  {
   "cell_type": "code",
   "execution_count": 19,
   "metadata": {},
   "outputs": [
    {
     "name": "stdout",
     "output_type": "stream",
     "text": [
      "Iter: 200\n",
      "MAPE: 0.0151992\n",
      "RMSE: 0.510084\n",
      "\n",
      "Iter: 400\n",
      "MAPE: 0.0148552\n",
      "RMSE: 0.497413\n",
      "\n",
      "Iter: 600\n",
      "MAPE: 0.0146831\n",
      "RMSE: 0.491068\n",
      "\n",
      "Iter: 800\n",
      "MAPE: 0.0145299\n",
      "RMSE: 0.48578\n",
      "\n",
      "Iter: 1000\n",
      "MAPE: 0.0144233\n",
      "RMSE: 0.481933\n",
      "\n",
      "Imputation MAPE: 0.0143321\n",
      "Imputation RMSE: 0.478828\n",
      "\n",
      "Running time: 564 seconds\n"
     ]
    }
   ],
   "source": [
    "import time\n",
    "start = time.time()\n",
    "dim = np.array(sparse_tensor.shape)\n",
    "rank = 30\n",
    "vector = []\n",
    "factor = []\n",
    "for k in range(len(dim)):\n",
    "    vector.append(0.1 * np.random.randn(dim[k],))\n",
    "    factor.append(0.1 * np.random.randn(dim[k], rank))\n",
    "burn_iter = 1000\n",
    "gibbs_iter = 200\n",
    "BATF_Gibbs(dense_tensor, sparse_tensor, vector, factor, burn_iter, gibbs_iter)\n",
    "end = time.time()\n",
    "print('Running time: %d seconds'%(end - start))"
   ]
  },
  {
   "cell_type": "markdown",
   "metadata": {},
   "source": [
    "**Scenario setting**:\n",
    "\n",
    "- Tensor size: $30\\times 84\\times 396$ (grid, grid, time)\n",
    "- Non-random missing (NM)\n",
    "- 40% missing rate\n"
   ]
  },
  {
   "cell_type": "code",
   "execution_count": 20,
   "metadata": {},
   "outputs": [],
   "source": [
    "import numpy as np\n",
    "np.random.seed(1000)\n",
    "\n",
    "dense_tensor = np.load('../datasets/Temperature-data-set/tensor.npy').astype(np.float32)\n",
    "pos = np.where(dense_tensor[:, 0, :] > 50)\n",
    "dense_tensor[pos[0], :, pos[1]] = 0\n",
    "random_tensor = np.random.rand(dense_tensor.shape[0], dense_tensor.shape[1], int(dense_tensor.shape[2] / 3))\n",
    "missing_rate = 0.4\n",
    "\n",
    "## Non-random missing (NM)\n",
    "binary_tensor = np.zeros(dense_tensor.shape)\n",
    "for i1 in range(dense_tensor.shape[0]):\n",
    "    for i2 in range(dense_tensor.shape[1]):\n",
    "        for i3 in range(int(dense_tensor.shape[2] / 3)):\n",
    "            binary_tensor[i1, i2, i3 * 3 : (i3 + 1) * 3] = np.round(random_tensor[i1, i2, i3] + 0.5 - missing_rate)\n",
    "sparse_tensor = dense_tensor.copy()\n",
    "sparse_tensor[binary_tensor == 0] = np.nan\n",
    "sparse_tensor[sparse_tensor == 0] = np.nan"
   ]
  },
  {
   "cell_type": "markdown",
   "metadata": {},
   "source": [
    "**Model setting**:\n",
    "\n",
    "- Low rank: 30\n",
    "- The number of burn-in iterations: 1000\n",
    "- The number of Gibbs iterations: 200"
   ]
  },
  {
   "cell_type": "code",
   "execution_count": 21,
   "metadata": {},
   "outputs": [
    {
     "name": "stdout",
     "output_type": "stream",
     "text": [
      "Iter: 200\n",
      "MAPE: 0.0151078\n",
      "RMSE: 0.506104\n",
      "\n",
      "Iter: 400\n",
      "MAPE: 0.0149149\n",
      "RMSE: 0.49768\n",
      "\n",
      "Iter: 600\n",
      "MAPE: 0.0147768\n",
      "RMSE: 0.492178\n",
      "\n",
      "Iter: 800\n",
      "MAPE: 0.0146589\n",
      "RMSE: 0.487993\n",
      "\n",
      "Iter: 1000\n",
      "MAPE: 0.0145806\n",
      "RMSE: 0.485344\n",
      "\n",
      "Imputation MAPE: 0.0145099\n",
      "Imputation RMSE: 0.483019\n",
      "\n",
      "Running time: 552 seconds\n"
     ]
    }
   ],
   "source": [
    "import time\n",
    "start = time.time()\n",
    "dim = np.array(sparse_tensor.shape)\n",
    "rank = 30\n",
    "vector = []\n",
    "factor = []\n",
    "for k in range(len(dim)):\n",
    "    vector.append(0.1 * np.random.randn(dim[k],))\n",
    "    factor.append(0.1 * np.random.randn(dim[k], rank))\n",
    "burn_iter = 1000\n",
    "gibbs_iter = 200\n",
    "BATF_Gibbs(dense_tensor, sparse_tensor, vector, factor, burn_iter, gibbs_iter)\n",
    "end = time.time()\n",
    "print('Running time: %d seconds'%(end - start))"
   ]
  },
  {
   "cell_type": "markdown",
   "metadata": {},
   "source": [
    "### License\n",
    "\n",
    "<div class=\"alert alert-block alert-danger\">\n",
    "<b>This work is released under the MIT license.</b>\n",
    "</div>"
   ]
  }
 ],
 "metadata": {
  "kernelspec": {
   "display_name": "Python 3",
   "language": "python",
   "name": "python3"
  },
  "language_info": {
   "codemirror_mode": {
    "name": "ipython",
    "version": 3
   },
   "file_extension": ".py",
   "mimetype": "text/x-python",
   "name": "python",
   "nbconvert_exporter": "python",
   "pygments_lexer": "ipython3",
   "version": "3.8.3"
  },
  "toc": {
   "base_numbering": 1,
   "nav_menu": {},
   "number_sections": true,
   "sideBar": true,
   "skip_h1_title": false,
   "title_cell": "Table of Contents",
   "title_sidebar": "Contents",
   "toc_cell": false,
   "toc_position": {},
   "toc_section_display": true,
   "toc_window_display": false
  }
 },
 "nbformat": 4,
 "nbformat_minor": 4
}
