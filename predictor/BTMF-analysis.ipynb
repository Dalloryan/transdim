{
 "cells": [
  {
   "cell_type": "markdown",
   "metadata": {},
   "source": [
    "# Bayesian Temporal Matrix Factorization\n",
    "\n",
    "**Published**: October 8, 2019\n",
    "\n",
    "**Revised**: October 8, 2020\n",
    "\n",
    "**Author**: Xinyu Chen [[**GitHub homepage**](https://github.com/xinychen)]\n",
    "\n",
    "**Download**: This Jupyter notebook is at our GitHub repository. If you want to evaluate the code, please download the notebook from the [**transdim**](https://github.com/xinychen/transdim/blob/master/imputer/BTMF.ipynb) repository.\n",
    "\n",
    "This notebook shows how to implement the Bayesian Temporal Matrix Factorization (BTMF), a fully Bayesian matrix factorization model, on some real-world data sets. To overcome the missing data problem in multivariate time series, BTMF takes into account both low-rank matrix structure and time series autoregression. For an in-depth discussion of BTMF, please see [1].\n",
    "\n",
    "<div class=\"alert alert-block alert-info\">\n",
    "<font color=\"black\">\n",
    "<b>[1]</b> Xinyu Chen, Lijun Sun (2019). <b>Bayesian temporal factorization for multidimensional time series prediction</b>. arXiv:1910.06366. <a href=\"https://arxiv.org/pdf/1910.06366.pdf\" title=\"PDF\"><b>[PDF]</b></a> \n",
    "</font>\n",
    "</div>"
   ]
  },
  {
   "cell_type": "markdown",
   "metadata": {},
   "source": [
    "## Problem Description\n",
    "\n",
    "We assume a spatiotemporal setting for multidimensional time series data throughout this work. In general, modern spatiotemporal data sets collected from sensor networks can be organized as matrix time series. For example, we can denote by matrix $Y\\in\\mathbb{R}^{N\\times T}$ a multivariate time series collected from $N$ locations/sensors on $T$ time points, with each row $$\\boldsymbol{y}_{i}=\\left(y_{i,1},y_{i,2},...,y_{i,t-1},y_{i,t},y_{i,t+1},...,y_{i,T}\\right)$$\n",
    "corresponding to the time series collected at location $i$.\n",
    "\n",
    "As mentioned, making accurate predictions on incomplete time series is very challenging, while missing data problem is almost inevitable in real-world applications. Figure 1 illustrates the prediction problem for incomplete time series data. Here we use $(i,t)\\in\\Omega$ to index the observed entries in matrix $Y$.\n",
    "\n",
    "<img src=\"../images/graphical_matrix_time_series.png\" alt=\"drawing\" width=\"500\"/>\n",
    "\n",
    "> **Figure 1**: Illustration of multivariate time series and the prediction problem in the presence of missing values (green: observed data; white: missing data; red: prediction).\n"
   ]
  },
  {
   "cell_type": "code",
   "execution_count": 1,
   "metadata": {},
   "outputs": [],
   "source": [
    "import numpy as np\n",
    "from numpy.linalg import inv as inv\n",
    "from numpy.random import normal as normrnd\n",
    "from numpy.random import multivariate_normal as mvnrnd\n",
    "from scipy.linalg import khatri_rao as kr_prod\n",
    "from scipy.stats import wishart\n",
    "from scipy.stats import invwishart\n",
    "from numpy.linalg import solve as solve\n",
    "from numpy.linalg import cholesky as cholesky_lower\n",
    "from scipy.linalg import cholesky as cholesky_upper\n",
    "from scipy.linalg import solve_triangular as solve_ut\n",
    "import matplotlib.pyplot as plt\n",
    "%matplotlib inline"
   ]
  },
  {
   "cell_type": "code",
   "execution_count": 2,
   "metadata": {},
   "outputs": [],
   "source": [
    "def mvnrnd_pre(mu, Lambda):\n",
    "    src = normrnd(size = (mu.shape[0],))\n",
    "    return solve_ut(cholesky_upper(Lambda, overwrite_a = True, check_finite = False), \n",
    "                    src, lower = False, check_finite = False, overwrite_b = True) + mu\n",
    "\n",
    "def cov_mat(mat, mat_bar):\n",
    "    mat = mat - mat_bar\n",
    "    return mat.T @ mat"
   ]
  },
  {
   "cell_type": "code",
   "execution_count": 3,
   "metadata": {},
   "outputs": [],
   "source": [
    "def sample_factor_w(tau_sparse_mat, tau_ind, W, X, tau, beta0 = 1, vargin = 0):\n",
    "    \"\"\"Sampling N-by-R factor matrix W and its hyperparameters (mu_w, Lambda_w).\"\"\"\n",
    "    \n",
    "    dim1, rank = W.shape\n",
    "    W_bar = np.mean(W, axis = 0)\n",
    "    temp = dim1 / (dim1 + beta0)\n",
    "    var_W_hyper = inv(np.eye(rank) + cov_mat(W, W_bar) + temp * beta0 * np.outer(W_bar, W_bar))\n",
    "    var_Lambda_hyper = wishart.rvs(df = dim1 + rank, scale = var_W_hyper)\n",
    "    var_mu_hyper = mvnrnd_pre(temp * W_bar, (dim1 + beta0) * var_Lambda_hyper)\n",
    "    \n",
    "    if dim1 * rank ** 2 > 1e+8:\n",
    "        vargin = 1\n",
    "    \n",
    "    if vargin == 0:\n",
    "        var1 = X.T\n",
    "        var2 = kr_prod(var1, var1)\n",
    "        var3 = (var2 @ tau_ind.T).reshape([rank, rank, dim1]) + var_Lambda_hyper[:, :, None]\n",
    "        var4 = var1 @ tau_sparse_mat.T + (var_Lambda_hyper @ var_mu_hyper)[:, None]\n",
    "        for i in range(dim1):\n",
    "            W[i, :] = mvnrnd_pre(solve(var3[:, :, i], var4[:, i]), var3[:, :, i])\n",
    "    elif vargin == 1:\n",
    "        for i in range(dim1):\n",
    "            pos0 = np.where(sparse_mat[i, :] != 0)\n",
    "            Xt = X[pos0[0], :]\n",
    "            var_mu = tau[i] * Xt.T @ sparse_mat[i, pos0[0]] + var_Lambda_hyper @ var_mu_hyper\n",
    "            var_Lambda = tau[i] * Xt.T @ Xt + var_Lambda_hyper\n",
    "            W[i, :] = mvnrnd_pre(solve(var_Lambda, var_mu), var_Lambda)\n",
    "    \n",
    "    return W"
   ]
  },
  {
   "cell_type": "code",
   "execution_count": 4,
   "metadata": {},
   "outputs": [],
   "source": [
    "def mnrnd(M, U, V):\n",
    "    \"\"\"\n",
    "    Generate matrix normal distributed random matrix.\n",
    "    M is a m-by-n matrix, U is a m-by-m matrix, and V is a n-by-n matrix.\n",
    "    \"\"\"\n",
    "    dim1, dim2 = M.shape\n",
    "    X0 = np.random.randn(dim1, dim2)\n",
    "    P = cholesky_lower(U)\n",
    "    Q = cholesky_lower(V)\n",
    "    \n",
    "    return M + P @ X0 @ Q.T\n",
    "\n",
    "def sample_var_coefficient(X, time_lags):\n",
    "    dim, rank = X.shape\n",
    "    d = time_lags.shape[0]\n",
    "    tmax = np.max(time_lags)\n",
    "    \n",
    "    Z_mat = X[tmax : dim, :]\n",
    "    Q_mat = np.zeros((dim - tmax, rank * d))\n",
    "    for k in range(d):\n",
    "        Q_mat[:, k * rank : (k + 1) * rank] = X[tmax - time_lags[k] : dim - time_lags[k], :]\n",
    "    var_Psi0 = np.eye(rank * d) + Q_mat.T @ Q_mat\n",
    "    var_Psi = inv(var_Psi0)\n",
    "    var_M = var_Psi @ Q_mat.T @ Z_mat\n",
    "    var_S = np.eye(rank) + Z_mat.T @ Z_mat - var_M.T @ var_Psi0 @ var_M\n",
    "    Sigma = invwishart.rvs(df = rank + dim - tmax, scale = var_S)\n",
    "    \n",
    "    return mnrnd(var_M, var_Psi, Sigma), Sigma"
   ]
  },
  {
   "cell_type": "code",
   "execution_count": 5,
   "metadata": {},
   "outputs": [],
   "source": [
    "def sample_factor_x(tau_sparse_mat, tau_ind, time_lags, W, X, A, Lambda_x):\n",
    "    \"\"\"Sampling T-by-R factor matrix X.\"\"\"\n",
    "    \n",
    "    dim2, rank = X.shape\n",
    "    tmax = np.max(time_lags)\n",
    "    tmin = np.min(time_lags)\n",
    "    d = time_lags.shape[0]\n",
    "    A0 = np.dstack([A] * d)\n",
    "    for k in range(d):\n",
    "        A0[k * rank : (k + 1) * rank, :, k] = 0\n",
    "    mat0 = Lambda_x @ A.T\n",
    "    mat1 = np.einsum('kij, jt -> kit', A.reshape([d, rank, rank]), Lambda_x)\n",
    "    mat2 = np.einsum('kit, kjt -> ij', mat1, A.reshape([d, rank, rank]))\n",
    "    \n",
    "    var1 = W.T\n",
    "    var2 = kr_prod(var1, var1)\n",
    "    var3 = (var2 @ tau_ind).reshape([rank, rank, dim2]) + Lambda_x[:, :, None]\n",
    "    var4 = var1 @ tau_sparse_mat\n",
    "    for t in range(dim2):\n",
    "        Mt = np.zeros((rank, rank))\n",
    "        Nt = np.zeros(rank)\n",
    "        Qt = mat0 @ X[t - time_lags, :].reshape(rank * d)\n",
    "        index = list(range(0, d))\n",
    "        if t >= dim2 - tmax and t < dim2 - tmin:\n",
    "            index = list(np.where(t + time_lags < dim2))[0]\n",
    "        elif t < tmax:\n",
    "            Qt = np.zeros(rank)\n",
    "            index = list(np.where(t + time_lags >= tmax))[0]\n",
    "        if t < dim2 - tmin:\n",
    "            Mt = mat2.copy()\n",
    "            temp = np.zeros((rank * d, len(index)))\n",
    "            n = 0\n",
    "            for k in index:\n",
    "                temp[:, n] = X[t + time_lags[k] - time_lags, :].reshape(rank * d)\n",
    "                n += 1\n",
    "            temp0 = X[t + time_lags[index], :].T - np.einsum('ijk, ik -> jk', A0[:, :, index], temp)\n",
    "            Nt = np.einsum('kij, jk -> i', mat1[index, :, :], temp0)\n",
    "        \n",
    "        var3[:, :, t] = var3[:, :, t] + Mt\n",
    "        if t < tmax:\n",
    "            var3[:, :, t] = var3[:, :, t] - Lambda_x + np.eye(rank)\n",
    "        X[t, :] = mvnrnd_pre(solve(var3[:, :, t], var4[:, t] + Nt + Qt), var3[:, :, t])\n",
    "\n",
    "    return X"
   ]
  },
  {
   "cell_type": "code",
   "execution_count": 6,
   "metadata": {},
   "outputs": [],
   "source": [
    "def sample_precision_tau(sparse_mat, mat_hat, ind):\n",
    "    var_alpha = 1e-6 + 0.5 * np.sum(ind, axis = 1)\n",
    "    var_beta = 1e-6 + 0.5 * np.sum(((sparse_mat - mat_hat) ** 2) * ind, axis = 1)\n",
    "    return np.random.gamma(var_alpha, 1 / var_beta)"
   ]
  },
  {
   "cell_type": "code",
   "execution_count": 7,
   "metadata": {},
   "outputs": [],
   "source": [
    "def compute_mape(var, var_hat):\n",
    "    return np.sum(np.abs(var - var_hat) / var) / var.shape[0]\n",
    "\n",
    "def compute_rmse(var, var_hat):\n",
    "    return  np.sqrt(np.sum((var - var_hat) ** 2) / var.shape[0])"
   ]
  },
  {
   "cell_type": "code",
   "execution_count": 8,
   "metadata": {},
   "outputs": [],
   "source": [
    "def ar4cast(A, X, Sigma, time_lags, multi_step):\n",
    "    dim, rank = X.shape\n",
    "    d = time_lags.shape[0]\n",
    "    X_new = np.append(X, np.zeros((multi_step, rank)), axis = 0)\n",
    "    for t in range(multi_step):\n",
    "        var = A.T @ X_new[dim + t - time_lags, :].reshape(rank * d)\n",
    "        X_new[dim + t, :] = mvnrnd(var, Sigma)\n",
    "    return X_new"
   ]
  },
  {
   "cell_type": "markdown",
   "metadata": {},
   "source": [
    "#### BTMF Implementation\n",
    "\n"
   ]
  },
  {
   "cell_type": "code",
   "execution_count": 9,
   "metadata": {},
   "outputs": [],
   "source": [
    "def BTMF(dense_mat, sparse_mat, init, rank, time_lags, burn_iter, gibbs_iter, multi_step = 1):\n",
    "    \"\"\"Bayesian Temporal Matrix Factorization, BTMF.\"\"\"\n",
    "    \n",
    "    dim1, dim2 = sparse_mat.shape\n",
    "    d = time_lags.shape[0]\n",
    "    W = init[\"W\"]\n",
    "    X = init[\"X\"]\n",
    "    pos_test = np.where((dense_mat != 0) & (sparse_mat == 0))\n",
    "    dense_test = dense_mat[pos_test]\n",
    "    del dense_mat\n",
    "    ind = sparse_mat != 0\n",
    "    pos_obs = np.where(ind)\n",
    "    tau = np.ones(dim1)\n",
    "    W_plus = np.zeros((dim1, rank, gibbs_iter))\n",
    "    A_plus = np.zeros((rank * d, rank, gibbs_iter))\n",
    "    tau_plus = np.zeros((dim1, gibbs_iter))\n",
    "    Sigma_plus = np.zeros((rank, rank, gibbs_iter))\n",
    "    temp_hat = np.zeros(len(pos_test[0]))\n",
    "    show_iter = 500\n",
    "    mat_hat_plus = np.zeros((dim1, dim2))\n",
    "    X_plus = np.zeros((dim2 + multi_step, rank, gibbs_iter))\n",
    "    mat_new_plus = np.zeros((dim1, multi_step))\n",
    "    for it in range(burn_iter + gibbs_iter):\n",
    "        tau_ind = tau[:, None] * ind\n",
    "        tau_sparse_mat = tau[:, None] * sparse_mat\n",
    "        W = sample_factor_w(tau_sparse_mat, tau_ind, W, X, tau, beta0 = 1, vargin = 0)\n",
    "        A, Sigma = sample_var_coefficient(X, time_lags)\n",
    "        X = sample_factor_x(tau_sparse_mat, tau_ind, time_lags, W, X, A, inv(Sigma))\n",
    "        mat_hat = W @ X.T\n",
    "        tau = sample_precision_tau(sparse_mat, mat_hat, ind)\n",
    "        temp_hat += mat_hat[pos_test]\n",
    "        if (it + 1) % show_iter == 0 and it < burn_iter:\n",
    "            temp_hat = temp_hat / show_iter\n",
    "            print('Iter: {}'.format(it + 1))\n",
    "            print('MAPE: {:.6}'.format(compute_mape(dense_test, temp_hat)))\n",
    "            print('RMSE: {:.6}'.format(compute_rmse(dense_test, temp_hat)))\n",
    "            temp_hat = np.zeros(len(pos_test[0]))\n",
    "            print()\n",
    "        if it + 1 > burn_iter:\n",
    "            W_plus[:, :, it - burn_iter] = W\n",
    "            A_plus[:, :, it - burn_iter] = A\n",
    "            Sigma_plus[:, :, it - burn_iter] = Sigma\n",
    "            tau_plus[:, it - burn_iter] = tau\n",
    "            mat_hat_plus += mat_hat\n",
    "            X0 = ar4cast(A, X, Sigma, time_lags, multi_step)\n",
    "            X_plus[:, :, it - burn_iter] = X0\n",
    "            mat_new_plus += W @ X0[dim2 : dim2 + multi_step, :].T\n",
    "    mat_hat = mat_hat_plus / gibbs_iter\n",
    "    print('Imputation MAPE: {:.6}'.format(compute_mape(dense_test, mat_hat[:, : dim2][pos_test])))\n",
    "    print('Imputation RMSE: {:.6}'.format(compute_rmse(dense_test, mat_hat[:, : dim2][pos_test])))\n",
    "    print()\n",
    "    mat_hat = np.append(mat_hat, mat_new_plus / gibbs_iter, axis = 1)\n",
    "    mat_hat[mat_hat < 0] = 0\n",
    "    \n",
    "    return mat_hat, W_plus, X_plus, A_plus, Sigma_plus, tau_plus"
   ]
  },
  {
   "cell_type": "code",
   "execution_count": 10,
   "metadata": {},
   "outputs": [],
   "source": [
    "def sample_factor_x_partial(tau_sparse_mat, tau_ind, time_lags, W, X, A, Lambda_x, back_step):\n",
    "    \"\"\"Sampling T-by-R factor matrix X.\"\"\"\n",
    "    \n",
    "    dim2, rank = X.shape\n",
    "    tmax = np.max(time_lags)\n",
    "    tmin = np.min(time_lags)\n",
    "    d = time_lags.shape[0]\n",
    "    A0 = np.dstack([A] * d)\n",
    "    for k in range(d):\n",
    "        A0[k * rank : (k + 1) * rank, :, k] = 0\n",
    "    mat0 = Lambda_x @ A.T\n",
    "    mat1 = np.einsum('kij, jt -> kit', A.reshape([d, rank, rank]), Lambda_x)\n",
    "    mat2 = np.einsum('kit, kjt -> ij', mat1, A.reshape([d, rank, rank]))\n",
    "    \n",
    "    var1 = W.T\n",
    "    var2 = kr_prod(var1, var1)\n",
    "    var3 = (var2 @ tau_ind[:, - back_step :]).reshape([rank, rank, back_step]) + Lambda_x[:, :, None]\n",
    "    var4 = var1 @ tau_sparse_mat[:, - back_step :]\n",
    "    for t in range(dim2 - back_step, dim2):\n",
    "        Mt = np.zeros((rank, rank))\n",
    "        Nt = np.zeros(rank)\n",
    "        Qt = mat0 @ X[t - time_lags, :].reshape(rank * d)\n",
    "        index = list(range(0, d))\n",
    "        if t >= dim2 - tmax and t < dim2 - tmin:\n",
    "            index = list(np.where(t + time_lags < dim2))[0]\n",
    "        if t < dim2 - tmin:\n",
    "            Mt = mat2.copy()\n",
    "            temp = np.zeros((rank * d, len(index)))\n",
    "            n = 0\n",
    "            for k in index:\n",
    "                temp[:, n] = X[t + time_lags[k] - time_lags, :].reshape(rank * d)\n",
    "                n += 1\n",
    "            temp0 = X[t + time_lags[index], :].T - np.einsum('ijk, ik -> jk', A0[:, :, index], temp)\n",
    "            Nt = np.einsum('kij, jk -> i', mat1[index, :, :], temp0)\n",
    "        var3[:, :, t + back_step - dim2] = var3[:, :, t + back_step - dim2] + Mt\n",
    "        X[t, :] = mvnrnd_pre(solve(var3[:, :, t + back_step - dim2], \n",
    "                                   var4[:, t + back_step - dim2] + Nt + Qt), var3[:, :, t + back_step - dim2])\n",
    "    return X"
   ]
  },
  {
   "cell_type": "code",
   "execution_count": 11,
   "metadata": {},
   "outputs": [],
   "source": [
    "def BTMF_partial(dense_mat, sparse_mat, init, rank, time_lags, burn_iter, gibbs_iter, multi_step = 1):\n",
    "    \"\"\"Bayesian Temporal Matrix Factorization, BTMF.\"\"\"\n",
    "    \n",
    "    dim1, dim2 = sparse_mat.shape\n",
    "    W_plus = init[\"W_plus\"]\n",
    "    X_plus = init[\"X_plus\"]\n",
    "    A_plus = init[\"A_plus\"]\n",
    "    Sigma_plus = init[\"Sigma_plus\"]\n",
    "    tau_plus = init[\"tau_plus\"]\n",
    "    ind = sparse_mat != 0\n",
    "    pos_obs = np.where(ind)\n",
    "    X_new_plus = np.zeros((dim2 + multi_step, rank, gibbs_iter))\n",
    "    mat_new_plus = np.zeros((dim1, multi_step))\n",
    "    back_step = 10 * multi_step\n",
    "    for it in range(gibbs_iter):\n",
    "        tau_ind = tau_plus[:, it][:, None] * ind\n",
    "        tau_sparse_mat = tau_plus[:, it][:, None] * sparse_mat\n",
    "        X = sample_factor_x_partial(tau_sparse_mat, tau_ind, time_lags, W_plus[:, :, it], \n",
    "                                    X_plus[:, :, it], A_plus[:, :, it], inv(Sigma_plus[:, :, it]), back_step)\n",
    "        X0 = ar4cast(A_plus[:, :, it], X, Sigma_plus[:, :, it], time_lags, multi_step)\n",
    "        X_new_plus[:, :, it] = X0\n",
    "        mat_new_plus += W_plus[:, :, it] @ X0[- multi_step :, :].T\n",
    "    mat_hat = mat_new_plus / gibbs_iter\n",
    "    mat_hat[mat_hat < 0] = 0\n",
    "    \n",
    "    return mat_hat, W_plus, X_new_plus, A_plus, Sigma_plus, tau_plus"
   ]
  },
  {
   "cell_type": "code",
   "execution_count": 12,
   "metadata": {},
   "outputs": [],
   "source": [
    "from ipywidgets import IntProgress\n",
    "from IPython.display import display\n",
    "\n",
    "def BTMF_forecast(dense_mat, sparse_mat, pred_step, multi_step, rank, time_lags, burn_iter, gibbs_iter):\n",
    "    T = dense_mat.shape[1]\n",
    "    start_time = T - pred_step\n",
    "    dim1 = dense_mat.shape[0]\n",
    "    max_count = int(np.ceil(pred_step / multi_step))\n",
    "    mat_hat = np.zeros((dim1, max_count * multi_step))\n",
    "    f = IntProgress(min = 0, max = max_count) # instantiate the bar\n",
    "    display(f) # display the bar\n",
    "    for t in range(max_count):\n",
    "        if t == 0:\n",
    "            init = {\"W\": 0.1 * np.random.randn(dim1, rank), \"X\": 0.1 * np.random.randn(start_time, rank)}\n",
    "            mat, W, X_new, A, Sigma, tau = BTMF(dense_mat[:, 0 : start_time], \n",
    "                sparse_mat[:, 0 : start_time], init, rank, time_lags, burn_iter, gibbs_iter, multi_step)\n",
    "        else:\n",
    "            init = {\"W_plus\": W, \"X_plus\": X_new, \"A_plus\": A, \"Sigma_plus\": Sigma, \"tau_plus\": tau}\n",
    "            mat, W, X_new, A, Sigma, tau = BTMF_partial(dense_mat[:, 0 : start_time + t * multi_step], \n",
    "                sparse_mat[:, 0 : start_time + t * multi_step], init, rank, time_lags, \n",
    "                                                        burn_iter, gibbs_iter, multi_step)\n",
    "        mat_hat[:, t * multi_step : (t + 1) * multi_step] = mat[:, - multi_step :]\n",
    "        f.value = t\n",
    "    small_dense_mat = dense_mat[:, start_time : dense_mat.shape[1]]\n",
    "    pos = np.where(small_dense_mat != 0)\n",
    "    print('Prediction MAPE: {:.6}'.format(compute_mape(small_dense_mat[pos], mat_hat[pos])))\n",
    "    print('Prediction RMSE: {:.6}'.format(compute_rmse(small_dense_mat[pos], mat_hat[pos])))\n",
    "    print()\n",
    "    return mat_hat"
   ]
  },
  {
   "cell_type": "markdown",
   "metadata": {},
   "source": [
    "## Imputation Performance of BTMF on London Movement Data"
   ]
  },
  {
   "cell_type": "code",
   "execution_count": 13,
   "metadata": {},
   "outputs": [],
   "source": [
    "import numpy as np\n",
    "np.random.seed(1000)\n",
    "\n",
    "missing_rate = 0.6\n",
    "\n",
    "dense_mat = np.load('../datasets/London-data-set/hourly_speed_mat.npy')\n",
    "binary_mat = dense_mat.copy()\n",
    "binary_mat[binary_mat != 0] = 1\n",
    "pos = np.where(np.sum(binary_mat, axis = 1) > 0.7 * binary_mat.shape[1])\n",
    "dense_mat = dense_mat[pos[0], :]\n",
    "\n",
    "## Random missing (RM)\n",
    "random_mat = np.random.rand(dense_mat.shape[0], dense_mat.shape[1])\n",
    "binary_mat = np.round(random_mat + 0.5 - missing_rate)\n",
    "sparse_mat = dense_mat * binary_mat"
   ]
  },
  {
   "cell_type": "code",
   "execution_count": 14,
   "metadata": {},
   "outputs": [
    {
     "name": "stdout",
     "output_type": "stream",
     "text": [
      "Iter: 500\n",
      "MAPE: 0.0973495\n",
      "RMSE: 2.42629\n",
      "\n",
      "Iter: 1000\n",
      "MAPE: 0.0932676\n",
      "RMSE: 2.29969\n",
      "\n",
      "Imputation MAPE: 0.0931991\n",
      "Imputation RMSE: 2.29774\n",
      "\n",
      "Running time: 3660 seconds\n"
     ]
    }
   ],
   "source": [
    "import time\n",
    "start = time.time()\n",
    "dim1, dim2 = sparse_mat.shape\n",
    "rank = 20\n",
    "time_lags = np.array([1, 2, 24])\n",
    "init = {\"W\": 0.01 * np.random.randn(dim1, rank), \"X\": 0.01 * np.random.randn(dim2, rank)}\n",
    "burn_iter = 1000\n",
    "gibbs_iter = 200\n",
    "mat_hat, W, X, A, Sigma, tau = BTMF(dense_mat, sparse_mat, init, rank, time_lags, burn_iter, gibbs_iter)\n",
    "mat_hat = mat_hat[:, : -1]\n",
    "end = time.time()\n",
    "print('Running time: %d seconds'%(end - start))"
   ]
  },
  {
   "cell_type": "code",
   "execution_count": 33,
   "metadata": {},
   "outputs": [
    {
     "data": {
      "image/png": "[encoded data removed]",
      "text/plain": [
       "<Figure size 1200x120 with 1 Axes>"
      ]
     },
     "metadata": {},
     "output_type": "display_data"
    },
    {
     "data": {
      "image/png": "[encoded data removed]",
      "text/plain": [
       "<Figure size 1200x120 with 1 Axes>"
      ]
     },
     "metadata": {},
     "output_type": "display_data"
    },
    {
     "data": {
      "image/png": "[encoded data removed]",
      "text/plain": [
       "<Figure size 1200x120 with 1 Axes>"
      ]
     },
     "metadata": {},
     "output_type": "display_data"
    }
   ],
   "source": [
    "for loc in [0, 1, 2]:\n",
    "    plt.style.use('classic')\n",
    "    fig = plt.figure(figsize = (15, 1.5))\n",
    "    ax = fig.add_axes([0.04, 0.18, 0.94, 0.75])\n",
    "#     pos = np.where((dense_mat[loc, :] > 0) & (sparse_mat[loc, :] == 0))\n",
    "#     plt.plot(pos[0], dense_mat[loc, pos[0]], '.', markersize = 6, color = \"blue\")\n",
    "    pos = np.where(sparse_mat[loc, :] > 0)\n",
    "    plt.plot(pos[0], dense_mat[loc, pos[0]], '.', markersize = 7, color = \"black\")\n",
    "    plt.plot(mat_hat[loc, :], color = 'red', linewidth = 2.5)\n",
    "    plt.xticks(np.arange(0, 24 * 30 + 1, 24))\n",
    "    plt.xlim([-2, 24 * 30 + 1])\n",
    "    if loc == 0:\n",
    "        plt.ylim([5, 35])\n",
    "    elif loc == 1:\n",
    "        plt.ylim([10, 35])\n",
    "    elif loc == 2:\n",
    "        plt.ylim([10, 25])\n",
    "    plt.ylabel('Speed')\n",
    "    plt.show()\n",
    "    fig.savefig(\"../images/BTMF_imputation_London_{}.pdf\".format(loc + 1))"
   ]
  },
  {
   "cell_type": "markdown",
   "metadata": {},
   "source": [
    "## Evaluation on Guangzhou Speed Data\n",
    "\n"
   ]
  },
  {
   "cell_type": "markdown",
   "metadata": {},
   "source": [
    "**Scenario setting**:\n",
    "\n",
    "- Tensor size: $214\\times 61\\times 144$ (road segment, day, time of day)\n",
    "- Test on original data\n"
   ]
  },
  {
   "cell_type": "code",
   "execution_count": 13,
   "metadata": {},
   "outputs": [],
   "source": [
    "import scipy.io\n",
    "import warnings\n",
    "warnings.simplefilter('ignore')\n",
    "\n",
    "tensor = scipy.io.loadmat('../datasets/Guangzhou-data-set/tensor.mat')['tensor']\n",
    "dense_mat = tensor.reshape([tensor.shape[0], tensor.shape[1] * tensor.shape[2]])\n",
    "sparse_mat = dense_mat.copy()"
   ]
  },
  {
   "cell_type": "markdown",
   "metadata": {},
   "source": [
    "**Model setting**:\n",
    "\n",
    "- Low rank: 10\n",
    "- Total (rolling) prediction horizons: 7 * 144\n",
    "- Time lags: {1, 2, 144, 144 + 1, 144 + 2, 7 * 144, 7 * 144 + 1, 7 * 144 + 2}\n",
    "- The number of burn-in iterations: 1000\n",
    "- The number of Gibbs iterations: 200"
   ]
  },
  {
   "cell_type": "code",
   "execution_count": 14,
   "metadata": {},
   "outputs": [
    {
     "name": "stdout",
     "output_type": "stream",
     "text": [
      "Prediction time horizon (delta) = 2.\n"
     ]
    },
    {
     "data": {
      "application/vnd.jupyter.widget-view+json": {
       "model_id": "c27e7e0698e64d29be773784124f9754",
       "version_major": 2,
       "version_minor": 0
      },
      "text/plain": [
       "IntProgress(value=0, max=504)"
      ]
     },
     "metadata": {},
     "output_type": "display_data"
    },
    {
     "name": "stdout",
     "output_type": "stream",
     "text": [
      "Iter: 500\n",
      "MAPE: nan\n",
      "RMSE: nan\n",
      "\n",
      "Iter: 1000\n",
      "MAPE: nan\n",
      "RMSE: nan\n",
      "\n",
      "Imputation MAPE: nan\n",
      "Imputation RMSE: nan\n",
      "\n",
      "Prediction MAPE: 0.110104\n",
      "Prediction RMSE: 4.44345\n",
      "\n",
      "Running time: 6904 seconds\n",
      "\n",
      "Prediction time horizon (delta) = 4.\n"
     ]
    },
    {
     "data": {
      "application/vnd.jupyter.widget-view+json": {
       "model_id": "5c66ae3964c64c5aafc29b6b8e9118d3",
       "version_major": 2,
       "version_minor": 0
      },
      "text/plain": [
       "IntProgress(value=0, max=252)"
      ]
     },
     "metadata": {},
     "output_type": "display_data"
    },
    {
     "name": "stdout",
     "output_type": "stream",
     "text": [
      "Iter: 500\n",
      "MAPE: nan\n",
      "RMSE: nan\n",
      "\n",
      "Iter: 1000\n",
      "MAPE: nan\n",
      "RMSE: nan\n",
      "\n",
      "Imputation MAPE: nan\n",
      "Imputation RMSE: nan\n",
      "\n",
      "Prediction MAPE: 0.112229\n",
      "Prediction RMSE: 4.5363\n",
      "\n",
      "Running time: 4315 seconds\n",
      "\n",
      "Prediction time horizon (delta) = 6.\n"
     ]
    },
    {
     "data": {
      "application/vnd.jupyter.widget-view+json": {
       "model_id": "6733b4f4a1024f1f80fd9f548108c450",
       "version_major": 2,
       "version_minor": 0
      },
      "text/plain": [
       "IntProgress(value=0, max=168)"
      ]
     },
     "metadata": {},
     "output_type": "display_data"
    },
    {
     "name": "stdout",
     "output_type": "stream",
     "text": [
      "Iter: 500\n",
      "MAPE: nan\n",
      "RMSE: nan\n",
      "\n",
      "Iter: 1000\n",
      "MAPE: nan\n",
      "RMSE: nan\n",
      "\n",
      "Imputation MAPE: nan\n",
      "Imputation RMSE: nan\n",
      "\n",
      "Prediction MAPE: 0.115902\n",
      "Prediction RMSE: 4.68475\n",
      "\n",
      "Running time: 3529 seconds\n",
      "\n",
      "Prediction time horizon (delta) = 12.\n"
     ]
    },
    {
     "data": {
      "application/vnd.jupyter.widget-view+json": {
       "model_id": "a5bdf628227340a19f5953084197eddf",
       "version_major": 2,
       "version_minor": 0
      },
      "text/plain": [
       "IntProgress(value=0, max=84)"
      ]
     },
     "metadata": {},
     "output_type": "display_data"
    },
    {
     "name": "stdout",
     "output_type": "stream",
     "text": [
      "Iter: 500\n",
      "MAPE: nan\n",
      "RMSE: nan\n",
      "\n",
      "Iter: 1000\n",
      "MAPE: nan\n",
      "RMSE: nan\n",
      "\n",
      "Imputation MAPE: nan\n",
      "Imputation RMSE: nan\n",
      "\n",
      "Prediction MAPE: 0.116883\n",
      "Prediction RMSE: 4.72244\n",
      "\n",
      "Running time: 2604 seconds\n",
      "\n",
      "Prediction time horizon (delta) = 18.\n"
     ]
    },
    {
     "data": {
      "application/vnd.jupyter.widget-view+json": {
       "model_id": "5390c91abe4b409ab9f75f916ffaf65b",
       "version_major": 2,
       "version_minor": 0
      },
      "text/plain": [
       "IntProgress(value=0, max=56)"
      ]
     },
     "metadata": {},
     "output_type": "display_data"
    },
    {
     "name": "stdout",
     "output_type": "stream",
     "text": [
      "Iter: 500\n",
      "MAPE: nan\n",
      "RMSE: nan\n",
      "\n",
      "Iter: 1000\n",
      "MAPE: nan\n",
      "RMSE: nan\n",
      "\n",
      "Imputation MAPE: nan\n",
      "Imputation RMSE: nan\n",
      "\n",
      "Prediction MAPE: 0.121511\n",
      "Prediction RMSE: 4.89538\n",
      "\n",
      "Running time: 2237 seconds\n",
      "\n",
      "Prediction time horizon (delta) = 24.\n"
     ]
    },
    {
     "data": {
      "application/vnd.jupyter.widget-view+json": {
       "model_id": "e2fcffcbbefc46ffbeaeb7fc24208d35",
       "version_major": 2,
       "version_minor": 0
      },
      "text/plain": [
       "IntProgress(value=0, max=42)"
      ]
     },
     "metadata": {},
     "output_type": "display_data"
    },
    {
     "name": "stdout",
     "output_type": "stream",
     "text": [
      "Iter: 500\n",
      "MAPE: nan\n",
      "RMSE: nan\n",
      "\n",
      "Iter: 1000\n",
      "MAPE: nan\n",
      "RMSE: nan\n",
      "\n",
      "Imputation MAPE: nan\n",
      "Imputation RMSE: nan\n",
      "\n",
      "Prediction MAPE: 0.121798\n",
      "Prediction RMSE: 4.90678\n",
      "\n",
      "Running time: 2107 seconds\n",
      "\n",
      "Prediction time horizon (delta) = 30.\n"
     ]
    },
    {
     "data": {
      "application/vnd.jupyter.widget-view+json": {
       "model_id": "2acaf99d173e49dca1e1604f25197e47",
       "version_major": 2,
       "version_minor": 0
      },
      "text/plain": [
       "IntProgress(value=0, max=34)"
      ]
     },
     "metadata": {},
     "output_type": "display_data"
    },
    {
     "name": "stdout",
     "output_type": "stream",
     "text": [
      "Iter: 500\n",
      "MAPE: nan\n",
      "RMSE: nan\n",
      "\n",
      "Iter: 1000\n",
      "MAPE: nan\n",
      "RMSE: nan\n",
      "\n",
      "Imputation MAPE: nan\n",
      "Imputation RMSE: nan\n",
      "\n",
      "Prediction MAPE: 0.121713\n",
      "Prediction RMSE: 4.92293\n",
      "\n",
      "Running time: 2053 seconds\n",
      "\n",
      "Prediction time horizon (delta) = 36.\n"
     ]
    },
    {
     "data": {
      "application/vnd.jupyter.widget-view+json": {
       "model_id": "e963f0e1396b47e6ad3fbbed534b2a4d",
       "version_major": 2,
       "version_minor": 0
      },
      "text/plain": [
       "IntProgress(value=0, max=28)"
      ]
     },
     "metadata": {},
     "output_type": "display_data"
    },
    {
     "name": "stdout",
     "output_type": "stream",
     "text": [
      "Iter: 500\n",
      "MAPE: nan\n",
      "RMSE: nan\n",
      "\n",
      "Iter: 1000\n",
      "MAPE: nan\n",
      "RMSE: nan\n",
      "\n",
      "Imputation MAPE: nan\n",
      "Imputation RMSE: nan\n",
      "\n",
      "Prediction MAPE: 0.124013\n",
      "Prediction RMSE: 4.96694\n",
      "\n",
      "Running time: 1981 seconds\n",
      "\n",
      "Prediction time horizon (delta) = 42.\n"
     ]
    },
    {
     "data": {
      "application/vnd.jupyter.widget-view+json": {
       "model_id": "c52c5c27fdbc4f33a9378594b1bf09e9",
       "version_major": 2,
       "version_minor": 0
      },
      "text/plain": [
       "IntProgress(value=0, max=24)"
      ]
     },
     "metadata": {},
     "output_type": "display_data"
    },
    {
     "name": "stdout",
     "output_type": "stream",
     "text": [
      "Iter: 500\n",
      "MAPE: nan\n",
      "RMSE: nan\n",
      "\n",
      "Iter: 1000\n",
      "MAPE: nan\n",
      "RMSE: nan\n",
      "\n",
      "Imputation MAPE: nan\n",
      "Imputation RMSE: nan\n",
      "\n",
      "Prediction MAPE: 0.123838\n",
      "Prediction RMSE: 4.99738\n",
      "\n",
      "Running time: 1950 seconds\n",
      "\n",
      "Prediction time horizon (delta) = 48.\n"
     ]
    },
    {
     "data": {
      "application/vnd.jupyter.widget-view+json": {
       "model_id": "1940645708c84ddf842ca1c05ede42a4",
       "version_major": 2,
       "version_minor": 0
      },
      "text/plain": [
       "IntProgress(value=0, max=21)"
      ]
     },
     "metadata": {},
     "output_type": "display_data"
    },
    {
     "name": "stdout",
     "output_type": "stream",
     "text": [
      "Iter: 500\n",
      "MAPE: nan\n",
      "RMSE: nan\n",
      "\n",
      "Iter: 1000\n",
      "MAPE: nan\n",
      "RMSE: nan\n",
      "\n",
      "Imputation MAPE: nan\n",
      "Imputation RMSE: nan\n",
      "\n",
      "Prediction MAPE: 0.122124\n",
      "Prediction RMSE: 4.92829\n",
      "\n",
      "Running time: 1919 seconds\n",
      "\n",
      "Prediction time horizon (delta) = 54.\n"
     ]
    },
    {
     "data": {
      "application/vnd.jupyter.widget-view+json": {
       "model_id": "1b6dd43a37164de19d5995d2d7d9d63f",
       "version_major": 2,
       "version_minor": 0
      },
      "text/plain": [
       "IntProgress(value=0, max=19)"
      ]
     },
     "metadata": {},
     "output_type": "display_data"
    },
    {
     "name": "stdout",
     "output_type": "stream",
     "text": [
      "Iter: 500\n",
      "MAPE: nan\n",
      "RMSE: nan\n",
      "\n",
      "Iter: 1000\n",
      "MAPE: nan\n",
      "RMSE: nan\n",
      "\n",
      "Imputation MAPE: nan\n",
      "Imputation RMSE: nan\n",
      "\n",
      "Prediction MAPE: 0.125164\n",
      "Prediction RMSE: 5.00299\n",
      "\n",
      "Running time: 1897 seconds\n",
      "\n"
     ]
    }
   ],
   "source": [
    "import time\n",
    "rank = 10\n",
    "pred_step = 7 * 144\n",
    "time_lags = np.array([1, 2, 3, 144, 145, 146, 7 * 144, 7 * 144 + 1, 7 * 144 + 2])\n",
    "burn_iter = 1000\n",
    "gibbs_iter = 200\n",
    "for multi_step in [2, 4, 6, 12, 18, 24, 30, 36, 42, 48, 54]:\n",
    "    start = time.time()\n",
    "    print('Prediction time horizon (delta) = {}.'.format(multi_step))\n",
    "    mat_hat = BTMF_forecast(dense_mat, sparse_mat, pred_step, multi_step, rank, time_lags, burn_iter, gibbs_iter)\n",
    "    end = time.time()\n",
    "    print('Running time: %d seconds'%(end - start))\n",
    "    print()"
   ]
  },
  {
   "cell_type": "markdown",
   "metadata": {},
   "source": [
    "**Scenario setting**:\n",
    "\n",
    "- Tensor size: $214\\times 61\\times 144$ (road segment, day, time of day)\n",
    "- Non-random missing (NM)\n",
    "- 40% missing rate\n"
   ]
  },
  {
   "cell_type": "code",
   "execution_count": null,
   "metadata": {},
   "outputs": [],
   "source": [
    "import scipy.io\n",
    "\n",
    "tensor = scipy.io.loadmat('../datasets/Guangzhou-data-set/tensor.mat')['tensor']\n",
    "random_matrix = scipy.io.loadmat('../datasets/Guangzhou-data-set/random_matrix.mat')['random_matrix']\n",
    "dense_mat = tensor.reshape([tensor.shape[0], tensor.shape[1] * tensor.shape[2]])\n",
    "missing_rate = 0.4\n",
    "\n",
    "## Non-random missing (NM)\n",
    "binary_tensor = np.zeros(tensor.shape)\n",
    "for i1 in range(tensor.shape[0]):\n",
    "    for i2 in range(tensor.shape[1]):\n",
    "        binary_tensor[i1, i2, :] = np.round(random_matrix[i1, i2] + 0.5 - missing_rate)\n",
    "binary_mat = binary_tensor.reshape([binary_tensor.shape[0], binary_tensor.shape[1] * binary_tensor.shape[2]])\n",
    "sparse_mat = np.multiply(dense_mat, binary_mat)"
   ]
  },
  {
   "cell_type": "markdown",
   "metadata": {},
   "source": [
    "**Model setting**:\n",
    "\n",
    "- Low rank: 10\n",
    "- Total (rolling) prediction horizons: 7 * 144\n",
    "- Time lags: {1, 2, 144, 144 + 1, 144 + 2, 7 * 144, 7 * 144 + 1, 7 * 144 + 2}\n",
    "- The number of burn-in iterations: 1000\n",
    "- The number of Gibbs iterations: 200"
   ]
  },
  {
   "cell_type": "code",
   "execution_count": null,
   "metadata": {},
   "outputs": [],
   "source": [
    "import time\n",
    "rank = 10\n",
    "pred_step = 7 * 144\n",
    "time_lags = np.array([1, 2, 3, 144, 145, 146, 7 * 144, 7 * 144 + 1, 7 * 144 + 2])\n",
    "burn_iter = 1000\n",
    "gibbs_iter = 200\n",
    "for multi_step in [2, 4, 6, 12, 18, 24, 30, 36, 42, 48, 54]:\n",
    "    start = time.time()\n",
    "    print('Prediction time horizon (delta) = {}.'.format(multi_step))\n",
    "    mat_hat = BTMF_forecast(dense_mat, sparse_mat, pred_step, multi_step, rank, time_lags, burn_iter, gibbs_iter)\n",
    "    end = time.time()\n",
    "    print('Running time: %d seconds'%(end - start))\n",
    "    print()"
   ]
  },
  {
   "cell_type": "markdown",
   "metadata": {},
   "source": [
    "**Scenario setting**:\n",
    "\n",
    "- Tensor size: $214\\times 61\\times 144$ (road segment, day, time of day)\n",
    "- Random missing (RM)\n",
    "- 40% missing rate\n"
   ]
  },
  {
   "cell_type": "code",
   "execution_count": 17,
   "metadata": {},
   "outputs": [],
   "source": [
    "import scipy.io\n",
    "\n",
    "tensor = scipy.io.loadmat('../datasets/Guangzhou-data-set/tensor.mat')['tensor']\n",
    "random_tensor = scipy.io.loadmat('../datasets/Guangzhou-data-set/random_tensor.mat')['random_tensor']\n",
    "dense_mat = tensor.reshape([tensor.shape[0], tensor.shape[1] * tensor.shape[2]])\n",
    "missing_rate = 0.4\n",
    "\n",
    "## Random missing (RM)\n",
    "binary_mat = (np.round(random_tensor + 0.5 - missing_rate)\n",
    "              .reshape([random_tensor.shape[0], random_tensor.shape[1] * random_tensor.shape[2]]))\n",
    "sparse_mat = np.multiply(dense_mat, binary_mat)"
   ]
  },
  {
   "cell_type": "markdown",
   "metadata": {},
   "source": [
    "**Model setting**:\n",
    "\n",
    "- Low rank: 10\n",
    "- Total (rolling) prediction horizons: 7 * 144\n",
    "- Time lags: {1, 2, 144, 144 + 1, 144 + 2, 7 * 144, 7 * 144 + 1, 7 * 144 + 2}\n",
    "- The number of burn-in iterations: 1000\n",
    "- The number of Gibbs iterations: 200"
   ]
  },
  {
   "cell_type": "code",
   "execution_count": 18,
   "metadata": {
    "scrolled": true
   },
   "outputs": [
    {
     "name": "stdout",
     "output_type": "stream",
     "text": [
      "Prediction time horizon (delta) = 2.\n"
     ]
    },
    {
     "data": {
      "application/vnd.jupyter.widget-view+json": {
       "model_id": "0c2620c24a9a444ab0de4df4e52e28f6",
       "version_major": 2,
       "version_minor": 0
      },
      "text/plain": [
       "IntProgress(value=0, max=504)"
      ]
     },
     "metadata": {},
     "output_type": "display_data"
    },
    {
     "name": "stdout",
     "output_type": "stream",
     "text": [
      "Iter: 500\n",
      "MAPE: 0.0993829\n",
      "RMSE: 4.18949\n",
      "\n",
      "Iter: 1000\n",
      "MAPE: 0.0989114\n",
      "RMSE: 4.1819\n",
      "\n",
      "Imputation MAPE: 0.0988468\n",
      "Imputation RMSE: 4.17973\n",
      "\n",
      "Prediction MAPE: 0.112213\n",
      "Prediction RMSE: 4.51016\n",
      "\n",
      "Running time: 3492 seconds\n",
      "\n",
      "Prediction time horizon (delta) = 4.\n"
     ]
    },
    {
     "data": {
      "application/vnd.jupyter.widget-view+json": {
       "model_id": "e4103013c00446d8a3801efc8002b404",
       "version_major": 2,
       "version_minor": 0
      },
      "text/plain": [
       "IntProgress(value=0, max=252)"
      ]
     },
     "metadata": {},
     "output_type": "display_data"
    },
    {
     "name": "stdout",
     "output_type": "stream",
     "text": [
      "Iter: 500\n",
      "MAPE: 0.0997469\n",
      "RMSE: 4.19924\n",
      "\n",
      "Iter: 1000\n",
      "MAPE: 0.0990423\n",
      "RMSE: 4.18674\n",
      "\n",
      "Imputation MAPE: 0.0989876\n",
      "Imputation RMSE: 4.18463\n",
      "\n",
      "Prediction MAPE: 0.115235\n",
      "Prediction RMSE: 4.63405\n",
      "\n",
      "Running time: 2571 seconds\n",
      "\n",
      "Prediction time horizon (delta) = 6.\n"
     ]
    },
    {
     "data": {
      "application/vnd.jupyter.widget-view+json": {
       "model_id": "9566e12aaf08408abb7c4dbe754ae637",
       "version_major": 2,
       "version_minor": 0
      },
      "text/plain": [
       "IntProgress(value=0, max=168)"
      ]
     },
     "metadata": {},
     "output_type": "display_data"
    },
    {
     "name": "stdout",
     "output_type": "stream",
     "text": [
      "Iter: 500\n",
      "MAPE: 0.099505\n",
      "RMSE: 4.19266\n",
      "\n",
      "Iter: 1000\n",
      "MAPE: 0.0989668\n",
      "RMSE: 4.18399\n",
      "\n",
      "Imputation MAPE: 0.0989411\n",
      "Imputation RMSE: 4.18264\n",
      "\n",
      "Prediction MAPE: 0.116363\n",
      "Prediction RMSE: 4.68983\n",
      "\n",
      "Running time: 2269 seconds\n",
      "\n",
      "Prediction time horizon (delta) = 12.\n"
     ]
    },
    {
     "data": {
      "application/vnd.jupyter.widget-view+json": {
       "model_id": "4a4d1b6f04b74ce6a1fb05b809bd4543",
       "version_major": 2,
       "version_minor": 0
      },
      "text/plain": [
       "IntProgress(value=0, max=84)"
      ]
     },
     "metadata": {},
     "output_type": "display_data"
    },
    {
     "name": "stdout",
     "output_type": "stream",
     "text": [
      "Iter: 500\n",
      "MAPE: 0.099577\n",
      "RMSE: 4.193\n",
      "\n",
      "Iter: 1000\n",
      "MAPE: 0.0989684\n",
      "RMSE: 4.18373\n",
      "\n",
      "Imputation MAPE: 0.0989261\n",
      "Imputation RMSE: 4.182\n",
      "\n",
      "Prediction MAPE: 0.120896\n",
      "Prediction RMSE: 4.86973\n",
      "\n",
      "Running time: 2023 seconds\n",
      "\n",
      "Prediction time horizon (delta) = 18.\n"
     ]
    },
    {
     "data": {
      "application/vnd.jupyter.widget-view+json": {
       "model_id": "9e6cb5fb7a764fa29888fed76159985b",
       "version_major": 2,
       "version_minor": 0
      },
      "text/plain": [
       "IntProgress(value=0, max=56)"
      ]
     },
     "metadata": {},
     "output_type": "display_data"
    },
    {
     "name": "stdout",
     "output_type": "stream",
     "text": [
      "Iter: 500\n",
      "MAPE: 0.0996057\n",
      "RMSE: 4.19374\n",
      "\n",
      "Iter: 1000\n",
      "MAPE: 0.0989558\n",
      "RMSE: 4.18319\n",
      "\n",
      "Imputation MAPE: 0.0989164\n",
      "Imputation RMSE: 4.18176\n",
      "\n",
      "Prediction MAPE: 0.122955\n",
      "Prediction RMSE: 4.92942\n",
      "\n",
      "Running time: 1961 seconds\n",
      "\n",
      "Prediction time horizon (delta) = 24.\n"
     ]
    },
    {
     "data": {
      "application/vnd.jupyter.widget-view+json": {
       "model_id": "e833cc5aafab48ab94bfa085f13859a7",
       "version_major": 2,
       "version_minor": 0
      },
      "text/plain": [
       "IntProgress(value=0, max=42)"
      ]
     },
     "metadata": {},
     "output_type": "display_data"
    },
    {
     "name": "stdout",
     "output_type": "stream",
     "text": [
      "Iter: 500\n",
      "MAPE: 0.0995086\n",
      "RMSE: 4.19253\n",
      "\n",
      "Iter: 1000\n",
      "MAPE: 0.0989654\n",
      "RMSE: 4.18327\n",
      "\n",
      "Imputation MAPE: 0.0989188\n",
      "Imputation RMSE: 4.18183\n",
      "\n",
      "Prediction MAPE: 0.124686\n",
      "Prediction RMSE: 5.03772\n",
      "\n",
      "Running time: 1906 seconds\n",
      "\n",
      "Prediction time horizon (delta) = 30.\n"
     ]
    },
    {
     "data": {
      "application/vnd.jupyter.widget-view+json": {
       "model_id": "fc57be72a2ac46d39367fd30c603d706",
       "version_major": 2,
       "version_minor": 0
      },
      "text/plain": [
       "IntProgress(value=0, max=34)"
      ]
     },
     "metadata": {},
     "output_type": "display_data"
    },
    {
     "name": "stdout",
     "output_type": "stream",
     "text": [
      "Iter: 500\n",
      "MAPE: 0.0993523\n",
      "RMSE: 4.1881\n",
      "\n",
      "Iter: 1000\n",
      "MAPE: 0.0988961\n",
      "RMSE: 4.18106\n",
      "\n",
      "Imputation MAPE: 0.0988854\n",
      "Imputation RMSE: 4.1805\n",
      "\n",
      "Prediction MAPE: 0.125232\n",
      "Prediction RMSE: 5.04831\n",
      "\n",
      "Running time: 1986 seconds\n",
      "\n",
      "Prediction time horizon (delta) = 36.\n"
     ]
    },
    {
     "data": {
      "application/vnd.jupyter.widget-view+json": {
       "model_id": "77ebe10174fb46cd87483838594590a0",
       "version_major": 2,
       "version_minor": 0
      },
      "text/plain": [
       "IntProgress(value=0, max=28)"
      ]
     },
     "metadata": {},
     "output_type": "display_data"
    },
    {
     "name": "stdout",
     "output_type": "stream",
     "text": [
      "Iter: 500\n",
      "MAPE: 0.0993949\n",
      "RMSE: 4.18789\n",
      "\n",
      "Iter: 1000\n",
      "MAPE: 0.0989599\n",
      "RMSE: 4.18354\n",
      "\n",
      "Imputation MAPE: 0.09893\n",
      "Imputation RMSE: 4.18216\n",
      "\n",
      "Prediction MAPE: 0.128182\n",
      "Prediction RMSE: 5.14731\n",
      "\n",
      "Running time: 1955 seconds\n",
      "\n",
      "Prediction time horizon (delta) = 42.\n"
     ]
    },
    {
     "data": {
      "application/vnd.jupyter.widget-view+json": {
       "model_id": "6b571fba35924c2590bbe544d91f75f7",
       "version_major": 2,
       "version_minor": 0
      },
      "text/plain": [
       "IntProgress(value=0, max=24)"
      ]
     },
     "metadata": {},
     "output_type": "display_data"
    },
    {
     "name": "stdout",
     "output_type": "stream",
     "text": [
      "Iter: 500\n",
      "MAPE: 0.0993313\n",
      "RMSE: 4.18762\n",
      "\n",
      "Iter: 1000\n",
      "MAPE: 0.0989223\n",
      "RMSE: 4.18231\n",
      "\n",
      "Imputation MAPE: 0.0988696\n",
      "Imputation RMSE: 4.18026\n",
      "\n",
      "Prediction MAPE: 0.125404\n",
      "Prediction RMSE: 5.04455\n",
      "\n",
      "Running time: 1836 seconds\n",
      "\n",
      "Prediction time horizon (delta) = 48.\n"
     ]
    },
    {
     "data": {
      "application/vnd.jupyter.widget-view+json": {
       "model_id": "2fbe58b96fdb49048bfe0794db1d3b1e",
       "version_major": 2,
       "version_minor": 0
      },
      "text/plain": [
       "IntProgress(value=0, max=21)"
      ]
     },
     "metadata": {},
     "output_type": "display_data"
    },
    {
     "name": "stdout",
     "output_type": "stream",
     "text": [
      "Iter: 500\n",
      "MAPE: 0.0994085\n",
      "RMSE: 4.18929\n",
      "\n",
      "Iter: 1000\n",
      "MAPE: 0.0989061\n",
      "RMSE: 4.18137\n",
      "\n",
      "Imputation MAPE: 0.0988842\n",
      "Imputation RMSE: 4.18015\n",
      "\n",
      "Prediction MAPE: 0.126043\n",
      "Prediction RMSE: 5.07421\n",
      "\n",
      "Running time: 1805 seconds\n",
      "\n",
      "Prediction time horizon (delta) = 54.\n"
     ]
    },
    {
     "data": {
      "application/vnd.jupyter.widget-view+json": {
       "model_id": "ed3a45106a764bdb9ab448cc019326c0",
       "version_major": 2,
       "version_minor": 0
      },
      "text/plain": [
       "IntProgress(value=0, max=19)"
      ]
     },
     "metadata": {},
     "output_type": "display_data"
    },
    {
     "name": "stdout",
     "output_type": "stream",
     "text": [
      "Iter: 500\n",
      "MAPE: 0.0992844\n",
      "RMSE: 4.18683\n",
      "\n",
      "Iter: 1000\n",
      "MAPE: 0.0988439\n",
      "RMSE: 4.17924\n",
      "\n",
      "Imputation MAPE: 0.0987823\n",
      "Imputation RMSE: 4.17773\n",
      "\n",
      "Prediction MAPE: 0.128917\n",
      "Prediction RMSE: 5.12116\n",
      "\n",
      "Running time: 1802 seconds\n",
      "\n"
     ]
    }
   ],
   "source": [
    "import time\n",
    "rank = 10\n",
    "pred_step = 7 * 144\n",
    "time_lags = np.array([1, 2, 3, 144, 145, 146, 7 * 144, 7 * 144 + 1, 7 * 144 + 2])\n",
    "burn_iter = 1000\n",
    "gibbs_iter = 200\n",
    "for multi_step in [2, 4, 6, 12, 18, 24, 30, 36, 42, 48, 54]:\n",
    "    start = time.time()\n",
    "    print('Prediction time horizon (delta) = {}.'.format(multi_step))\n",
    "    mat_hat = BTMF_forecast(dense_mat, sparse_mat, pred_step, multi_step, rank, time_lags, burn_iter, gibbs_iter)\n",
    "    end = time.time()\n",
    "    print('Running time: %d seconds'%(end - start))\n",
    "    print()"
   ]
  },
  {
   "cell_type": "markdown",
   "metadata": {},
   "source": [
    "**Scenario setting**:\n",
    "\n",
    "- Tensor size: $214\\times 61\\times 144$ (road segment, day, time of day)\n",
    "- Random missing (RM)\n",
    "- 60% missing rate\n"
   ]
  },
  {
   "cell_type": "code",
   "execution_count": 19,
   "metadata": {},
   "outputs": [],
   "source": [
    "import scipy.io\n",
    "\n",
    "tensor = scipy.io.loadmat('../datasets/Guangzhou-data-set/tensor.mat')['tensor']\n",
    "random_tensor = scipy.io.loadmat('../datasets/Guangzhou-data-set/random_tensor.mat')['random_tensor']\n",
    "dense_mat = tensor.reshape([tensor.shape[0], tensor.shape[1] * tensor.shape[2]])\n",
    "missing_rate = 0.6\n",
    "\n",
    "## Random missing (RM)\n",
    "binary_mat = (np.round(random_tensor + 0.5 - missing_rate)\n",
    "              .reshape([random_tensor.shape[0], random_tensor.shape[1] * random_tensor.shape[2]]))\n",
    "sparse_mat = np.multiply(dense_mat, binary_mat)"
   ]
  },
  {
   "cell_type": "markdown",
   "metadata": {},
   "source": [
    "**Model setting**:\n",
    "\n",
    "- Low rank: 10\n",
    "- Total (rolling) prediction horizons: 7 * 144\n",
    "- Time lags: {1, 2, 144, 144 + 1, 144 + 2, 7 * 144, 7 * 144 + 1, 7 * 144 + 2}\n",
    "- The number of burn-in iterations: 1000\n",
    "- The number of Gibbs iterations: 200"
   ]
  },
  {
   "cell_type": "code",
   "execution_count": 20,
   "metadata": {},
   "outputs": [
    {
     "name": "stdout",
     "output_type": "stream",
     "text": [
      "Prediction time horizon (delta) = 2.\n"
     ]
    },
    {
     "data": {
      "application/vnd.jupyter.widget-view+json": {
       "model_id": "839a2ae684324d2a81053198d209fbfb",
       "version_major": 2,
       "version_minor": 0
      },
      "text/plain": [
       "IntProgress(value=0, max=504)"
      ]
     },
     "metadata": {},
     "output_type": "display_data"
    },
    {
     "name": "stdout",
     "output_type": "stream",
     "text": [
      "Iter: 500\n",
      "MAPE: 0.100833\n",
      "RMSE: 4.22916\n",
      "\n",
      "Iter: 1000\n",
      "MAPE: 0.10005\n",
      "RMSE: 4.2153\n",
      "\n",
      "Imputation MAPE: 0.100027\n",
      "Imputation RMSE: 4.21426\n",
      "\n",
      "Prediction MAPE: 0.114409\n",
      "Prediction RMSE: 4.58439\n",
      "\n",
      "Running time: 3368 seconds\n",
      "\n",
      "Prediction time horizon (delta) = 4.\n"
     ]
    },
    {
     "data": {
      "application/vnd.jupyter.widget-view+json": {
       "model_id": "a7e16b2bef134d019f145295057a646b",
       "version_major": 2,
       "version_minor": 0
      },
      "text/plain": [
       "IntProgress(value=0, max=252)"
      ]
     },
     "metadata": {},
     "output_type": "display_data"
    },
    {
     "name": "stdout",
     "output_type": "stream",
     "text": [
      "Iter: 500\n",
      "MAPE: 0.101056\n",
      "RMSE: 4.23486\n",
      "\n",
      "Iter: 1000\n",
      "MAPE: 0.10016\n",
      "RMSE: 4.21878\n",
      "\n",
      "Imputation MAPE: 0.100078\n",
      "Imputation RMSE: 4.21675\n",
      "\n",
      "Prediction MAPE: 0.11659\n",
      "Prediction RMSE: 4.65573\n",
      "\n",
      "Running time: 2536 seconds\n",
      "\n",
      "Prediction time horizon (delta) = 6.\n"
     ]
    },
    {
     "data": {
      "application/vnd.jupyter.widget-view+json": {
       "model_id": "0d217addbccc40f2b00204dea603941c",
       "version_major": 2,
       "version_minor": 0
      },
      "text/plain": [
       "IntProgress(value=0, max=168)"
      ]
     },
     "metadata": {},
     "output_type": "display_data"
    },
    {
     "name": "stdout",
     "output_type": "stream",
     "text": [
      "Iter: 500\n",
      "MAPE: 0.101059\n",
      "RMSE: 4.23679\n",
      "\n",
      "Iter: 1000\n",
      "MAPE: 0.100104\n",
      "RMSE: 4.21738\n",
      "\n",
      "Imputation MAPE: 0.100057\n",
      "Imputation RMSE: 4.21576\n",
      "\n",
      "Prediction MAPE: 0.119279\n",
      "Prediction RMSE: 4.78046\n",
      "\n",
      "Running time: 2269 seconds\n",
      "\n",
      "Prediction time horizon (delta) = 12.\n"
     ]
    },
    {
     "data": {
      "application/vnd.jupyter.widget-view+json": {
       "model_id": "d487e3b93a2343a98820ae39064d26fc",
       "version_major": 2,
       "version_minor": 0
      },
      "text/plain": [
       "IntProgress(value=0, max=84)"
      ]
     },
     "metadata": {},
     "output_type": "display_data"
    },
    {
     "name": "stdout",
     "output_type": "stream",
     "text": [
      "Iter: 500\n",
      "MAPE: 0.100641\n",
      "RMSE: 4.22299\n",
      "\n",
      "Iter: 1000\n",
      "MAPE: 0.100071\n",
      "RMSE: 4.21611\n",
      "\n",
      "Imputation MAPE: 0.100026\n",
      "Imputation RMSE: 4.21438\n",
      "\n",
      "Prediction MAPE: 0.122735\n",
      "Prediction RMSE: 4.94997\n",
      "\n",
      "Running time: 1989 seconds\n",
      "\n",
      "Prediction time horizon (delta) = 18.\n"
     ]
    },
    {
     "data": {
      "application/vnd.jupyter.widget-view+json": {
       "model_id": "cb5e4608a4b84e2eb5665bb10a0c6994",
       "version_major": 2,
       "version_minor": 0
      },
      "text/plain": [
       "IntProgress(value=0, max=56)"
      ]
     },
     "metadata": {},
     "output_type": "display_data"
    },
    {
     "name": "stdout",
     "output_type": "stream",
     "text": [
      "Iter: 500\n",
      "MAPE: 0.101092\n",
      "RMSE: 4.23565\n",
      "\n",
      "Iter: 1000\n",
      "MAPE: 0.100154\n",
      "RMSE: 4.21875\n",
      "\n",
      "Imputation MAPE: 0.100105\n",
      "Imputation RMSE: 4.21734\n",
      "\n",
      "Prediction MAPE: 0.126193\n",
      "Prediction RMSE: 5.08354\n",
      "\n",
      "Running time: 1922 seconds\n",
      "\n",
      "Prediction time horizon (delta) = 24.\n"
     ]
    },
    {
     "data": {
      "application/vnd.jupyter.widget-view+json": {
       "model_id": "60e7679149e8451595a7ccf68051bc9c",
       "version_major": 2,
       "version_minor": 0
      },
      "text/plain": [
       "IntProgress(value=0, max=42)"
      ]
     },
     "metadata": {},
     "output_type": "display_data"
    },
    {
     "name": "stdout",
     "output_type": "stream",
     "text": [
      "Iter: 500\n",
      "MAPE: 0.101315\n",
      "RMSE: 4.24456\n",
      "\n",
      "Iter: 1000\n",
      "MAPE: 0.100279\n",
      "RMSE: 4.22245\n",
      "\n",
      "Imputation MAPE: 0.100119\n",
      "Imputation RMSE: 4.21768\n",
      "\n",
      "Prediction MAPE: 0.1272\n",
      "Prediction RMSE: 5.14062\n",
      "\n",
      "Running time: 1868 seconds\n",
      "\n",
      "Prediction time horizon (delta) = 30.\n"
     ]
    },
    {
     "data": {
      "application/vnd.jupyter.widget-view+json": {
       "model_id": "e806c269da974335b738b979ba50e516",
       "version_major": 2,
       "version_minor": 0
      },
      "text/plain": [
       "IntProgress(value=0, max=34)"
      ]
     },
     "metadata": {},
     "output_type": "display_data"
    },
    {
     "name": "stdout",
     "output_type": "stream",
     "text": [
      "Iter: 500\n",
      "MAPE: 0.100748\n",
      "RMSE: 4.22508\n",
      "\n",
      "Iter: 1000\n",
      "MAPE: 0.100095\n",
      "RMSE: 4.21729\n",
      "\n",
      "Imputation MAPE: 0.100074\n",
      "Imputation RMSE: 4.21624\n",
      "\n",
      "Prediction MAPE: 0.127517\n",
      "Prediction RMSE: 5.08173\n",
      "\n",
      "Running time: 1859 seconds\n",
      "\n",
      "Prediction time horizon (delta) = 36.\n"
     ]
    },
    {
     "data": {
      "application/vnd.jupyter.widget-view+json": {
       "model_id": "37788ad25b0b479c8e65cfcfef10b139",
       "version_major": 2,
       "version_minor": 0
      },
      "text/plain": [
       "IntProgress(value=0, max=28)"
      ]
     },
     "metadata": {},
     "output_type": "display_data"
    },
    {
     "name": "stdout",
     "output_type": "stream",
     "text": [
      "Iter: 500\n",
      "MAPE: 0.100641\n",
      "RMSE: 4.22573\n",
      "\n",
      "Iter: 1000\n",
      "MAPE: 0.100024\n",
      "RMSE: 4.21438\n",
      "\n",
      "Imputation MAPE: 0.100007\n",
      "Imputation RMSE: 4.21354\n",
      "\n",
      "Prediction MAPE: 0.128397\n",
      "Prediction RMSE: 5.13845\n",
      "\n",
      "Running time: 1840 seconds\n",
      "\n",
      "Prediction time horizon (delta) = 42.\n"
     ]
    },
    {
     "data": {
      "application/vnd.jupyter.widget-view+json": {
       "model_id": "6668e030e8044291b62024f1dba449cd",
       "version_major": 2,
       "version_minor": 0
      },
      "text/plain": [
       "IntProgress(value=0, max=24)"
      ]
     },
     "metadata": {},
     "output_type": "display_data"
    },
    {
     "name": "stdout",
     "output_type": "stream",
     "text": [
      "Iter: 500\n",
      "MAPE: 0.101084\n",
      "RMSE: 4.23696\n",
      "\n",
      "Iter: 1000\n",
      "MAPE: 0.100128\n",
      "RMSE: 4.21826\n",
      "\n",
      "Imputation MAPE: 0.100101\n",
      "Imputation RMSE: 4.21737\n",
      "\n",
      "Prediction MAPE: 0.127483\n",
      "Prediction RMSE: 5.06699\n",
      "\n",
      "Running time: 1834 seconds\n",
      "\n",
      "Prediction time horizon (delta) = 48.\n"
     ]
    },
    {
     "data": {
      "application/vnd.jupyter.widget-view+json": {
       "model_id": "bdc54af41c044362861d9d22c5f699ee",
       "version_major": 2,
       "version_minor": 0
      },
      "text/plain": [
       "IntProgress(value=0, max=21)"
      ]
     },
     "metadata": {},
     "output_type": "display_data"
    },
    {
     "name": "stdout",
     "output_type": "stream",
     "text": [
      "Iter: 500\n",
      "MAPE: 0.101008\n",
      "RMSE: 4.23385\n",
      "\n",
      "Iter: 1000\n",
      "MAPE: 0.100163\n",
      "RMSE: 4.21887\n",
      "\n",
      "Imputation MAPE: 0.100063\n",
      "Imputation RMSE: 4.21606\n",
      "\n",
      "Prediction MAPE: 0.12774\n",
      "Prediction RMSE: 5.12949\n",
      "\n",
      "Running time: 1836 seconds\n",
      "\n",
      "Prediction time horizon (delta) = 54.\n"
     ]
    },
    {
     "data": {
      "application/vnd.jupyter.widget-view+json": {
       "model_id": "c4282d68210847a7a5d791670be1f0a0",
       "version_major": 2,
       "version_minor": 0
      },
      "text/plain": [
       "IntProgress(value=0, max=19)"
      ]
     },
     "metadata": {},
     "output_type": "display_data"
    },
    {
     "name": "stdout",
     "output_type": "stream",
     "text": [
      "Iter: 500\n",
      "MAPE: 0.101061\n",
      "RMSE: 4.23526\n",
      "\n",
      "Iter: 1000\n",
      "MAPE: 0.100138\n",
      "RMSE: 4.21821\n",
      "\n",
      "Imputation MAPE: 0.100067\n",
      "Imputation RMSE: 4.21589\n",
      "\n",
      "Prediction MAPE: 0.128683\n",
      "Prediction RMSE: 5.11977\n",
      "\n",
      "Running time: 1820 seconds\n",
      "\n"
     ]
    }
   ],
   "source": [
    "import time\n",
    "rank = 10\n",
    "pred_step = 7 * 144\n",
    "time_lags = np.array([1, 2, 3, 144, 145, 146, 7 * 144, 7 * 144 + 1, 7 * 144 + 2])\n",
    "burn_iter = 1000\n",
    "gibbs_iter = 200\n",
    "for multi_step in [2, 4, 6, 12, 18, 24, 30, 36, 42, 48, 54]:\n",
    "    start = time.time()\n",
    "    print('Prediction time horizon (delta) = {}.'.format(multi_step))\n",
    "    mat_hat = BTMF_forecast(dense_mat, sparse_mat, pred_step, multi_step, rank, time_lags, burn_iter, gibbs_iter)\n",
    "    end = time.time()\n",
    "    print('Running time: %d seconds'%(end - start))\n",
    "    print()"
   ]
  },
  {
   "cell_type": "markdown",
   "metadata": {},
   "source": [
    "## Evaluation on Hangzhou Flow Data\n",
    "\n"
   ]
  },
  {
   "cell_type": "markdown",
   "metadata": {},
   "source": [
    "**Scenario setting**:\n",
    "\n",
    "- Tensor size: $80\\times 25\\times 108$ (metro station, day, time of day)\n",
    "- Test on original data\n"
   ]
  },
  {
   "cell_type": "code",
   "execution_count": 21,
   "metadata": {},
   "outputs": [],
   "source": [
    "import scipy.io\n",
    "import warnings\n",
    "warnings.simplefilter('ignore')\n",
    "\n",
    "tensor = scipy.io.loadmat('../datasets/Hangzhou-data-set/tensor.mat')['tensor']\n",
    "dense_mat = tensor.reshape([tensor.shape[0], tensor.shape[1] * tensor.shape[2]])\n",
    "sparse_mat = dense_mat.copy()"
   ]
  },
  {
   "cell_type": "markdown",
   "metadata": {},
   "source": [
    "**Model setting**:\n",
    "\n",
    "- Low rank: 10\n",
    "- Total (rolling) prediction horizons: 7 * 108\n",
    "- Time lags: {1, 2, 108, 108 + 1, 108 + 2, 7 * 108, 7 * 108 + 1, 7 * 108 + 2}\n",
    "- The number of burn-in iterations: 1000\n",
    "- The number of Gibbs iterations: 200"
   ]
  },
  {
   "cell_type": "code",
   "execution_count": 22,
   "metadata": {
    "scrolled": true
   },
   "outputs": [
    {
     "name": "stdout",
     "output_type": "stream",
     "text": [
      "Prediction time horizon (delta) = 2.\n"
     ]
    },
    {
     "data": {
      "application/vnd.jupyter.widget-view+json": {
       "model_id": "574f6fd21d80427c84a84eee5f45292c",
       "version_major": 2,
       "version_minor": 0
      },
      "text/plain": [
       "IntProgress(value=0, max=378)"
      ]
     },
     "metadata": {},
     "output_type": "display_data"
    },
    {
     "name": "stdout",
     "output_type": "stream",
     "text": [
      "Iter: 500\n",
      "MAPE: nan\n",
      "RMSE: nan\n",
      "\n",
      "Iter: 1000\n",
      "MAPE: nan\n",
      "RMSE: nan\n",
      "\n",
      "Imputation MAPE: nan\n",
      "Imputation RMSE: nan\n",
      "\n",
      "Prediction MAPE: 0.25531\n",
      "Prediction RMSE: 43.1972\n",
      "\n",
      "Running time: 625 seconds\n",
      "\n",
      "Prediction time horizon (delta) = 4.\n"
     ]
    },
    {
     "data": {
      "application/vnd.jupyter.widget-view+json": {
       "model_id": "c9ff9ea100094d13a98678d4eca2e723",
       "version_major": 2,
       "version_minor": 0
      },
      "text/plain": [
       "IntProgress(value=0, max=189)"
      ]
     },
     "metadata": {},
     "output_type": "display_data"
    },
    {
     "name": "stdout",
     "output_type": "stream",
     "text": [
      "Iter: 500\n",
      "MAPE: nan\n",
      "RMSE: nan\n",
      "\n",
      "Iter: 1000\n",
      "MAPE: nan\n",
      "RMSE: nan\n",
      "\n",
      "Imputation MAPE: nan\n",
      "Imputation RMSE: nan\n",
      "\n",
      "Prediction MAPE: 0.285376\n",
      "Prediction RMSE: 43.393\n",
      "\n",
      "Running time: 583 seconds\n",
      "\n",
      "Prediction time horizon (delta) = 6.\n"
     ]
    },
    {
     "data": {
      "application/vnd.jupyter.widget-view+json": {
       "model_id": "b8c7c260d7cf4903abe00c3833261a52",
       "version_major": 2,
       "version_minor": 0
      },
      "text/plain": [
       "IntProgress(value=0, max=126)"
      ]
     },
     "metadata": {},
     "output_type": "display_data"
    },
    {
     "name": "stdout",
     "output_type": "stream",
     "text": [
      "Iter: 500\n",
      "MAPE: nan\n",
      "RMSE: nan\n",
      "\n",
      "Iter: 1000\n",
      "MAPE: nan\n",
      "RMSE: nan\n",
      "\n",
      "Imputation MAPE: nan\n",
      "Imputation RMSE: nan\n",
      "\n",
      "Prediction MAPE: 0.275334\n",
      "Prediction RMSE: 44.748\n",
      "\n",
      "Running time: 571 seconds\n",
      "\n",
      "Prediction time horizon (delta) = 12.\n"
     ]
    },
    {
     "data": {
      "application/vnd.jupyter.widget-view+json": {
       "model_id": "ea8c38348cdd49478122cf60a364c0f2",
       "version_major": 2,
       "version_minor": 0
      },
      "text/plain": [
       "IntProgress(value=0, max=63)"
      ]
     },
     "metadata": {},
     "output_type": "display_data"
    },
    {
     "name": "stdout",
     "output_type": "stream",
     "text": [
      "Iter: 500\n",
      "MAPE: nan\n",
      "RMSE: nan\n",
      "\n",
      "Iter: 1000\n",
      "MAPE: nan\n",
      "RMSE: nan\n",
      "\n",
      "Imputation MAPE: nan\n",
      "Imputation RMSE: nan\n",
      "\n",
      "Prediction MAPE: 0.29177\n",
      "Prediction RMSE: 44.9393\n",
      "\n",
      "Running time: 604 seconds\n",
      "\n",
      "Prediction time horizon (delta) = 18.\n"
     ]
    },
    {
     "data": {
      "application/vnd.jupyter.widget-view+json": {
       "model_id": "3e18fa643dd84fce917a2b2d6518d6bf",
       "version_major": 2,
       "version_minor": 0
      },
      "text/plain": [
       "IntProgress(value=0, max=42)"
      ]
     },
     "metadata": {},
     "output_type": "display_data"
    },
    {
     "name": "stdout",
     "output_type": "stream",
     "text": [
      "Iter: 500\n",
      "MAPE: nan\n",
      "RMSE: nan\n",
      "\n",
      "Iter: 1000\n",
      "MAPE: nan\n",
      "RMSE: nan\n",
      "\n",
      "Imputation MAPE: nan\n",
      "Imputation RMSE: nan\n",
      "\n",
      "Prediction MAPE: 0.302689\n",
      "Prediction RMSE: 47.4425\n",
      "\n",
      "Running time: 555 seconds\n",
      "\n",
      "Prediction time horizon (delta) = 24.\n"
     ]
    },
    {
     "data": {
      "application/vnd.jupyter.widget-view+json": {
       "model_id": "0c69500f41ba4094ba2a6cea56cf062b",
       "version_major": 2,
       "version_minor": 0
      },
      "text/plain": [
       "IntProgress(value=0, max=32)"
      ]
     },
     "metadata": {},
     "output_type": "display_data"
    },
    {
     "name": "stdout",
     "output_type": "stream",
     "text": [
      "Iter: 500\n",
      "MAPE: nan\n",
      "RMSE: nan\n",
      "\n",
      "Iter: 1000\n",
      "MAPE: nan\n",
      "RMSE: nan\n",
      "\n",
      "Imputation MAPE: nan\n",
      "Imputation RMSE: nan\n",
      "\n",
      "Prediction MAPE: 0.291551\n",
      "Prediction RMSE: 48.298\n",
      "\n",
      "Running time: 544 seconds\n",
      "\n",
      "Prediction time horizon (delta) = 30.\n"
     ]
    },
    {
     "data": {
      "application/vnd.jupyter.widget-view+json": {
       "model_id": "fe7e4b9faf324fa8b468a1d53e224336",
       "version_major": 2,
       "version_minor": 0
      },
      "text/plain": [
       "IntProgress(value=0, max=26)"
      ]
     },
     "metadata": {},
     "output_type": "display_data"
    },
    {
     "name": "stdout",
     "output_type": "stream",
     "text": [
      "Iter: 500\n",
      "MAPE: nan\n",
      "RMSE: nan\n",
      "\n",
      "Iter: 1000\n",
      "MAPE: nan\n",
      "RMSE: nan\n",
      "\n",
      "Imputation MAPE: nan\n",
      "Imputation RMSE: nan\n",
      "\n",
      "Prediction MAPE: 0.315021\n",
      "Prediction RMSE: 48.569\n",
      "\n",
      "Running time: 568 seconds\n",
      "\n",
      "Prediction time horizon (delta) = 36.\n"
     ]
    },
    {
     "data": {
      "application/vnd.jupyter.widget-view+json": {
       "model_id": "65402970cc9e4c6ebcca3332ba254e53",
       "version_major": 2,
       "version_minor": 0
      },
      "text/plain": [
       "IntProgress(value=0, max=21)"
      ]
     },
     "metadata": {},
     "output_type": "display_data"
    },
    {
     "name": "stdout",
     "output_type": "stream",
     "text": [
      "Iter: 500\n",
      "MAPE: nan\n",
      "RMSE: nan\n",
      "\n",
      "Iter: 1000\n",
      "MAPE: nan\n",
      "RMSE: nan\n",
      "\n",
      "Imputation MAPE: nan\n",
      "Imputation RMSE: nan\n",
      "\n",
      "Prediction MAPE: 0.320092\n",
      "Prediction RMSE: 50.3044\n",
      "\n",
      "Running time: 609 seconds\n",
      "\n",
      "Prediction time horizon (delta) = 42.\n"
     ]
    },
    {
     "data": {
      "application/vnd.jupyter.widget-view+json": {
       "model_id": "311ebe1d830e4ccebecacf38a7140930",
       "version_major": 2,
       "version_minor": 0
      },
      "text/plain": [
       "IntProgress(value=0, max=18)"
      ]
     },
     "metadata": {},
     "output_type": "display_data"
    },
    {
     "name": "stdout",
     "output_type": "stream",
     "text": [
      "Iter: 500\n",
      "MAPE: nan\n",
      "RMSE: nan\n",
      "\n",
      "Iter: 1000\n",
      "MAPE: nan\n",
      "RMSE: nan\n",
      "\n",
      "Imputation MAPE: nan\n",
      "Imputation RMSE: nan\n",
      "\n",
      "Prediction MAPE: 0.344838\n",
      "Prediction RMSE: 51.3397\n",
      "\n",
      "Running time: 771 seconds\n",
      "\n",
      "Prediction time horizon (delta) = 48.\n"
     ]
    },
    {
     "data": {
      "application/vnd.jupyter.widget-view+json": {
       "model_id": "2983fc1f073943a6b2661e3e0b91926d",
       "version_major": 2,
       "version_minor": 0
      },
      "text/plain": [
       "IntProgress(value=0, max=16)"
      ]
     },
     "metadata": {},
     "output_type": "display_data"
    },
    {
     "name": "stdout",
     "output_type": "stream",
     "text": [
      "Iter: 500\n",
      "MAPE: nan\n",
      "RMSE: nan\n",
      "\n",
      "Iter: 1000\n",
      "MAPE: nan\n",
      "RMSE: nan\n",
      "\n",
      "Imputation MAPE: nan\n",
      "Imputation RMSE: nan\n",
      "\n",
      "Prediction MAPE: 0.321935\n",
      "Prediction RMSE: 48.6428\n",
      "\n",
      "Running time: 646 seconds\n",
      "\n",
      "Prediction time horizon (delta) = 54.\n"
     ]
    },
    {
     "data": {
      "application/vnd.jupyter.widget-view+json": {
       "model_id": "1f99bc0d6d2a42098273694760c465bd",
       "version_major": 2,
       "version_minor": 0
      },
      "text/plain": [
       "IntProgress(value=0, max=14)"
      ]
     },
     "metadata": {},
     "output_type": "display_data"
    },
    {
     "name": "stdout",
     "output_type": "stream",
     "text": [
      "Iter: 500\n",
      "MAPE: nan\n",
      "RMSE: nan\n",
      "\n",
      "Iter: 1000\n",
      "MAPE: nan\n",
      "RMSE: nan\n",
      "\n",
      "Imputation MAPE: nan\n",
      "Imputation RMSE: nan\n",
      "\n",
      "Prediction MAPE: 0.30817\n",
      "Prediction RMSE: 47.9637\n",
      "\n",
      "Running time: 783 seconds\n",
      "\n"
     ]
    }
   ],
   "source": [
    "import time\n",
    "rank = 10\n",
    "pred_step = 7 * 108\n",
    "time_lags = np.array([1, 2, 3, 108, 109, 110, 7 * 108, 7 * 108 + 1, 7 * 108 + 2])\n",
    "burn_iter = 1000\n",
    "gibbs_iter = 200\n",
    "for multi_step in [2, 4, 6, 12, 18, 24, 30, 36, 42, 48, 54]:\n",
    "    start = time.time()\n",
    "    print('Prediction time horizon (delta) = {}.'.format(multi_step))\n",
    "    mat_hat = BTMF_forecast(dense_mat, sparse_mat, pred_step, multi_step, rank, time_lags, burn_iter, gibbs_iter)\n",
    "    end = time.time()\n",
    "    print('Running time: %d seconds'%(end - start))\n",
    "    print()"
   ]
  },
  {
   "cell_type": "markdown",
   "metadata": {},
   "source": [
    "**Scenario setting**:\n",
    "\n",
    "- Tensor size: $80\\times 25\\times 108$ (metro station, day, time of day)\n",
    "- Non-random missing (NM)\n",
    "- 40% missing rate\n"
   ]
  },
  {
   "cell_type": "code",
   "execution_count": 23,
   "metadata": {},
   "outputs": [],
   "source": [
    "import scipy.io\n",
    "\n",
    "tensor = scipy.io.loadmat('../datasets/Hangzhou-data-set/tensor.mat')['tensor']\n",
    "random_matrix = scipy.io.loadmat('../datasets/Hangzhou-data-set/random_matrix.mat')['random_matrix']\n",
    "dense_mat = tensor.reshape([tensor.shape[0], tensor.shape[1] * tensor.shape[2]])\n",
    "missing_rate = 0.4\n",
    "\n",
    "## Non-random missing (NM)\n",
    "binary_tensor = np.zeros(tensor.shape)\n",
    "for i1 in range(tensor.shape[0]):\n",
    "    for i2 in range(tensor.shape[1]):\n",
    "        binary_tensor[i1, i2, :] = np.round(random_matrix[i1, i2] + 0.5 - missing_rate)\n",
    "binary_mat = binary_tensor.reshape([binary_tensor.shape[0], binary_tensor.shape[1] * binary_tensor.shape[2]])\n",
    "sparse_mat = np.multiply(dense_mat, binary_mat)"
   ]
  },
  {
   "cell_type": "markdown",
   "metadata": {},
   "source": [
    "**Model setting**:\n",
    "\n",
    "- Low rank: 10\n",
    "- Total (rolling) prediction horizons: 7 * 108\n",
    "- Time lags: {1, 2, 108, 108 + 1, 108 + 2, 7 * 108, 7 * 108 + 1, 7 * 108 + 2}\n",
    "- The number of burn-in iterations: 1000\n",
    "- The number of Gibbs iterations: 200"
   ]
  },
  {
   "cell_type": "code",
   "execution_count": 24,
   "metadata": {
    "scrolled": true
   },
   "outputs": [
    {
     "name": "stdout",
     "output_type": "stream",
     "text": [
      "Prediction time horizon (delta) = 2.\n"
     ]
    },
    {
     "data": {
      "application/vnd.jupyter.widget-view+json": {
       "model_id": "c1d2a22390bc4c7cb8393e63d6906457",
       "version_major": 2,
       "version_minor": 0
      },
      "text/plain": [
       "IntProgress(value=0, max=378)"
      ]
     },
     "metadata": {},
     "output_type": "display_data"
    },
    {
     "name": "stdout",
     "output_type": "stream",
     "text": [
      "Iter: 500\n",
      "MAPE: 0.711485\n",
      "RMSE: 180.212\n",
      "\n",
      "Iter: 1000\n",
      "MAPE: 0.808173\n",
      "RMSE: 239.82\n",
      "\n",
      "Imputation MAPE: 0.718951\n",
      "Imputation RMSE: 213.655\n",
      "\n",
      "Prediction MAPE: 0.281785\n",
      "Prediction RMSE: 50.1093\n",
      "\n",
      "Running time: 709 seconds\n",
      "\n",
      "Prediction time horizon (delta) = 4.\n"
     ]
    },
    {
     "data": {
      "application/vnd.jupyter.widget-view+json": {
       "model_id": "4ee4e3645d8841ff9e62aa7270c5dc55",
       "version_major": 2,
       "version_minor": 0
      },
      "text/plain": [
       "IntProgress(value=0, max=189)"
      ]
     },
     "metadata": {},
     "output_type": "display_data"
    },
    {
     "name": "stdout",
     "output_type": "stream",
     "text": [
      "Iter: 500\n",
      "MAPE: 0.275665\n",
      "RMSE: 48.4204\n",
      "\n",
      "Iter: 1000\n",
      "MAPE: 0.241641\n",
      "RMSE: 44.8259\n",
      "\n",
      "Imputation MAPE: 0.242374\n",
      "Imputation RMSE: 44.9511\n",
      "\n",
      "Prediction MAPE: 0.269033\n",
      "Prediction RMSE: 48.3854\n",
      "\n",
      "Running time: 581 seconds\n",
      "\n",
      "Prediction time horizon (delta) = 6.\n"
     ]
    },
    {
     "data": {
      "application/vnd.jupyter.widget-view+json": {
       "model_id": "7eb0128bea614860a225059f53ad2265",
       "version_major": 2,
       "version_minor": 0
      },
      "text/plain": [
       "IntProgress(value=0, max=126)"
      ]
     },
     "metadata": {},
     "output_type": "display_data"
    },
    {
     "name": "stdout",
     "output_type": "stream",
     "text": [
      "Iter: 500\n",
      "MAPE: 0.240415\n",
      "RMSE: 44.3013\n",
      "\n",
      "Iter: 1000\n",
      "MAPE: 0.24074\n",
      "RMSE: 44.9639\n",
      "\n",
      "Imputation MAPE: 0.24374\n",
      "Imputation RMSE: 45.1064\n",
      "\n",
      "Prediction MAPE: 0.293155\n",
      "Prediction RMSE: 48.5259\n",
      "\n",
      "Running time: 622 seconds\n",
      "\n",
      "Prediction time horizon (delta) = 12.\n"
     ]
    },
    {
     "data": {
      "application/vnd.jupyter.widget-view+json": {
       "model_id": "71a328cd42df491ca6b7e6f3106be594",
       "version_major": 2,
       "version_minor": 0
      },
      "text/plain": [
       "IntProgress(value=0, max=63)"
      ]
     },
     "metadata": {},
     "output_type": "display_data"
    },
    {
     "name": "stdout",
     "output_type": "stream",
     "text": [
      "Iter: 500\n",
      "MAPE: 0.23889\n",
      "RMSE: 44.5294\n",
      "\n",
      "Iter: 1000\n",
      "MAPE: 0.240885\n",
      "RMSE: 44.8233\n",
      "\n",
      "Imputation MAPE: 0.240397\n",
      "Imputation RMSE: 44.7003\n",
      "\n",
      "Prediction MAPE: 0.313717\n",
      "Prediction RMSE: 50.2071\n",
      "\n",
      "Running time: 597 seconds\n",
      "\n",
      "Prediction time horizon (delta) = 18.\n"
     ]
    },
    {
     "data": {
      "application/vnd.jupyter.widget-view+json": {
       "model_id": "a38505738fa1497ab27275fe072b5990",
       "version_major": 2,
       "version_minor": 0
      },
      "text/plain": [
       "IntProgress(value=0, max=42)"
      ]
     },
     "metadata": {},
     "output_type": "display_data"
    },
    {
     "name": "stdout",
     "output_type": "stream",
     "text": [
      "Iter: 500\n",
      "MAPE: 0.250086\n",
      "RMSE: 44.8524\n",
      "\n",
      "Iter: 1000\n",
      "MAPE: 0.239379\n",
      "RMSE: 44.6727\n",
      "\n",
      "Imputation MAPE: 0.242566\n",
      "Imputation RMSE: 44.7631\n",
      "\n",
      "Prediction MAPE: 0.304583\n",
      "Prediction RMSE: 51.6786\n",
      "\n",
      "Running time: 613 seconds\n",
      "\n",
      "Prediction time horizon (delta) = 24.\n"
     ]
    },
    {
     "data": {
      "application/vnd.jupyter.widget-view+json": {
       "model_id": "18d4fb52cd1548619fa1468396daee2c",
       "version_major": 2,
       "version_minor": 0
      },
      "text/plain": [
       "IntProgress(value=0, max=32)"
      ]
     },
     "metadata": {},
     "output_type": "display_data"
    },
    {
     "name": "stdout",
     "output_type": "stream",
     "text": [
      "Iter: 500\n",
      "MAPE: 0.238093\n",
      "RMSE: 44.4537\n",
      "\n",
      "Iter: 1000\n",
      "MAPE: 0.23985\n",
      "RMSE: 44.7571\n",
      "\n",
      "Imputation MAPE: 0.242593\n",
      "Imputation RMSE: 44.8334\n",
      "\n",
      "Prediction MAPE: 0.330562\n",
      "Prediction RMSE: 52.2526\n",
      "\n",
      "Running time: 567 seconds\n",
      "\n",
      "Prediction time horizon (delta) = 30.\n"
     ]
    },
    {
     "data": {
      "application/vnd.jupyter.widget-view+json": {
       "model_id": "7476a71d620a4add905b4baa3b2077f0",
       "version_major": 2,
       "version_minor": 0
      },
      "text/plain": [
       "IntProgress(value=0, max=26)"
      ]
     },
     "metadata": {},
     "output_type": "display_data"
    },
    {
     "name": "stdout",
     "output_type": "stream",
     "text": [
      "Iter: 500\n",
      "MAPE: 0.423007\n",
      "RMSE: 81.8534\n",
      "\n",
      "Iter: 1000\n",
      "MAPE: 0.40207\n",
      "RMSE: 66.6975\n",
      "\n",
      "Imputation MAPE: 0.24573\n",
      "Imputation RMSE: 44.9738\n",
      "\n",
      "Prediction MAPE: 0.320713\n",
      "Prediction RMSE: 52.9479\n",
      "\n",
      "Running time: 559 seconds\n",
      "\n",
      "Prediction time horizon (delta) = 36.\n"
     ]
    },
    {
     "data": {
      "application/vnd.jupyter.widget-view+json": {
       "model_id": "a8f92b0d19aa4ddba04ea5cc90e0dd24",
       "version_major": 2,
       "version_minor": 0
      },
      "text/plain": [
       "IntProgress(value=0, max=21)"
      ]
     },
     "metadata": {},
     "output_type": "display_data"
    },
    {
     "name": "stdout",
     "output_type": "stream",
     "text": [
      "Iter: 500\n",
      "MAPE: 0.240404\n",
      "RMSE: 44.6486\n",
      "\n",
      "Iter: 1000\n",
      "MAPE: 0.240208\n",
      "RMSE: 44.7811\n",
      "\n",
      "Imputation MAPE: 0.242441\n",
      "Imputation RMSE: 44.8032\n",
      "\n",
      "Prediction MAPE: 0.325226\n",
      "Prediction RMSE: 54.7122\n",
      "\n",
      "Running time: 539 seconds\n",
      "\n",
      "Prediction time horizon (delta) = 42.\n"
     ]
    },
    {
     "data": {
      "application/vnd.jupyter.widget-view+json": {
       "model_id": "8ca3734ac58146cb89270855473df375",
       "version_major": 2,
       "version_minor": 0
      },
      "text/plain": [
       "IntProgress(value=0, max=18)"
      ]
     },
     "metadata": {},
     "output_type": "display_data"
    },
    {
     "name": "stdout",
     "output_type": "stream",
     "text": [
      "Iter: 500\n",
      "MAPE: 0.244632\n",
      "RMSE: 46.0329\n",
      "\n",
      "Iter: 1000\n",
      "MAPE: 0.240758\n",
      "RMSE: 44.9312\n",
      "\n",
      "Imputation MAPE: 0.240775\n",
      "Imputation RMSE: 44.9519\n",
      "\n",
      "Prediction MAPE: 0.367984\n",
      "Prediction RMSE: 55.3295\n",
      "\n",
      "Running time: 541 seconds\n",
      "\n",
      "Prediction time horizon (delta) = 48.\n"
     ]
    },
    {
     "data": {
      "application/vnd.jupyter.widget-view+json": {
       "model_id": "98fd56f12c1e4529bbefb406cd99cd5c",
       "version_major": 2,
       "version_minor": 0
      },
      "text/plain": [
       "IntProgress(value=0, max=16)"
      ]
     },
     "metadata": {},
     "output_type": "display_data"
    },
    {
     "name": "stdout",
     "output_type": "stream",
     "text": [
      "Iter: 500\n",
      "MAPE: 0.24346\n",
      "RMSE: 44.8582\n",
      "\n",
      "Iter: 1000\n",
      "MAPE: 0.241779\n",
      "RMSE: 44.8746\n",
      "\n",
      "Imputation MAPE: 0.24415\n",
      "Imputation RMSE: 44.3115\n",
      "\n",
      "Prediction MAPE: 0.384108\n",
      "Prediction RMSE: 55.9597\n",
      "\n",
      "Running time: 542 seconds\n",
      "\n",
      "Prediction time horizon (delta) = 54.\n"
     ]
    },
    {
     "data": {
      "application/vnd.jupyter.widget-view+json": {
       "model_id": "0f3490b882df4ed886b72a7ad8ae68d9",
       "version_major": 2,
       "version_minor": 0
      },
      "text/plain": [
       "IntProgress(value=0, max=14)"
      ]
     },
     "metadata": {},
     "output_type": "display_data"
    },
    {
     "name": "stdout",
     "output_type": "stream",
     "text": [
      "Iter: 500\n",
      "MAPE: 0.240889\n",
      "RMSE: 44.6134\n",
      "\n",
      "Iter: 1000\n",
      "MAPE: 0.24082\n",
      "RMSE: 44.9075\n",
      "\n",
      "Imputation MAPE: 0.243892\n",
      "Imputation RMSE: 44.916\n",
      "\n",
      "Prediction MAPE: 0.322542\n",
      "Prediction RMSE: 51.1474\n",
      "\n",
      "Running time: 536 seconds\n",
      "\n"
     ]
    }
   ],
   "source": [
    "import time\n",
    "rank = 10\n",
    "pred_step = 7 * 108\n",
    "time_lags = np.array([1, 2, 3, 108, 109, 110, 7 * 108, 7 * 108 + 1, 7 * 108 + 2])\n",
    "burn_iter = 1000\n",
    "gibbs_iter = 200\n",
    "for multi_step in [2, 4, 6, 12, 18, 24, 30, 36, 42, 48, 54]:\n",
    "    start = time.time()\n",
    "    print('Prediction time horizon (delta) = {}.'.format(multi_step))\n",
    "    mat_hat = BTMF_forecast(dense_mat, sparse_mat, pred_step, multi_step, rank, time_lags, burn_iter, gibbs_iter)\n",
    "    end = time.time()\n",
    "    print('Running time: %d seconds'%(end - start))\n",
    "    print()"
   ]
  },
  {
   "cell_type": "markdown",
   "metadata": {},
   "source": [
    "**Scenario setting**:\n",
    "\n",
    "- Tensor size: $80\\times 25\\times 108$ (metro station, day, time of day)\n",
    "- Random missing (RM)\n",
    "- 40% missing rate\n"
   ]
  },
  {
   "cell_type": "code",
   "execution_count": 25,
   "metadata": {},
   "outputs": [],
   "source": [
    "import scipy.io\n",
    "\n",
    "tensor = scipy.io.loadmat('../datasets/Hangzhou-data-set/tensor.mat')['tensor']\n",
    "random_tensor = scipy.io.loadmat('../datasets/Hangzhou-data-set/random_tensor.mat')['random_tensor']\n",
    "dense_mat = tensor.reshape([tensor.shape[0], tensor.shape[1] * tensor.shape[2]])\n",
    "missing_rate = 0.4\n",
    "\n",
    "## Random missing (RM)\n",
    "binary_mat = (np.round(random_tensor + 0.5 - missing_rate)\n",
    "              .reshape([random_tensor.shape[0], random_tensor.shape[1] * random_tensor.shape[2]]))\n",
    "sparse_mat = np.multiply(dense_mat, binary_mat)"
   ]
  },
  {
   "cell_type": "markdown",
   "metadata": {},
   "source": [
    "**Model setting**:\n",
    "\n",
    "- Low rank: 10\n",
    "- Total (rolling) prediction horizons: 7 * 108\n",
    "- Time lags: {1, 2, 108, 108 + 1, 108 + 2, 7 * 108, 7 * 108 + 1, 7 * 108 + 2}\n",
    "- The number of burn-in iterations: 1000\n",
    "- The number of Gibbs iterations: 200"
   ]
  },
  {
   "cell_type": "code",
   "execution_count": 26,
   "metadata": {},
   "outputs": [
    {
     "name": "stdout",
     "output_type": "stream",
     "text": [
      "Prediction time horizon (delta) = 2.\n"
     ]
    },
    {
     "data": {
      "application/vnd.jupyter.widget-view+json": {
       "model_id": "825ff1d5f421425f8ec81bca36b634a4",
       "version_major": 2,
       "version_minor": 0
      },
      "text/plain": [
       "IntProgress(value=0, max=378)"
      ]
     },
     "metadata": {},
     "output_type": "display_data"
    },
    {
     "name": "stdout",
     "output_type": "stream",
     "text": [
      "Iter: 500\n",
      "MAPE: 0.226961\n",
      "RMSE: 43.2707\n",
      "\n",
      "Iter: 1000\n",
      "MAPE: 0.229531\n",
      "RMSE: 42.9285\n",
      "\n",
      "Imputation MAPE: 0.230566\n",
      "Imputation RMSE: 42.9642\n",
      "\n",
      "Prediction MAPE: 0.261847\n",
      "Prediction RMSE: 42.361\n",
      "\n",
      "Running time: 665 seconds\n",
      "\n",
      "Prediction time horizon (delta) = 4.\n"
     ]
    },
    {
     "data": {
      "application/vnd.jupyter.widget-view+json": {
       "model_id": "9b87f2676ac04c81acb79f6a7858dd75",
       "version_major": 2,
       "version_minor": 0
      },
      "text/plain": [
       "IntProgress(value=0, max=189)"
      ]
     },
     "metadata": {},
     "output_type": "display_data"
    },
    {
     "name": "stdout",
     "output_type": "stream",
     "text": [
      "Iter: 500\n",
      "MAPE: 0.229738\n",
      "RMSE: 43.6264\n",
      "\n",
      "Iter: 1000\n",
      "MAPE: 0.231535\n",
      "RMSE: 42.9413\n",
      "\n",
      "Imputation MAPE: 0.233564\n",
      "Imputation RMSE: 42.9716\n",
      "\n",
      "Prediction MAPE: 0.277802\n",
      "Prediction RMSE: 43.5395\n",
      "\n",
      "Running time: 598 seconds\n",
      "\n",
      "Prediction time horizon (delta) = 6.\n"
     ]
    },
    {
     "data": {
      "application/vnd.jupyter.widget-view+json": {
       "model_id": "f1ab31356a1846deb59d79d2af0cb48d",
       "version_major": 2,
       "version_minor": 0
      },
      "text/plain": [
       "IntProgress(value=0, max=126)"
      ]
     },
     "metadata": {},
     "output_type": "display_data"
    },
    {
     "name": "stdout",
     "output_type": "stream",
     "text": [
      "Iter: 500\n",
      "MAPE: 0.227574\n",
      "RMSE: 43.5599\n",
      "\n",
      "Iter: 1000\n",
      "MAPE: 0.231461\n",
      "RMSE: 42.8885\n",
      "\n",
      "Imputation MAPE: 0.232863\n",
      "Imputation RMSE: 42.8639\n",
      "\n",
      "Prediction MAPE: 0.275909\n",
      "Prediction RMSE: 44.6832\n",
      "\n",
      "Running time: 571 seconds\n",
      "\n",
      "Prediction time horizon (delta) = 12.\n"
     ]
    },
    {
     "data": {
      "application/vnd.jupyter.widget-view+json": {
       "model_id": "49ff9eb70f164ae59851f5306b3689eb",
       "version_major": 2,
       "version_minor": 0
      },
      "text/plain": [
       "IntProgress(value=0, max=63)"
      ]
     },
     "metadata": {},
     "output_type": "display_data"
    },
    {
     "name": "stdout",
     "output_type": "stream",
     "text": [
      "Iter: 500\n",
      "MAPE: 0.227024\n",
      "RMSE: 43.4335\n",
      "\n",
      "Iter: 1000\n",
      "MAPE: 0.231744\n",
      "RMSE: 42.9205\n",
      "\n",
      "Imputation MAPE: 0.232212\n",
      "Imputation RMSE: 42.5593\n",
      "\n",
      "Prediction MAPE: 0.351873\n",
      "Prediction RMSE: 45.9649\n",
      "\n",
      "Running time: 548 seconds\n",
      "\n",
      "Prediction time horizon (delta) = 18.\n"
     ]
    },
    {
     "data": {
      "application/vnd.jupyter.widget-view+json": {
       "model_id": "c9f8852fc0b94903bec017ee5a8c708d",
       "version_major": 2,
       "version_minor": 0
      },
      "text/plain": [
       "IntProgress(value=0, max=42)"
      ]
     },
     "metadata": {},
     "output_type": "display_data"
    },
    {
     "name": "stdout",
     "output_type": "stream",
     "text": [
      "Iter: 500\n",
      "MAPE: 0.227289\n",
      "RMSE: 43.1922\n",
      "\n",
      "Iter: 1000\n",
      "MAPE: 0.229551\n",
      "RMSE: 42.9333\n",
      "\n",
      "Imputation MAPE: 0.231515\n",
      "Imputation RMSE: 42.9215\n",
      "\n",
      "Prediction MAPE: 0.33298\n",
      "Prediction RMSE: 48.3863\n",
      "\n",
      "Running time: 556 seconds\n",
      "\n",
      "Prediction time horizon (delta) = 24.\n"
     ]
    },
    {
     "data": {
      "application/vnd.jupyter.widget-view+json": {
       "model_id": "b56c48f9c4a84dac91c5f449d765c931",
       "version_major": 2,
       "version_minor": 0
      },
      "text/plain": [
       "IntProgress(value=0, max=32)"
      ]
     },
     "metadata": {},
     "output_type": "display_data"
    },
    {
     "name": "stdout",
     "output_type": "stream",
     "text": [
      "Iter: 500\n",
      "MAPE: 0.226287\n",
      "RMSE: 43.3114\n",
      "\n",
      "Iter: 1000\n",
      "MAPE: 0.230811\n",
      "RMSE: 42.9103\n",
      "\n",
      "Imputation MAPE: 0.231419\n",
      "Imputation RMSE: 42.8625\n",
      "\n",
      "Prediction MAPE: 0.363227\n",
      "Prediction RMSE: 48.4882\n",
      "\n",
      "Running time: 550 seconds\n",
      "\n",
      "Prediction time horizon (delta) = 30.\n"
     ]
    },
    {
     "data": {
      "application/vnd.jupyter.widget-view+json": {
       "model_id": "dc9adb91f77e4092abb29387d73a10f4",
       "version_major": 2,
       "version_minor": 0
      },
      "text/plain": [
       "IntProgress(value=0, max=26)"
      ]
     },
     "metadata": {},
     "output_type": "display_data"
    },
    {
     "name": "stdout",
     "output_type": "stream",
     "text": [
      "Iter: 500\n",
      "MAPE: 0.22753\n",
      "RMSE: 43.2548\n",
      "\n",
      "Iter: 1000\n",
      "MAPE: 0.230366\n",
      "RMSE: 42.9242\n",
      "\n",
      "Imputation MAPE: 0.232226\n",
      "Imputation RMSE: 42.9395\n",
      "\n",
      "Prediction MAPE: 0.333675\n",
      "Prediction RMSE: 48.7058\n",
      "\n",
      "Running time: 552 seconds\n",
      "\n",
      "Prediction time horizon (delta) = 36.\n"
     ]
    },
    {
     "data": {
      "application/vnd.jupyter.widget-view+json": {
       "model_id": "e9e7affd696d433f9cdeb03d2dbd99c9",
       "version_major": 2,
       "version_minor": 0
      },
      "text/plain": [
       "IntProgress(value=0, max=21)"
      ]
     },
     "metadata": {},
     "output_type": "display_data"
    },
    {
     "name": "stdout",
     "output_type": "stream",
     "text": [
      "Iter: 500\n",
      "MAPE: 0.226816\n",
      "RMSE: 43.582\n",
      "\n",
      "Iter: 1000\n",
      "MAPE: 0.231204\n",
      "RMSE: 42.9639\n",
      "\n",
      "Imputation MAPE: 0.230655\n",
      "Imputation RMSE: 42.9689\n",
      "\n",
      "Prediction MAPE: 0.330299\n",
      "Prediction RMSE: 49.169\n",
      "\n",
      "Running time: 551 seconds\n",
      "\n",
      "Prediction time horizon (delta) = 42.\n"
     ]
    },
    {
     "data": {
      "application/vnd.jupyter.widget-view+json": {
       "model_id": "6de3a90cec3a4e6f82474977c717d213",
       "version_major": 2,
       "version_minor": 0
      },
      "text/plain": [
       "IntProgress(value=0, max=18)"
      ]
     },
     "metadata": {},
     "output_type": "display_data"
    },
    {
     "name": "stdout",
     "output_type": "stream",
     "text": [
      "Iter: 500\n",
      "MAPE: 0.227151\n",
      "RMSE: 43.4306\n",
      "\n",
      "Iter: 1000\n",
      "MAPE: 0.231705\n",
      "RMSE: 42.9291\n",
      "\n",
      "Imputation MAPE: 0.232605\n",
      "Imputation RMSE: 42.8047\n",
      "\n",
      "Prediction MAPE: 0.399002\n",
      "Prediction RMSE: 56.3718\n",
      "\n",
      "Running time: 545 seconds\n",
      "\n",
      "Prediction time horizon (delta) = 48.\n"
     ]
    },
    {
     "data": {
      "application/vnd.jupyter.widget-view+json": {
       "model_id": "eac19885cbd64252ad2c8d3992a9e622",
       "version_major": 2,
       "version_minor": 0
      },
      "text/plain": [
       "IntProgress(value=0, max=16)"
      ]
     },
     "metadata": {},
     "output_type": "display_data"
    },
    {
     "name": "stdout",
     "output_type": "stream",
     "text": [
      "Iter: 500\n",
      "MAPE: 0.226823\n",
      "RMSE: 43.3191\n",
      "\n",
      "Iter: 1000\n",
      "MAPE: 0.231322\n",
      "RMSE: 42.9051\n",
      "\n",
      "Imputation MAPE: 0.233432\n",
      "Imputation RMSE: 42.9269\n",
      "\n",
      "Prediction MAPE: 0.349713\n",
      "Prediction RMSE: 53.8556\n",
      "\n",
      "Running time: 548 seconds\n",
      "\n",
      "Prediction time horizon (delta) = 54.\n"
     ]
    },
    {
     "data": {
      "application/vnd.jupyter.widget-view+json": {
       "model_id": "98ad17a8806a410991ece9af0df198da",
       "version_major": 2,
       "version_minor": 0
      },
      "text/plain": [
       "IntProgress(value=0, max=14)"
      ]
     },
     "metadata": {},
     "output_type": "display_data"
    },
    {
     "name": "stdout",
     "output_type": "stream",
     "text": [
      "Iter: 500\n",
      "MAPE: 0.227789\n",
      "RMSE: 43.5207\n",
      "\n",
      "Iter: 1000\n",
      "MAPE: 0.23074\n",
      "RMSE: 42.9006\n",
      "\n",
      "Imputation MAPE: 0.232072\n",
      "Imputation RMSE: 42.8578\n",
      "\n",
      "Prediction MAPE: 0.489229\n",
      "Prediction RMSE: 66.3897\n",
      "\n",
      "Running time: 542 seconds\n",
      "\n"
     ]
    }
   ],
   "source": [
    "import time\n",
    "rank = 10\n",
    "pred_step = 7 * 108\n",
    "time_lags = np.array([1, 2, 3, 108, 109, 110, 7 * 108, 7 * 108 + 1, 7 * 108 + 2])\n",
    "burn_iter = 1000\n",
    "gibbs_iter = 200\n",
    "for multi_step in [2, 4, 6, 12, 18, 24, 30, 36, 42, 48, 54]:\n",
    "    start = time.time()\n",
    "    print('Prediction time horizon (delta) = {}.'.format(multi_step))\n",
    "    mat_hat = BTMF_forecast(dense_mat, sparse_mat, pred_step, multi_step, rank, time_lags, burn_iter, gibbs_iter)\n",
    "    end = time.time()\n",
    "    print('Running time: %d seconds'%(end - start))\n",
    "    print()"
   ]
  },
  {
   "cell_type": "markdown",
   "metadata": {},
   "source": [
    "**Scenario setting**:\n",
    "\n",
    "- Tensor size: $80\\times 25\\times 108$ (metro station, day, time of day)\n",
    "- Random missing (RM)\n",
    "- 60% missing rate\n"
   ]
  },
  {
   "cell_type": "code",
   "execution_count": 27,
   "metadata": {},
   "outputs": [],
   "source": [
    "import scipy.io\n",
    "\n",
    "tensor = scipy.io.loadmat('../datasets/Hangzhou-data-set/tensor.mat')['tensor']\n",
    "random_tensor = scipy.io.loadmat('../datasets/Hangzhou-data-set/random_tensor.mat')['random_tensor']\n",
    "dense_mat = tensor.reshape([tensor.shape[0], tensor.shape[1] * tensor.shape[2]])\n",
    "missing_rate = 0.6\n",
    "\n",
    "## Random missing (RM)\n",
    "binary_mat = (np.round(random_tensor + 0.5 - missing_rate)\n",
    "              .reshape([random_tensor.shape[0], random_tensor.shape[1] * random_tensor.shape[2]]))\n",
    "sparse_mat = np.multiply(dense_mat, binary_mat)"
   ]
  },
  {
   "cell_type": "markdown",
   "metadata": {},
   "source": [
    "**Model setting**:\n",
    "\n",
    "- Low rank: 10\n",
    "- Total (rolling) prediction horizons: 7 * 108\n",
    "- Time lags: {1, 2, 108, 108 + 1, 108 + 2, 7 * 108, 7 * 108 + 1, 7 * 108 + 2}\n",
    "- The number of burn-in iterations: 1000\n",
    "- The number of Gibbs iterations: 200"
   ]
  },
  {
   "cell_type": "code",
   "execution_count": 28,
   "metadata": {
    "scrolled": true
   },
   "outputs": [
    {
     "name": "stdout",
     "output_type": "stream",
     "text": [
      "Prediction time horizon (delta) = 2.\n"
     ]
    },
    {
     "data": {
      "application/vnd.jupyter.widget-view+json": {
       "model_id": "46ba74773b2b47f29abc00347d20d0fd",
       "version_major": 2,
       "version_minor": 0
      },
      "text/plain": [
       "IntProgress(value=0, max=378)"
      ]
     },
     "metadata": {},
     "output_type": "display_data"
    },
    {
     "name": "stdout",
     "output_type": "stream",
     "text": [
      "Iter: 500\n",
      "MAPE: 0.245447\n",
      "RMSE: 46.2954\n",
      "\n",
      "Iter: 1000\n",
      "MAPE: 0.251494\n",
      "RMSE: 45.6868\n",
      "\n",
      "Imputation MAPE: 0.253889\n",
      "Imputation RMSE: 45.6802\n",
      "\n",
      "Prediction MAPE: 0.270133\n",
      "Prediction RMSE: 44.1042\n",
      "\n",
      "Running time: 670 seconds\n",
      "\n",
      "Prediction time horizon (delta) = 4.\n"
     ]
    },
    {
     "data": {
      "application/vnd.jupyter.widget-view+json": {
       "model_id": "2f6c7646c7e0406791acb281136481c4",
       "version_major": 2,
       "version_minor": 0
      },
      "text/plain": [
       "IntProgress(value=0, max=189)"
      ]
     },
     "metadata": {},
     "output_type": "display_data"
    },
    {
     "name": "stdout",
     "output_type": "stream",
     "text": [
      "Iter: 500\n",
      "MAPE: 0.247711\n",
      "RMSE: 46.4123\n",
      "\n",
      "Iter: 1000\n",
      "MAPE: 0.249532\n",
      "RMSE: 45.6559\n",
      "\n",
      "Imputation MAPE: 0.247246\n",
      "Imputation RMSE: 44.8514\n",
      "\n",
      "Prediction MAPE: 0.268741\n",
      "Prediction RMSE: 46.2648\n",
      "\n",
      "Running time: 596 seconds\n",
      "\n",
      "Prediction time horizon (delta) = 6.\n"
     ]
    },
    {
     "data": {
      "application/vnd.jupyter.widget-view+json": {
       "model_id": "224712aa27c54330a6bc379ea6d78077",
       "version_major": 2,
       "version_minor": 0
      },
      "text/plain": [
       "IntProgress(value=0, max=126)"
      ]
     },
     "metadata": {},
     "output_type": "display_data"
    },
    {
     "name": "stdout",
     "output_type": "stream",
     "text": [
      "Iter: 500\n",
      "MAPE: 0.246356\n",
      "RMSE: 46.6452\n",
      "\n",
      "Iter: 1000\n",
      "MAPE: 0.244988\n",
      "RMSE: 45.103\n",
      "\n",
      "Imputation MAPE: 0.245741\n",
      "Imputation RMSE: 44.8667\n",
      "\n",
      "Prediction MAPE: 0.30019\n",
      "Prediction RMSE: 47.3052\n",
      "\n",
      "Running time: 571 seconds\n",
      "\n",
      "Prediction time horizon (delta) = 12.\n"
     ]
    },
    {
     "data": {
      "application/vnd.jupyter.widget-view+json": {
       "model_id": "b19c563d93624b0f9b6c49320e71198f",
       "version_major": 2,
       "version_minor": 0
      },
      "text/plain": [
       "IntProgress(value=0, max=63)"
      ]
     },
     "metadata": {},
     "output_type": "display_data"
    },
    {
     "name": "stdout",
     "output_type": "stream",
     "text": [
      "Iter: 500\n",
      "MAPE: 0.256522\n",
      "RMSE: 46.4677\n",
      "\n",
      "Iter: 1000\n",
      "MAPE: 0.247965\n",
      "RMSE: 45.5669\n",
      "\n",
      "Imputation MAPE: 0.252812\n",
      "Imputation RMSE: 45.6676\n",
      "\n",
      "Prediction MAPE: 0.49162\n",
      "Prediction RMSE: 78.7879\n",
      "\n",
      "Running time: 550 seconds\n",
      "\n",
      "Prediction time horizon (delta) = 18.\n"
     ]
    },
    {
     "data": {
      "application/vnd.jupyter.widget-view+json": {
       "model_id": "9570c888859e47ae8465606e629db851",
       "version_major": 2,
       "version_minor": 0
      },
      "text/plain": [
       "IntProgress(value=0, max=42)"
      ]
     },
     "metadata": {},
     "output_type": "display_data"
    },
    {
     "name": "stdout",
     "output_type": "stream",
     "text": [
      "Iter: 500\n",
      "MAPE: 0.247762\n",
      "RMSE: 46.4064\n",
      "\n",
      "Iter: 1000\n",
      "MAPE: 0.244871\n",
      "RMSE: 44.8544\n",
      "\n",
      "Imputation MAPE: 0.248846\n",
      "Imputation RMSE: 44.8302\n",
      "\n",
      "Prediction MAPE: 0.329638\n",
      "Prediction RMSE: 48.5739\n",
      "\n",
      "Running time: 548 seconds\n",
      "\n",
      "Prediction time horizon (delta) = 24.\n"
     ]
    },
    {
     "data": {
      "application/vnd.jupyter.widget-view+json": {
       "model_id": "67fdd2f5e9b64e29b76c2517cc2ac248",
       "version_major": 2,
       "version_minor": 0
      },
      "text/plain": [
       "IntProgress(value=0, max=32)"
      ]
     },
     "metadata": {},
     "output_type": "display_data"
    },
    {
     "name": "stdout",
     "output_type": "stream",
     "text": [
      "Iter: 500\n",
      "MAPE: 0.247753\n",
      "RMSE: 46.272\n",
      "\n",
      "Iter: 1000\n",
      "MAPE: 0.250279\n",
      "RMSE: 45.7288\n",
      "\n",
      "Imputation MAPE: 0.250605\n",
      "Imputation RMSE: 45.6028\n",
      "\n",
      "Prediction MAPE: 0.48386\n",
      "Prediction RMSE: 65.1364\n",
      "\n",
      "Running time: 550 seconds\n",
      "\n",
      "Prediction time horizon (delta) = 30.\n"
     ]
    },
    {
     "data": {
      "application/vnd.jupyter.widget-view+json": {
       "model_id": "81e9cfd5f1dc4f32830987fba0538817",
       "version_major": 2,
       "version_minor": 0
      },
      "text/plain": [
       "IntProgress(value=0, max=26)"
      ]
     },
     "metadata": {},
     "output_type": "display_data"
    },
    {
     "name": "stdout",
     "output_type": "stream",
     "text": [
      "Iter: 500\n",
      "MAPE: 0.246737\n",
      "RMSE: 46.3298\n",
      "\n",
      "Iter: 1000\n",
      "MAPE: 0.246565\n",
      "RMSE: 45.033\n",
      "\n",
      "Imputation MAPE: 0.248064\n",
      "Imputation RMSE: 44.7994\n",
      "\n",
      "Prediction MAPE: 0.313136\n",
      "Prediction RMSE: 48.9243\n",
      "\n",
      "Running time: 558 seconds\n",
      "\n",
      "Prediction time horizon (delta) = 36.\n"
     ]
    },
    {
     "data": {
      "application/vnd.jupyter.widget-view+json": {
       "model_id": "25f0f2c5e96940e8b6efdcab190680cb",
       "version_major": 2,
       "version_minor": 0
      },
      "text/plain": [
       "IntProgress(value=0, max=21)"
      ]
     },
     "metadata": {},
     "output_type": "display_data"
    },
    {
     "name": "stdout",
     "output_type": "stream",
     "text": [
      "Iter: 500\n",
      "MAPE: 0.248365\n",
      "RMSE: 46.7594\n",
      "\n",
      "Iter: 1000\n",
      "MAPE: 0.244709\n",
      "RMSE: 44.8232\n",
      "\n",
      "Imputation MAPE: 0.24877\n",
      "Imputation RMSE: 44.8661\n",
      "\n",
      "Prediction MAPE: 0.317078\n",
      "Prediction RMSE: 48.8716\n",
      "\n",
      "Running time: 543 seconds\n",
      "\n",
      "Prediction time horizon (delta) = 42.\n"
     ]
    },
    {
     "data": {
      "application/vnd.jupyter.widget-view+json": {
       "model_id": "e3758e3586734f5095af0254c3cbda0f",
       "version_major": 2,
       "version_minor": 0
      },
      "text/plain": [
       "IntProgress(value=0, max=18)"
      ]
     },
     "metadata": {},
     "output_type": "display_data"
    },
    {
     "name": "stdout",
     "output_type": "stream",
     "text": [
      "Iter: 500\n",
      "MAPE: 0.248345\n",
      "RMSE: 46.5185\n",
      "\n",
      "Iter: 1000\n",
      "MAPE: 0.245469\n",
      "RMSE: 44.8312\n",
      "\n",
      "Imputation MAPE: 0.250308\n",
      "Imputation RMSE: 44.8471\n",
      "\n",
      "Prediction MAPE: 0.360375\n",
      "Prediction RMSE: 51.8993\n",
      "\n",
      "Running time: 541 seconds\n",
      "\n",
      "Prediction time horizon (delta) = 48.\n"
     ]
    },
    {
     "data": {
      "application/vnd.jupyter.widget-view+json": {
       "model_id": "dab16f1d60104fc79c2a48451436cdda",
       "version_major": 2,
       "version_minor": 0
      },
      "text/plain": [
       "IntProgress(value=0, max=16)"
      ]
     },
     "metadata": {},
     "output_type": "display_data"
    },
    {
     "name": "stdout",
     "output_type": "stream",
     "text": [
      "Iter: 500\n",
      "MAPE: 0.241355\n",
      "RMSE: 46.0682\n",
      "\n",
      "Iter: 1000\n",
      "MAPE: 0.245772\n",
      "RMSE: 44.8256\n",
      "\n",
      "Imputation MAPE: 0.246172\n",
      "Imputation RMSE: 44.8468\n",
      "\n",
      "Prediction MAPE: 0.315255\n",
      "Prediction RMSE: 51.169\n",
      "\n",
      "Running time: 549 seconds\n",
      "\n",
      "Prediction time horizon (delta) = 54.\n"
     ]
    },
    {
     "data": {
      "application/vnd.jupyter.widget-view+json": {
       "model_id": "cda13908d1eb4cc0ac99db882c31ada7",
       "version_major": 2,
       "version_minor": 0
      },
      "text/plain": [
       "IntProgress(value=0, max=14)"
      ]
     },
     "metadata": {},
     "output_type": "display_data"
    },
    {
     "name": "stdout",
     "output_type": "stream",
     "text": [
      "Iter: 500\n",
      "MAPE: 0.252981\n",
      "RMSE: 46.5808\n",
      "\n",
      "Iter: 1000\n",
      "MAPE: 0.250108\n",
      "RMSE: 45.7151\n",
      "\n",
      "Imputation MAPE: 0.24693\n",
      "Imputation RMSE: 44.6762\n",
      "\n",
      "Prediction MAPE: 0.352228\n",
      "Prediction RMSE: 52.561\n",
      "\n",
      "Running time: 549 seconds\n",
      "\n"
     ]
    }
   ],
   "source": [
    "import time\n",
    "rank = 10\n",
    "pred_step = 7 * 108\n",
    "time_lags = np.array([1, 2, 3, 108, 109, 110, 7 * 108, 7 * 108 + 1, 7 * 108 + 2])\n",
    "burn_iter = 1000\n",
    "gibbs_iter = 200\n",
    "for multi_step in [2, 4, 6, 12, 18, 24, 30, 36, 42, 48, 54]:\n",
    "    start = time.time()\n",
    "    print('Prediction time horizon (delta) = {}.'.format(multi_step))\n",
    "    mat_hat = BTMF_forecast(dense_mat, sparse_mat, pred_step, multi_step, rank, time_lags, burn_iter, gibbs_iter)\n",
    "    end = time.time()\n",
    "    print('Running time: %d seconds'%(end - start))\n",
    "    print()"
   ]
  },
  {
   "cell_type": "markdown",
   "metadata": {},
   "source": [
    "## Evaluation on Seattle Speed Data\n",
    "\n"
   ]
  },
  {
   "cell_type": "markdown",
   "metadata": {},
   "source": [
    "**Scenario setting**:\n",
    "\n",
    "- Tensor size: $323\\times 28\\times 288$ (road segment, day, time of day)\n",
    "- Test on original data\n"
   ]
  },
  {
   "cell_type": "code",
   "execution_count": 29,
   "metadata": {},
   "outputs": [],
   "source": [
    "import pandas as pd\n",
    "import warnings\n",
    "warnings.simplefilter('ignore')\n",
    "\n",
    "dense_mat = pd.read_csv('../datasets/Seattle-data-set/mat.csv', index_col = 0)\n",
    "dense_mat = dense_mat.values\n",
    "sparse_mat = dense_mat.copy()"
   ]
  },
  {
   "cell_type": "markdown",
   "metadata": {},
   "source": [
    "**Model setting**:\n",
    "\n",
    "- Low rank: 10\n",
    "- Total (rolling) prediction horizons: 7 * 288\n",
    "- Time lags: {1, 2, 288, 288 + 1, 288 + 2, 7 * 288, 7 * 288 + 1, 7 * 288 + 2}\n",
    "- The number of burn-in iterations: 1000\n",
    "- The number of Gibbs iterations: 200"
   ]
  },
  {
   "cell_type": "code",
   "execution_count": 30,
   "metadata": {},
   "outputs": [
    {
     "name": "stdout",
     "output_type": "stream",
     "text": [
      "Prediction time horizon (delta) = 2.\n"
     ]
    },
    {
     "data": {
      "application/vnd.jupyter.widget-view+json": {
       "model_id": "2544889e60504fe19839136bc7b7d476",
       "version_major": 2,
       "version_minor": 0
      },
      "text/plain": [
       "IntProgress(value=0, max=1008)"
      ]
     },
     "metadata": {},
     "output_type": "display_data"
    },
    {
     "name": "stdout",
     "output_type": "stream",
     "text": [
      "Iter: 500\n",
      "MAPE: nan\n",
      "RMSE: nan\n",
      "\n",
      "Iter: 1000\n",
      "MAPE: nan\n",
      "RMSE: nan\n",
      "\n",
      "Imputation MAPE: nan\n",
      "Imputation RMSE: nan\n",
      "\n",
      "Prediction MAPE: 0.103915\n",
      "Prediction RMSE: 5.63268\n",
      "\n",
      "Running time: 4625 seconds\n",
      "\n",
      "Prediction time horizon (delta) = 4.\n"
     ]
    },
    {
     "data": {
      "application/vnd.jupyter.widget-view+json": {
       "model_id": "c1fc25ddaf6a4468b39b30fdceaa6b0a",
       "version_major": 2,
       "version_minor": 0
      },
      "text/plain": [
       "IntProgress(value=0, max=504)"
      ]
     },
     "metadata": {},
     "output_type": "display_data"
    },
    {
     "name": "stdout",
     "output_type": "stream",
     "text": [
      "Iter: 500\n",
      "MAPE: nan\n",
      "RMSE: nan\n",
      "\n",
      "Iter: 1000\n",
      "MAPE: nan\n",
      "RMSE: nan\n",
      "\n",
      "Imputation MAPE: nan\n",
      "Imputation RMSE: nan\n",
      "\n",
      "Prediction MAPE: 0.108246\n",
      "Prediction RMSE: 5.8263\n",
      "\n",
      "Running time: 3034 seconds\n",
      "\n",
      "Prediction time horizon (delta) = 6.\n"
     ]
    },
    {
     "data": {
      "application/vnd.jupyter.widget-view+json": {
       "model_id": "1efc06a87f82454c9de499fb3b1eefac",
       "version_major": 2,
       "version_minor": 0
      },
      "text/plain": [
       "IntProgress(value=0, max=336)"
      ]
     },
     "metadata": {},
     "output_type": "display_data"
    },
    {
     "name": "stdout",
     "output_type": "stream",
     "text": [
      "Iter: 500\n",
      "MAPE: nan\n",
      "RMSE: nan\n",
      "\n",
      "Iter: 1000\n",
      "MAPE: nan\n",
      "RMSE: nan\n",
      "\n",
      "Imputation MAPE: nan\n",
      "Imputation RMSE: nan\n",
      "\n",
      "Prediction MAPE: 0.111849\n",
      "Prediction RMSE: 6.0227\n",
      "\n",
      "Running time: 2540 seconds\n",
      "\n",
      "Prediction time horizon (delta) = 12.\n"
     ]
    },
    {
     "data": {
      "application/vnd.jupyter.widget-view+json": {
       "model_id": "5c76004011ca4e24b645b0f169bb5782",
       "version_major": 2,
       "version_minor": 0
      },
      "text/plain": [
       "IntProgress(value=0, max=168)"
      ]
     },
     "metadata": {},
     "output_type": "display_data"
    },
    {
     "name": "stdout",
     "output_type": "stream",
     "text": [
      "Iter: 500\n",
      "MAPE: nan\n",
      "RMSE: nan\n",
      "\n",
      "Iter: 1000\n",
      "MAPE: nan\n",
      "RMSE: nan\n",
      "\n",
      "Imputation MAPE: nan\n",
      "Imputation RMSE: nan\n",
      "\n",
      "Prediction MAPE: 0.122567\n",
      "Prediction RMSE: 6.52976\n",
      "\n",
      "Running time: 2063 seconds\n",
      "\n",
      "Prediction time horizon (delta) = 18.\n"
     ]
    },
    {
     "data": {
      "application/vnd.jupyter.widget-view+json": {
       "model_id": "f687fca3da774b3f9ff3788afc04fd9e",
       "version_major": 2,
       "version_minor": 0
      },
      "text/plain": [
       "IntProgress(value=0, max=112)"
      ]
     },
     "metadata": {},
     "output_type": "display_data"
    },
    {
     "name": "stdout",
     "output_type": "stream",
     "text": [
      "Iter: 500\n",
      "MAPE: nan\n",
      "RMSE: nan\n",
      "\n",
      "Iter: 1000\n",
      "MAPE: nan\n",
      "RMSE: nan\n",
      "\n",
      "Imputation MAPE: nan\n",
      "Imputation RMSE: nan\n",
      "\n",
      "Prediction MAPE: 0.12915\n",
      "Prediction RMSE: 6.85351\n",
      "\n",
      "Running time: 1896 seconds\n",
      "\n",
      "Prediction time horizon (delta) = 24.\n"
     ]
    },
    {
     "data": {
      "application/vnd.jupyter.widget-view+json": {
       "model_id": "3703069539f642dd8b17ccd72373b90d",
       "version_major": 2,
       "version_minor": 0
      },
      "text/plain": [
       "IntProgress(value=0, max=84)"
      ]
     },
     "metadata": {},
     "output_type": "display_data"
    },
    {
     "name": "stdout",
     "output_type": "stream",
     "text": [
      "Iter: 500\n",
      "MAPE: nan\n",
      "RMSE: nan\n",
      "\n",
      "Iter: 1000\n",
      "MAPE: nan\n",
      "RMSE: nan\n",
      "\n",
      "Imputation MAPE: nan\n",
      "Imputation RMSE: nan\n",
      "\n",
      "Prediction MAPE: 0.13476\n",
      "Prediction RMSE: 7.124\n",
      "\n",
      "Running time: 1824 seconds\n",
      "\n",
      "Prediction time horizon (delta) = 30.\n"
     ]
    },
    {
     "data": {
      "application/vnd.jupyter.widget-view+json": {
       "model_id": "080b5122afc747e1880dac11be8b0594",
       "version_major": 2,
       "version_minor": 0
      },
      "text/plain": [
       "IntProgress(value=0, max=68)"
      ]
     },
     "metadata": {},
     "output_type": "display_data"
    },
    {
     "name": "stdout",
     "output_type": "stream",
     "text": [
      "Iter: 500\n",
      "MAPE: nan\n",
      "RMSE: nan\n",
      "\n",
      "Iter: 1000\n",
      "MAPE: nan\n",
      "RMSE: nan\n",
      "\n",
      "Imputation MAPE: nan\n",
      "Imputation RMSE: nan\n",
      "\n",
      "Prediction MAPE: 0.137889\n",
      "Prediction RMSE: 7.31484\n",
      "\n",
      "Running time: 1794 seconds\n",
      "\n",
      "Prediction time horizon (delta) = 36.\n"
     ]
    },
    {
     "data": {
      "application/vnd.jupyter.widget-view+json": {
       "model_id": "5f066a23040247fea95c695cdeb5b334",
       "version_major": 2,
       "version_minor": 0
      },
      "text/plain": [
       "IntProgress(value=0, max=56)"
      ]
     },
     "metadata": {},
     "output_type": "display_data"
    },
    {
     "name": "stdout",
     "output_type": "stream",
     "text": [
      "Iter: 500\n",
      "MAPE: nan\n",
      "RMSE: nan\n",
      "\n",
      "Iter: 1000\n",
      "MAPE: nan\n",
      "RMSE: nan\n",
      "\n",
      "Imputation MAPE: nan\n",
      "Imputation RMSE: nan\n",
      "\n",
      "Prediction MAPE: 0.140115\n",
      "Prediction RMSE: 7.45912\n",
      "\n",
      "Running time: 1950 seconds\n",
      "\n",
      "Prediction time horizon (delta) = 42.\n"
     ]
    },
    {
     "data": {
      "application/vnd.jupyter.widget-view+json": {
       "model_id": "13edf6913be04b36a22b0b118f5967b1",
       "version_major": 2,
       "version_minor": 0
      },
      "text/plain": [
       "IntProgress(value=0, max=48)"
      ]
     },
     "metadata": {},
     "output_type": "display_data"
    },
    {
     "name": "stdout",
     "output_type": "stream",
     "text": [
      "Iter: 500\n",
      "MAPE: nan\n",
      "RMSE: nan\n",
      "\n",
      "Iter: 1000\n",
      "MAPE: nan\n",
      "RMSE: nan\n",
      "\n",
      "Imputation MAPE: nan\n",
      "Imputation RMSE: nan\n",
      "\n",
      "Prediction MAPE: 0.144885\n",
      "Prediction RMSE: 7.69699\n",
      "\n",
      "Running time: 1876 seconds\n",
      "\n",
      "Prediction time horizon (delta) = 48.\n"
     ]
    },
    {
     "data": {
      "application/vnd.jupyter.widget-view+json": {
       "model_id": "52242a29f8e041408bae227dad7f6073",
       "version_major": 2,
       "version_minor": 0
      },
      "text/plain": [
       "IntProgress(value=0, max=42)"
      ]
     },
     "metadata": {},
     "output_type": "display_data"
    },
    {
     "name": "stdout",
     "output_type": "stream",
     "text": [
      "Iter: 500\n",
      "MAPE: nan\n",
      "RMSE: nan\n",
      "\n",
      "Iter: 1000\n",
      "MAPE: nan\n",
      "RMSE: nan\n",
      "\n",
      "Imputation MAPE: nan\n",
      "Imputation RMSE: nan\n",
      "\n",
      "Prediction MAPE: 0.143099\n",
      "Prediction RMSE: 7.54653\n",
      "\n",
      "Running time: 1830 seconds\n",
      "\n",
      "Prediction time horizon (delta) = 54.\n"
     ]
    },
    {
     "data": {
      "application/vnd.jupyter.widget-view+json": {
       "model_id": "ebbf55019ddd4dae8c539360864e1ac9",
       "version_major": 2,
       "version_minor": 0
      },
      "text/plain": [
       "IntProgress(value=0, max=38)"
      ]
     },
     "metadata": {},
     "output_type": "display_data"
    },
    {
     "name": "stdout",
     "output_type": "stream",
     "text": [
      "Iter: 500\n",
      "MAPE: nan\n",
      "RMSE: nan\n",
      "\n",
      "Iter: 1000\n",
      "MAPE: nan\n",
      "RMSE: nan\n",
      "\n",
      "Imputation MAPE: nan\n",
      "Imputation RMSE: nan\n",
      "\n",
      "Prediction MAPE: 0.1424\n",
      "Prediction RMSE: 7.6484\n",
      "\n",
      "Running time: 1917 seconds\n",
      "\n"
     ]
    }
   ],
   "source": [
    "import time\n",
    "rank = 10\n",
    "pred_step = 7 * 288\n",
    "time_lags = np.array([1, 2, 3, 288, 289, 290, 7 * 288, 7 * 288 + 1, 7 * 288 + 2])\n",
    "burn_iter = 1000\n",
    "gibbs_iter = 200\n",
    "for multi_step in [2, 4, 6, 12, 18, 24, 30, 36, 42, 48, 54]:\n",
    "    start = time.time()\n",
    "    print('Prediction time horizon (delta) = {}.'.format(multi_step))\n",
    "    mat_hat = BTMF_forecast(dense_mat, sparse_mat, pred_step, multi_step, rank, time_lags, burn_iter, gibbs_iter)\n",
    "    end = time.time()\n",
    "    print('Running time: %d seconds'%(end - start))\n",
    "    print()"
   ]
  },
  {
   "cell_type": "markdown",
   "metadata": {},
   "source": [
    "**Scenario setting**:\n",
    "\n",
    "- Tensor size: $323\\times 28\\times 288$ (road segment, day, time of day)\n",
    "- Non-random missing (NM)\n",
    "- 40% missing rate\n"
   ]
  },
  {
   "cell_type": "code",
   "execution_count": 31,
   "metadata": {},
   "outputs": [],
   "source": [
    "import pandas as pd\n",
    "\n",
    "dense_mat = pd.read_csv('../datasets/Seattle-data-set/mat.csv', index_col = 0)\n",
    "NM_mat = pd.read_csv('../datasets/Seattle-data-set/NM_mat.csv', index_col = 0)\n",
    "dense_mat = dense_mat.values\n",
    "NM_mat = NM_mat.values\n",
    "missing_rate = 0.4\n",
    "\n",
    "## Non-random missing (NM)\n",
    "binary_tensor = np.zeros((dense_mat.shape[0], 28, 288))\n",
    "for i1 in range(binary_tensor.shape[0]):\n",
    "    for i2 in range(binary_tensor.shape[1]):\n",
    "        binary_tensor[i1, i2, :] = np.round(NM_mat[i1, i2] + 0.5 - missing_rate)\n",
    "sparse_mat = np.multiply(dense_mat, binary_tensor.reshape([dense_mat.shape[0], dense_mat.shape[1]]))"
   ]
  },
  {
   "cell_type": "markdown",
   "metadata": {},
   "source": [
    "**Model setting**:\n",
    "\n",
    "- Low rank: 10\n",
    "- Total (rolling) prediction horizons: 7 * 288\n",
    "- Time lags: {1, 2, 288, 288 + 1, 288 + 2, 7 * 288, 7 * 288 + 1, 7 * 288 + 2}\n",
    "- The number of burn-in iterations: 1000\n",
    "- The number of Gibbs iterations: 200"
   ]
  },
  {
   "cell_type": "code",
   "execution_count": 32,
   "metadata": {
    "scrolled": true
   },
   "outputs": [
    {
     "name": "stdout",
     "output_type": "stream",
     "text": [
      "Prediction time horizon (delta) = 2.\n"
     ]
    },
    {
     "data": {
      "application/vnd.jupyter.widget-view+json": {
       "model_id": "4df66292caad409e8e379c4b88a26700",
       "version_major": 2,
       "version_minor": 0
      },
      "text/plain": [
       "IntProgress(value=0, max=1008)"
      ]
     },
     "metadata": {},
     "output_type": "display_data"
    },
    {
     "name": "stdout",
     "output_type": "stream",
     "text": [
      "Iter: 500\n",
      "MAPE: 0.110953\n",
      "RMSE: 8.39262\n",
      "\n",
      "Iter: 1000\n",
      "MAPE: 0.100398\n",
      "RMSE: 6.22308\n",
      "\n",
      "Imputation MAPE: 0.0943361\n",
      "Imputation RMSE: 5.49515\n",
      "\n",
      "Prediction MAPE: 0.109344\n",
      "Prediction RMSE: 5.95936\n",
      "\n",
      "Running time: 4668 seconds\n",
      "\n",
      "Prediction time horizon (delta) = 4.\n"
     ]
    },
    {
     "data": {
      "application/vnd.jupyter.widget-view+json": {
       "model_id": "6ca3946a4fc94baba238423a54f3fff8",
       "version_major": 2,
       "version_minor": 0
      },
      "text/plain": [
       "IntProgress(value=0, max=504)"
      ]
     },
     "metadata": {},
     "output_type": "display_data"
    },
    {
     "name": "stdout",
     "output_type": "stream",
     "text": [
      "Iter: 500\n",
      "MAPE: 0.0939913\n",
      "RMSE: 5.4574\n",
      "\n",
      "Iter: 1000\n",
      "MAPE: 0.0925024\n",
      "RMSE: 5.40891\n",
      "\n",
      "Imputation MAPE: 0.0930147\n",
      "Imputation RMSE: 5.42341\n",
      "\n",
      "Prediction MAPE: 0.111674\n",
      "Prediction RMSE: 6.03488\n",
      "\n",
      "Running time: 2999 seconds\n",
      "\n",
      "Prediction time horizon (delta) = 6.\n"
     ]
    },
    {
     "data": {
      "application/vnd.jupyter.widget-view+json": {
       "model_id": "98b82e1d5331408199dcb248569a6edd",
       "version_major": 2,
       "version_minor": 0
      },
      "text/plain": [
       "IntProgress(value=0, max=336)"
      ]
     },
     "metadata": {},
     "output_type": "display_data"
    },
    {
     "name": "stdout",
     "output_type": "stream",
     "text": [
      "Iter: 500\n",
      "MAPE: 0.09443\n",
      "RMSE: 5.48588\n",
      "\n",
      "Iter: 1000\n",
      "MAPE: 0.0926028\n",
      "RMSE: 5.42041\n",
      "\n",
      "Imputation MAPE: 0.0930061\n",
      "Imputation RMSE: 5.42559\n",
      "\n",
      "Prediction MAPE: 0.115497\n",
      "Prediction RMSE: 6.24488\n",
      "\n",
      "Running time: 2514 seconds\n",
      "\n",
      "Prediction time horizon (delta) = 12.\n"
     ]
    },
    {
     "data": {
      "application/vnd.jupyter.widget-view+json": {
       "model_id": "071783743d4c44c78056aca09168afc8",
       "version_major": 2,
       "version_minor": 0
      },
      "text/plain": [
       "IntProgress(value=0, max=168)"
      ]
     },
     "metadata": {},
     "output_type": "display_data"
    },
    {
     "name": "stdout",
     "output_type": "stream",
     "text": [
      "Iter: 500\n",
      "MAPE: 0.0994011\n",
      "RMSE: 6.06813\n",
      "\n",
      "Iter: 1000\n",
      "MAPE: 0.0934044\n",
      "RMSE: 5.45001\n",
      "\n",
      "Imputation MAPE: 0.0930714\n",
      "Imputation RMSE: 5.44275\n",
      "\n",
      "Prediction MAPE: 0.125829\n",
      "Prediction RMSE: 6.83639\n",
      "\n",
      "Running time: 2078 seconds\n",
      "\n",
      "Prediction time horizon (delta) = 18.\n"
     ]
    },
    {
     "data": {
      "application/vnd.jupyter.widget-view+json": {
       "model_id": "b1224ae65bf94494bd13b97bc21ec167",
       "version_major": 2,
       "version_minor": 0
      },
      "text/plain": [
       "IntProgress(value=0, max=112)"
      ]
     },
     "metadata": {},
     "output_type": "display_data"
    },
    {
     "name": "stdout",
     "output_type": "stream",
     "text": [
      "Iter: 500\n",
      "MAPE: 0.121187\n",
      "RMSE: 10.9708\n",
      "\n",
      "Iter: 1000\n",
      "MAPE: 0.120805\n",
      "RMSE: 11.4795\n",
      "\n",
      "Imputation MAPE: 0.110132\n",
      "Imputation RMSE: 9.00999\n",
      "\n",
      "Prediction MAPE: 0.134262\n",
      "Prediction RMSE: 7.33078\n",
      "\n",
      "Running time: 2004 seconds\n",
      "\n",
      "Prediction time horizon (delta) = 24.\n"
     ]
    },
    {
     "data": {
      "application/vnd.jupyter.widget-view+json": {
       "model_id": "f7a65d4a7de248069a8959eebf33f500",
       "version_major": 2,
       "version_minor": 0
      },
      "text/plain": [
       "IntProgress(value=0, max=84)"
      ]
     },
     "metadata": {},
     "output_type": "display_data"
    },
    {
     "name": "stdout",
     "output_type": "stream",
     "text": [
      "Iter: 500\n",
      "MAPE: 0.094032\n",
      "RMSE: 5.45514\n",
      "\n",
      "Iter: 1000\n",
      "MAPE: 0.0941873\n",
      "RMSE: 5.48124\n",
      "\n",
      "Imputation MAPE: 0.0935952\n",
      "Imputation RMSE: 5.47326\n",
      "\n",
      "Prediction MAPE: 0.137426\n",
      "Prediction RMSE: 7.51186\n",
      "\n",
      "Running time: 1907 seconds\n",
      "\n",
      "Prediction time horizon (delta) = 30.\n"
     ]
    },
    {
     "data": {
      "application/vnd.jupyter.widget-view+json": {
       "model_id": "ba3b000225434c45b7160af73e6f8e45",
       "version_major": 2,
       "version_minor": 0
      },
      "text/plain": [
       "IntProgress(value=0, max=68)"
      ]
     },
     "metadata": {},
     "output_type": "display_data"
    },
    {
     "name": "stdout",
     "output_type": "stream",
     "text": [
      "Iter: 500\n",
      "MAPE: 0.0945662\n",
      "RMSE: 5.49106\n",
      "\n",
      "Iter: 1000\n",
      "MAPE: 0.0945183\n",
      "RMSE: 5.49872\n",
      "\n",
      "Imputation MAPE: 0.0944762\n",
      "Imputation RMSE: 5.49405\n",
      "\n",
      "Prediction MAPE: 0.141948\n",
      "Prediction RMSE: 7.87497\n",
      "\n",
      "Running time: 1847 seconds\n",
      "\n",
      "Prediction time horizon (delta) = 36.\n"
     ]
    },
    {
     "data": {
      "application/vnd.jupyter.widget-view+json": {
       "model_id": "ce58c00a51914bb8a451a45aecd453d6",
       "version_major": 2,
       "version_minor": 0
      },
      "text/plain": [
       "IntProgress(value=0, max=56)"
      ]
     },
     "metadata": {},
     "output_type": "display_data"
    },
    {
     "name": "stdout",
     "output_type": "stream",
     "text": [
      "Iter: 500\n",
      "MAPE: 0.0944593\n",
      "RMSE: 5.47713\n",
      "\n",
      "Iter: 1000\n",
      "MAPE: 0.0944714\n",
      "RMSE: 5.49525\n",
      "\n",
      "Imputation MAPE: 0.0940964\n",
      "Imputation RMSE: 5.47943\n",
      "\n",
      "Prediction MAPE: 0.143435\n",
      "Prediction RMSE: 8.00036\n",
      "\n",
      "Running time: 1855 seconds\n",
      "\n",
      "Prediction time horizon (delta) = 42.\n"
     ]
    },
    {
     "data": {
      "application/vnd.jupyter.widget-view+json": {
       "model_id": "11d85587fb374b38823672b2e00d7eb6",
       "version_major": 2,
       "version_minor": 0
      },
      "text/plain": [
       "IntProgress(value=0, max=48)"
      ]
     },
     "metadata": {},
     "output_type": "display_data"
    },
    {
     "name": "stdout",
     "output_type": "stream",
     "text": [
      "Iter: 500\n",
      "MAPE: 0.0943425\n",
      "RMSE: 5.47328\n",
      "\n",
      "Iter: 1000\n",
      "MAPE: 0.0944343\n",
      "RMSE: 5.49189\n",
      "\n",
      "Imputation MAPE: 0.0940909\n",
      "Imputation RMSE: 5.48087\n",
      "\n",
      "Prediction MAPE: 0.147405\n",
      "Prediction RMSE: 8.22826\n",
      "\n",
      "Running time: 1801 seconds\n",
      "\n",
      "Prediction time horizon (delta) = 48.\n"
     ]
    },
    {
     "data": {
      "application/vnd.jupyter.widget-view+json": {
       "model_id": "28427c777e484e98a498e0e5aa263f99",
       "version_major": 2,
       "version_minor": 0
      },
      "text/plain": [
       "IntProgress(value=0, max=42)"
      ]
     },
     "metadata": {},
     "output_type": "display_data"
    },
    {
     "name": "stdout",
     "output_type": "stream",
     "text": [
      "Iter: 500\n",
      "MAPE: 0.0946713\n",
      "RMSE: 5.48873\n",
      "\n",
      "Iter: 1000\n",
      "MAPE: 0.0930694\n",
      "RMSE: 5.43538\n",
      "\n",
      "Imputation MAPE: 0.0930566\n",
      "Imputation RMSE: 5.43729\n",
      "\n",
      "Prediction MAPE: 0.146669\n",
      "Prediction RMSE: 8.02032\n",
      "\n",
      "Running time: 5242 seconds\n",
      "\n",
      "Prediction time horizon (delta) = 54.\n"
     ]
    },
    {
     "data": {
      "application/vnd.jupyter.widget-view+json": {
       "model_id": "7c481f881f304b58836d984c032ba1c2",
       "version_major": 2,
       "version_minor": 0
      },
      "text/plain": [
       "IntProgress(value=0, max=38)"
      ]
     },
     "metadata": {},
     "output_type": "display_data"
    },
    {
     "name": "stdout",
     "output_type": "stream",
     "text": [
      "Iter: 500\n",
      "MAPE: 0.126667\n",
      "RMSE: 10.0194\n",
      "\n",
      "Iter: 1000\n",
      "MAPE: 0.0948734\n",
      "RMSE: 5.69245\n",
      "\n",
      "Imputation MAPE: 0.0945119\n",
      "Imputation RMSE: 5.49562\n",
      "\n",
      "Prediction MAPE: 0.145766\n",
      "Prediction RMSE: 8.13409\n",
      "\n",
      "Running time: 1869 seconds\n",
      "\n"
     ]
    }
   ],
   "source": [
    "import time\n",
    "rank = 10\n",
    "pred_step = 7 * 288\n",
    "time_lags = np.array([1, 2, 3, 288, 289, 290, 7 * 288, 7 * 288 + 1, 7 * 288 + 2])\n",
    "burn_iter = 1000\n",
    "gibbs_iter = 200\n",
    "for multi_step in [2, 4, 6, 12, 18, 24, 30, 36, 42, 48, 54]:\n",
    "    start = time.time()\n",
    "    print('Prediction time horizon (delta) = {}.'.format(multi_step))\n",
    "    mat_hat = BTMF_forecast(dense_mat, sparse_mat, pred_step, multi_step, rank, time_lags, burn_iter, gibbs_iter)\n",
    "    end = time.time()\n",
    "    print('Running time: %d seconds'%(end - start))\n",
    "    print()"
   ]
  },
  {
   "cell_type": "markdown",
   "metadata": {},
   "source": [
    "**Scenario setting**:\n",
    "\n",
    "- Tensor size: $323\\times 28\\times 288$ (road segment, day, time of day)\n",
    "- Random missing (RM)\n",
    "- 40% missing rate\n"
   ]
  },
  {
   "cell_type": "code",
   "execution_count": 33,
   "metadata": {},
   "outputs": [],
   "source": [
    "import pandas as pd\n",
    "\n",
    "dense_mat = pd.read_csv('../datasets/Seattle-data-set/mat.csv', index_col = 0)\n",
    "RM_mat = pd.read_csv('../datasets/Seattle-data-set/RM_mat.csv', index_col = 0)\n",
    "dense_mat = dense_mat.values\n",
    "RM_mat = RM_mat.values\n",
    "missing_rate = 0.4\n",
    "\n",
    "## Random missing (RM)\n",
    "binary_mat = np.round(RM_mat + 0.5 - missing_rate)\n",
    "sparse_mat = np.multiply(dense_mat, binary_mat)"
   ]
  },
  {
   "cell_type": "markdown",
   "metadata": {},
   "source": [
    "**Model setting**:\n",
    "\n",
    "- Low rank: 10\n",
    "- Total (rolling) prediction horizons: 7 * 288\n",
    "- Time lags: {1, 2, 288, 288 + 1, 288 + 2, 7 * 288, 7 * 288 + 1, 7 * 288 + 2}\n",
    "- The number of burn-in iterations: 1000\n",
    "- The number of Gibbs iterations: 200"
   ]
  },
  {
   "cell_type": "code",
   "execution_count": 34,
   "metadata": {
    "scrolled": true
   },
   "outputs": [
    {
     "name": "stdout",
     "output_type": "stream",
     "text": [
      "Prediction time horizon (delta) = 2.\n"
     ]
    },
    {
     "data": {
      "application/vnd.jupyter.widget-view+json": {
       "model_id": "478f4c721124461d8b09ab746941cb3a",
       "version_major": 2,
       "version_minor": 0
      },
      "text/plain": [
       "IntProgress(value=0, max=1008)"
      ]
     },
     "metadata": {},
     "output_type": "display_data"
    },
    {
     "name": "stdout",
     "output_type": "stream",
     "text": [
      "Iter: 500\n",
      "MAPE: 0.0877406\n",
      "RMSE: 5.10053\n",
      "\n",
      "Iter: 1000\n",
      "MAPE: 0.0858127\n",
      "RMSE: 5.01607\n",
      "\n",
      "Imputation MAPE: 0.085745\n",
      "Imputation RMSE: 5.01486\n",
      "\n",
      "Prediction MAPE: 0.10521\n",
      "Prediction RMSE: 5.68526\n",
      "\n",
      "Running time: 7172 seconds\n",
      "\n",
      "Prediction time horizon (delta) = 4.\n"
     ]
    },
    {
     "data": {
      "application/vnd.jupyter.widget-view+json": {
       "model_id": "e465a87c691e458cbe6776240f735639",
       "version_major": 2,
       "version_minor": 0
      },
      "text/plain": [
       "IntProgress(value=0, max=504)"
      ]
     },
     "metadata": {},
     "output_type": "display_data"
    },
    {
     "name": "stdout",
     "output_type": "stream",
     "text": [
      "Iter: 500\n",
      "MAPE: 0.0877946\n",
      "RMSE: 5.10282\n",
      "\n",
      "Iter: 1000\n",
      "MAPE: 0.086276\n",
      "RMSE: 5.03992\n",
      "\n",
      "Imputation MAPE: 0.08575\n",
      "Imputation RMSE: 5.01635\n",
      "\n",
      "Prediction MAPE: 0.109627\n",
      "Prediction RMSE: 5.89403\n",
      "\n",
      "Running time: 4134 seconds\n",
      "\n",
      "Prediction time horizon (delta) = 6.\n"
     ]
    },
    {
     "data": {
      "application/vnd.jupyter.widget-view+json": {
       "model_id": "46716fddcc2e40a6a59850eb3a7a39a2",
       "version_major": 2,
       "version_minor": 0
      },
      "text/plain": [
       "IntProgress(value=0, max=336)"
      ]
     },
     "metadata": {},
     "output_type": "display_data"
    },
    {
     "name": "stdout",
     "output_type": "stream",
     "text": [
      "Iter: 500\n",
      "MAPE: 0.0879834\n",
      "RMSE: 5.10792\n",
      "\n",
      "Iter: 1000\n",
      "MAPE: 0.0862167\n",
      "RMSE: 5.03691\n",
      "\n",
      "Imputation MAPE: 0.0857423\n",
      "Imputation RMSE: 5.01532\n",
      "\n",
      "Prediction MAPE: 0.113731\n",
      "Prediction RMSE: 6.09462\n",
      "\n",
      "Running time: 3227 seconds\n",
      "\n",
      "Prediction time horizon (delta) = 12.\n"
     ]
    },
    {
     "data": {
      "application/vnd.jupyter.widget-view+json": {
       "model_id": "9ea4bdf0c3ba454e9179fcce9973c3db",
       "version_major": 2,
       "version_minor": 0
      },
      "text/plain": [
       "IntProgress(value=0, max=168)"
      ]
     },
     "metadata": {},
     "output_type": "display_data"
    },
    {
     "name": "stdout",
     "output_type": "stream",
     "text": [
      "Iter: 500\n",
      "MAPE: 0.0879386\n",
      "RMSE: 5.10876\n",
      "\n",
      "Iter: 1000\n",
      "MAPE: 0.0868308\n",
      "RMSE: 5.06629\n",
      "\n",
      "Imputation MAPE: 0.0863343\n",
      "Imputation RMSE: 5.04749\n",
      "\n",
      "Prediction MAPE: 0.123736\n",
      "Prediction RMSE: 6.68217\n",
      "\n",
      "Running time: 2341 seconds\n",
      "\n",
      "Prediction time horizon (delta) = 18.\n"
     ]
    },
    {
     "data": {
      "application/vnd.jupyter.widget-view+json": {
       "model_id": "e8a7e967c8ef4c198f2846f1074114e3",
       "version_major": 2,
       "version_minor": 0
      },
      "text/plain": [
       "IntProgress(value=0, max=112)"
      ]
     },
     "metadata": {},
     "output_type": "display_data"
    },
    {
     "name": "stdout",
     "output_type": "stream",
     "text": [
      "Iter: 500\n",
      "MAPE: 0.0881238\n",
      "RMSE: 5.11561\n",
      "\n",
      "Iter: 1000\n",
      "MAPE: 0.0870792\n",
      "RMSE: 5.08566\n",
      "\n",
      "Imputation MAPE: 0.0870466\n",
      "Imputation RMSE: 5.08052\n",
      "\n",
      "Prediction MAPE: 0.131848\n",
      "Prediction RMSE: 7.30179\n",
      "\n",
      "Running time: 2097 seconds\n",
      "\n",
      "Prediction time horizon (delta) = 24.\n"
     ]
    },
    {
     "data": {
      "application/vnd.jupyter.widget-view+json": {
       "model_id": "5e7f31a6b22b488a8c488403dd835c2e",
       "version_major": 2,
       "version_minor": 0
      },
      "text/plain": [
       "IntProgress(value=0, max=84)"
      ]
     },
     "metadata": {},
     "output_type": "display_data"
    },
    {
     "name": "stdout",
     "output_type": "stream",
     "text": [
      "Iter: 500\n",
      "MAPE: 0.0882026\n",
      "RMSE: 5.11861\n",
      "\n",
      "Iter: 1000\n",
      "MAPE: 0.0870478\n",
      "RMSE: 5.08209\n",
      "\n",
      "Imputation MAPE: 0.0869538\n",
      "Imputation RMSE: 5.07345\n",
      "\n",
      "Prediction MAPE: 0.134919\n",
      "Prediction RMSE: 7.44036\n",
      "\n",
      "Running time: 1983 seconds\n",
      "\n",
      "Prediction time horizon (delta) = 30.\n"
     ]
    },
    {
     "data": {
      "application/vnd.jupyter.widget-view+json": {
       "model_id": "d6b79e75ce0848dab9e68b91c333223d",
       "version_major": 2,
       "version_minor": 0
      },
      "text/plain": [
       "IntProgress(value=0, max=68)"
      ]
     },
     "metadata": {},
     "output_type": "display_data"
    },
    {
     "name": "stdout",
     "output_type": "stream",
     "text": [
      "Iter: 500\n",
      "MAPE: 0.0878587\n",
      "RMSE: 5.10153\n",
      "\n",
      "Iter: 1000\n",
      "MAPE: 0.0859312\n",
      "RMSE: 5.02361\n",
      "\n",
      "Imputation MAPE: 0.0857423\n",
      "Imputation RMSE: 5.01496\n",
      "\n",
      "Prediction MAPE: 0.138975\n",
      "Prediction RMSE: 7.37855\n",
      "\n",
      "Running time: 1924 seconds\n",
      "\n",
      "Prediction time horizon (delta) = 36.\n"
     ]
    },
    {
     "data": {
      "application/vnd.jupyter.widget-view+json": {
       "model_id": "4ee0cc29879a4139af6b21d93ea69b86",
       "version_major": 2,
       "version_minor": 0
      },
      "text/plain": [
       "IntProgress(value=0, max=56)"
      ]
     },
     "metadata": {},
     "output_type": "display_data"
    },
    {
     "name": "stdout",
     "output_type": "stream",
     "text": [
      "Iter: 500\n",
      "MAPE: 0.0881812\n",
      "RMSE: 5.11835\n",
      "\n",
      "Iter: 1000\n",
      "MAPE: 0.0868192\n",
      "RMSE: 5.06653\n",
      "\n",
      "Imputation MAPE: 0.08633\n",
      "Imputation RMSE: 5.04628\n",
      "\n",
      "Prediction MAPE: 0.141297\n",
      "Prediction RMSE: 7.70521\n",
      "\n",
      "Running time: 1874 seconds\n",
      "\n",
      "Prediction time horizon (delta) = 42.\n"
     ]
    },
    {
     "data": {
      "application/vnd.jupyter.widget-view+json": {
       "model_id": "08d0c0f143ac4026926f7f2b4f4aaaae",
       "version_major": 2,
       "version_minor": 0
      },
      "text/plain": [
       "IntProgress(value=0, max=48)"
      ]
     },
     "metadata": {},
     "output_type": "display_data"
    },
    {
     "name": "stdout",
     "output_type": "stream",
     "text": [
      "Iter: 500\n",
      "MAPE: 0.0881051\n",
      "RMSE: 5.11549\n",
      "\n",
      "Iter: 1000\n",
      "MAPE: 0.0870474\n",
      "RMSE: 5.08169\n",
      "\n",
      "Imputation MAPE: 0.0868271\n",
      "Imputation RMSE: 5.06591\n",
      "\n",
      "Prediction MAPE: 0.14336\n",
      "Prediction RMSE: 7.8961\n",
      "\n",
      "Running time: 1855 seconds\n",
      "\n",
      "Prediction time horizon (delta) = 48.\n"
     ]
    },
    {
     "data": {
      "application/vnd.jupyter.widget-view+json": {
       "model_id": "d3add362e7dd43e694f8251adbf033b6",
       "version_major": 2,
       "version_minor": 0
      },
      "text/plain": [
       "IntProgress(value=0, max=42)"
      ]
     },
     "metadata": {},
     "output_type": "display_data"
    },
    {
     "name": "stdout",
     "output_type": "stream",
     "text": [
      "Iter: 500\n",
      "MAPE: 0.0878311\n",
      "RMSE: 5.10429\n",
      "\n",
      "Iter: 1000\n",
      "MAPE: 0.0861349\n",
      "RMSE: 5.03379\n",
      "\n",
      "Imputation MAPE: 0.0857392\n",
      "Imputation RMSE: 5.01569\n",
      "\n",
      "Prediction MAPE: 0.142843\n",
      "Prediction RMSE: 7.5767\n",
      "\n",
      "Running time: 1831 seconds\n",
      "\n",
      "Prediction time horizon (delta) = 54.\n"
     ]
    },
    {
     "data": {
      "application/vnd.jupyter.widget-view+json": {
       "model_id": "12d935805566473fa25c33a6731719ab",
       "version_major": 2,
       "version_minor": 0
      },
      "text/plain": [
       "IntProgress(value=0, max=38)"
      ]
     },
     "metadata": {},
     "output_type": "display_data"
    },
    {
     "name": "stdout",
     "output_type": "stream",
     "text": [
      "Iter: 500\n",
      "MAPE: 0.0876245\n",
      "RMSE: 5.09225\n",
      "\n",
      "Iter: 1000\n",
      "MAPE: 0.0856452\n",
      "RMSE: 5.00769\n",
      "\n",
      "Imputation MAPE: 0.0857446\n",
      "Imputation RMSE: 5.01483\n",
      "\n",
      "Prediction MAPE: 0.142048\n",
      "Prediction RMSE: 7.57636\n",
      "\n",
      "Running time: 1843 seconds\n",
      "\n"
     ]
    }
   ],
   "source": [
    "import time\n",
    "rank = 10\n",
    "pred_step = 7 * 288\n",
    "time_lags = np.array([1, 2, 3, 288, 289, 290, 7 * 288, 7 * 288 + 1, 7 * 288 + 2])\n",
    "burn_iter = 1000\n",
    "gibbs_iter = 200\n",
    "for multi_step in [2, 4, 6, 12, 18, 24, 30, 36, 42, 48, 54]:\n",
    "    start = time.time()\n",
    "    print('Prediction time horizon (delta) = {}.'.format(multi_step))\n",
    "    mat_hat = BTMF_forecast(dense_mat, sparse_mat, pred_step, multi_step, rank, time_lags, burn_iter, gibbs_iter)\n",
    "    end = time.time()\n",
    "    print('Running time: %d seconds'%(end - start))\n",
    "    print()"
   ]
  },
  {
   "cell_type": "markdown",
   "metadata": {},
   "source": [
    "**Scenario setting**:\n",
    "\n",
    "- Tensor size: $323\\times 28\\times 288$ (road segment, day, time of day)\n",
    "- Random missing (RM)\n",
    "- 60% missing rate\n"
   ]
  },
  {
   "cell_type": "code",
   "execution_count": 35,
   "metadata": {},
   "outputs": [],
   "source": [
    "import pandas as pd\n",
    "\n",
    "dense_mat = pd.read_csv('../datasets/Seattle-data-set/mat.csv', index_col = 0)\n",
    "RM_mat = pd.read_csv('../datasets/Seattle-data-set/RM_mat.csv', index_col = 0)\n",
    "dense_mat = dense_mat.values\n",
    "RM_mat = RM_mat.values\n",
    "missing_rate = 0.6\n",
    "\n",
    "## Random missing (RM)\n",
    "binary_mat = np.round(RM_mat + 0.5 - missing_rate)\n",
    "sparse_mat = np.multiply(dense_mat, binary_mat)"
   ]
  },
  {
   "cell_type": "markdown",
   "metadata": {},
   "source": [
    "**Model setting**:\n",
    "\n",
    "- Low rank: 10\n",
    "- Total (rolling) prediction horizons: 7 * 288\n",
    "- Time lags: {1, 2, 288, 288 + 1, 288 + 2, 7 * 288, 7 * 288 + 1, 7 * 288 + 2}\n",
    "- The number of burn-in iterations: 1000\n",
    "- The number of Gibbs iterations: 200"
   ]
  },
  {
   "cell_type": "code",
   "execution_count": 36,
   "metadata": {
    "scrolled": true
   },
   "outputs": [
    {
     "name": "stdout",
     "output_type": "stream",
     "text": [
      "Prediction time horizon (delta) = 2.\n"
     ]
    },
    {
     "data": {
      "application/vnd.jupyter.widget-view+json": {
       "model_id": "1f283063c23741e9a3e3aa786ea6f803",
       "version_major": 2,
       "version_minor": 0
      },
      "text/plain": [
       "IntProgress(value=0, max=1008)"
      ]
     },
     "metadata": {},
     "output_type": "display_data"
    },
    {
     "name": "stdout",
     "output_type": "stream",
     "text": [
      "Iter: 500\n",
      "MAPE: 0.0894214\n",
      "RMSE: 5.16587\n",
      "\n",
      "Iter: 1000\n",
      "MAPE: 0.0879184\n",
      "RMSE: 5.12837\n",
      "\n",
      "Imputation MAPE: 0.0879216\n",
      "Imputation RMSE: 5.12756\n",
      "\n",
      "Prediction MAPE: 0.115999\n",
      "Prediction RMSE: 6.3022\n",
      "\n",
      "Running time: 5951 seconds\n",
      "\n",
      "Prediction time horizon (delta) = 4.\n"
     ]
    },
    {
     "data": {
      "application/vnd.jupyter.widget-view+json": {
       "model_id": "6e6ba462c8414d44829d70af806ad4d5",
       "version_major": 2,
       "version_minor": 0
      },
      "text/plain": [
       "IntProgress(value=0, max=504)"
      ]
     },
     "metadata": {},
     "output_type": "display_data"
    },
    {
     "name": "stdout",
     "output_type": "stream",
     "text": [
      "Iter: 500\n",
      "MAPE: 0.0894028\n",
      "RMSE: 5.16909\n",
      "\n",
      "Iter: 1000\n",
      "MAPE: 0.0878924\n",
      "RMSE: 5.12459\n",
      "\n",
      "Imputation MAPE: 0.0878341\n",
      "Imputation RMSE: 5.11729\n",
      "\n",
      "Prediction MAPE: 0.112092\n",
      "Prediction RMSE: 6.09629\n",
      "\n",
      "Running time: 3766 seconds\n",
      "\n",
      "Prediction time horizon (delta) = 6.\n"
     ]
    },
    {
     "data": {
      "application/vnd.jupyter.widget-view+json": {
       "model_id": "d2eb21dd41ff498c8d87c5378dc75891",
       "version_major": 2,
       "version_minor": 0
      },
      "text/plain": [
       "IntProgress(value=0, max=336)"
      ]
     },
     "metadata": {},
     "output_type": "display_data"
    },
    {
     "name": "stdout",
     "output_type": "stream",
     "text": [
      "Iter: 500\n",
      "MAPE: 0.0894411\n",
      "RMSE: 5.16702\n",
      "\n",
      "Iter: 1000\n",
      "MAPE: 0.0879183\n",
      "RMSE: 5.12787\n",
      "\n",
      "Imputation MAPE: 0.0879094\n",
      "Imputation RMSE: 5.12675\n",
      "\n",
      "Prediction MAPE: 0.128014\n",
      "Prediction RMSE: 7.02712\n",
      "\n",
      "Running time: 3092 seconds\n",
      "\n",
      "Prediction time horizon (delta) = 12.\n"
     ]
    },
    {
     "data": {
      "application/vnd.jupyter.widget-view+json": {
       "model_id": "8df19d7283ad47a98bff5d3f44dac825",
       "version_major": 2,
       "version_minor": 0
      },
      "text/plain": [
       "IntProgress(value=0, max=168)"
      ]
     },
     "metadata": {},
     "output_type": "display_data"
    },
    {
     "name": "stdout",
     "output_type": "stream",
     "text": [
      "Iter: 500\n",
      "MAPE: 0.0890271\n",
      "RMSE: 5.15737\n",
      "\n",
      "Iter: 1000\n",
      "MAPE: 0.0879183\n",
      "RMSE: 5.1281\n",
      "\n",
      "Imputation MAPE: 0.0879234\n",
      "Imputation RMSE: 5.12774\n",
      "\n",
      "Prediction MAPE: 0.13612\n",
      "Prediction RMSE: 7.54661\n",
      "\n",
      "Running time: 2389 seconds\n",
      "\n",
      "Prediction time horizon (delta) = 18.\n"
     ]
    },
    {
     "data": {
      "application/vnd.jupyter.widget-view+json": {
       "model_id": "06a7f74f93a04d3caa5e92a54709e434",
       "version_major": 2,
       "version_minor": 0
      },
      "text/plain": [
       "IntProgress(value=0, max=112)"
      ]
     },
     "metadata": {},
     "output_type": "display_data"
    },
    {
     "name": "stdout",
     "output_type": "stream",
     "text": [
      "Iter: 500\n",
      "MAPE: 0.0897229\n",
      "RMSE: 5.17744\n",
      "\n",
      "Iter: 1000\n",
      "MAPE: 0.0879214\n",
      "RMSE: 5.12831\n",
      "\n",
      "Imputation MAPE: 0.087911\n",
      "Imputation RMSE: 5.12717\n",
      "\n",
      "Prediction MAPE: 0.161326\n",
      "Prediction RMSE: 9.23195\n",
      "\n",
      "Running time: 2150 seconds\n",
      "\n",
      "Prediction time horizon (delta) = 24.\n"
     ]
    },
    {
     "data": {
      "application/vnd.jupyter.widget-view+json": {
       "model_id": "1ed91d0870c94a2fb183b9b07e2c73fb",
       "version_major": 2,
       "version_minor": 0
      },
      "text/plain": [
       "IntProgress(value=0, max=84)"
      ]
     },
     "metadata": {},
     "output_type": "display_data"
    },
    {
     "name": "stdout",
     "output_type": "stream",
     "text": [
      "Iter: 500\n",
      "MAPE: 0.0895744\n",
      "RMSE: 5.1749\n",
      "\n",
      "Iter: 1000\n",
      "MAPE: 0.0879192\n",
      "RMSE: 5.12806\n",
      "\n",
      "Imputation MAPE: 0.0879426\n",
      "Imputation RMSE: 5.12885\n",
      "\n",
      "Prediction MAPE: 0.185532\n",
      "Prediction RMSE: 10.7908\n",
      "\n",
      "Running time: 2021 seconds\n",
      "\n",
      "Prediction time horizon (delta) = 30.\n"
     ]
    },
    {
     "data": {
      "application/vnd.jupyter.widget-view+json": {
       "model_id": "f7619a8820444dc58b794d40253217c2",
       "version_major": 2,
       "version_minor": 0
      },
      "text/plain": [
       "IntProgress(value=0, max=68)"
      ]
     },
     "metadata": {},
     "output_type": "display_data"
    },
    {
     "name": "stdout",
     "output_type": "stream",
     "text": [
      "Iter: 500\n",
      "MAPE: 0.0891499\n",
      "RMSE: 5.16123\n",
      "\n",
      "Iter: 1000\n",
      "MAPE: 0.0879165\n",
      "RMSE: 5.12826\n",
      "\n",
      "Imputation MAPE: 0.0879125\n",
      "Imputation RMSE: 5.1279\n",
      "\n",
      "Prediction MAPE: 0.176957\n",
      "Prediction RMSE: 10.0802\n",
      "\n",
      "Running time: 2058 seconds\n",
      "\n",
      "Prediction time horizon (delta) = 36.\n"
     ]
    },
    {
     "data": {
      "application/vnd.jupyter.widget-view+json": {
       "model_id": "3a2fd2726c0a4984b42e036e1850f329",
       "version_major": 2,
       "version_minor": 0
      },
      "text/plain": [
       "IntProgress(value=0, max=56)"
      ]
     },
     "metadata": {},
     "output_type": "display_data"
    },
    {
     "name": "stdout",
     "output_type": "stream",
     "text": [
      "Iter: 500\n",
      "MAPE: 0.0894099\n",
      "RMSE: 5.16966\n",
      "\n",
      "Iter: 1000\n",
      "MAPE: 0.0878818\n",
      "RMSE: 5.12256\n",
      "\n",
      "Imputation MAPE: 0.0878071\n",
      "Imputation RMSE: 5.1147\n",
      "\n",
      "Prediction MAPE: 0.142486\n",
      "Prediction RMSE: 7.94144\n",
      "\n",
      "Running time: 3046 seconds\n",
      "\n",
      "Prediction time horizon (delta) = 42.\n"
     ]
    },
    {
     "data": {
      "application/vnd.jupyter.widget-view+json": {
       "model_id": "96dba073b7eb4fce96433fe3719e1975",
       "version_major": 2,
       "version_minor": 0
      },
      "text/plain": [
       "IntProgress(value=0, max=48)"
      ]
     },
     "metadata": {},
     "output_type": "display_data"
    },
    {
     "name": "stdout",
     "output_type": "stream",
     "text": [
      "Iter: 500\n",
      "MAPE: 0.0888348\n",
      "RMSE: 5.14931\n",
      "\n",
      "Iter: 1000\n",
      "MAPE: 0.0878914\n",
      "RMSE: 5.12533\n",
      "\n",
      "Imputation MAPE: 0.0878466\n",
      "Imputation RMSE: 5.12046\n",
      "\n",
      "Prediction MAPE: 0.14903\n",
      "Prediction RMSE: 8.42847\n",
      "\n",
      "Running time: 1989 seconds\n",
      "\n",
      "Prediction time horizon (delta) = 48.\n"
     ]
    },
    {
     "data": {
      "application/vnd.jupyter.widget-view+json": {
       "model_id": "ce1e9b90efa2478fab971cc752a1cd80",
       "version_major": 2,
       "version_minor": 0
      },
      "text/plain": [
       "IntProgress(value=0, max=42)"
      ]
     },
     "metadata": {},
     "output_type": "display_data"
    },
    {
     "name": "stdout",
     "output_type": "stream",
     "text": [
      "Iter: 500\n",
      "MAPE: 0.0895034\n",
      "RMSE: 5.17518\n",
      "\n",
      "Iter: 1000\n",
      "MAPE: 0.0879062\n",
      "RMSE: 5.12732\n",
      "\n",
      "Imputation MAPE: 0.0879073\n",
      "Imputation RMSE: 5.12631\n",
      "\n",
      "Prediction MAPE: 0.152438\n",
      "Prediction RMSE: 8.61268\n",
      "\n",
      "Running time: 1957 seconds\n",
      "\n",
      "Prediction time horizon (delta) = 54.\n"
     ]
    },
    {
     "data": {
      "application/vnd.jupyter.widget-view+json": {
       "model_id": "86ac9de9d6d0433e8344167a81e5364f",
       "version_major": 2,
       "version_minor": 0
      },
      "text/plain": [
       "IntProgress(value=0, max=38)"
      ]
     },
     "metadata": {},
     "output_type": "display_data"
    },
    {
     "name": "stdout",
     "output_type": "stream",
     "text": [
      "Iter: 500\n",
      "MAPE: 0.0891742\n",
      "RMSE: 5.16119\n",
      "\n",
      "Iter: 1000\n",
      "MAPE: 0.0879131\n",
      "RMSE: 5.12778\n",
      "\n",
      "Imputation MAPE: 0.087906\n",
      "Imputation RMSE: 5.12696\n",
      "\n",
      "Prediction MAPE: 0.15388\n",
      "Prediction RMSE: 8.67315\n",
      "\n",
      "Running time: 1977 seconds\n",
      "\n"
     ]
    }
   ],
   "source": [
    "import time\n",
    "rank = 10\n",
    "pred_step = 7 * 288\n",
    "time_lags = np.array([1, 2, 3, 288, 289, 290, 7 * 288, 7 * 288 + 1, 7 * 288 + 2])\n",
    "burn_iter = 1000\n",
    "gibbs_iter = 200\n",
    "for multi_step in [2, 4, 6, 12, 18, 24, 30, 36, 42, 48, 54]:\n",
    "    start = time.time()\n",
    "    print('Prediction time horizon (delta) = {}.'.format(multi_step))\n",
    "    mat_hat = BTMF_forecast(dense_mat, sparse_mat, pred_step, multi_step, rank, time_lags, burn_iter, gibbs_iter)\n",
    "    end = time.time()\n",
    "    print('Running time: %d seconds'%(end - start))\n",
    "    print()"
   ]
  },
  {
   "cell_type": "markdown",
   "metadata": {},
   "source": [
    "## Evaluation on London Movement Speed Data\n",
    "\n",
    "London movement speed data set is is a city-wide hourly traffic speeddataset collected in London.\n",
    "\n",
    "- Collected from 200,000+ road segments.\n",
    "- 720 time points in April 2019.\n",
    "- 73% missing values in the original data.\n",
    "\n",
    "|  Observation rate | $>90\\%$ | $>80\\%$ | $>70\\%$ | $>60\\%$ | $>50\\%$ |\n",
    "|:------------------|--------:|--------:|--------:|--------:|--------:|\n",
    "|**Number of roads**|  17,666 |  27,148 |  35,912 |  44,352 |  52,727 |\n",
    "\n",
    "\n",
    "If want to test on the full dataset, you could consider the following setting for masking observations as missing values. \n",
    "\n",
    "```python\n",
    "import numpy as np\n",
    "np.random.seed(1000)\n",
    "mask_rate = 0.20\n",
    "\n",
    "dense_mat = np.load('../datasets/London-data-set/hourly_speed_mat.npy')\n",
    "pos_obs = np.where(dense_mat != 0)\n",
    "num = len(pos_obs[0])\n",
    "sample_ind = np.random.choice(num, size = int(mask_rate * num), replace = False)\n",
    "sparse_mat = dense_mat.copy()\n",
    "sparse_mat[pos_obs[0][sample_ind], pos_obs[1][sample_ind]] = 0\n",
    "```\n",
    "\n",
    "Notably, you could also consider to evaluate the model on a subset of the data with the following setting."
   ]
  },
  {
   "cell_type": "code",
   "execution_count": 37,
   "metadata": {},
   "outputs": [],
   "source": [
    "import numpy as np\n",
    "import warnings\n",
    "warnings.simplefilter('ignore')\n",
    "\n",
    "dense_mat = np.load('../datasets/London-data-set/hourly_speed_mat.npy')\n",
    "binary_mat = dense_mat.copy()\n",
    "binary_mat[binary_mat != 0] = 1\n",
    "pos = np.where(np.sum(binary_mat, axis = 1) > 0.7 * binary_mat.shape[1])\n",
    "dense_mat = dense_mat[pos[0], :]\n",
    "sparse_mat = dense_mat.copy()"
   ]
  },
  {
   "cell_type": "markdown",
   "metadata": {},
   "source": [
    "**Model setting**:\n",
    "\n",
    "- Low rank: 10\n",
    "- Total (rolling) prediction horizons: 7 * 24\n",
    "- Time lags: {1, 2, 24, 24 + 1, 24 + 2, 7 * 24, 7 * 24 + 1, 7 * 24 + 2}\n",
    "- The number of burn-in iterations: 1000\n",
    "- The number of Gibbs iterations: 200"
   ]
  },
  {
   "cell_type": "code",
   "execution_count": 38,
   "metadata": {
    "scrolled": true
   },
   "outputs": [
    {
     "name": "stdout",
     "output_type": "stream",
     "text": [
      "Prediction time horizon (delta) = 2.\n"
     ]
    },
    {
     "data": {
      "application/vnd.jupyter.widget-view+json": {
       "model_id": "ec639671b8e54a2a9276616c574b6653",
       "version_major": 2,
       "version_minor": 0
      },
      "text/plain": [
       "IntProgress(value=0, max=84)"
      ]
     },
     "metadata": {},
     "output_type": "display_data"
    },
    {
     "name": "stdout",
     "output_type": "stream",
     "text": [
      "Iter: 500\n",
      "MAPE: nan\n",
      "RMSE: nan\n",
      "\n",
      "Iter: 1000\n",
      "MAPE: nan\n",
      "RMSE: nan\n",
      "\n",
      "Imputation MAPE: nan\n",
      "Imputation RMSE: nan\n",
      "\n",
      "Prediction MAPE: 0.112064\n",
      "Prediction RMSE: 2.66898\n",
      "\n",
      "Running time: 9216 seconds\n",
      "\n",
      "Prediction time horizon (delta) = 4.\n"
     ]
    },
    {
     "data": {
      "application/vnd.jupyter.widget-view+json": {
       "model_id": "a7a9151d92fb464e93cb5e9c7d8724ad",
       "version_major": 2,
       "version_minor": 0
      },
      "text/plain": [
       "IntProgress(value=0, max=42)"
      ]
     },
     "metadata": {},
     "output_type": "display_data"
    },
    {
     "name": "stdout",
     "output_type": "stream",
     "text": [
      "Iter: 500\n",
      "MAPE: nan\n",
      "RMSE: nan\n",
      "\n",
      "Iter: 1000\n",
      "MAPE: nan\n",
      "RMSE: nan\n",
      "\n",
      "Imputation MAPE: nan\n",
      "Imputation RMSE: nan\n",
      "\n",
      "Prediction MAPE: 0.113649\n",
      "Prediction RMSE: 2.70382\n",
      "\n",
      "Running time: 7304 seconds\n",
      "\n",
      "Prediction time horizon (delta) = 6.\n"
     ]
    },
    {
     "data": {
      "application/vnd.jupyter.widget-view+json": {
       "model_id": "2773804256e54e34a151cd3f8b1070c4",
       "version_major": 2,
       "version_minor": 0
      },
      "text/plain": [
       "IntProgress(value=0, max=28)"
      ]
     },
     "metadata": {},
     "output_type": "display_data"
    },
    {
     "name": "stdout",
     "output_type": "stream",
     "text": [
      "Iter: 500\n",
      "MAPE: nan\n",
      "RMSE: nan\n",
      "\n",
      "Iter: 1000\n",
      "MAPE: nan\n",
      "RMSE: nan\n",
      "\n",
      "Imputation MAPE: nan\n",
      "Imputation RMSE: nan\n",
      "\n",
      "Prediction MAPE: 0.120089\n",
      "Prediction RMSE: 2.82121\n",
      "\n",
      "Running time: 7175 seconds\n",
      "\n",
      "Prediction time horizon (delta) = 7.\n"
     ]
    },
    {
     "data": {
      "application/vnd.jupyter.widget-view+json": {
       "model_id": "cc1d2ed6f2a04246a645de4ebb2dad41",
       "version_major": 2,
       "version_minor": 0
      },
      "text/plain": [
       "IntProgress(value=0, max=24)"
      ]
     },
     "metadata": {},
     "output_type": "display_data"
    },
    {
     "name": "stdout",
     "output_type": "stream",
     "text": [
      "Iter: 500\n",
      "MAPE: nan\n",
      "RMSE: nan\n",
      "\n",
      "Iter: 1000\n",
      "MAPE: nan\n",
      "RMSE: nan\n",
      "\n",
      "Imputation MAPE: nan\n",
      "Imputation RMSE: nan\n",
      "\n",
      "Prediction MAPE: 0.117824\n",
      "Prediction RMSE: 2.78782\n",
      "\n",
      "Running time: 7807 seconds\n",
      "\n",
      "Prediction time horizon (delta) = 8.\n"
     ]
    },
    {
     "data": {
      "application/vnd.jupyter.widget-view+json": {
       "model_id": "fbdd4f0f05f14f2dacfaf1ac04be6431",
       "version_major": 2,
       "version_minor": 0
      },
      "text/plain": [
       "IntProgress(value=0, max=21)"
      ]
     },
     "metadata": {},
     "output_type": "display_data"
    },
    {
     "name": "stdout",
     "output_type": "stream",
     "text": [
      "Iter: 500\n",
      "MAPE: nan\n",
      "RMSE: nan\n",
      "\n",
      "Iter: 1000\n",
      "MAPE: nan\n",
      "RMSE: nan\n",
      "\n",
      "Imputation MAPE: nan\n",
      "Imputation RMSE: nan\n",
      "\n",
      "Prediction MAPE: 0.114798\n",
      "Prediction RMSE: 2.7306\n",
      "\n",
      "Running time: 6253 seconds\n",
      "\n",
      "Prediction time horizon (delta) = 9.\n"
     ]
    },
    {
     "data": {
      "application/vnd.jupyter.widget-view+json": {
       "model_id": "e00e08e5286c4131af69f6a28bbbe2cd",
       "version_major": 2,
       "version_minor": 0
      },
      "text/plain": [
       "IntProgress(value=0, max=19)"
      ]
     },
     "metadata": {},
     "output_type": "display_data"
    },
    {
     "name": "stdout",
     "output_type": "stream",
     "text": [
      "Iter: 500\n",
      "MAPE: nan\n",
      "RMSE: nan\n",
      "\n",
      "Iter: 1000\n",
      "MAPE: nan\n",
      "RMSE: nan\n",
      "\n",
      "Imputation MAPE: nan\n",
      "Imputation RMSE: nan\n",
      "\n",
      "Prediction MAPE: 0.120242\n",
      "Prediction RMSE: 2.81811\n",
      "\n",
      "Running time: 6220 seconds\n",
      "\n",
      "Prediction time horizon (delta) = 10.\n"
     ]
    },
    {
     "data": {
      "application/vnd.jupyter.widget-view+json": {
       "model_id": "f0508b8eab0b4cd09820ac0b0dba2373",
       "version_major": 2,
       "version_minor": 0
      },
      "text/plain": [
       "IntProgress(value=0, max=17)"
      ]
     },
     "metadata": {},
     "output_type": "display_data"
    },
    {
     "name": "stdout",
     "output_type": "stream",
     "text": [
      "Iter: 500\n",
      "MAPE: nan\n",
      "RMSE: nan\n",
      "\n",
      "Iter: 1000\n",
      "MAPE: nan\n",
      "RMSE: nan\n",
      "\n",
      "Imputation MAPE: nan\n",
      "Imputation RMSE: nan\n",
      "\n",
      "Prediction MAPE: 0.120112\n",
      "Prediction RMSE: 2.8423\n",
      "\n",
      "Running time: 6144 seconds\n",
      "\n",
      "Prediction time horizon (delta) = 11.\n"
     ]
    },
    {
     "data": {
      "application/vnd.jupyter.widget-view+json": {
       "model_id": "b31072c8472744e5bc201ad39334528c",
       "version_major": 2,
       "version_minor": 0
      },
      "text/plain": [
       "IntProgress(value=0, max=16)"
      ]
     },
     "metadata": {},
     "output_type": "display_data"
    },
    {
     "name": "stdout",
     "output_type": "stream",
     "text": [
      "Iter: 500\n",
      "MAPE: nan\n",
      "RMSE: nan\n",
      "\n",
      "Iter: 1000\n",
      "MAPE: nan\n",
      "RMSE: nan\n",
      "\n",
      "Imputation MAPE: nan\n",
      "Imputation RMSE: nan\n",
      "\n",
      "Prediction MAPE: 0.120137\n",
      "Prediction RMSE: 2.83991\n",
      "\n",
      "Running time: 6275 seconds\n",
      "\n",
      "Prediction time horizon (delta) = 12.\n"
     ]
    },
    {
     "data": {
      "application/vnd.jupyter.widget-view+json": {
       "model_id": "0be047ad3ad44668b8c393f2a9cfe3a1",
       "version_major": 2,
       "version_minor": 0
      },
      "text/plain": [
       "IntProgress(value=0, max=14)"
      ]
     },
     "metadata": {},
     "output_type": "display_data"
    },
    {
     "name": "stdout",
     "output_type": "stream",
     "text": [
      "Iter: 500\n",
      "MAPE: nan\n",
      "RMSE: nan\n",
      "\n",
      "Iter: 1000\n",
      "MAPE: nan\n",
      "RMSE: nan\n",
      "\n",
      "Imputation MAPE: nan\n",
      "Imputation RMSE: nan\n",
      "\n",
      "Prediction MAPE: 0.12204\n",
      "Prediction RMSE: 2.87066\n",
      "\n",
      "Running time: 6142 seconds\n",
      "\n",
      "Prediction time horizon (delta) = 13.\n"
     ]
    },
    {
     "data": {
      "application/vnd.jupyter.widget-view+json": {
       "model_id": "54488b1ef69c464c92232475cdf47dad",
       "version_major": 2,
       "version_minor": 0
      },
      "text/plain": [
       "IntProgress(value=0, max=13)"
      ]
     },
     "metadata": {},
     "output_type": "display_data"
    },
    {
     "name": "stdout",
     "output_type": "stream",
     "text": [
      "Iter: 500\n",
      "MAPE: nan\n",
      "RMSE: nan\n",
      "\n",
      "Iter: 1000\n",
      "MAPE: nan\n",
      "RMSE: nan\n",
      "\n",
      "Imputation MAPE: nan\n",
      "Imputation RMSE: nan\n",
      "\n",
      "Prediction MAPE: 0.121123\n",
      "Prediction RMSE: 2.86164\n",
      "\n",
      "Running time: 6025 seconds\n",
      "\n",
      "Prediction time horizon (delta) = 14.\n"
     ]
    },
    {
     "data": {
      "application/vnd.jupyter.widget-view+json": {
       "model_id": "3133a6f122d94eaa965b73cabd7ce1da",
       "version_major": 2,
       "version_minor": 0
      },
      "text/plain": [
       "IntProgress(value=0, max=12)"
      ]
     },
     "metadata": {},
     "output_type": "display_data"
    },
    {
     "name": "stdout",
     "output_type": "stream",
     "text": [
      "Iter: 500\n",
      "MAPE: nan\n",
      "RMSE: nan\n",
      "\n",
      "Iter: 1000\n",
      "MAPE: nan\n",
      "RMSE: nan\n",
      "\n",
      "Imputation MAPE: nan\n",
      "Imputation RMSE: nan\n",
      "\n",
      "Prediction MAPE: 0.120231\n",
      "Prediction RMSE: 2.82041\n",
      "\n",
      "Running time: 6075 seconds\n",
      "\n"
     ]
    }
   ],
   "source": [
    "import time\n",
    "rank = 10\n",
    "pred_step = 7 * 24\n",
    "time_lags = np.array([1, 2, 3, 24, 25, 26, 7 * 24, 7 * 24 + 1, 7 * 24 + 2])\n",
    "burn_iter = 1000\n",
    "gibbs_iter = 200\n",
    "for multi_step in [2, 4, 6, 7, 8, 9, 10, 11, 12, 13, 14]:\n",
    "    start = time.time()\n",
    "    print('Prediction time horizon (delta) = {}.'.format(multi_step))\n",
    "    mat_hat = BTMF_forecast(dense_mat, sparse_mat, pred_step, multi_step, rank, time_lags, burn_iter, gibbs_iter)\n",
    "    end = time.time()\n",
    "    print('Running time: %d seconds'%(end - start))\n",
    "    print()"
   ]
  },
  {
   "cell_type": "code",
   "execution_count": 39,
   "metadata": {},
   "outputs": [],
   "source": [
    "import numpy as np\n",
    "np.random.seed(1000)\n",
    "\n",
    "missing_rate = 0.4\n",
    "\n",
    "dense_mat = np.load('../datasets/London-data-set/hourly_speed_mat.npy')\n",
    "binary_mat = dense_mat.copy()\n",
    "binary_mat[binary_mat != 0] = 1\n",
    "pos = np.where(np.sum(binary_mat, axis = 1) > 0.7 * binary_mat.shape[1])\n",
    "dense_mat = dense_mat[pos[0], :]\n",
    "\n",
    "## Non-random missing (NM)\n",
    "binary_mat = np.zeros(dense_mat.shape)\n",
    "random_mat = np.random.rand(dense_mat.shape[0], 30)\n",
    "for i1 in range(dense_mat.shape[0]):\n",
    "    for i2 in range(30):\n",
    "        binary_mat[i1, i2 * 24 : (i2 + 1) * 24] = np.round(random_mat[i1, i2] + 0.5 - missing_rate)\n",
    "sparse_mat = np.multiply(dense_mat, binary_mat)"
   ]
  },
  {
   "cell_type": "markdown",
   "metadata": {},
   "source": [
    "**Model setting**:\n",
    "\n",
    "- Low rank: 10\n",
    "- Total (rolling) prediction horizons: 7 * 24\n",
    "- Time lags: {1, 2, 24, 24 + 1, 24 + 2, 7 * 24, 7 * 24 + 1, 7 * 24 + 2}\n",
    "- The number of burn-in iterations: 1000\n",
    "- The number of Gibbs iterations: 200"
   ]
  },
  {
   "cell_type": "code",
   "execution_count": 40,
   "metadata": {},
   "outputs": [
    {
     "name": "stdout",
     "output_type": "stream",
     "text": [
      "Prediction time horizon (delta) = 2.\n"
     ]
    },
    {
     "data": {
      "application/vnd.jupyter.widget-view+json": {
       "model_id": "3a745bdb6c6d4da488bfb0d58dcd9864",
       "version_major": 2,
       "version_minor": 0
      },
      "text/plain": [
       "IntProgress(value=0, max=84)"
      ]
     },
     "metadata": {},
     "output_type": "display_data"
    },
    {
     "name": "stdout",
     "output_type": "stream",
     "text": [
      "Iter: 500\n",
      "MAPE: 0.0955807\n",
      "RMSE: 2.36991\n",
      "\n",
      "Iter: 1000\n",
      "MAPE: 0.0955983\n",
      "RMSE: 2.36957\n",
      "\n",
      "Imputation MAPE: 0.0955995\n",
      "Imputation RMSE: 2.36954\n",
      "\n",
      "Prediction MAPE: 0.113749\n",
      "Prediction RMSE: 2.70763\n",
      "\n",
      "Running time: 8733 seconds\n",
      "\n",
      "Prediction time horizon (delta) = 4.\n"
     ]
    },
    {
     "data": {
      "application/vnd.jupyter.widget-view+json": {
       "model_id": "be936db3d1f04e4c8fa7cb8da49102b6",
       "version_major": 2,
       "version_minor": 0
      },
      "text/plain": [
       "IntProgress(value=0, max=42)"
      ]
     },
     "metadata": {},
     "output_type": "display_data"
    },
    {
     "name": "stdout",
     "output_type": "stream",
     "text": [
      "Iter: 500\n",
      "MAPE: 0.0955822\n",
      "RMSE: 2.37031\n",
      "\n",
      "Iter: 1000\n",
      "MAPE: 0.0955977\n",
      "RMSE: 2.36953\n",
      "\n",
      "Imputation MAPE: 0.0956001\n",
      "Imputation RMSE: 2.36963\n",
      "\n",
      "Prediction MAPE: 0.115534\n",
      "Prediction RMSE: 2.73643\n",
      "\n",
      "Running time: 6439 seconds\n",
      "\n",
      "Prediction time horizon (delta) = 6.\n"
     ]
    },
    {
     "data": {
      "application/vnd.jupyter.widget-view+json": {
       "model_id": "525b7d0ef4d3496eb3ee5b644090d9a3",
       "version_major": 2,
       "version_minor": 0
      },
      "text/plain": [
       "IntProgress(value=0, max=28)"
      ]
     },
     "metadata": {},
     "output_type": "display_data"
    },
    {
     "name": "stdout",
     "output_type": "stream",
     "text": [
      "Iter: 500\n",
      "MAPE: 0.0955971\n",
      "RMSE: 2.37029\n",
      "\n",
      "Iter: 1000\n",
      "MAPE: 0.0955961\n",
      "RMSE: 2.3695\n",
      "\n",
      "Imputation MAPE: 0.0955984\n",
      "Imputation RMSE: 2.36954\n",
      "\n",
      "Prediction MAPE: 0.121087\n",
      "Prediction RMSE: 2.84984\n",
      "\n",
      "Running time: 6170 seconds\n",
      "\n",
      "Prediction time horizon (delta) = 7.\n"
     ]
    },
    {
     "data": {
      "application/vnd.jupyter.widget-view+json": {
       "model_id": "717555d167fd4798bea5a5f6ba9ad707",
       "version_major": 2,
       "version_minor": 0
      },
      "text/plain": [
       "IntProgress(value=0, max=24)"
      ]
     },
     "metadata": {},
     "output_type": "display_data"
    },
    {
     "name": "stdout",
     "output_type": "stream",
     "text": [
      "Iter: 500\n",
      "MAPE: 0.0955885\n",
      "RMSE: 2.37047\n",
      "\n",
      "Iter: 1000\n",
      "MAPE: 0.0955965\n",
      "RMSE: 2.3695\n",
      "\n",
      "Imputation MAPE: 0.0955997\n",
      "Imputation RMSE: 2.36959\n",
      "\n",
      "Prediction MAPE: 0.119129\n",
      "Prediction RMSE: 2.81407\n",
      "\n",
      "Running time: 6195 seconds\n",
      "\n",
      "Prediction time horizon (delta) = 8.\n"
     ]
    },
    {
     "data": {
      "application/vnd.jupyter.widget-view+json": {
       "model_id": "68dca4e1d1de483280383c06104af2e2",
       "version_major": 2,
       "version_minor": 0
      },
      "text/plain": [
       "IntProgress(value=0, max=21)"
      ]
     },
     "metadata": {},
     "output_type": "display_data"
    },
    {
     "name": "stdout",
     "output_type": "stream",
     "text": [
      "Iter: 500\n",
      "MAPE: 0.0955806\n",
      "RMSE: 2.3706\n",
      "\n",
      "Iter: 1000\n",
      "MAPE: 0.0955993\n",
      "RMSE: 2.36952\n",
      "\n",
      "Imputation MAPE: 0.0956038\n",
      "Imputation RMSE: 2.3696\n",
      "\n",
      "Prediction MAPE: 0.116122\n",
      "Prediction RMSE: 2.75803\n",
      "\n",
      "Running time: 6601 seconds\n",
      "\n",
      "Prediction time horizon (delta) = 9.\n"
     ]
    },
    {
     "data": {
      "application/vnd.jupyter.widget-view+json": {
       "model_id": "505a28919bb34db49e7abc5807e5cde0",
       "version_major": 2,
       "version_minor": 0
      },
      "text/plain": [
       "IntProgress(value=0, max=19)"
      ]
     },
     "metadata": {},
     "output_type": "display_data"
    },
    {
     "name": "stdout",
     "output_type": "stream",
     "text": [
      "Iter: 500\n",
      "MAPE: 0.0955809\n",
      "RMSE: 2.37019\n",
      "\n",
      "Iter: 1000\n",
      "MAPE: 0.095596\n",
      "RMSE: 2.36946\n",
      "\n",
      "Imputation MAPE: 0.0955972\n",
      "Imputation RMSE: 2.3695\n",
      "\n",
      "Prediction MAPE: 0.121512\n",
      "Prediction RMSE: 2.83645\n",
      "\n",
      "Running time: 6875 seconds\n",
      "\n",
      "Prediction time horizon (delta) = 10.\n"
     ]
    },
    {
     "data": {
      "application/vnd.jupyter.widget-view+json": {
       "model_id": "f78866056a014c8ca25435242366ae04",
       "version_major": 2,
       "version_minor": 0
      },
      "text/plain": [
       "IntProgress(value=0, max=17)"
      ]
     },
     "metadata": {},
     "output_type": "display_data"
    },
    {
     "name": "stdout",
     "output_type": "stream",
     "text": [
      "Iter: 500\n",
      "MAPE: 0.095586\n",
      "RMSE: 2.37049\n",
      "\n",
      "Iter: 1000\n",
      "MAPE: 0.0955958\n",
      "RMSE: 2.36948\n",
      "\n",
      "Imputation MAPE: 0.0956001\n",
      "Imputation RMSE: 2.36958\n",
      "\n",
      "Prediction MAPE: 0.121088\n",
      "Prediction RMSE: 2.86495\n",
      "\n",
      "Running time: 6535 seconds\n",
      "\n",
      "Prediction time horizon (delta) = 11.\n"
     ]
    },
    {
     "data": {
      "application/vnd.jupyter.widget-view+json": {
       "model_id": "ace60db115434d0c81d51da7282fb742",
       "version_major": 2,
       "version_minor": 0
      },
      "text/plain": [
       "IntProgress(value=0, max=16)"
      ]
     },
     "metadata": {},
     "output_type": "display_data"
    },
    {
     "name": "stdout",
     "output_type": "stream",
     "text": [
      "Iter: 500\n",
      "MAPE: 0.0955657\n",
      "RMSE: 2.37109\n",
      "\n",
      "Iter: 1000\n",
      "MAPE: 0.0956015\n",
      "RMSE: 2.36951\n",
      "\n",
      "Imputation MAPE: 0.0955992\n",
      "Imputation RMSE: 2.36952\n",
      "\n",
      "Prediction MAPE: 0.121397\n",
      "Prediction RMSE: 2.859\n",
      "\n",
      "Running time: 6432 seconds\n",
      "\n",
      "Prediction time horizon (delta) = 12.\n"
     ]
    },
    {
     "data": {
      "application/vnd.jupyter.widget-view+json": {
       "model_id": "2097e3150d264e3b96ef684c761f8580",
       "version_major": 2,
       "version_minor": 0
      },
      "text/plain": [
       "IntProgress(value=0, max=14)"
      ]
     },
     "metadata": {},
     "output_type": "display_data"
    },
    {
     "name": "stdout",
     "output_type": "stream",
     "text": [
      "Iter: 500\n",
      "MAPE: 0.0955899\n",
      "RMSE: 2.37017\n",
      "\n",
      "Iter: 1000\n",
      "MAPE: 0.0955948\n",
      "RMSE: 2.36947\n",
      "\n",
      "Imputation MAPE: 0.0955995\n",
      "Imputation RMSE: 2.36951\n",
      "\n",
      "Prediction MAPE: 0.122993\n",
      "Prediction RMSE: 2.88612\n",
      "\n",
      "Running time: 6348 seconds\n",
      "\n",
      "Prediction time horizon (delta) = 13.\n"
     ]
    },
    {
     "data": {
      "application/vnd.jupyter.widget-view+json": {
       "model_id": "b1e8e38cea474a7389bdb4f056d6b1f8",
       "version_major": 2,
       "version_minor": 0
      },
      "text/plain": [
       "IntProgress(value=0, max=13)"
      ]
     },
     "metadata": {},
     "output_type": "display_data"
    },
    {
     "name": "stdout",
     "output_type": "stream",
     "text": [
      "Iter: 500\n",
      "MAPE: 0.0955772\n",
      "RMSE: 2.3702\n",
      "\n",
      "Iter: 1000\n",
      "MAPE: 0.0955985\n",
      "RMSE: 2.36951\n",
      "\n",
      "Imputation MAPE: 0.0956007\n",
      "Imputation RMSE: 2.36953\n",
      "\n",
      "Prediction MAPE: 0.12197\n",
      "Prediction RMSE: 2.87591\n",
      "\n",
      "Running time: 6146 seconds\n",
      "\n",
      "Prediction time horizon (delta) = 14.\n"
     ]
    },
    {
     "data": {
      "application/vnd.jupyter.widget-view+json": {
       "model_id": "8368363c83944c27a8542ea2de866788",
       "version_major": 2,
       "version_minor": 0
      },
      "text/plain": [
       "IntProgress(value=0, max=12)"
      ]
     },
     "metadata": {},
     "output_type": "display_data"
    },
    {
     "name": "stdout",
     "output_type": "stream",
     "text": [
      "Iter: 500\n",
      "MAPE: 0.0955815\n",
      "RMSE: 2.37025\n",
      "\n",
      "Iter: 1000\n",
      "MAPE: 0.0955965\n",
      "RMSE: 2.36949\n",
      "\n",
      "Imputation MAPE: 0.0955993\n",
      "Imputation RMSE: 2.36962\n",
      "\n",
      "Prediction MAPE: 0.122158\n",
      "Prediction RMSE: 2.8496\n",
      "\n",
      "Running time: 6148 seconds\n",
      "\n"
     ]
    }
   ],
   "source": [
    "import time\n",
    "rank = 10\n",
    "pred_step = 7 * 24\n",
    "time_lags = np.array([1, 2, 3, 24, 25, 26, 7 * 24, 7 * 24 + 1, 7 * 24 + 2])\n",
    "burn_iter = 1000\n",
    "gibbs_iter = 200\n",
    "for multi_step in [2, 4, 6, 7, 8, 9, 10, 11, 12, 13, 14]:\n",
    "    start = time.time()\n",
    "    print('Prediction time horizon (delta) = {}.'.format(multi_step))\n",
    "    mat_hat = BTMF_forecast(dense_mat, sparse_mat, pred_step, multi_step, rank, time_lags, burn_iter, gibbs_iter)\n",
    "    end = time.time()\n",
    "    print('Running time: %d seconds'%(end - start))\n",
    "    print()"
   ]
  },
  {
   "cell_type": "code",
   "execution_count": 41,
   "metadata": {},
   "outputs": [],
   "source": [
    "import numpy as np\n",
    "np.random.seed(1000)\n",
    "\n",
    "missing_rate = 0.4\n",
    "\n",
    "dense_mat = np.load('../datasets/London-data-set/hourly_speed_mat.npy')\n",
    "binary_mat = dense_mat.copy()\n",
    "binary_mat[binary_mat != 0] = 1\n",
    "pos = np.where(np.sum(binary_mat, axis = 1) > 0.7 * binary_mat.shape[1])\n",
    "dense_mat = dense_mat[pos[0], :]\n",
    "\n",
    "## Random missing (RM)\n",
    "random_mat = np.random.rand(dense_mat.shape[0], dense_mat.shape[1])\n",
    "binary_mat = np.round(random_mat + 0.5 - missing_rate)\n",
    "sparse_mat = np.multiply(dense_mat, binary_mat)"
   ]
  },
  {
   "cell_type": "markdown",
   "metadata": {},
   "source": [
    "**Model setting**:\n",
    "\n",
    "- Low rank: 10\n",
    "- Total (rolling) prediction horizons: 7 * 24\n",
    "- Time lags: {1, 2, 24, 24 + 1, 24 + 2, 7 * 24, 7 * 24 + 1, 7 * 24 + 2}\n",
    "- The number of burn-in iterations: 1000\n",
    "- The number of Gibbs iterations: 200"
   ]
  },
  {
   "cell_type": "code",
   "execution_count": 42,
   "metadata": {},
   "outputs": [
    {
     "name": "stdout",
     "output_type": "stream",
     "text": [
      "Prediction time horizon (delta) = 2.\n"
     ]
    },
    {
     "data": {
      "application/vnd.jupyter.widget-view+json": {
       "model_id": "cac351fca8744f5382a6689a8d3192bf",
       "version_major": 2,
       "version_minor": 0
      },
      "text/plain": [
       "IntProgress(value=0, max=84)"
      ]
     },
     "metadata": {},
     "output_type": "display_data"
    },
    {
     "name": "stdout",
     "output_type": "stream",
     "text": [
      "Iter: 500\n",
      "MAPE: 0.0935184\n",
      "RMSE: 2.31694\n",
      "\n",
      "Iter: 1000\n",
      "MAPE: 0.0934989\n",
      "RMSE: 2.31593\n",
      "\n",
      "Imputation MAPE: 0.0935035\n",
      "Imputation RMSE: 2.31592\n",
      "\n",
      "Prediction MAPE: 0.114061\n",
      "Prediction RMSE: 2.69779\n",
      "\n",
      "Running time: 9966 seconds\n",
      "\n",
      "Prediction time horizon (delta) = 4.\n"
     ]
    },
    {
     "data": {
      "application/vnd.jupyter.widget-view+json": {
       "model_id": "12a51643a38b43f7ababceeccbc2ac18",
       "version_major": 2,
       "version_minor": 0
      },
      "text/plain": [
       "IntProgress(value=0, max=42)"
      ]
     },
     "metadata": {},
     "output_type": "display_data"
    },
    {
     "name": "stdout",
     "output_type": "stream",
     "text": [
      "Iter: 500\n",
      "MAPE: 0.093512\n",
      "RMSE: 2.31702\n",
      "\n",
      "Iter: 1000\n",
      "MAPE: 0.0935004\n",
      "RMSE: 2.31591\n",
      "\n",
      "Imputation MAPE: 0.0935027\n",
      "Imputation RMSE: 2.31594\n",
      "\n",
      "Prediction MAPE: 0.115363\n",
      "Prediction RMSE: 2.72548\n",
      "\n",
      "Running time: 7010 seconds\n",
      "\n",
      "Prediction time horizon (delta) = 6.\n"
     ]
    },
    {
     "data": {
      "application/vnd.jupyter.widget-view+json": {
       "model_id": "b544ee8797dd4379b41268130c0f3d2d",
       "version_major": 2,
       "version_minor": 0
      },
      "text/plain": [
       "IntProgress(value=0, max=28)"
      ]
     },
     "metadata": {},
     "output_type": "display_data"
    },
    {
     "name": "stdout",
     "output_type": "stream",
     "text": [
      "Iter: 500\n",
      "MAPE: 0.0935189\n",
      "RMSE: 2.31692\n",
      "\n",
      "Iter: 1000\n",
      "MAPE: 0.0934994\n",
      "RMSE: 2.31589\n",
      "\n",
      "Imputation MAPE: 0.0935047\n",
      "Imputation RMSE: 2.31594\n",
      "\n",
      "Prediction MAPE: 0.121527\n",
      "Prediction RMSE: 2.84161\n",
      "\n",
      "Running time: 6621 seconds\n",
      "\n",
      "Prediction time horizon (delta) = 7.\n"
     ]
    },
    {
     "data": {
      "application/vnd.jupyter.widget-view+json": {
       "model_id": "1076144d46914ee3824f884d2375c454",
       "version_major": 2,
       "version_minor": 0
      },
      "text/plain": [
       "IntProgress(value=0, max=24)"
      ]
     },
     "metadata": {},
     "output_type": "display_data"
    },
    {
     "name": "stdout",
     "output_type": "stream",
     "text": [
      "Iter: 500\n",
      "MAPE: 0.0935062\n",
      "RMSE: 2.31725\n",
      "\n",
      "Iter: 1000\n",
      "MAPE: 0.0934994\n",
      "RMSE: 2.31588\n",
      "\n",
      "Imputation MAPE: 0.0935025\n",
      "Imputation RMSE: 2.31594\n",
      "\n",
      "Prediction MAPE: 0.119193\n",
      "Prediction RMSE: 2.80045\n",
      "\n",
      "Running time: 6572 seconds\n",
      "\n",
      "Prediction time horizon (delta) = 8.\n"
     ]
    },
    {
     "data": {
      "application/vnd.jupyter.widget-view+json": {
       "model_id": "91479603f9094bbc85c24263b4ef4f8e",
       "version_major": 2,
       "version_minor": 0
      },
      "text/plain": [
       "IntProgress(value=0, max=21)"
      ]
     },
     "metadata": {},
     "output_type": "display_data"
    },
    {
     "name": "stdout",
     "output_type": "stream",
     "text": [
      "Iter: 500\n",
      "MAPE: 0.0935222\n",
      "RMSE: 2.3169\n",
      "\n",
      "Iter: 1000\n",
      "MAPE: 0.0934997\n",
      "RMSE: 2.31592\n",
      "\n",
      "Imputation MAPE: 0.0935048\n",
      "Imputation RMSE: 2.31602\n",
      "\n",
      "Prediction MAPE: 0.116533\n",
      "Prediction RMSE: 2.74527\n",
      "\n",
      "Running time: 6530 seconds\n",
      "\n",
      "Prediction time horizon (delta) = 9.\n"
     ]
    },
    {
     "data": {
      "application/vnd.jupyter.widget-view+json": {
       "model_id": "dad3f02e468d4323be750ff69459900d",
       "version_major": 2,
       "version_minor": 0
      },
      "text/plain": [
       "IntProgress(value=0, max=19)"
      ]
     },
     "metadata": {},
     "output_type": "display_data"
    },
    {
     "name": "stdout",
     "output_type": "stream",
     "text": [
      "Iter: 500\n",
      "MAPE: 0.0935016\n",
      "RMSE: 2.31711\n",
      "\n",
      "Iter: 1000\n",
      "MAPE: 0.0934978\n",
      "RMSE: 2.31589\n",
      "\n",
      "Imputation MAPE: 0.0935026\n",
      "Imputation RMSE: 2.31594\n",
      "\n",
      "Prediction MAPE: 0.121328\n",
      "Prediction RMSE: 2.83619\n",
      "\n",
      "Running time: 7626 seconds\n",
      "\n",
      "Prediction time horizon (delta) = 10.\n"
     ]
    },
    {
     "data": {
      "application/vnd.jupyter.widget-view+json": {
       "model_id": "85ad5feb2d22480d80de298bf48c537f",
       "version_major": 2,
       "version_minor": 0
      },
      "text/plain": [
       "IntProgress(value=0, max=17)"
      ]
     },
     "metadata": {},
     "output_type": "display_data"
    },
    {
     "name": "stdout",
     "output_type": "stream",
     "text": [
      "Iter: 500\n",
      "MAPE: 0.0935013\n",
      "RMSE: 2.31678\n",
      "\n",
      "Iter: 1000\n",
      "MAPE: 0.0935025\n",
      "RMSE: 2.31591\n",
      "\n",
      "Imputation MAPE: 0.0935052\n",
      "Imputation RMSE: 2.31598\n",
      "\n",
      "Prediction MAPE: 0.122317\n",
      "Prediction RMSE: 2.86975\n",
      "\n",
      "Running time: 6671 seconds\n",
      "\n",
      "Prediction time horizon (delta) = 11.\n"
     ]
    },
    {
     "data": {
      "application/vnd.jupyter.widget-view+json": {
       "model_id": "09740d11c2854343ab1f358e78df01b7",
       "version_major": 2,
       "version_minor": 0
      },
      "text/plain": [
       "IntProgress(value=0, max=16)"
      ]
     },
     "metadata": {},
     "output_type": "display_data"
    },
    {
     "name": "stdout",
     "output_type": "stream",
     "text": [
      "Iter: 500\n",
      "MAPE: 0.0935169\n",
      "RMSE: 2.31683\n",
      "\n",
      "Iter: 1000\n",
      "MAPE: 0.0934986\n",
      "RMSE: 2.31592\n",
      "\n",
      "Imputation MAPE: 0.0935023\n",
      "Imputation RMSE: 2.31597\n",
      "\n",
      "Prediction MAPE: 0.122067\n",
      "Prediction RMSE: 2.85797\n",
      "\n",
      "Running time: 7059 seconds\n",
      "\n",
      "Prediction time horizon (delta) = 12.\n"
     ]
    },
    {
     "data": {
      "application/vnd.jupyter.widget-view+json": {
       "model_id": "ab173f32c73d416792a0d3823d109a85",
       "version_major": 2,
       "version_minor": 0
      },
      "text/plain": [
       "IntProgress(value=0, max=14)"
      ]
     },
     "metadata": {},
     "output_type": "display_data"
    },
    {
     "name": "stdout",
     "output_type": "stream",
     "text": [
      "Iter: 500\n",
      "MAPE: 0.0934987\n",
      "RMSE: 2.31665\n",
      "\n",
      "Iter: 1000\n",
      "MAPE: 0.093498\n",
      "RMSE: 2.31591\n",
      "\n",
      "Imputation MAPE: 0.0935042\n",
      "Imputation RMSE: 2.31591\n",
      "\n",
      "Prediction MAPE: 0.123441\n",
      "Prediction RMSE: 2.8868\n",
      "\n",
      "Running time: 6533 seconds\n",
      "\n",
      "Prediction time horizon (delta) = 13.\n"
     ]
    },
    {
     "data": {
      "application/vnd.jupyter.widget-view+json": {
       "model_id": "f0c6d376a220472fbccd8838e833c153",
       "version_major": 2,
       "version_minor": 0
      },
      "text/plain": [
       "IntProgress(value=0, max=13)"
      ]
     },
     "metadata": {},
     "output_type": "display_data"
    },
    {
     "name": "stdout",
     "output_type": "stream",
     "text": [
      "Iter: 500\n",
      "MAPE: 0.0935135\n",
      "RMSE: 2.3168\n",
      "\n",
      "Iter: 1000\n",
      "MAPE: 0.0934987\n",
      "RMSE: 2.3159\n",
      "\n",
      "Imputation MAPE: 0.0935042\n",
      "Imputation RMSE: 2.31596\n",
      "\n",
      "Prediction MAPE: 0.124113\n",
      "Prediction RMSE: 2.89357\n",
      "\n",
      "Running time: 6569 seconds\n",
      "\n",
      "Prediction time horizon (delta) = 14.\n"
     ]
    },
    {
     "data": {
      "application/vnd.jupyter.widget-view+json": {
       "model_id": "d1ff5dea8fb64326b3dc4f048d64519b",
       "version_major": 2,
       "version_minor": 0
      },
      "text/plain": [
       "IntProgress(value=0, max=12)"
      ]
     },
     "metadata": {},
     "output_type": "display_data"
    },
    {
     "name": "stdout",
     "output_type": "stream",
     "text": [
      "Iter: 500\n",
      "MAPE: 0.0935095\n",
      "RMSE: 2.31713\n",
      "\n",
      "Iter: 1000\n",
      "MAPE: 0.0935015\n",
      "RMSE: 2.31592\n",
      "\n",
      "Imputation MAPE: 0.0934997\n",
      "Imputation RMSE: 2.31588\n",
      "\n",
      "Prediction MAPE: 0.12211\n",
      "Prediction RMSE: 2.83963\n",
      "\n",
      "Running time: 6358 seconds\n",
      "\n"
     ]
    }
   ],
   "source": [
    "import time\n",
    "rank = 10\n",
    "pred_step = 7 * 24\n",
    "time_lags = np.array([1, 2, 3, 24, 25, 26, 7 * 24, 7 * 24 + 1, 7 * 24 + 2])\n",
    "burn_iter = 1000\n",
    "gibbs_iter = 200\n",
    "for multi_step in [2, 4, 6, 7, 8, 9, 10, 11, 12, 13, 14]:\n",
    "    start = time.time()\n",
    "    print('Prediction time horizon (delta) = {}.'.format(multi_step))\n",
    "    mat_hat = BTMF_forecast(dense_mat, sparse_mat, pred_step, multi_step, rank, time_lags, burn_iter, gibbs_iter)\n",
    "    end = time.time()\n",
    "    print('Running time: %d seconds'%(end - start))\n",
    "    print()"
   ]
  },
  {
   "cell_type": "code",
   "execution_count": 43,
   "metadata": {},
   "outputs": [],
   "source": [
    "import numpy as np\n",
    "np.random.seed(1000)\n",
    "\n",
    "missing_rate = 0.6\n",
    "\n",
    "dense_mat = np.load('../datasets/London-data-set/hourly_speed_mat.npy')\n",
    "binary_mat = dense_mat.copy()\n",
    "binary_mat[binary_mat != 0] = 1\n",
    "pos = np.where(np.sum(binary_mat, axis = 1) > 0.7 * binary_mat.shape[1])\n",
    "dense_mat = dense_mat[pos[0], :]\n",
    "\n",
    "## Random missing (RM)\n",
    "random_mat = np.random.rand(dense_mat.shape[0], dense_mat.shape[1])\n",
    "binary_mat = np.round(random_mat + 0.5 - missing_rate)\n",
    "sparse_mat = np.multiply(dense_mat, binary_mat)"
   ]
  },
  {
   "cell_type": "markdown",
   "metadata": {},
   "source": [
    "**Model setting**:\n",
    "\n",
    "- Low rank: 10\n",
    "- Total (rolling) prediction horizons: 7 * 24\n",
    "- Time lags: {1, 2, 24, 24 + 1, 24 + 2, 7 * 24, 7 * 24 + 1, 7 * 24 + 2}\n",
    "- The number of burn-in iterations: 1000\n",
    "- The number of Gibbs iterations: 200"
   ]
  },
  {
   "cell_type": "code",
   "execution_count": 44,
   "metadata": {},
   "outputs": [
    {
     "name": "stdout",
     "output_type": "stream",
     "text": [
      "Prediction time horizon (delta) = 2.\n"
     ]
    },
    {
     "data": {
      "application/vnd.jupyter.widget-view+json": {
       "model_id": "a4d72f652b8248d880ee23d3888a462c",
       "version_major": 2,
       "version_minor": 0
      },
      "text/plain": [
       "IntProgress(value=0, max=84)"
      ]
     },
     "metadata": {},
     "output_type": "display_data"
    },
    {
     "name": "stdout",
     "output_type": "stream",
     "text": [
      "Iter: 500\n",
      "MAPE: 0.0948773\n",
      "RMSE: 2.35032\n",
      "\n",
      "Iter: 1000\n",
      "MAPE: 0.0948515\n",
      "RMSE: 2.34766\n",
      "\n",
      "Imputation MAPE: 0.094856\n",
      "Imputation RMSE: 2.34768\n",
      "\n",
      "Prediction MAPE: 0.115277\n",
      "Prediction RMSE: 2.71967\n",
      "\n",
      "Running time: 9819 seconds\n",
      "\n",
      "Prediction time horizon (delta) = 4.\n"
     ]
    },
    {
     "data": {
      "application/vnd.jupyter.widget-view+json": {
       "model_id": "a5a25ec61b394a83aa4a0ce0f58bf408",
       "version_major": 2,
       "version_minor": 0
      },
      "text/plain": [
       "IntProgress(value=0, max=42)"
      ]
     },
     "metadata": {},
     "output_type": "display_data"
    },
    {
     "name": "stdout",
     "output_type": "stream",
     "text": [
      "Iter: 500\n",
      "MAPE: 0.094874\n",
      "RMSE: 2.35071\n",
      "\n",
      "Iter: 1000\n",
      "MAPE: 0.0948503\n",
      "RMSE: 2.34767\n",
      "\n",
      "Imputation MAPE: 0.0948571\n",
      "Imputation RMSE: 2.34771\n",
      "\n",
      "Prediction MAPE: 0.116888\n",
      "Prediction RMSE: 2.75308\n",
      "\n",
      "Running time: 6995 seconds\n",
      "\n",
      "Prediction time horizon (delta) = 6.\n"
     ]
    },
    {
     "data": {
      "application/vnd.jupyter.widget-view+json": {
       "model_id": "7906fb6301f5449aba4ac49fb9298e07",
       "version_major": 2,
       "version_minor": 0
      },
      "text/plain": [
       "IntProgress(value=0, max=28)"
      ]
     },
     "metadata": {},
     "output_type": "display_data"
    },
    {
     "name": "stdout",
     "output_type": "stream",
     "text": [
      "Iter: 500\n",
      "MAPE: 0.0948771\n",
      "RMSE: 2.34999\n",
      "\n",
      "Iter: 1000\n",
      "MAPE: 0.0948538\n",
      "RMSE: 2.34767\n",
      "\n",
      "Imputation MAPE: 0.0948519\n",
      "Imputation RMSE: 2.34764\n",
      "\n",
      "Prediction MAPE: 0.122776\n",
      "Prediction RMSE: 2.85816\n",
      "\n",
      "Running time: 6641 seconds\n",
      "\n",
      "Prediction time horizon (delta) = 7.\n"
     ]
    },
    {
     "data": {
      "application/vnd.jupyter.widget-view+json": {
       "model_id": "6413ef42bfe947999121cf1027c77f69",
       "version_major": 2,
       "version_minor": 0
      },
      "text/plain": [
       "IntProgress(value=0, max=24)"
      ]
     },
     "metadata": {},
     "output_type": "display_data"
    },
    {
     "name": "stdout",
     "output_type": "stream",
     "text": [
      "Iter: 500\n",
      "MAPE: 0.0948726\n",
      "RMSE: 2.35114\n",
      "\n",
      "Iter: 1000\n",
      "MAPE: 0.0948529\n",
      "RMSE: 2.34772\n",
      "\n",
      "Imputation MAPE: 0.0948591\n",
      "Imputation RMSE: 2.34771\n",
      "\n",
      "Prediction MAPE: 0.120871\n",
      "Prediction RMSE: 2.82534\n",
      "\n",
      "Running time: 6554 seconds\n",
      "\n",
      "Prediction time horizon (delta) = 8.\n"
     ]
    },
    {
     "data": {
      "application/vnd.jupyter.widget-view+json": {
       "model_id": "c7965139b006446caafe38305b7eec22",
       "version_major": 2,
       "version_minor": 0
      },
      "text/plain": [
       "IntProgress(value=0, max=21)"
      ]
     },
     "metadata": {},
     "output_type": "display_data"
    },
    {
     "name": "stdout",
     "output_type": "stream",
     "text": [
      "Iter: 500\n",
      "MAPE: 0.0948784\n",
      "RMSE: 2.35066\n",
      "\n",
      "Iter: 1000\n",
      "MAPE: 0.0948518\n",
      "RMSE: 2.34767\n",
      "\n",
      "Imputation MAPE: 0.0948528\n",
      "Imputation RMSE: 2.34762\n",
      "\n",
      "Prediction MAPE: 0.118248\n",
      "Prediction RMSE: 2.76753\n",
      "\n",
      "Running time: 6552 seconds\n",
      "\n",
      "Prediction time horizon (delta) = 9.\n"
     ]
    },
    {
     "data": {
      "application/vnd.jupyter.widget-view+json": {
       "model_id": "c89fa50d834d4b379277e6bdf8a7a281",
       "version_major": 2,
       "version_minor": 0
      },
      "text/plain": [
       "IntProgress(value=0, max=19)"
      ]
     },
     "metadata": {},
     "output_type": "display_data"
    },
    {
     "name": "stdout",
     "output_type": "stream",
     "text": [
      "Iter: 500\n",
      "MAPE: 0.0948813\n",
      "RMSE: 2.35075\n",
      "\n",
      "Iter: 1000\n",
      "MAPE: 0.0948528\n",
      "RMSE: 2.34763\n",
      "\n",
      "Imputation MAPE: 0.0948532\n",
      "Imputation RMSE: 2.34762\n",
      "\n",
      "Prediction MAPE: 0.122823\n",
      "Prediction RMSE: 2.85244\n",
      "\n",
      "Running time: 6653 seconds\n",
      "\n",
      "Prediction time horizon (delta) = 10.\n"
     ]
    },
    {
     "data": {
      "application/vnd.jupyter.widget-view+json": {
       "model_id": "80b071f622ff473aaf6dd9af51ea3a27",
       "version_major": 2,
       "version_minor": 0
      },
      "text/plain": [
       "IntProgress(value=0, max=17)"
      ]
     },
     "metadata": {},
     "output_type": "display_data"
    },
    {
     "name": "stdout",
     "output_type": "stream",
     "text": [
      "Iter: 500\n",
      "MAPE: 0.0948778\n",
      "RMSE: 2.35043\n",
      "\n",
      "Iter: 1000\n",
      "MAPE: 0.0948529\n",
      "RMSE: 2.34763\n",
      "\n",
      "Imputation MAPE: 0.0948598\n",
      "Imputation RMSE: 2.34774\n",
      "\n",
      "Prediction MAPE: 0.124376\n",
      "Prediction RMSE: 2.88777\n",
      "\n",
      "Running time: 6539 seconds\n",
      "\n",
      "Prediction time horizon (delta) = 11.\n"
     ]
    },
    {
     "data": {
      "application/vnd.jupyter.widget-view+json": {
       "model_id": "26a7ca81a2c34782b56517f21f4c931e",
       "version_major": 2,
       "version_minor": 0
      },
      "text/plain": [
       "IntProgress(value=0, max=16)"
      ]
     },
     "metadata": {},
     "output_type": "display_data"
    },
    {
     "name": "stdout",
     "output_type": "stream",
     "text": [
      "Iter: 500\n",
      "MAPE: 0.0948829\n",
      "RMSE: 2.35038\n",
      "\n",
      "Iter: 1000\n",
      "MAPE: 0.0948498\n",
      "RMSE: 2.34769\n",
      "\n",
      "Imputation MAPE: 0.0948571\n",
      "Imputation RMSE: 2.34775\n",
      "\n",
      "Prediction MAPE: 0.123069\n",
      "Prediction RMSE: 2.87591\n",
      "\n",
      "Running time: 6622 seconds\n",
      "\n",
      "Prediction time horizon (delta) = 12.\n"
     ]
    },
    {
     "data": {
      "application/vnd.jupyter.widget-view+json": {
       "model_id": "7ecc980a4a05403f8e6cdf95de91d360",
       "version_major": 2,
       "version_minor": 0
      },
      "text/plain": [
       "IntProgress(value=0, max=14)"
      ]
     },
     "metadata": {},
     "output_type": "display_data"
    },
    {
     "name": "stdout",
     "output_type": "stream",
     "text": [
      "Iter: 500\n",
      "MAPE: 0.094896\n",
      "RMSE: 2.34975\n",
      "\n",
      "Iter: 1000\n",
      "MAPE: 0.0948499\n",
      "RMSE: 2.34763\n",
      "\n",
      "Imputation MAPE: 0.0948578\n",
      "Imputation RMSE: 2.34781\n",
      "\n",
      "Prediction MAPE: 0.123679\n",
      "Prediction RMSE: 2.88189\n",
      "\n",
      "Running time: 6379 seconds\n",
      "\n",
      "Prediction time horizon (delta) = 13.\n"
     ]
    },
    {
     "data": {
      "application/vnd.jupyter.widget-view+json": {
       "model_id": "a8d6f63ee3974cdc9c171989b05c8363",
       "version_major": 2,
       "version_minor": 0
      },
      "text/plain": [
       "IntProgress(value=0, max=13)"
      ]
     },
     "metadata": {},
     "output_type": "display_data"
    },
    {
     "name": "stdout",
     "output_type": "stream",
     "text": [
      "Iter: 500\n",
      "MAPE: 0.0948738\n",
      "RMSE: 2.35031\n",
      "\n",
      "Iter: 1000\n",
      "MAPE: 0.0948537\n",
      "RMSE: 2.34766\n",
      "\n",
      "Imputation MAPE: 0.0948556\n",
      "Imputation RMSE: 2.34766\n",
      "\n",
      "Prediction MAPE: 0.123727\n",
      "Prediction RMSE: 2.88436\n",
      "\n",
      "Running time: 6377 seconds\n",
      "\n",
      "Prediction time horizon (delta) = 14.\n"
     ]
    },
    {
     "data": {
      "application/vnd.jupyter.widget-view+json": {
       "model_id": "0066beb9ecb64db9afdfa02be250401a",
       "version_major": 2,
       "version_minor": 0
      },
      "text/plain": [
       "IntProgress(value=0, max=12)"
      ]
     },
     "metadata": {},
     "output_type": "display_data"
    },
    {
     "name": "stdout",
     "output_type": "stream",
     "text": [
      "Iter: 500\n",
      "MAPE: 0.0948892\n",
      "RMSE: 2.34991\n",
      "\n",
      "Iter: 1000\n",
      "MAPE: 0.0948523\n",
      "RMSE: 2.34772\n",
      "\n",
      "Imputation MAPE: 0.0948564\n",
      "Imputation RMSE: 2.34763\n",
      "\n",
      "Prediction MAPE: 0.124591\n",
      "Prediction RMSE: 2.86996\n",
      "\n",
      "Running time: 6322 seconds\n",
      "\n"
     ]
    }
   ],
   "source": [
    "import time\n",
    "rank = 10\n",
    "pred_step = 7 * 24\n",
    "time_lags = np.array([1, 2, 3, 24, 25, 26, 7 * 24, 7 * 24 + 1, 7 * 24 + 2])\n",
    "burn_iter = 1000\n",
    "gibbs_iter = 200\n",
    "for multi_step in [2, 4, 6, 7, 8, 9, 10, 11, 12, 13, 14]:\n",
    "    start = time.time()\n",
    "    print('Prediction time horizon (delta) = {}.'.format(multi_step))\n",
    "    mat_hat = BTMF_forecast(dense_mat, sparse_mat, pred_step, multi_step, rank, time_lags, burn_iter, gibbs_iter)\n",
    "    end = time.time()\n",
    "    print('Running time: %d seconds'%(end - start))\n",
    "    print()"
   ]
  },
  {
   "cell_type": "markdown",
   "metadata": {},
   "source": [
    "### License\n",
    "\n",
    "<div class=\"alert alert-block alert-danger\">\n",
    "<b>This work is released under the MIT license.</b>\n",
    "</div>"
   ]
  }
 ],
 "metadata": {
  "kernelspec": {
   "display_name": "Python 3",
   "language": "python",
   "name": "python3"
  },
  "language_info": {
   "codemirror_mode": {
    "name": "ipython",
    "version": 3
   },
   "file_extension": ".py",
   "mimetype": "text/x-python",
   "name": "python",
   "nbconvert_exporter": "python",
   "pygments_lexer": "ipython3",
   "version": "3.8.3"
  }
 },
 "nbformat": 4,
 "nbformat_minor": 2
}
